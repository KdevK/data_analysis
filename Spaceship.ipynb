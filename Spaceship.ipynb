{
  "nbformat": 4,
  "nbformat_minor": 0,
  "metadata": {
    "colab": {
      "provenance": []
    },
    "kernelspec": {
      "name": "python3",
      "display_name": "Python 3"
    },
    "language_info": {
      "name": "python"
    },
    "widgets": {
      "application/vnd.jupyter.widget-state+json": {
        "9ae964c0eb7b4893bbc956b9d3e47346": {
          "model_module": "catboost-widget",
          "model_name": "CatboostWidgetModel",
          "model_module_version": "^1.0.0",
          "state": {
            "_dom_classes": [],
            "_model_module": "catboost-widget",
            "_model_module_version": "^1.0.0",
            "_model_name": "CatboostWidgetModel",
            "_view_count": null,
            "_view_module": "catboost-widget",
            "_view_module_version": "^1.0.0",
            "_view_name": "CatboostWidgetView",
            "data": {
              "catboost_info": {
                "path": "catboost_info",
                "name": "catboost_info",
                "content": {
                  "passed_iterations": 999,
                  "total_iterations": 1000,
                  "data": {
                    "iterations": [
                      {
                        "learn": [
                          0.6803660672
                        ],
                        "iteration": 0,
                        "passed_time": 0.0197496715,
                        "remaining_time": 19.72992183
                      },
                      {
                        "learn": [
                          0.6687481855
                        ],
                        "iteration": 1,
                        "passed_time": 0.03467762815,
                        "remaining_time": 17.30413645
                      },
                      {
                        "learn": [
                          0.6549935666
                        ],
                        "iteration": 2,
                        "passed_time": 0.04989429021,
                        "remaining_time": 16.58153578
                      },
                      {
                        "learn": [
                          0.6425286096
                        ],
                        "iteration": 3,
                        "passed_time": 0.06514541232,
                        "remaining_time": 16.22120767
                      },
                      {
                        "learn": [
                          0.6324278719
                        ],
                        "iteration": 4,
                        "passed_time": 0.08457226473,
                        "remaining_time": 16.82988068
                      },
                      {
                        "learn": [
                          0.6215257094
                        ],
                        "iteration": 5,
                        "passed_time": 0.09878964592,
                        "remaining_time": 16.36615134
                      },
                      {
                        "learn": [
                          0.6120165921
                        ],
                        "iteration": 6,
                        "passed_time": 0.1145640773,
                        "remaining_time": 16.25173268
                      },
                      {
                        "learn": [
                          0.602607743
                        ],
                        "iteration": 7,
                        "passed_time": 0.1336144319,
                        "remaining_time": 16.56818955
                      },
                      {
                        "learn": [
                          0.592927153
                        ],
                        "iteration": 8,
                        "passed_time": 0.1482354799,
                        "remaining_time": 16.32237339
                      },
                      {
                        "learn": [
                          0.5842830001
                        ],
                        "iteration": 9,
                        "passed_time": 0.1643492126,
                        "remaining_time": 16.27057205
                      },
                      {
                        "learn": [
                          0.576274396
                        ],
                        "iteration": 10,
                        "passed_time": 0.179083702,
                        "remaining_time": 16.10125285
                      },
                      {
                        "learn": [
                          0.568276591
                        ],
                        "iteration": 11,
                        "passed_time": 0.196464005,
                        "remaining_time": 16.17553641
                      },
                      {
                        "learn": [
                          0.5607345616
                        ],
                        "iteration": 12,
                        "passed_time": 0.2106092478,
                        "remaining_time": 15.99010212
                      },
                      {
                        "learn": [
                          0.5547487374
                        ],
                        "iteration": 13,
                        "passed_time": 0.2310883426,
                        "remaining_time": 16.27522184
                      },
                      {
                        "learn": [
                          0.5499485402
                        ],
                        "iteration": 14,
                        "passed_time": 0.2460573804,
                        "remaining_time": 16.15776798
                      },
                      {
                        "learn": [
                          0.544107811
                        ],
                        "iteration": 15,
                        "passed_time": 0.26096188,
                        "remaining_time": 16.04915562
                      },
                      {
                        "learn": [
                          0.5395588553
                        ],
                        "iteration": 16,
                        "passed_time": 0.2760779201,
                        "remaining_time": 15.96379973
                      },
                      {
                        "learn": [
                          0.5355205334
                        ],
                        "iteration": 17,
                        "passed_time": 0.2917333,
                        "remaining_time": 15.91567225
                      },
                      {
                        "learn": [
                          0.5298226427
                        ],
                        "iteration": 18,
                        "passed_time": 0.3141328443,
                        "remaining_time": 16.21917475
                      },
                      {
                        "learn": [
                          0.5256532427
                        ],
                        "iteration": 19,
                        "passed_time": 0.3294715543,
                        "remaining_time": 16.14410616
                      },
                      {
                        "learn": [
                          0.5223348587
                        ],
                        "iteration": 20,
                        "passed_time": 0.3442213023,
                        "remaining_time": 16.04726928
                      },
                      {
                        "learn": [
                          0.5175781511
                        ],
                        "iteration": 21,
                        "passed_time": 0.3581902556,
                        "remaining_time": 15.923185
                      },
                      {
                        "learn": [
                          0.5140047321
                        ],
                        "iteration": 22,
                        "passed_time": 0.3736264338,
                        "remaining_time": 15.87100112
                      },
                      {
                        "learn": [
                          0.5121146428
                        ],
                        "iteration": 23,
                        "passed_time": 0.3839468608,
                        "remaining_time": 15.613839
                      },
                      {
                        "learn": [
                          0.5089972776
                        ],
                        "iteration": 24,
                        "passed_time": 0.3994383115,
                        "remaining_time": 15.57809415
                      },
                      {
                        "learn": [
                          0.5055622181
                        ],
                        "iteration": 25,
                        "passed_time": 0.4151611696,
                        "remaining_time": 15.55257612
                      },
                      {
                        "learn": [
                          0.5024453218
                        ],
                        "iteration": 26,
                        "passed_time": 0.4347490202,
                        "remaining_time": 15.66706654
                      },
                      {
                        "learn": [
                          0.4994459665
                        ],
                        "iteration": 27,
                        "passed_time": 0.4497315984,
                        "remaining_time": 15.6121112
                      },
                      {
                        "learn": [
                          0.4967605304
                        ],
                        "iteration": 28,
                        "passed_time": 0.464357702,
                        "remaining_time": 15.54797685
                      },
                      {
                        "learn": [
                          0.4938659263
                        ],
                        "iteration": 29,
                        "passed_time": 0.4982116615,
                        "remaining_time": 16.10884372
                      },
                      {
                        "learn": [
                          0.4918026673
                        ],
                        "iteration": 30,
                        "passed_time": 0.5153441993,
                        "remaining_time": 16.10866223
                      },
                      {
                        "learn": [
                          0.4894362746
                        ],
                        "iteration": 31,
                        "passed_time": 0.5301046349,
                        "remaining_time": 16.0356652
                      },
                      {
                        "learn": [
                          0.4872768296
                        ],
                        "iteration": 32,
                        "passed_time": 0.5445002202,
                        "remaining_time": 15.95550645
                      },
                      {
                        "learn": [
                          0.4847088488
                        ],
                        "iteration": 33,
                        "passed_time": 0.5677035416,
                        "remaining_time": 16.12945945
                      },
                      {
                        "learn": [
                          0.4823129519
                        ],
                        "iteration": 34,
                        "passed_time": 0.5817019312,
                        "remaining_time": 16.03835325
                      },
                      {
                        "learn": [
                          0.4810367361
                        ],
                        "iteration": 35,
                        "passed_time": 0.59635206,
                        "remaining_time": 15.96898294
                      },
                      {
                        "learn": [
                          0.4793747938
                        ],
                        "iteration": 36,
                        "passed_time": 0.6121854531,
                        "remaining_time": 15.93336733
                      },
                      {
                        "learn": [
                          0.4772923512
                        ],
                        "iteration": 37,
                        "passed_time": 0.6265617878,
                        "remaining_time": 15.86190631
                      },
                      {
                        "learn": [
                          0.4756941334
                        ],
                        "iteration": 38,
                        "passed_time": 0.6485314009,
                        "remaining_time": 15.98047888
                      },
                      {
                        "learn": [
                          0.4737301737
                        ],
                        "iteration": 39,
                        "passed_time": 0.6629840924,
                        "remaining_time": 15.91161822
                      },
                      {
                        "learn": [
                          0.4725826507
                        ],
                        "iteration": 40,
                        "passed_time": 0.6877199197,
                        "remaining_time": 16.08593666
                      },
                      {
                        "learn": [
                          0.4717131148
                        ],
                        "iteration": 41,
                        "passed_time": 0.6993919565,
                        "remaining_time": 15.95279748
                      },
                      {
                        "learn": [
                          0.4700853258
                        ],
                        "iteration": 42,
                        "passed_time": 0.7134211215,
                        "remaining_time": 15.87776775
                      },
                      {
                        "learn": [
                          0.4688831853
                        ],
                        "iteration": 43,
                        "passed_time": 0.7278490586,
                        "remaining_time": 15.814175
                      },
                      {
                        "learn": [
                          0.4672593468
                        ],
                        "iteration": 44,
                        "passed_time": 0.7428946304,
                        "remaining_time": 15.76587493
                      },
                      {
                        "learn": [
                          0.4657955306
                        ],
                        "iteration": 45,
                        "passed_time": 0.7585003343,
                        "remaining_time": 15.73063737
                      },
                      {
                        "learn": [
                          0.4644082544
                        ],
                        "iteration": 46,
                        "passed_time": 0.7735935647,
                        "remaining_time": 15.68584398
                      },
                      {
                        "learn": [
                          0.4630262213
                        ],
                        "iteration": 47,
                        "passed_time": 0.7877818242,
                        "remaining_time": 15.62433951
                      },
                      {
                        "learn": [
                          0.462247045
                        ],
                        "iteration": 48,
                        "passed_time": 0.8037270368,
                        "remaining_time": 15.59886555
                      },
                      {
                        "learn": [
                          0.4610534099
                        ],
                        "iteration": 49,
                        "passed_time": 0.8186017028,
                        "remaining_time": 15.55343235
                      },
                      {
                        "learn": [
                          0.4596957244
                        ],
                        "iteration": 50,
                        "passed_time": 0.8328753583,
                        "remaining_time": 15.49801402
                      },
                      {
                        "learn": [
                          0.4585787407
                        ],
                        "iteration": 51,
                        "passed_time": 0.8583975423,
                        "remaining_time": 15.6492475
                      },
                      {
                        "learn": [
                          0.4574902093
                        ],
                        "iteration": 52,
                        "passed_time": 0.8742915144,
                        "remaining_time": 15.62177479
                      },
                      {
                        "learn": [
                          0.4564404093
                        ],
                        "iteration": 53,
                        "passed_time": 0.8895078082,
                        "remaining_time": 15.58285901
                      },
                      {
                        "learn": [
                          0.4557495257
                        ],
                        "iteration": 54,
                        "passed_time": 0.9053008492,
                        "remaining_time": 15.55471459
                      },
                      {
                        "learn": [
                          0.4551559125
                        ],
                        "iteration": 55,
                        "passed_time": 0.921999533,
                        "remaining_time": 15.54227784
                      },
                      {
                        "learn": [
                          0.4541032532
                        ],
                        "iteration": 56,
                        "passed_time": 0.9390667781,
                        "remaining_time": 15.53578898
                      },
                      {
                        "learn": [
                          0.4531516506
                        ],
                        "iteration": 57,
                        "passed_time": 0.9546826796,
                        "remaining_time": 15.50536352
                      },
                      {
                        "learn": [
                          0.4524845052
                        ],
                        "iteration": 58,
                        "passed_time": 0.9839377096,
                        "remaining_time": 15.69297262
                      },
                      {
                        "learn": [
                          0.4518224948
                        ],
                        "iteration": 59,
                        "passed_time": 0.9983579674,
                        "remaining_time": 15.64094149
                      },
                      {
                        "learn": [
                          0.4512446691
                        ],
                        "iteration": 60,
                        "passed_time": 1.014687022,
                        "remaining_time": 15.61952645
                      },
                      {
                        "learn": [
                          0.4506168838
                        ],
                        "iteration": 61,
                        "passed_time": 1.030767764,
                        "remaining_time": 15.59451876
                      },
                      {
                        "learn": [
                          0.4498687372
                        ],
                        "iteration": 62,
                        "passed_time": 1.045483051,
                        "remaining_time": 15.54948601
                      },
                      {
                        "learn": [
                          0.4490049205
                        ],
                        "iteration": 63,
                        "passed_time": 1.065728398,
                        "remaining_time": 15.58627782
                      },
                      {
                        "learn": [
                          0.4484830885
                        ],
                        "iteration": 64,
                        "passed_time": 1.082000099,
                        "remaining_time": 15.56415527
                      },
                      {
                        "learn": [
                          0.4478586633
                        ],
                        "iteration": 65,
                        "passed_time": 1.099549395,
                        "remaining_time": 15.56028992
                      },
                      {
                        "learn": [
                          0.4470734087
                        ],
                        "iteration": 66,
                        "passed_time": 1.116474509,
                        "remaining_time": 15.54732414
                      },
                      {
                        "learn": [
                          0.4466026446
                        ],
                        "iteration": 67,
                        "passed_time": 1.130770515,
                        "remaining_time": 15.49820765
                      },
                      {
                        "learn": [
                          0.4460619159
                        ],
                        "iteration": 68,
                        "passed_time": 1.145196613,
                        "remaining_time": 15.45185575
                      },
                      {
                        "learn": [
                          0.4456206327
                        ],
                        "iteration": 69,
                        "passed_time": 1.159634008,
                        "remaining_time": 15.40656611
                      },
                      {
                        "learn": [
                          0.4451973874
                        ],
                        "iteration": 70,
                        "passed_time": 1.172411039,
                        "remaining_time": 15.34042049
                      },
                      {
                        "learn": [
                          0.4446790266
                        ],
                        "iteration": 71,
                        "passed_time": 1.186861157,
                        "remaining_time": 15.29732158
                      },
                      {
                        "learn": [
                          0.4441427478
                        ],
                        "iteration": 72,
                        "passed_time": 1.203689897,
                        "remaining_time": 15.2852128
                      },
                      {
                        "learn": [
                          0.4437615599
                        ],
                        "iteration": 73,
                        "passed_time": 1.218207255,
                        "remaining_time": 15.24405295
                      },
                      {
                        "learn": [
                          0.44352374
                        ],
                        "iteration": 74,
                        "passed_time": 1.23279109,
                        "remaining_time": 15.20442345
                      },
                      {
                        "learn": [
                          0.4429114174
                        ],
                        "iteration": 75,
                        "passed_time": 1.247376752,
                        "remaining_time": 15.16547525
                      },
                      {
                        "learn": [
                          0.4424517112
                        ],
                        "iteration": 76,
                        "passed_time": 1.268254451,
                        "remaining_time": 15.20258257
                      },
                      {
                        "learn": [
                          0.4420846793
                        ],
                        "iteration": 77,
                        "passed_time": 1.283207309,
                        "remaining_time": 15.16816845
                      },
                      {
                        "learn": [
                          0.4415615595
                        ],
                        "iteration": 78,
                        "passed_time": 1.30672919,
                        "remaining_time": 15.23414664
                      },
                      {
                        "learn": [
                          0.441220247
                        ],
                        "iteration": 79,
                        "passed_time": 1.321308818,
                        "remaining_time": 15.19505141
                      },
                      {
                        "learn": [
                          0.4409374462
                        ],
                        "iteration": 80,
                        "passed_time": 1.336687864,
                        "remaining_time": 15.16563144
                      },
                      {
                        "learn": [
                          0.4406010482
                        ],
                        "iteration": 81,
                        "passed_time": 1.35292244,
                        "remaining_time": 15.14613171
                      },
                      {
                        "learn": [
                          0.4401500041
                        ],
                        "iteration": 82,
                        "passed_time": 1.368253474,
                        "remaining_time": 15.11672814
                      },
                      {
                        "learn": [
                          0.4398159697
                        ],
                        "iteration": 83,
                        "passed_time": 1.384058078,
                        "remaining_time": 15.0928238
                      },
                      {
                        "learn": [
                          0.4393270644
                        ],
                        "iteration": 84,
                        "passed_time": 1.400043111,
                        "remaining_time": 15.07105231
                      },
                      {
                        "learn": [
                          0.4387451389
                        ],
                        "iteration": 85,
                        "passed_time": 1.415277495,
                        "remaining_time": 15.04143756
                      },
                      {
                        "learn": [
                          0.4384093821
                        ],
                        "iteration": 86,
                        "passed_time": 1.430147868,
                        "remaining_time": 15.00833337
                      },
                      {
                        "learn": [
                          0.4379562585
                        ],
                        "iteration": 87,
                        "passed_time": 1.445544057,
                        "remaining_time": 14.98109295
                      },
                      {
                        "learn": [
                          0.4377459303
                        ],
                        "iteration": 88,
                        "passed_time": 1.461034822,
                        "remaining_time": 14.95508677
                      },
                      {
                        "learn": [
                          0.4373137951
                        ],
                        "iteration": 89,
                        "passed_time": 1.494928143,
                        "remaining_time": 15.11538455
                      },
                      {
                        "learn": [
                          0.4368686914
                        ],
                        "iteration": 90,
                        "passed_time": 1.510714046,
                        "remaining_time": 15.09053921
                      },
                      {
                        "learn": [
                          0.4363868667
                        ],
                        "iteration": 91,
                        "passed_time": 1.525017909,
                        "remaining_time": 15.05126371
                      },
                      {
                        "learn": [
                          0.4360742013
                        ],
                        "iteration": 92,
                        "passed_time": 1.540124482,
                        "remaining_time": 15.02035382
                      },
                      {
                        "learn": [
                          0.4357386766
                        ],
                        "iteration": 93,
                        "passed_time": 1.553730525,
                        "remaining_time": 14.97531762
                      },
                      {
                        "learn": [
                          0.4352843621
                        ],
                        "iteration": 94,
                        "passed_time": 1.568077797,
                        "remaining_time": 14.93800427
                      },
                      {
                        "learn": [
                          0.4350207181
                        ],
                        "iteration": 95,
                        "passed_time": 1.583906838,
                        "remaining_time": 14.91512272
                      },
                      {
                        "learn": [
                          0.4347495244
                        ],
                        "iteration": 96,
                        "passed_time": 1.604071469,
                        "remaining_time": 14.9327478
                      },
                      {
                        "learn": [
                          0.4344429922
                        ],
                        "iteration": 97,
                        "passed_time": 1.616919807,
                        "remaining_time": 14.8822619
                      },
                      {
                        "learn": [
                          0.4343080683
                        ],
                        "iteration": 98,
                        "passed_time": 1.629588219,
                        "remaining_time": 14.83089884
                      },
                      {
                        "learn": [
                          0.4340737403
                        ],
                        "iteration": 99,
                        "passed_time": 1.643483322,
                        "remaining_time": 14.7913499
                      },
                      {
                        "learn": [
                          0.4339496749
                        ],
                        "iteration": 100,
                        "passed_time": 1.655871108,
                        "remaining_time": 14.73889234
                      },
                      {
                        "learn": [
                          0.4336732273
                        ],
                        "iteration": 101,
                        "passed_time": 1.669424501,
                        "remaining_time": 14.69748237
                      },
                      {
                        "learn": [
                          0.4335246148
                        ],
                        "iteration": 102,
                        "passed_time": 1.682318254,
                        "remaining_time": 14.65086868
                      },
                      {
                        "learn": [
                          0.4332404472
                        ],
                        "iteration": 103,
                        "passed_time": 1.700515507,
                        "remaining_time": 14.65059514
                      },
                      {
                        "learn": [
                          0.4329172665
                        ],
                        "iteration": 104,
                        "passed_time": 1.721606759,
                        "remaining_time": 14.67464809
                      },
                      {
                        "learn": [
                          0.4326399044
                        ],
                        "iteration": 105,
                        "passed_time": 1.736299928,
                        "remaining_time": 14.64388808
                      },
                      {
                        "learn": [
                          0.4324872193
                        ],
                        "iteration": 106,
                        "passed_time": 1.750739212,
                        "remaining_time": 14.6113095
                      },
                      {
                        "learn": [
                          0.432267503
                        ],
                        "iteration": 107,
                        "passed_time": 1.764506679,
                        "remaining_time": 14.57351813
                      },
                      {
                        "learn": [
                          0.4319707071
                        ],
                        "iteration": 108,
                        "passed_time": 1.780721275,
                        "remaining_time": 14.55617116
                      },
                      {
                        "learn": [
                          0.4317669431
                        ],
                        "iteration": 109,
                        "passed_time": 1.794502868,
                        "remaining_time": 14.51915957
                      },
                      {
                        "learn": [
                          0.4314042515
                        ],
                        "iteration": 110,
                        "passed_time": 1.809214179,
                        "remaining_time": 14.49001265
                      },
                      {
                        "learn": [
                          0.4313883688
                        ],
                        "iteration": 111,
                        "passed_time": 1.816247105,
                        "remaining_time": 14.4002449
                      },
                      {
                        "learn": [
                          0.4312225012
                        ],
                        "iteration": 112,
                        "passed_time": 1.827171893,
                        "remaining_time": 14.34249088
                      },
                      {
                        "learn": [
                          0.4310848668
                        ],
                        "iteration": 113,
                        "passed_time": 1.840485688,
                        "remaining_time": 14.30412561
                      },
                      {
                        "learn": [
                          0.4308083296
                        ],
                        "iteration": 114,
                        "passed_time": 1.855236774,
                        "remaining_time": 14.27725691
                      },
                      {
                        "learn": [
                          0.4306487671
                        ],
                        "iteration": 115,
                        "passed_time": 1.869242649,
                        "remaining_time": 14.24491812
                      },
                      {
                        "learn": [
                          0.4305764859
                        ],
                        "iteration": 116,
                        "passed_time": 1.884694823,
                        "remaining_time": 14.22380794
                      },
                      {
                        "learn": [
                          0.430360317
                        ],
                        "iteration": 117,
                        "passed_time": 1.900418938,
                        "remaining_time": 14.2048263
                      },
                      {
                        "learn": [
                          0.4302302482
                        ],
                        "iteration": 118,
                        "passed_time": 1.914824454,
                        "remaining_time": 14.17613734
                      },
                      {
                        "learn": [
                          0.4301303751
                        ],
                        "iteration": 119,
                        "passed_time": 1.92828667,
                        "remaining_time": 14.14076891
                      },
                      {
                        "learn": [
                          0.4299015472
                        ],
                        "iteration": 120,
                        "passed_time": 1.95746595,
                        "remaining_time": 14.21993859
                      },
                      {
                        "learn": [
                          0.429760889
                        ],
                        "iteration": 121,
                        "passed_time": 1.973050297,
                        "remaining_time": 14.19949312
                      },
                      {
                        "learn": [
                          0.4296086749
                        ],
                        "iteration": 122,
                        "passed_time": 1.987699971,
                        "remaining_time": 14.17246239
                      },
                      {
                        "learn": [
                          0.4295823963
                        ],
                        "iteration": 123,
                        "passed_time": 1.995862019,
                        "remaining_time": 14.09979942
                      },
                      {
                        "learn": [
                          0.4293986114
                        ],
                        "iteration": 124,
                        "passed_time": 2.017157849,
                        "remaining_time": 14.12010495
                      },
                      {
                        "learn": [
                          0.4293013968
                        ],
                        "iteration": 125,
                        "passed_time": 2.029022523,
                        "remaining_time": 14.07433083
                      },
                      {
                        "learn": [
                          0.4291014107
                        ],
                        "iteration": 126,
                        "passed_time": 2.04325245,
                        "remaining_time": 14.04534952
                      },
                      {
                        "learn": [
                          0.4288591438
                        ],
                        "iteration": 127,
                        "passed_time": 2.056688872,
                        "remaining_time": 14.01119294
                      },
                      {
                        "learn": [
                          0.4286785378
                        ],
                        "iteration": 128,
                        "passed_time": 2.071562663,
                        "remaining_time": 13.98706263
                      },
                      {
                        "learn": [
                          0.4285534024
                        ],
                        "iteration": 129,
                        "passed_time": 2.091121368,
                        "remaining_time": 13.99442762
                      },
                      {
                        "learn": [
                          0.4282933988
                        ],
                        "iteration": 130,
                        "passed_time": 2.113748043,
                        "remaining_time": 14.0217332
                      },
                      {
                        "learn": [
                          0.428045413
                        ],
                        "iteration": 131,
                        "passed_time": 2.128419689,
                        "remaining_time": 13.9959719
                      },
                      {
                        "learn": [
                          0.4278300279
                        ],
                        "iteration": 132,
                        "passed_time": 2.143924078,
                        "remaining_time": 13.97580583
                      },
                      {
                        "learn": [
                          0.4276195385
                        ],
                        "iteration": 133,
                        "passed_time": 2.15582573,
                        "remaining_time": 13.93242599
                      },
                      {
                        "learn": [
                          0.4274815258
                        ],
                        "iteration": 134,
                        "passed_time": 2.168505283,
                        "remaining_time": 13.89449682
                      },
                      {
                        "learn": [
                          0.427374057
                        ],
                        "iteration": 135,
                        "passed_time": 2.182909952,
                        "remaining_time": 13.86789852
                      },
                      {
                        "learn": [
                          0.4270998946
                        ],
                        "iteration": 136,
                        "passed_time": 2.197578353,
                        "remaining_time": 13.84313955
                      },
                      {
                        "learn": [
                          0.4270479475
                        ],
                        "iteration": 137,
                        "passed_time": 2.209625922,
                        "remaining_time": 13.80215612
                      },
                      {
                        "learn": [
                          0.4269231904
                        ],
                        "iteration": 138,
                        "passed_time": 2.222707225,
                        "remaining_time": 13.76799223
                      },
                      {
                        "learn": [
                          0.4268729569
                        ],
                        "iteration": 139,
                        "passed_time": 2.233352904,
                        "remaining_time": 13.71916784
                      },
                      {
                        "learn": [
                          0.4266776437
                        ],
                        "iteration": 140,
                        "passed_time": 2.248142407,
                        "remaining_time": 13.69612998
                      },
                      {
                        "learn": [
                          0.4266232249
                        ],
                        "iteration": 141,
                        "passed_time": 2.260720143,
                        "remaining_time": 13.65984425
                      },
                      {
                        "learn": [
                          0.4265331696
                        ],
                        "iteration": 142,
                        "passed_time": 2.270993485,
                        "remaining_time": 13.61007984
                      },
                      {
                        "learn": [
                          0.4264848419
                        ],
                        "iteration": 143,
                        "passed_time": 2.28532299,
                        "remaining_time": 13.58497555
                      },
                      {
                        "learn": [
                          0.426484837
                        ],
                        "iteration": 144,
                        "passed_time": 2.291039737,
                        "remaining_time": 13.50923431
                      },
                      {
                        "learn": [
                          0.4263429636
                        ],
                        "iteration": 145,
                        "passed_time": 2.306052955,
                        "remaining_time": 13.4888303
                      },
                      {
                        "learn": [
                          0.426195766
                        ],
                        "iteration": 146,
                        "passed_time": 2.323541798,
                        "remaining_time": 13.48286499
                      },
                      {
                        "learn": [
                          0.4260158061
                        ],
                        "iteration": 147,
                        "passed_time": 2.343942053,
                        "remaining_time": 13.49350425
                      },
                      {
                        "learn": [
                          0.425854008
                        ],
                        "iteration": 148,
                        "passed_time": 2.356778107,
                        "remaining_time": 13.46052462
                      },
                      {
                        "learn": [
                          0.4257009254
                        ],
                        "iteration": 149,
                        "passed_time": 2.370031301,
                        "remaining_time": 13.43017737
                      },
                      {
                        "learn": [
                          0.4254679252
                        ],
                        "iteration": 150,
                        "passed_time": 2.383306197,
                        "remaining_time": 13.40017855
                      },
                      {
                        "learn": [
                          0.4252843801
                        ],
                        "iteration": 151,
                        "passed_time": 2.398300977,
                        "remaining_time": 13.37999492
                      },
                      {
                        "learn": [
                          0.4251220791
                        ],
                        "iteration": 152,
                        "passed_time": 2.413388882,
                        "remaining_time": 13.36039466
                      },
                      {
                        "learn": [
                          0.424891805
                        ],
                        "iteration": 153,
                        "passed_time": 2.429330213,
                        "remaining_time": 13.3455413
                      },
                      {
                        "learn": [
                          0.4246650889
                        ],
                        "iteration": 154,
                        "passed_time": 2.44567494,
                        "remaining_time": 13.33287306
                      },
                      {
                        "learn": [
                          0.4246274659
                        ],
                        "iteration": 155,
                        "passed_time": 2.455119303,
                        "remaining_time": 13.28282495
                      },
                      {
                        "learn": [
                          0.424536607
                        ],
                        "iteration": 156,
                        "passed_time": 2.473667766,
                        "remaining_time": 13.28217788
                      },
                      {
                        "learn": [
                          0.4243262705
                        ],
                        "iteration": 157,
                        "passed_time": 2.497660983,
                        "remaining_time": 13.31031992
                      },
                      {
                        "learn": [
                          0.4241917902
                        ],
                        "iteration": 158,
                        "passed_time": 2.508749012,
                        "remaining_time": 13.26954666
                      },
                      {
                        "learn": [
                          0.4238816727
                        ],
                        "iteration": 159,
                        "passed_time": 2.529418386,
                        "remaining_time": 13.27944653
                      },
                      {
                        "learn": [
                          0.4237357397
                        ],
                        "iteration": 160,
                        "passed_time": 2.54337184,
                        "remaining_time": 13.25396878
                      },
                      {
                        "learn": [
                          0.4235796073
                        ],
                        "iteration": 161,
                        "passed_time": 2.559311909,
                        "remaining_time": 13.23890975
                      },
                      {
                        "learn": [
                          0.4234742321
                        ],
                        "iteration": 162,
                        "passed_time": 2.572560759,
                        "remaining_time": 13.21002059
                      },
                      {
                        "learn": [
                          0.4233717572
                        ],
                        "iteration": 163,
                        "passed_time": 2.585191555,
                        "remaining_time": 13.17817158
                      },
                      {
                        "learn": [
                          0.4233500377
                        ],
                        "iteration": 164,
                        "passed_time": 2.598136932,
                        "remaining_time": 13.1481475
                      },
                      {
                        "learn": [
                          0.4232233544
                        ],
                        "iteration": 165,
                        "passed_time": 2.616271689,
                        "remaining_time": 13.14440114
                      },
                      {
                        "learn": [
                          0.4230769787
                        ],
                        "iteration": 166,
                        "passed_time": 2.630617877,
                        "remaining_time": 13.12158498
                      },
                      {
                        "learn": [
                          0.4229239751
                        ],
                        "iteration": 167,
                        "passed_time": 2.645102469,
                        "remaining_time": 13.09955508
                      },
                      {
                        "learn": [
                          0.422829058
                        ],
                        "iteration": 168,
                        "passed_time": 2.663489373,
                        "remaining_time": 13.09680277
                      },
                      {
                        "learn": [
                          0.4226475121
                        ],
                        "iteration": 169,
                        "passed_time": 2.679758193,
                        "remaining_time": 13.08352529
                      },
                      {
                        "learn": [
                          0.422597003
                        ],
                        "iteration": 170,
                        "passed_time": 2.692288817,
                        "remaining_time": 13.05209023
                      },
                      {
                        "learn": [
                          0.4225232267
                        ],
                        "iteration": 171,
                        "passed_time": 2.708817314,
                        "remaining_time": 13.04012056
                      },
                      {
                        "learn": [
                          0.422409886
                        ],
                        "iteration": 172,
                        "passed_time": 2.722317695,
                        "remaining_time": 13.01362274
                      },
                      {
                        "learn": [
                          0.4223412145
                        ],
                        "iteration": 173,
                        "passed_time": 2.739346041,
                        "remaining_time": 13.00402201
                      },
                      {
                        "learn": [
                          0.4221948436
                        ],
                        "iteration": 174,
                        "passed_time": 2.754482032,
                        "remaining_time": 12.98541529
                      },
                      {
                        "learn": [
                          0.4220941138
                        ],
                        "iteration": 175,
                        "passed_time": 2.766740402,
                        "remaining_time": 12.95337552
                      },
                      {
                        "learn": [
                          0.421940159
                        ],
                        "iteration": 176,
                        "passed_time": 2.784068869,
                        "remaining_time": 12.94513378
                      },
                      {
                        "learn": [
                          0.4218909931
                        ],
                        "iteration": 177,
                        "passed_time": 2.797460178,
                        "remaining_time": 12.91860824
                      },
                      {
                        "learn": [
                          0.421833197
                        ],
                        "iteration": 178,
                        "passed_time": 2.809999048,
                        "remaining_time": 12.88831966
                      },
                      {
                        "learn": [
                          0.4217223225
                        ],
                        "iteration": 179,
                        "passed_time": 2.823587203,
                        "remaining_time": 12.86300837
                      },
                      {
                        "learn": [
                          0.4216303903
                        ],
                        "iteration": 180,
                        "passed_time": 2.833379692,
                        "remaining_time": 12.82065175
                      },
                      {
                        "learn": [
                          0.4215171698
                        ],
                        "iteration": 181,
                        "passed_time": 2.846947149,
                        "remaining_time": 12.7956196
                      },
                      {
                        "learn": [
                          0.4213791755
                        ],
                        "iteration": 182,
                        "passed_time": 2.862371712,
                        "remaining_time": 12.77900376
                      },
                      {
                        "learn": [
                          0.4212718146
                        ],
                        "iteration": 183,
                        "passed_time": 2.876799866,
                        "remaining_time": 12.75798201
                      },
                      {
                        "learn": [
                          0.4212380779
                        ],
                        "iteration": 184,
                        "passed_time": 2.892780789,
                        "remaining_time": 12.74387212
                      },
                      {
                        "learn": [
                          0.4212142021
                        ],
                        "iteration": 185,
                        "passed_time": 2.928331107,
                        "remaining_time": 12.81538452
                      },
                      {
                        "learn": [
                          0.4211531018
                        ],
                        "iteration": 186,
                        "passed_time": 2.947690689,
                        "remaining_time": 12.81536112
                      },
                      {
                        "learn": [
                          0.4210804229
                        ],
                        "iteration": 187,
                        "passed_time": 2.961831203,
                        "remaining_time": 12.79259009
                      },
                      {
                        "learn": [
                          0.4210526794
                        ],
                        "iteration": 188,
                        "passed_time": 2.969297357,
                        "remaining_time": 12.74127067
                      },
                      {
                        "learn": [
                          0.4208704801
                        ],
                        "iteration": 189,
                        "passed_time": 2.983525122,
                        "remaining_time": 12.71923868
                      },
                      {
                        "learn": [
                          0.4208042142
                        ],
                        "iteration": 190,
                        "passed_time": 2.996757781,
                        "remaining_time": 12.69307353
                      },
                      {
                        "learn": [
                          0.4206848092
                        ],
                        "iteration": 191,
                        "passed_time": 3.011145524,
                        "remaining_time": 12.67190408
                      },
                      {
                        "learn": [
                          0.4205614775
                        ],
                        "iteration": 192,
                        "passed_time": 3.023444166,
                        "remaining_time": 12.64206965
                      },
                      {
                        "learn": [
                          0.4204907885
                        ],
                        "iteration": 193,
                        "passed_time": 3.032061277,
                        "remaining_time": 12.59712056
                      },
                      {
                        "learn": [
                          0.4202943698
                        ],
                        "iteration": 194,
                        "passed_time": 3.046673038,
                        "remaining_time": 12.57729126
                      },
                      {
                        "learn": [
                          0.4202148379
                        ],
                        "iteration": 195,
                        "passed_time": 3.062890952,
                        "remaining_time": 12.5641037
                      },
                      {
                        "learn": [
                          0.4201078795
                        ],
                        "iteration": 196,
                        "passed_time": 3.081154056,
                        "remaining_time": 12.55922186
                      },
                      {
                        "learn": [
                          0.4198942305
                        ],
                        "iteration": 197,
                        "passed_time": 3.107520873,
                        "remaining_time": 12.58702899
                      },
                      {
                        "learn": [
                          0.4198520228
                        ],
                        "iteration": 198,
                        "passed_time": 3.131183867,
                        "remaining_time": 12.60340843
                      },
                      {
                        "learn": [
                          0.419675442
                        ],
                        "iteration": 199,
                        "passed_time": 3.149234624,
                        "remaining_time": 12.5969385
                      },
                      {
                        "learn": [
                          0.4195551447
                        ],
                        "iteration": 200,
                        "passed_time": 3.166899172,
                        "remaining_time": 12.5888181
                      },
                      {
                        "learn": [
                          0.4194348062
                        ],
                        "iteration": 201,
                        "passed_time": 3.18057691,
                        "remaining_time": 12.56485334
                      },
                      {
                        "learn": [
                          0.4192786687
                        ],
                        "iteration": 202,
                        "passed_time": 3.196780536,
                        "remaining_time": 12.55090683
                      },
                      {
                        "learn": [
                          0.4191845605
                        ],
                        "iteration": 203,
                        "passed_time": 3.210699807,
                        "remaining_time": 12.52802474
                      },
                      {
                        "learn": [
                          0.4191309382
                        ],
                        "iteration": 204,
                        "passed_time": 3.235485621,
                        "remaining_time": 12.54737107
                      },
                      {
                        "learn": [
                          0.4190947684
                        ],
                        "iteration": 205,
                        "passed_time": 3.248251793,
                        "remaining_time": 12.51996079
                      },
                      {
                        "learn": [
                          0.4189292521
                        ],
                        "iteration": 206,
                        "passed_time": 3.266487542,
                        "remaining_time": 12.51364551
                      },
                      {
                        "learn": [
                          0.4188113949
                        ],
                        "iteration": 207,
                        "passed_time": 3.281106611,
                        "remaining_time": 12.4934444
                      },
                      {
                        "learn": [
                          0.4186925135
                        ],
                        "iteration": 208,
                        "passed_time": 3.297935786,
                        "remaining_time": 12.48166128
                      },
                      {
                        "learn": [
                          0.4186253566
                        ],
                        "iteration": 209,
                        "passed_time": 3.314122049,
                        "remaining_time": 12.46741152
                      },
                      {
                        "learn": [
                          0.418583277
                        ],
                        "iteration": 210,
                        "passed_time": 3.327540944,
                        "remaining_time": 12.44279528
                      },
                      {
                        "learn": [
                          0.4184775139
                        ],
                        "iteration": 211,
                        "passed_time": 3.342980089,
                        "remaining_time": 12.42579392
                      },
                      {
                        "learn": [
                          0.418381648
                        ],
                        "iteration": 212,
                        "passed_time": 3.361042637,
                        "remaining_time": 12.41850026
                      },
                      {
                        "learn": [
                          0.4183362388
                        ],
                        "iteration": 213,
                        "passed_time": 3.376778326,
                        "remaining_time": 12.40255965
                      },
                      {
                        "learn": [
                          0.4182731875
                        ],
                        "iteration": 214,
                        "passed_time": 3.390632043,
                        "remaining_time": 12.37974955
                      },
                      {
                        "learn": [
                          0.4182585571
                        ],
                        "iteration": 215,
                        "passed_time": 3.406811358,
                        "remaining_time": 12.36546345
                      },
                      {
                        "learn": [
                          0.4181059894
                        ],
                        "iteration": 216,
                        "passed_time": 3.421728454,
                        "remaining_time": 12.34660544
                      },
                      {
                        "learn": [
                          0.4180135528
                        ],
                        "iteration": 217,
                        "passed_time": 3.436257125,
                        "remaining_time": 12.32639024
                      },
                      {
                        "learn": [
                          0.4179839426
                        ],
                        "iteration": 218,
                        "passed_time": 3.445912554,
                        "remaining_time": 12.28884797
                      },
                      {
                        "learn": [
                          0.4179687127
                        ],
                        "iteration": 219,
                        "passed_time": 3.472159375,
                        "remaining_time": 12.31038324
                      },
                      {
                        "learn": [
                          0.4179647294
                        ],
                        "iteration": 220,
                        "passed_time": 3.480337168,
                        "remaining_time": 12.26779481
                      },
                      {
                        "learn": [
                          0.4179014089
                        ],
                        "iteration": 221,
                        "passed_time": 3.500669395,
                        "remaining_time": 12.26811166
                      },
                      {
                        "learn": [
                          0.417697034
                        ],
                        "iteration": 222,
                        "passed_time": 3.515257379,
                        "remaining_time": 12.24822862
                      },
                      {
                        "learn": [
                          0.4176619602
                        ],
                        "iteration": 223,
                        "passed_time": 3.529844397,
                        "remaining_time": 12.22838952
                      },
                      {
                        "learn": [
                          0.4175040344
                        ],
                        "iteration": 224,
                        "passed_time": 3.543861014,
                        "remaining_time": 12.20663238
                      },
                      {
                        "learn": [
                          0.4174306281
                        ],
                        "iteration": 225,
                        "passed_time": 3.562121244,
                        "remaining_time": 12.19947718
                      },
                      {
                        "learn": [
                          0.4173184609
                        ],
                        "iteration": 226,
                        "passed_time": 3.580093673,
                        "remaining_time": 12.19124409
                      },
                      {
                        "learn": [
                          0.4172681467
                        ],
                        "iteration": 227,
                        "passed_time": 3.59456977,
                        "remaining_time": 12.17108712
                      },
                      {
                        "learn": [
                          0.4171335286
                        ],
                        "iteration": 228,
                        "passed_time": 3.610332328,
                        "remaining_time": 12.15531103
                      },
                      {
                        "learn": [
                          0.4169686887
                        ],
                        "iteration": 229,
                        "passed_time": 3.622560663,
                        "remaining_time": 12.12770309
                      },
                      {
                        "learn": [
                          0.4168830142
                        ],
                        "iteration": 230,
                        "passed_time": 3.634248283,
                        "remaining_time": 12.09842827
                      },
                      {
                        "learn": [
                          0.4167965424
                        ],
                        "iteration": 231,
                        "passed_time": 3.649408042,
                        "remaining_time": 12.08079904
                      },
                      {
                        "learn": [
                          0.4167828798
                        ],
                        "iteration": 232,
                        "passed_time": 3.657336526,
                        "remaining_time": 12.03938676
                      },
                      {
                        "learn": [
                          0.4167534006
                        ],
                        "iteration": 233,
                        "passed_time": 3.671955827,
                        "remaining_time": 12.02016309
                      },
                      {
                        "learn": [
                          0.41670831
                        ],
                        "iteration": 234,
                        "passed_time": 3.685873081,
                        "remaining_time": 11.99869322
                      },
                      {
                        "learn": [
                          0.4165479125
                        ],
                        "iteration": 235,
                        "passed_time": 3.70099432,
                        "remaining_time": 11.981185
                      },
                      {
                        "learn": [
                          0.4165213493
                        ],
                        "iteration": 236,
                        "passed_time": 3.714786578,
                        "remaining_time": 11.95941839
                      },
                      {
                        "learn": [
                          0.4164692377
                        ],
                        "iteration": 237,
                        "passed_time": 3.72991647,
                        "remaining_time": 11.94200147
                      },
                      {
                        "learn": [
                          0.4164255273
                        ],
                        "iteration": 238,
                        "passed_time": 3.742885696,
                        "remaining_time": 11.91772391
                      },
                      {
                        "learn": [
                          0.4163171917
                        ],
                        "iteration": 239,
                        "passed_time": 3.756274022,
                        "remaining_time": 11.89486774
                      },
                      {
                        "learn": [
                          0.4161637121
                        ],
                        "iteration": 240,
                        "passed_time": 3.775237639,
                        "remaining_time": 11.88964883
                      },
                      {
                        "learn": [
                          0.4160287411
                        ],
                        "iteration": 241,
                        "passed_time": 3.790835496,
                        "remaining_time": 11.87377399
                      },
                      {
                        "learn": [
                          0.4159600513
                        ],
                        "iteration": 242,
                        "passed_time": 3.804245311,
                        "remaining_time": 11.85108519
                      },
                      {
                        "learn": [
                          0.4159548091
                        ],
                        "iteration": 243,
                        "passed_time": 3.821684628,
                        "remaining_time": 11.84095729
                      },
                      {
                        "learn": [
                          0.4159458521
                        ],
                        "iteration": 244,
                        "passed_time": 3.830874916,
                        "remaining_time": 11.80534923
                      },
                      {
                        "learn": [
                          0.4158497138
                        ],
                        "iteration": 245,
                        "passed_time": 3.844002061,
                        "remaining_time": 11.78202258
                      },
                      {
                        "learn": [
                          0.4157733048
                        ],
                        "iteration": 246,
                        "passed_time": 3.858189717,
                        "remaining_time": 11.76201156
                      },
                      {
                        "learn": [
                          0.4156448153
                        ],
                        "iteration": 247,
                        "passed_time": 3.874974879,
                        "remaining_time": 11.74992383
                      },
                      {
                        "learn": [
                          0.4153973071
                        ],
                        "iteration": 248,
                        "passed_time": 3.897966612,
                        "remaining_time": 11.75651777
                      },
                      {
                        "learn": [
                          0.4153258963
                        ],
                        "iteration": 249,
                        "passed_time": 3.922758995,
                        "remaining_time": 11.76827699
                      },
                      {
                        "learn": [
                          0.415309051
                        ],
                        "iteration": 250,
                        "passed_time": 3.933654003,
                        "remaining_time": 11.7382743
                      },
                      {
                        "learn": [
                          0.4152165672
                        ],
                        "iteration": 251,
                        "passed_time": 3.946943626,
                        "remaining_time": 11.71553108
                      },
                      {
                        "learn": [
                          0.4151129738
                        ],
                        "iteration": 252,
                        "passed_time": 3.963109584,
                        "remaining_time": 11.70135518
                      },
                      {
                        "learn": [
                          0.4149769012
                        ],
                        "iteration": 253,
                        "passed_time": 3.978250362,
                        "remaining_time": 11.68415264
                      },
                      {
                        "learn": [
                          0.4148257243
                        ],
                        "iteration": 254,
                        "passed_time": 3.99676427,
                        "remaining_time": 11.6768211
                      },
                      {
                        "learn": [
                          0.4147589196
                        ],
                        "iteration": 255,
                        "passed_time": 4.00960429,
                        "remaining_time": 11.65291247
                      },
                      {
                        "learn": [
                          0.4146936773
                        ],
                        "iteration": 256,
                        "passed_time": 4.025178348,
                        "remaining_time": 11.63699421
                      },
                      {
                        "learn": [
                          0.4146066217
                        ],
                        "iteration": 257,
                        "passed_time": 4.039102895,
                        "remaining_time": 11.61633468
                      },
                      {
                        "learn": [
                          0.4144706444
                        ],
                        "iteration": 258,
                        "passed_time": 4.061271489,
                        "remaining_time": 11.61931341
                      },
                      {
                        "learn": [
                          0.4143124503
                        ],
                        "iteration": 259,
                        "passed_time": 4.077921937,
                        "remaining_time": 11.6063932
                      },
                      {
                        "learn": [
                          0.4142362725
                        ],
                        "iteration": 260,
                        "passed_time": 4.101886929,
                        "remaining_time": 11.61415494
                      },
                      {
                        "learn": [
                          0.4141684194
                        ],
                        "iteration": 261,
                        "passed_time": 4.113779033,
                        "remaining_time": 11.58766766
                      },
                      {
                        "learn": [
                          0.4141265224
                        ],
                        "iteration": 262,
                        "passed_time": 4.128342814,
                        "remaining_time": 11.56877815
                      },
                      {
                        "learn": [
                          0.4140265239
                        ],
                        "iteration": 263,
                        "passed_time": 4.14390431,
                        "remaining_time": 11.55270292
                      },
                      {
                        "learn": [
                          0.4138417471
                        ],
                        "iteration": 264,
                        "passed_time": 4.157325143,
                        "remaining_time": 11.53069426
                      },
                      {
                        "learn": [
                          0.4138022005
                        ],
                        "iteration": 265,
                        "passed_time": 4.170985355,
                        "remaining_time": 11.50941072
                      },
                      {
                        "learn": [
                          0.4137929341
                        ],
                        "iteration": 266,
                        "passed_time": 4.180043285,
                        "remaining_time": 11.47554954
                      },
                      {
                        "learn": [
                          0.4136647417
                        ],
                        "iteration": 267,
                        "passed_time": 4.199282836,
                        "remaining_time": 11.46968297
                      },
                      {
                        "learn": [
                          0.4135830873
                        ],
                        "iteration": 268,
                        "passed_time": 4.214094126,
                        "remaining_time": 11.45168329
                      },
                      {
                        "learn": [
                          0.4135245701
                        ],
                        "iteration": 269,
                        "passed_time": 4.228979486,
                        "remaining_time": 11.4339075
                      },
                      {
                        "learn": [
                          0.4134738822
                        ],
                        "iteration": 270,
                        "passed_time": 4.243214597,
                        "remaining_time": 11.41440384
                      },
                      {
                        "learn": [
                          0.4133884829
                        ],
                        "iteration": 271,
                        "passed_time": 4.259213107,
                        "remaining_time": 11.39965861
                      },
                      {
                        "learn": [
                          0.4133793664
                        ],
                        "iteration": 272,
                        "passed_time": 4.267885547,
                        "remaining_time": 11.36539484
                      },
                      {
                        "learn": [
                          0.4133788136
                        ],
                        "iteration": 273,
                        "passed_time": 4.277108556,
                        "remaining_time": 11.33277669
                      },
                      {
                        "learn": [
                          0.4133657951
                        ],
                        "iteration": 274,
                        "passed_time": 4.284328028,
                        "remaining_time": 11.29504662
                      },
                      {
                        "learn": [
                          0.4132160474
                        ],
                        "iteration": 275,
                        "passed_time": 4.299681336,
                        "remaining_time": 11.27887423
                      },
                      {
                        "learn": [
                          0.413096214
                        ],
                        "iteration": 276,
                        "passed_time": 4.313066558,
                        "remaining_time": 11.25757084
                      },
                      {
                        "learn": [
                          0.4129785505
                        ],
                        "iteration": 277,
                        "passed_time": 4.328915662,
                        "remaining_time": 11.24272341
                      },
                      {
                        "learn": [
                          0.4128251838
                        ],
                        "iteration": 278,
                        "passed_time": 4.346058409,
                        "remaining_time": 11.23121188
                      },
                      {
                        "learn": [
                          0.4126481914
                        ],
                        "iteration": 279,
                        "passed_time": 4.359649033,
                        "remaining_time": 11.21052608
                      },
                      {
                        "learn": [
                          0.4125521045
                        ],
                        "iteration": 280,
                        "passed_time": 4.390849371,
                        "remaining_time": 11.2349491
                      },
                      {
                        "learn": [
                          0.412499316
                        ],
                        "iteration": 281,
                        "passed_time": 4.403949169,
                        "remaining_time": 11.21289186
                      },
                      {
                        "learn": [
                          0.4124414186
                        ],
                        "iteration": 282,
                        "passed_time": 4.417985713,
                        "remaining_time": 11.19327122
                      },
                      {
                        "learn": [
                          0.4123837932
                        ],
                        "iteration": 283,
                        "passed_time": 4.431892667,
                        "remaining_time": 11.1733632
                      },
                      {
                        "learn": [
                          0.4123792411
                        ],
                        "iteration": 284,
                        "passed_time": 4.440749814,
                        "remaining_time": 11.14082848
                      },
                      {
                        "learn": [
                          0.4123248119
                        ],
                        "iteration": 285,
                        "passed_time": 4.46522687,
                        "remaining_time": 11.14745449
                      },
                      {
                        "learn": [
                          0.4122438637
                        ],
                        "iteration": 286,
                        "passed_time": 4.480041249,
                        "remaining_time": 11.12985857
                      },
                      {
                        "learn": [
                          0.4120910577
                        ],
                        "iteration": 287,
                        "passed_time": 4.494369859,
                        "remaining_time": 11.11108104
                      },
                      {
                        "learn": [
                          0.4120085326
                        ],
                        "iteration": 288,
                        "passed_time": 4.508659634,
                        "remaining_time": 11.09223875
                      },
                      {
                        "learn": [
                          0.4119312546
                        ],
                        "iteration": 289,
                        "passed_time": 4.523621534,
                        "remaining_time": 11.07507341
                      },
                      {
                        "learn": [
                          0.4118293731
                        ],
                        "iteration": 290,
                        "passed_time": 4.538111141,
                        "remaining_time": 11.05677251
                      },
                      {
                        "learn": [
                          0.4118042995
                        ],
                        "iteration": 291,
                        "passed_time": 4.546974499,
                        "remaining_time": 11.02485598
                      },
                      {
                        "learn": [
                          0.4117056624
                        ],
                        "iteration": 292,
                        "passed_time": 4.56183089,
                        "remaining_time": 11.00755781
                      },
                      {
                        "learn": [
                          0.4115947968
                        ],
                        "iteration": 293,
                        "passed_time": 4.574444027,
                        "remaining_time": 10.9848894
                      },
                      {
                        "learn": [
                          0.4115022009
                        ],
                        "iteration": 294,
                        "passed_time": 4.58746388,
                        "remaining_time": 10.96326114
                      },
                      {
                        "learn": [
                          0.4114206069
                        ],
                        "iteration": 295,
                        "passed_time": 4.60535973,
                        "remaining_time": 10.95328801
                      },
                      {
                        "learn": [
                          0.4113635448
                        ],
                        "iteration": 296,
                        "passed_time": 4.619092271,
                        "remaining_time": 10.93340696
                      },
                      {
                        "learn": [
                          0.4111409868
                        ],
                        "iteration": 297,
                        "passed_time": 4.633503823,
                        "remaining_time": 10.91516672
                      },
                      {
                        "learn": [
                          0.4110428327
                        ],
                        "iteration": 298,
                        "passed_time": 4.649943039,
                        "remaining_time": 10.90170592
                      },
                      {
                        "learn": [
                          0.411014209
                        ],
                        "iteration": 299,
                        "passed_time": 4.66918401,
                        "remaining_time": 10.89476269
                      },
                      {
                        "learn": [
                          0.4109974593
                        ],
                        "iteration": 300,
                        "passed_time": 4.677472902,
                        "remaining_time": 10.86230418
                      },
                      {
                        "learn": [
                          0.4109569398
                        ],
                        "iteration": 301,
                        "passed_time": 4.692965959,
                        "remaining_time": 10.84665642
                      },
                      {
                        "learn": [
                          0.410901989
                        ],
                        "iteration": 302,
                        "passed_time": 4.704772903,
                        "remaining_time": 10.82253041
                      },
                      {
                        "learn": [
                          0.4107951099
                        ],
                        "iteration": 303,
                        "passed_time": 4.719510417,
                        "remaining_time": 10.8051949
                      },
                      {
                        "learn": [
                          0.4107433289
                        ],
                        "iteration": 304,
                        "passed_time": 4.730259537,
                        "remaining_time": 10.77878813
                      },
                      {
                        "learn": [
                          0.4106875714
                        ],
                        "iteration": 305,
                        "passed_time": 4.743508733,
                        "remaining_time": 10.75815379
                      },
                      {
                        "learn": [
                          0.4106113028
                        ],
                        "iteration": 306,
                        "passed_time": 4.755795139,
                        "remaining_time": 10.73539424
                      },
                      {
                        "learn": [
                          0.4105243009
                        ],
                        "iteration": 307,
                        "passed_time": 4.771955433,
                        "remaining_time": 10.72140636
                      },
                      {
                        "learn": [
                          0.4103737738
                        ],
                        "iteration": 308,
                        "passed_time": 4.784018604,
                        "remaining_time": 10.69824225
                      },
                      {
                        "learn": [
                          0.4102324926
                        ],
                        "iteration": 309,
                        "passed_time": 4.79817847,
                        "remaining_time": 10.67981659
                      },
                      {
                        "learn": [
                          0.4100621754
                        ],
                        "iteration": 310,
                        "passed_time": 4.817474343,
                        "remaining_time": 10.67279686
                      },
                      {
                        "learn": [
                          0.4100591742
                        ],
                        "iteration": 311,
                        "passed_time": 4.823971589,
                        "remaining_time": 10.63747581
                      },
                      {
                        "learn": [
                          0.4099402986
                        ],
                        "iteration": 312,
                        "passed_time": 4.839650907,
                        "remaining_time": 10.62249257
                      },
                      {
                        "learn": [
                          0.4098358085
                        ],
                        "iteration": 313,
                        "passed_time": 4.854290387,
                        "remaining_time": 10.60523314
                      },
                      {
                        "learn": [
                          0.409710525
                        ],
                        "iteration": 314,
                        "passed_time": 4.870648366,
                        "remaining_time": 10.5917274
                      },
                      {
                        "learn": [
                          0.4096067173
                        ],
                        "iteration": 315,
                        "passed_time": 4.89862286,
                        "remaining_time": 10.60334822
                      },
                      {
                        "learn": [
                          0.4095719578
                        ],
                        "iteration": 316,
                        "passed_time": 4.915449642,
                        "remaining_time": 10.59070065
                      },
                      {
                        "learn": [
                          0.4095114972
                        ],
                        "iteration": 317,
                        "passed_time": 4.929644957,
                        "remaining_time": 10.57238321
                      },
                      {
                        "learn": [
                          0.4093931214
                        ],
                        "iteration": 318,
                        "passed_time": 4.953880282,
                        "remaining_time": 10.57552499
                      },
                      {
                        "learn": [
                          0.409260896
                        ],
                        "iteration": 319,
                        "passed_time": 4.968121702,
                        "remaining_time": 10.55725862
                      },
                      {
                        "learn": [
                          0.4091391041
                        ],
                        "iteration": 320,
                        "passed_time": 4.982299074,
                        "remaining_time": 10.53888184
                      },
                      {
                        "learn": [
                          0.4090457691
                        ],
                        "iteration": 321,
                        "passed_time": 4.996920888,
                        "remaining_time": 10.52146696
                      },
                      {
                        "learn": [
                          0.4089508416
                        ],
                        "iteration": 322,
                        "passed_time": 5.011229313,
                        "remaining_time": 10.50341252
                      },
                      {
                        "learn": [
                          0.4086803366
                        ],
                        "iteration": 323,
                        "passed_time": 5.034114649,
                        "remaining_time": 10.50327624
                      },
                      {
                        "learn": [
                          0.4085133314
                        ],
                        "iteration": 324,
                        "passed_time": 5.048848261,
                        "remaining_time": 10.48606946
                      },
                      {
                        "learn": [
                          0.4084530762
                        ],
                        "iteration": 325,
                        "passed_time": 5.062606696,
                        "remaining_time": 10.4668617
                      },
                      {
                        "learn": [
                          0.4080773258
                        ],
                        "iteration": 326,
                        "passed_time": 5.074664138,
                        "remaining_time": 10.44418644
                      },
                      {
                        "learn": [
                          0.4079931352
                        ],
                        "iteration": 327,
                        "passed_time": 5.089330376,
                        "remaining_time": 10.42692077
                      },
                      {
                        "learn": [
                          0.4078998388
                        ],
                        "iteration": 328,
                        "passed_time": 5.104833084,
                        "remaining_time": 10.4113769
                      },
                      {
                        "learn": [
                          0.4078095381
                        ],
                        "iteration": 329,
                        "passed_time": 5.120427108,
                        "remaining_time": 10.39601867
                      },
                      {
                        "learn": [
                          0.4077581671
                        ],
                        "iteration": 330,
                        "passed_time": 5.135243045,
                        "remaining_time": 10.3790864
                      },
                      {
                        "learn": [
                          0.4076707887
                        ],
                        "iteration": 331,
                        "passed_time": 5.150635217,
                        "remaining_time": 10.36332628
                      },
                      {
                        "learn": [
                          0.4076196106
                        ],
                        "iteration": 332,
                        "passed_time": 5.166712749,
                        "remaining_time": 10.34894115
                      },
                      {
                        "learn": [
                          0.4075449321
                        ],
                        "iteration": 333,
                        "passed_time": 5.179685291,
                        "remaining_time": 10.3283545
                      },
                      {
                        "learn": [
                          0.4073194296
                        ],
                        "iteration": 334,
                        "passed_time": 5.194051111,
                        "remaining_time": 10.31057907
                      },
                      {
                        "learn": [
                          0.4072706472
                        ],
                        "iteration": 335,
                        "passed_time": 5.207766701,
                        "remaining_time": 10.29153896
                      },
                      {
                        "learn": [
                          0.4071701581
                        ],
                        "iteration": 336,
                        "passed_time": 5.222356015,
                        "remaining_time": 10.27424937
                      },
                      {
                        "learn": [
                          0.4070980505
                        ],
                        "iteration": 337,
                        "passed_time": 5.246826367,
                        "remaining_time": 10.27632856
                      },
                      {
                        "learn": [
                          0.4070255065
                        ],
                        "iteration": 338,
                        "passed_time": 5.262896104,
                        "remaining_time": 10.26187117
                      },
                      {
                        "learn": [
                          0.4069188925
                        ],
                        "iteration": 339,
                        "passed_time": 5.278712133,
                        "remaining_time": 10.24691179
                      },
                      {
                        "learn": [
                          0.4068895671
                        ],
                        "iteration": 340,
                        "passed_time": 5.293355593,
                        "remaining_time": 10.22968134
                      },
                      {
                        "learn": [
                          0.406799329
                        ],
                        "iteration": 341,
                        "passed_time": 5.306939007,
                        "remaining_time": 10.21042651
                      },
                      {
                        "learn": [
                          0.4066866968
                        ],
                        "iteration": 342,
                        "passed_time": 5.320677704,
                        "remaining_time": 10.19150219
                      },
                      {
                        "learn": [
                          0.4065961651
                        ],
                        "iteration": 343,
                        "passed_time": 5.333901931,
                        "remaining_time": 10.17162694
                      },
                      {
                        "learn": [
                          0.4065017791
                        ],
                        "iteration": 344,
                        "passed_time": 5.350475167,
                        "remaining_time": 10.15814851
                      },
                      {
                        "learn": [
                          0.4063857718
                        ],
                        "iteration": 345,
                        "passed_time": 5.365505651,
                        "remaining_time": 10.14173611
                      },
                      {
                        "learn": [
                          0.4062248521
                        ],
                        "iteration": 346,
                        "passed_time": 5.381117296,
                        "remaining_time": 10.12642534
                      },
                      {
                        "learn": [
                          0.4061746018
                        ],
                        "iteration": 347,
                        "passed_time": 5.396564837,
                        "remaining_time": 10.11080538
                      },
                      {
                        "learn": [
                          0.4061105805
                        ],
                        "iteration": 348,
                        "passed_time": 5.411584233,
                        "remaining_time": 10.09438778
                      },
                      {
                        "learn": [
                          0.4060476621
                        ],
                        "iteration": 349,
                        "passed_time": 5.423469198,
                        "remaining_time": 10.07215708
                      },
                      {
                        "learn": [
                          0.4059913456
                        ],
                        "iteration": 350,
                        "passed_time": 5.438952278,
                        "remaining_time": 10.05663826
                      },
                      {
                        "learn": [
                          0.4058625767
                        ],
                        "iteration": 351,
                        "passed_time": 5.465325975,
                        "remaining_time": 10.06116827
                      },
                      {
                        "learn": [
                          0.4057844026
                        ],
                        "iteration": 352,
                        "passed_time": 5.479339859,
                        "remaining_time": 10.04286937
                      },
                      {
                        "learn": [
                          0.405704771
                        ],
                        "iteration": 353,
                        "passed_time": 5.49427043,
                        "remaining_time": 10.02626751
                      },
                      {
                        "learn": [
                          0.4054815281
                        ],
                        "iteration": 354,
                        "passed_time": 5.508056453,
                        "remaining_time": 10.00759553
                      },
                      {
                        "learn": [
                          0.405387622
                        ],
                        "iteration": 355,
                        "passed_time": 5.528087396,
                        "remaining_time": 10.00024799
                      },
                      {
                        "learn": [
                          0.4053348338
                        ],
                        "iteration": 356,
                        "passed_time": 5.54204513,
                        "remaining_time": 9.981890809
                      },
                      {
                        "learn": [
                          0.4052285159
                        ],
                        "iteration": 357,
                        "passed_time": 5.554864305,
                        "remaining_time": 9.961516435
                      },
                      {
                        "learn": [
                          0.4051180035
                        ],
                        "iteration": 358,
                        "passed_time": 5.569843006,
                        "remaining_time": 9.945040018
                      },
                      {
                        "learn": [
                          0.4050168044
                        ],
                        "iteration": 359,
                        "passed_time": 5.583172834,
                        "remaining_time": 9.925640593
                      },
                      {
                        "learn": [
                          0.4049426528
                        ],
                        "iteration": 360,
                        "passed_time": 5.597732565,
                        "remaining_time": 9.908451826
                      },
                      {
                        "learn": [
                          0.4048584502
                        ],
                        "iteration": 361,
                        "passed_time": 5.612694759,
                        "remaining_time": 9.891986896
                      },
                      {
                        "learn": [
                          0.4047083158
                        ],
                        "iteration": 362,
                        "passed_time": 5.627011394,
                        "remaining_time": 9.874397405
                      },
                      {
                        "learn": [
                          0.4046082631
                        ],
                        "iteration": 363,
                        "passed_time": 5.64317117,
                        "remaining_time": 9.86004633
                      },
                      {
                        "learn": [
                          0.4045574039
                        ],
                        "iteration": 364,
                        "passed_time": 5.661601719,
                        "remaining_time": 9.849635867
                      },
                      {
                        "learn": [
                          0.4043878968
                        ],
                        "iteration": 365,
                        "passed_time": 5.67679617,
                        "remaining_time": 9.83357588
                      },
                      {
                        "learn": [
                          0.4042871589
                        ],
                        "iteration": 366,
                        "passed_time": 5.691207847,
                        "remaining_time": 9.816170483
                      },
                      {
                        "learn": [
                          0.4042052826
                        ],
                        "iteration": 367,
                        "passed_time": 5.706254258,
                        "remaining_time": 9.799871443
                      },
                      {
                        "learn": [
                          0.4040220126
                        ],
                        "iteration": 368,
                        "passed_time": 5.720100977,
                        "remaining_time": 9.781527687
                      },
                      {
                        "learn": [
                          0.4039408573
                        ],
                        "iteration": 369,
                        "passed_time": 5.735509009,
                        "remaining_time": 9.765866691
                      },
                      {
                        "learn": [
                          0.4038557831
                        ],
                        "iteration": 370,
                        "passed_time": 5.748416901,
                        "remaining_time": 9.745968278
                      },
                      {
                        "learn": [
                          0.4036726459
                        ],
                        "iteration": 371,
                        "passed_time": 5.762403026,
                        "remaining_time": 9.727927689
                      },
                      {
                        "learn": [
                          0.4036372648
                        ],
                        "iteration": 372,
                        "passed_time": 5.77642468,
                        "remaining_time": 9.709968564
                      },
                      {
                        "learn": [
                          0.4034854088
                        ],
                        "iteration": 373,
                        "passed_time": 5.791026325,
                        "remaining_time": 9.693001281
                      },
                      {
                        "learn": [
                          0.4034136088
                        ],
                        "iteration": 374,
                        "passed_time": 5.805594666,
                        "remaining_time": 9.67599111
                      },
                      {
                        "learn": [
                          0.4034104016
                        ],
                        "iteration": 375,
                        "passed_time": 5.814315259,
                        "remaining_time": 9.649289154
                      },
                      {
                        "learn": [
                          0.4033598014
                        ],
                        "iteration": 376,
                        "passed_time": 5.827769001,
                        "remaining_time": 9.630504211
                      },
                      {
                        "learn": [
                          0.4033102778
                        ],
                        "iteration": 377,
                        "passed_time": 5.844487092,
                        "remaining_time": 9.617118971
                      },
                      {
                        "learn": [
                          0.403237895
                        ],
                        "iteration": 378,
                        "passed_time": 5.874812565,
                        "remaining_time": 9.626012145
                      },
                      {
                        "learn": [
                          0.4031003637
                        ],
                        "iteration": 379,
                        "passed_time": 5.903280829,
                        "remaining_time": 9.631668721
                      },
                      {
                        "learn": [
                          0.4030599271
                        ],
                        "iteration": 380,
                        "passed_time": 5.930758006,
                        "remaining_time": 9.635535973
                      },
                      {
                        "learn": [
                          0.4030265385
                        ],
                        "iteration": 381,
                        "passed_time": 5.942964752,
                        "remaining_time": 9.614534599
                      },
                      {
                        "learn": [
                          0.4029157824
                        ],
                        "iteration": 382,
                        "passed_time": 5.959031007,
                        "remaining_time": 9.599796688
                      },
                      {
                        "learn": [
                          0.4028824895
                        ],
                        "iteration": 383,
                        "passed_time": 5.971961244,
                        "remaining_time": 9.580021163
                      },
                      {
                        "learn": [
                          0.4028324805
                        ],
                        "iteration": 384,
                        "passed_time": 5.98754306,
                        "remaining_time": 9.564516836
                      },
                      {
                        "learn": [
                          0.4027980723
                        ],
                        "iteration": 385,
                        "passed_time": 6.003069032,
                        "remaining_time": 9.548923279
                      },
                      {
                        "learn": [
                          0.4027014478
                        ],
                        "iteration": 386,
                        "passed_time": 6.025663126,
                        "remaining_time": 9.54452583
                      },
                      {
                        "learn": [
                          0.4025470822
                        ],
                        "iteration": 387,
                        "passed_time": 6.039504967,
                        "remaining_time": 9.526229484
                      },
                      {
                        "learn": [
                          0.4025064834
                        ],
                        "iteration": 388,
                        "passed_time": 6.050858657,
                        "remaining_time": 9.504047917
                      },
                      {
                        "learn": [
                          0.4023847145
                        ],
                        "iteration": 389,
                        "passed_time": 6.065397409,
                        "remaining_time": 9.486903639
                      },
                      {
                        "learn": [
                          0.4023264356
                        ],
                        "iteration": 390,
                        "passed_time": 6.079845529,
                        "remaining_time": 9.469631527
                      },
                      {
                        "learn": [
                          0.4022776453
                        ],
                        "iteration": 391,
                        "passed_time": 6.095152579,
                        "remaining_time": 9.453706041
                      },
                      {
                        "learn": [
                          0.4022260024
                        ],
                        "iteration": 392,
                        "passed_time": 6.108727627,
                        "remaining_time": 9.435108573
                      },
                      {
                        "learn": [
                          0.4021049122
                        ],
                        "iteration": 393,
                        "passed_time": 6.124881131,
                        "remaining_time": 9.420502451
                      },
                      {
                        "learn": [
                          0.4019892629
                        ],
                        "iteration": 394,
                        "passed_time": 6.139403877,
                        "remaining_time": 9.403390748
                      },
                      {
                        "learn": [
                          0.4019101075
                        ],
                        "iteration": 395,
                        "passed_time": 6.155450386,
                        "remaining_time": 9.388616245
                      },
                      {
                        "learn": [
                          0.4017971506
                        ],
                        "iteration": 396,
                        "passed_time": 6.169696372,
                        "remaining_time": 9.371100535
                      },
                      {
                        "learn": [
                          0.4017688761
                        ],
                        "iteration": 397,
                        "passed_time": 6.182776315,
                        "remaining_time": 9.351837542
                      },
                      {
                        "learn": [
                          0.4015854921
                        ],
                        "iteration": 398,
                        "passed_time": 6.19859783,
                        "remaining_time": 9.336735077
                      },
                      {
                        "learn": [
                          0.4015173913
                        ],
                        "iteration": 399,
                        "passed_time": 6.213727731,
                        "remaining_time": 9.320591597
                      },
                      {
                        "learn": [
                          0.4013754186
                        ],
                        "iteration": 400,
                        "passed_time": 6.227795348,
                        "remaining_time": 9.302866368
                      },
                      {
                        "learn": [
                          0.4012240372
                        ],
                        "iteration": 401,
                        "passed_time": 6.244904658,
                        "remaining_time": 9.289684043
                      },
                      {
                        "learn": [
                          0.401102977
                        ],
                        "iteration": 402,
                        "passed_time": 6.259561683,
                        "remaining_time": 9.272849442
                      },
                      {
                        "learn": [
                          0.4010797142
                        ],
                        "iteration": 403,
                        "passed_time": 6.274832616,
                        "remaining_time": 9.256931285
                      },
                      {
                        "learn": [
                          0.4010395085
                        ],
                        "iteration": 404,
                        "passed_time": 6.290422461,
                        "remaining_time": 9.241484851
                      },
                      {
                        "learn": [
                          0.400905531
                        ],
                        "iteration": 405,
                        "passed_time": 6.303591598,
                        "remaining_time": 9.222496082
                      },
                      {
                        "learn": [
                          0.400695192
                        ],
                        "iteration": 406,
                        "passed_time": 6.318518708,
                        "remaining_time": 9.206097282
                      },
                      {
                        "learn": [
                          0.4006335682
                        ],
                        "iteration": 407,
                        "passed_time": 6.337166563,
                        "remaining_time": 9.195104424
                      },
                      {
                        "learn": [
                          0.4005694528
                        ],
                        "iteration": 408,
                        "passed_time": 6.351533735,
                        "remaining_time": 9.177888601
                      },
                      {
                        "learn": [
                          0.4004896876
                        ],
                        "iteration": 409,
                        "passed_time": 6.366364186,
                        "remaining_time": 9.16135334
                      },
                      {
                        "learn": [
                          0.4003661308
                        ],
                        "iteration": 410,
                        "passed_time": 6.381916324,
                        "remaining_time": 9.145860619
                      },
                      {
                        "learn": [
                          0.400349352
                        ],
                        "iteration": 411,
                        "passed_time": 6.395131888,
                        "remaining_time": 9.127032888
                      },
                      {
                        "learn": [
                          0.4002841945
                        ],
                        "iteration": 412,
                        "passed_time": 6.412121495,
                        "remaining_time": 9.11359641
                      },
                      {
                        "learn": [
                          0.4001716445
                        ],
                        "iteration": 413,
                        "passed_time": 6.425201491,
                        "remaining_time": 9.094608874
                      },
                      {
                        "learn": [
                          0.4000996767
                        ],
                        "iteration": 414,
                        "passed_time": 6.444219713,
                        "remaining_time": 9.08402056
                      },
                      {
                        "learn": [
                          0.4000316964
                        ],
                        "iteration": 415,
                        "passed_time": 6.464647611,
                        "remaining_time": 9.075370685
                      },
                      {
                        "learn": [
                          0.3999336236
                        ],
                        "iteration": 416,
                        "passed_time": 6.479102517,
                        "remaining_time": 9.058313591
                      },
                      {
                        "learn": [
                          0.3998447103
                        ],
                        "iteration": 417,
                        "passed_time": 6.505908026,
                        "remaining_time": 9.058465242
                      },
                      {
                        "learn": [
                          0.3997170745
                        ],
                        "iteration": 418,
                        "passed_time": 6.521496707,
                        "remaining_time": 9.042934575
                      },
                      {
                        "learn": [
                          0.3996154938
                        ],
                        "iteration": 419,
                        "passed_time": 6.535777824,
                        "remaining_time": 9.025597947
                      },
                      {
                        "learn": [
                          0.3995734815
                        ],
                        "iteration": 420,
                        "passed_time": 6.550450702,
                        "remaining_time": 9.008814624
                      },
                      {
                        "learn": [
                          0.3994809156
                        ],
                        "iteration": 421,
                        "passed_time": 6.565574164,
                        "remaining_time": 8.992658453
                      },
                      {
                        "learn": [
                          0.3993818839
                        ],
                        "iteration": 422,
                        "passed_time": 6.580384641,
                        "remaining_time": 8.976080232
                      },
                      {
                        "learn": [
                          0.3993574844
                        ],
                        "iteration": 423,
                        "passed_time": 6.59500255,
                        "remaining_time": 8.959248747
                      },
                      {
                        "learn": [
                          0.3992279281
                        ],
                        "iteration": 424,
                        "passed_time": 6.610497242,
                        "remaining_time": 8.943613916
                      },
                      {
                        "learn": [
                          0.3991556819
                        ],
                        "iteration": 425,
                        "passed_time": 6.625607753,
                        "remaining_time": 8.927462089
                      },
                      {
                        "learn": [
                          0.3990053086
                        ],
                        "iteration": 426,
                        "passed_time": 6.640429277,
                        "remaining_time": 8.910927344
                      },
                      {
                        "learn": [
                          0.3989448987
                        ],
                        "iteration": 427,
                        "passed_time": 6.655355075,
                        "remaining_time": 8.89453996
                      },
                      {
                        "learn": [
                          0.398875793
                        ],
                        "iteration": 428,
                        "passed_time": 6.670895268,
                        "remaining_time": 8.878977151
                      },
                      {
                        "learn": [
                          0.3988175437
                        ],
                        "iteration": 429,
                        "passed_time": 6.687473523,
                        "remaining_time": 8.864790484
                      },
                      {
                        "learn": [
                          0.3987418244
                        ],
                        "iteration": 430,
                        "passed_time": 6.703872432,
                        "remaining_time": 8.850355948
                      },
                      {
                        "learn": [
                          0.3986507246
                        ],
                        "iteration": 431,
                        "passed_time": 6.722415553,
                        "remaining_time": 8.83873156
                      },
                      {
                        "learn": [
                          0.3985138187
                        ],
                        "iteration": 432,
                        "passed_time": 6.737854136,
                        "remaining_time": 8.823009919
                      },
                      {
                        "learn": [
                          0.3985067585
                        ],
                        "iteration": 433,
                        "passed_time": 6.750178478,
                        "remaining_time": 8.803228154
                      },
                      {
                        "learn": [
                          0.398502721
                        ],
                        "iteration": 434,
                        "passed_time": 6.779644694,
                        "remaining_time": 8.805745407
                      },
                      {
                        "learn": [
                          0.3984625273
                        ],
                        "iteration": 435,
                        "passed_time": 6.816089025,
                        "remaining_time": 8.817142683
                      },
                      {
                        "learn": [
                          0.3984037672
                        ],
                        "iteration": 436,
                        "passed_time": 6.828150123,
                        "remaining_time": 8.796907366
                      },
                      {
                        "learn": [
                          0.3983619537
                        ],
                        "iteration": 437,
                        "passed_time": 6.843826087,
                        "remaining_time": 8.781347627
                      },
                      {
                        "learn": [
                          0.3982463368
                        ],
                        "iteration": 438,
                        "passed_time": 6.875299755,
                        "remaining_time": 8.785975313
                      },
                      {
                        "learn": [
                          0.3982211961
                        ],
                        "iteration": 439,
                        "passed_time": 6.893293053,
                        "remaining_time": 8.773282067
                      },
                      {
                        "learn": [
                          0.3980355161
                        ],
                        "iteration": 440,
                        "passed_time": 6.917742247,
                        "remaining_time": 8.768748109
                      },
                      {
                        "learn": [
                          0.3979375217
                        ],
                        "iteration": 441,
                        "passed_time": 6.933611594,
                        "remaining_time": 8.753292464
                      },
                      {
                        "learn": [
                          0.3979040839
                        ],
                        "iteration": 442,
                        "passed_time": 6.94804692,
                        "remaining_time": 8.736031906
                      },
                      {
                        "learn": [
                          0.3977154679
                        ],
                        "iteration": 443,
                        "passed_time": 6.9637083,
                        "remaining_time": 8.720319403
                      },
                      {
                        "learn": [
                          0.397630384
                        ],
                        "iteration": 444,
                        "passed_time": 6.980730729,
                        "remaining_time": 8.706304617
                      },
                      {
                        "learn": [
                          0.3975973736
                        ],
                        "iteration": 445,
                        "passed_time": 6.99299359,
                        "remaining_time": 8.686364235
                      },
                      {
                        "learn": [
                          0.3974513603
                        ],
                        "iteration": 446,
                        "passed_time": 7.013330462,
                        "remaining_time": 8.676446858
                      },
                      {
                        "learn": [
                          0.39739998
                        ],
                        "iteration": 447,
                        "passed_time": 7.028822233,
                        "remaining_time": 8.660513109
                      },
                      {
                        "learn": [
                          0.3972518355
                        ],
                        "iteration": 448,
                        "passed_time": 7.046931302,
                        "remaining_time": 8.647793202
                      },
                      {
                        "learn": [
                          0.3971814624
                        ],
                        "iteration": 449,
                        "passed_time": 7.05960356,
                        "remaining_time": 8.628404351
                      },
                      {
                        "learn": [
                          0.3971051337
                        ],
                        "iteration": 450,
                        "passed_time": 7.075914743,
                        "remaining_time": 8.613474931
                      },
                      {
                        "learn": [
                          0.3970100121
                        ],
                        "iteration": 451,
                        "passed_time": 7.092392433,
                        "remaining_time": 8.598741268
                      },
                      {
                        "learn": [
                          0.3968936721
                        ],
                        "iteration": 452,
                        "passed_time": 7.107083092,
                        "remaining_time": 8.581842056
                      },
                      {
                        "learn": [
                          0.3968032477
                        ],
                        "iteration": 453,
                        "passed_time": 7.128489395,
                        "remaining_time": 8.573029096
                      },
                      {
                        "learn": [
                          0.3967242887
                        ],
                        "iteration": 454,
                        "passed_time": 7.144951277,
                        "remaining_time": 8.558238342
                      },
                      {
                        "learn": [
                          0.3966106679
                        ],
                        "iteration": 455,
                        "passed_time": 7.161800472,
                        "remaining_time": 8.543902317
                      },
                      {
                        "learn": [
                          0.3965623303
                        ],
                        "iteration": 456,
                        "passed_time": 7.177073492,
                        "remaining_time": 8.527682508
                      },
                      {
                        "learn": [
                          0.396466708
                        ],
                        "iteration": 457,
                        "passed_time": 7.19314216,
                        "remaining_time": 8.512408407
                      },
                      {
                        "learn": [
                          0.3963666116
                        ],
                        "iteration": 458,
                        "passed_time": 7.20879869,
                        "remaining_time": 8.49664508
                      },
                      {
                        "learn": [
                          0.3961574873
                        ],
                        "iteration": 459,
                        "passed_time": 7.224147806,
                        "remaining_time": 8.480521338
                      },
                      {
                        "learn": [
                          0.3960767519
                        ],
                        "iteration": 460,
                        "passed_time": 7.240830054,
                        "remaining_time": 8.465959651
                      },
                      {
                        "learn": [
                          0.3959300833
                        ],
                        "iteration": 461,
                        "passed_time": 7.256450839,
                        "remaining_time": 8.450152709
                      },
                      {
                        "learn": [
                          0.3958043698
                        ],
                        "iteration": 462,
                        "passed_time": 7.271410731,
                        "remaining_time": 8.433580049
                      },
                      {
                        "learn": [
                          0.3957887253
                        ],
                        "iteration": 463,
                        "passed_time": 7.285693615,
                        "remaining_time": 8.416232279
                      },
                      {
                        "learn": [
                          0.3956792507
                        ],
                        "iteration": 464,
                        "passed_time": 7.303443298,
                        "remaining_time": 8.402886375
                      },
                      {
                        "learn": [
                          0.3955311737
                        ],
                        "iteration": 465,
                        "passed_time": 7.318550335,
                        "remaining_time": 8.386493302
                      },
                      {
                        "learn": [
                          0.3955109651
                        ],
                        "iteration": 466,
                        "passed_time": 7.337115689,
                        "remaining_time": 8.37405281
                      },
                      {
                        "learn": [
                          0.3954822603
                        ],
                        "iteration": 467,
                        "passed_time": 7.348592495,
                        "remaining_time": 8.353528221
                      },
                      {
                        "learn": [
                          0.3954138842
                        ],
                        "iteration": 468,
                        "passed_time": 7.364955097,
                        "remaining_time": 8.338573894
                      },
                      {
                        "learn": [
                          0.3952140556
                        ],
                        "iteration": 469,
                        "passed_time": 7.387212617,
                        "remaining_time": 8.330261037
                      },
                      {
                        "learn": [
                          0.3951578998
                        ],
                        "iteration": 470,
                        "passed_time": 7.40226062,
                        "remaining_time": 8.313791652
                      },
                      {
                        "learn": [
                          0.395103142
                        ],
                        "iteration": 471,
                        "passed_time": 7.418025963,
                        "remaining_time": 8.298130738
                      },
                      {
                        "learn": [
                          0.3950283715
                        ],
                        "iteration": 472,
                        "passed_time": 7.437181994,
                        "remaining_time": 8.286247169
                      },
                      {
                        "learn": [
                          0.3949293061
                        ],
                        "iteration": 473,
                        "passed_time": 7.460715889,
                        "remaining_time": 8.27919105
                      },
                      {
                        "learn": [
                          0.3948964859
                        ],
                        "iteration": 474,
                        "passed_time": 7.476086396,
                        "remaining_time": 8.263042859
                      },
                      {
                        "learn": [
                          0.3948948318
                        ],
                        "iteration": 475,
                        "passed_time": 7.489397553,
                        "remaining_time": 8.24463092
                      },
                      {
                        "learn": [
                          0.3948053339
                        ],
                        "iteration": 476,
                        "passed_time": 7.505478532,
                        "remaining_time": 8.2292773
                      },
                      {
                        "learn": [
                          0.3947010556
                        ],
                        "iteration": 477,
                        "passed_time": 7.521686893,
                        "remaining_time": 8.214059745
                      },
                      {
                        "learn": [
                          0.3946654063
                        ],
                        "iteration": 478,
                        "passed_time": 7.534942286,
                        "remaining_time": 8.19562616
                      },
                      {
                        "learn": [
                          0.3945764427
                        ],
                        "iteration": 479,
                        "passed_time": 7.552479506,
                        "remaining_time": 8.181852798
                      },
                      {
                        "learn": [
                          0.3944982926
                        ],
                        "iteration": 480,
                        "passed_time": 7.565742106,
                        "remaining_time": 8.163451462
                      },
                      {
                        "learn": [
                          0.3944284876
                        ],
                        "iteration": 481,
                        "passed_time": 7.580380308,
                        "remaining_time": 8.146549791
                      },
                      {
                        "learn": [
                          0.3943714647
                        ],
                        "iteration": 482,
                        "passed_time": 7.596174951,
                        "remaining_time": 8.130895341
                      },
                      {
                        "learn": [
                          0.3942557141
                        ],
                        "iteration": 483,
                        "passed_time": 7.611634652,
                        "remaining_time": 8.114883224
                      },
                      {
                        "learn": [
                          0.3941921403
                        ],
                        "iteration": 484,
                        "passed_time": 7.624285065,
                        "remaining_time": 8.095890326
                      },
                      {
                        "learn": [
                          0.3941432663
                        ],
                        "iteration": 485,
                        "passed_time": 7.638169698,
                        "remaining_time": 8.078228858
                      },
                      {
                        "learn": [
                          0.3940770474
                        ],
                        "iteration": 486,
                        "passed_time": 7.653867278,
                        "remaining_time": 8.062492636
                      },
                      {
                        "learn": [
                          0.394055358
                        ],
                        "iteration": 487,
                        "passed_time": 7.667920411,
                        "remaining_time": 8.045031251
                      },
                      {
                        "learn": [
                          0.3940235107
                        ],
                        "iteration": 488,
                        "passed_time": 7.680063837,
                        "remaining_time": 8.025588181
                      },
                      {
                        "learn": [
                          0.3939792127
                        ],
                        "iteration": 489,
                        "passed_time": 7.694018012,
                        "remaining_time": 8.008059563
                      },
                      {
                        "learn": [
                          0.393832058
                        ],
                        "iteration": 490,
                        "passed_time": 7.708240487,
                        "remaining_time": 7.990823642
                      },
                      {
                        "learn": [
                          0.3937241722
                        ],
                        "iteration": 491,
                        "passed_time": 7.723898956,
                        "remaining_time": 7.975082661
                      },
                      {
                        "learn": [
                          0.3936728871
                        ],
                        "iteration": 492,
                        "passed_time": 7.751601128,
                        "remaining_time": 7.971727732
                      },
                      {
                        "learn": [
                          0.39357425
                        ],
                        "iteration": 493,
                        "passed_time": 7.766650921,
                        "remaining_time": 7.955314506
                      },
                      {
                        "learn": [
                          0.3934946536
                        ],
                        "iteration": 494,
                        "passed_time": 7.782003592,
                        "remaining_time": 7.939215785
                      },
                      {
                        "learn": [
                          0.3933864625
                        ],
                        "iteration": 495,
                        "passed_time": 7.797542946,
                        "remaining_time": 7.923309768
                      },
                      {
                        "learn": [
                          0.3933831252
                        ],
                        "iteration": 496,
                        "passed_time": 7.810651022,
                        "remaining_time": 7.904944595
                      },
                      {
                        "learn": [
                          0.3931088807
                        ],
                        "iteration": 497,
                        "passed_time": 7.826072064,
                        "remaining_time": 7.888932081
                      },
                      {
                        "learn": [
                          0.3929908781
                        ],
                        "iteration": 498,
                        "passed_time": 7.853179272,
                        "remaining_time": 7.88465494
                      },
                      {
                        "learn": [
                          0.3929687287
                        ],
                        "iteration": 499,
                        "passed_time": 7.871259304,
                        "remaining_time": 7.871259304
                      },
                      {
                        "learn": [
                          0.3929664602
                        ],
                        "iteration": 500,
                        "passed_time": 7.88798685,
                        "remaining_time": 7.856497881
                      },
                      {
                        "learn": [
                          0.3928982893
                        ],
                        "iteration": 501,
                        "passed_time": 7.902033836,
                        "remaining_time": 7.839069423
                      },
                      {
                        "learn": [
                          0.3928053996
                        ],
                        "iteration": 502,
                        "passed_time": 7.917006756,
                        "remaining_time": 7.8225693
                      },
                      {
                        "learn": [
                          0.3926457309
                        ],
                        "iteration": 503,
                        "passed_time": 7.934024056,
                        "remaining_time": 7.808087166
                      },
                      {
                        "learn": [
                          0.3925109011
                        ],
                        "iteration": 504,
                        "passed_time": 7.954807486,
                        "remaining_time": 7.797286546
                      },
                      {
                        "learn": [
                          0.3924607542
                        ],
                        "iteration": 505,
                        "passed_time": 7.970845177,
                        "remaining_time": 7.781813276
                      },
                      {
                        "learn": [
                          0.3923565927
                        ],
                        "iteration": 506,
                        "passed_time": 7.992833728,
                        "remaining_time": 7.772124316
                      },
                      {
                        "learn": [
                          0.3922478678
                        ],
                        "iteration": 507,
                        "passed_time": 8.009044922,
                        "remaining_time": 7.756791539
                      },
                      {
                        "learn": [
                          0.3920866653
                        ],
                        "iteration": 508,
                        "passed_time": 8.022827997,
                        "remaining_time": 7.739113058
                      },
                      {
                        "learn": [
                          0.3919987211
                        ],
                        "iteration": 509,
                        "passed_time": 8.040332038,
                        "remaining_time": 7.7250249
                      },
                      {
                        "learn": [
                          0.391911223
                        ],
                        "iteration": 510,
                        "passed_time": 8.0559964,
                        "remaining_time": 7.709162896
                      },
                      {
                        "learn": [
                          0.3918739347
                        ],
                        "iteration": 511,
                        "passed_time": 8.076653354,
                        "remaining_time": 7.698060228
                      },
                      {
                        "learn": [
                          0.3917474509
                        ],
                        "iteration": 512,
                        "passed_time": 8.096393827,
                        "remaining_time": 7.68605028
                      },
                      {
                        "learn": [
                          0.3917459563
                        ],
                        "iteration": 513,
                        "passed_time": 8.10881087,
                        "remaining_time": 7.667085764
                      },
                      {
                        "learn": [
                          0.3916898752
                        ],
                        "iteration": 514,
                        "passed_time": 8.124310605,
                        "remaining_time": 7.651049793
                      },
                      {
                        "learn": [
                          0.3915946634
                        ],
                        "iteration": 515,
                        "passed_time": 8.139608026,
                        "remaining_time": 7.634826133
                      },
                      {
                        "learn": [
                          0.3914940934
                        ],
                        "iteration": 516,
                        "passed_time": 8.156500051,
                        "remaining_time": 7.620095792
                      },
                      {
                        "learn": [
                          0.391465343
                        ],
                        "iteration": 517,
                        "passed_time": 8.171911374,
                        "remaining_time": 7.603979309
                      },
                      {
                        "learn": [
                          0.3913992517
                        ],
                        "iteration": 518,
                        "passed_time": 8.186574134,
                        "remaining_time": 7.587171789
                      },
                      {
                        "learn": [
                          0.3913133959
                        ],
                        "iteration": 519,
                        "passed_time": 8.202899842,
                        "remaining_time": 7.571907546
                      },
                      {
                        "learn": [
                          0.3912734255
                        ],
                        "iteration": 520,
                        "passed_time": 8.218347011,
                        "remaining_time": 7.555831513
                      },
                      {
                        "learn": [
                          0.3911272108
                        ],
                        "iteration": 521,
                        "passed_time": 8.231838347,
                        "remaining_time": 7.537966916
                      },
                      {
                        "learn": [
                          0.3910237615
                        ],
                        "iteration": 522,
                        "passed_time": 8.246366758,
                        "remaining_time": 7.521064902
                      },
                      {
                        "learn": [
                          0.3909418047
                        ],
                        "iteration": 523,
                        "passed_time": 8.260493962,
                        "remaining_time": 7.503807492
                      },
                      {
                        "learn": [
                          0.3909220161
                        ],
                        "iteration": 524,
                        "passed_time": 8.276795439,
                        "remaining_time": 7.488529206
                      },
                      {
                        "learn": [
                          0.3908875621
                        ],
                        "iteration": 525,
                        "passed_time": 8.291808647,
                        "remaining_time": 7.472086119
                      },
                      {
                        "learn": [
                          0.3908760822
                        ],
                        "iteration": 526,
                        "passed_time": 8.306835522,
                        "remaining_time": 7.455660724
                      },
                      {
                        "learn": [
                          0.3907729516
                        ],
                        "iteration": 527,
                        "passed_time": 8.323090521,
                        "remaining_time": 7.440338496
                      },
                      {
                        "learn": [
                          0.3907532123
                        ],
                        "iteration": 528,
                        "passed_time": 8.335767388,
                        "remaining_time": 7.421826918
                      },
                      {
                        "learn": [
                          0.3907073497
                        ],
                        "iteration": 529,
                        "passed_time": 8.3551963,
                        "remaining_time": 7.40932502
                      },
                      {
                        "learn": [
                          0.3906511823
                        ],
                        "iteration": 530,
                        "passed_time": 8.376728995,
                        "remaining_time": 7.398655176
                      },
                      {
                        "learn": [
                          0.3905843798
                        ],
                        "iteration": 531,
                        "passed_time": 8.391031286,
                        "remaining_time": 7.381583913
                      },
                      {
                        "learn": [
                          0.3905267251
                        ],
                        "iteration": 532,
                        "passed_time": 8.404921923,
                        "remaining_time": 7.36416236
                      },
                      {
                        "learn": [
                          0.3904433275
                        ],
                        "iteration": 533,
                        "passed_time": 8.422509586,
                        "remaining_time": 7.349980275
                      },
                      {
                        "learn": [
                          0.3904256968
                        ],
                        "iteration": 534,
                        "passed_time": 8.444037354,
                        "remaining_time": 7.339210037
                      },
                      {
                        "learn": [
                          0.3903191001
                        ],
                        "iteration": 535,
                        "passed_time": 8.462005688,
                        "remaining_time": 7.325318356
                      },
                      {
                        "learn": [
                          0.3901572349
                        ],
                        "iteration": 536,
                        "passed_time": 8.475667626,
                        "remaining_time": 7.30769853
                      },
                      {
                        "learn": [
                          0.3901426194
                        ],
                        "iteration": 537,
                        "passed_time": 8.489935429,
                        "remaining_time": 7.290613696
                      },
                      {
                        "learn": [
                          0.3900647676
                        ],
                        "iteration": 538,
                        "passed_time": 8.505112754,
                        "remaining_time": 7.274317216
                      },
                      {
                        "learn": [
                          0.3899598232
                        ],
                        "iteration": 539,
                        "passed_time": 8.519525564,
                        "remaining_time": 7.257373629
                      },
                      {
                        "learn": [
                          0.3898787254
                        ],
                        "iteration": 540,
                        "passed_time": 8.531402856,
                        "remaining_time": 7.23828819
                      },
                      {
                        "learn": [
                          0.3897758175
                        ],
                        "iteration": 541,
                        "passed_time": 8.546727406,
                        "remaining_time": 7.222142346
                      },
                      {
                        "learn": [
                          0.3896941751
                        ],
                        "iteration": 542,
                        "passed_time": 8.568646628,
                        "remaining_time": 7.21154974
                      },
                      {
                        "learn": [
                          0.3896152087
                        ],
                        "iteration": 543,
                        "passed_time": 8.584584759,
                        "remaining_time": 7.19590193
                      },
                      {
                        "learn": [
                          0.3895084156
                        ],
                        "iteration": 544,
                        "passed_time": 8.600325063,
                        "remaining_time": 7.180087896
                      },
                      {
                        "learn": [
                          0.389398067
                        ],
                        "iteration": 545,
                        "passed_time": 8.616002285,
                        "remaining_time": 7.16422168
                      },
                      {
                        "learn": [
                          0.3893083838
                        ],
                        "iteration": 546,
                        "passed_time": 8.631111565,
                        "remaining_time": 7.147885812
                      },
                      {
                        "learn": [
                          0.3892650703
                        ],
                        "iteration": 547,
                        "passed_time": 8.642880129,
                        "remaining_time": 7.128798939
                      },
                      {
                        "learn": [
                          0.3892414521
                        ],
                        "iteration": 548,
                        "passed_time": 8.653528296,
                        "remaining_time": 7.108818327
                      },
                      {
                        "learn": [
                          0.3891285391
                        ],
                        "iteration": 549,
                        "passed_time": 8.676263911,
                        "remaining_time": 7.098761382
                      },
                      {
                        "learn": [
                          0.3890740968
                        ],
                        "iteration": 550,
                        "passed_time": 8.690240973,
                        "remaining_time": 7.081521228
                      },
                      {
                        "learn": [
                          0.3890015531
                        ],
                        "iteration": 551,
                        "passed_time": 8.705478501,
                        "remaining_time": 7.065315885
                      },
                      {
                        "learn": [
                          0.3889405843
                        ],
                        "iteration": 552,
                        "passed_time": 8.720028621,
                        "remaining_time": 7.048558397
                      },
                      {
                        "learn": [
                          0.3888905899
                        ],
                        "iteration": 553,
                        "passed_time": 8.735384099,
                        "remaining_time": 7.032457235
                      },
                      {
                        "learn": [
                          0.3888724015
                        ],
                        "iteration": 554,
                        "passed_time": 8.748108059,
                        "remaining_time": 7.014248804
                      },
                      {
                        "learn": [
                          0.3888197726
                        ],
                        "iteration": 555,
                        "passed_time": 8.763316005,
                        "remaining_time": 6.998043717
                      },
                      {
                        "learn": [
                          0.3887573572
                        ],
                        "iteration": 556,
                        "passed_time": 8.781913449,
                        "remaining_time": 6.984537985
                      },
                      {
                        "learn": [
                          0.3887269569
                        ],
                        "iteration": 557,
                        "passed_time": 8.796067251,
                        "remaining_time": 6.967494131
                      },
                      {
                        "learn": [
                          0.3887156152
                        ],
                        "iteration": 558,
                        "passed_time": 8.813611239,
                        "remaining_time": 6.953135163
                      },
                      {
                        "learn": [
                          0.388643559
                        ],
                        "iteration": 559,
                        "passed_time": 8.839440027,
                        "remaining_time": 6.945274307
                      },
                      {
                        "learn": [
                          0.3886417085
                        ],
                        "iteration": 560,
                        "passed_time": 8.856757536,
                        "remaining_time": 6.930689052
                      },
                      {
                        "learn": [
                          0.3886100511
                        ],
                        "iteration": 561,
                        "passed_time": 8.875737138,
                        "remaining_time": 6.917389442
                      },
                      {
                        "learn": [
                          0.3884879932
                        ],
                        "iteration": 562,
                        "passed_time": 8.891369963,
                        "remaining_time": 6.901471889
                      },
                      {
                        "learn": [
                          0.3884259824
                        ],
                        "iteration": 563,
                        "passed_time": 8.906320538,
                        "remaining_time": 6.885027934
                      },
                      {
                        "learn": [
                          0.3883091114
                        ],
                        "iteration": 564,
                        "passed_time": 8.920648243,
                        "remaining_time": 6.868109709
                      },
                      {
                        "learn": [
                          0.3882937484
                        ],
                        "iteration": 565,
                        "passed_time": 8.936072647,
                        "remaining_time": 6.85204157
                      },
                      {
                        "learn": [
                          0.3882400369
                        ],
                        "iteration": 566,
                        "passed_time": 8.960652056,
                        "remaining_time": 6.84296709
                      },
                      {
                        "learn": [
                          0.3882109972
                        ],
                        "iteration": 567,
                        "passed_time": 8.984437186,
                        "remaining_time": 6.833233916
                      },
                      {
                        "learn": [
                          0.3881433611
                        ],
                        "iteration": 568,
                        "passed_time": 8.999428738,
                        "remaining_time": 6.816790486
                      },
                      {
                        "learn": [
                          0.388027589
                        ],
                        "iteration": 569,
                        "passed_time": 9.013967131,
                        "remaining_time": 6.800010292
                      },
                      {
                        "learn": [
                          0.3879398182
                        ],
                        "iteration": 570,
                        "passed_time": 9.026845955,
                        "remaining_time": 6.781991094
                      },
                      {
                        "learn": [
                          0.3879215387
                        ],
                        "iteration": 571,
                        "passed_time": 9.042558836,
                        "remaining_time": 6.766110457
                      },
                      {
                        "learn": [
                          0.3878390185
                        ],
                        "iteration": 572,
                        "passed_time": 9.057656269,
                        "remaining_time": 6.749771774
                      },
                      {
                        "learn": [
                          0.3877533747
                        ],
                        "iteration": 573,
                        "passed_time": 9.072379995,
                        "remaining_time": 6.733160066
                      },
                      {
                        "learn": [
                          0.3876199501
                        ],
                        "iteration": 574,
                        "passed_time": 9.085952856,
                        "remaining_time": 6.715704285
                      },
                      {
                        "learn": [
                          0.3875979607
                        ],
                        "iteration": 575,
                        "passed_time": 9.098889337,
                        "remaining_time": 6.69779354
                      },
                      {
                        "learn": [
                          0.387492212
                        ],
                        "iteration": 576,
                        "passed_time": 9.113681099,
                        "remaining_time": 6.681260147
                      },
                      {
                        "learn": [
                          0.3874171906
                        ],
                        "iteration": 577,
                        "passed_time": 9.128863444,
                        "remaining_time": 6.665017947
                      },
                      {
                        "learn": [
                          0.3873906104
                        ],
                        "iteration": 578,
                        "passed_time": 9.141323171,
                        "remaining_time": 6.646799749
                      },
                      {
                        "learn": [
                          0.3873587724
                        ],
                        "iteration": 579,
                        "passed_time": 9.155039447,
                        "remaining_time": 6.629511324
                      },
                      {
                        "learn": [
                          0.3873575123
                        ],
                        "iteration": 580,
                        "passed_time": 9.165960146,
                        "remaining_time": 6.610219107
                      },
                      {
                        "learn": [
                          0.3873084707
                        ],
                        "iteration": 581,
                        "passed_time": 9.180017767,
                        "remaining_time": 6.593208636
                      },
                      {
                        "learn": [
                          0.3872607868
                        ],
                        "iteration": 582,
                        "passed_time": 9.199676343,
                        "remaining_time": 6.580214468
                      },
                      {
                        "learn": [
                          0.3870971234
                        ],
                        "iteration": 583,
                        "passed_time": 9.213677321,
                        "remaining_time": 6.563167407
                      },
                      {
                        "learn": [
                          0.3870552474
                        ],
                        "iteration": 584,
                        "passed_time": 9.228983277,
                        "remaining_time": 6.547056513
                      },
                      {
                        "learn": [
                          0.3870538351
                        ],
                        "iteration": 585,
                        "passed_time": 9.247057828,
                        "remaining_time": 6.532904336
                      },
                      {
                        "learn": [
                          0.3870156376
                        ],
                        "iteration": 586,
                        "passed_time": 9.262021521,
                        "remaining_time": 6.516550065
                      },
                      {
                        "learn": [
                          0.3869887746
                        ],
                        "iteration": 587,
                        "passed_time": 9.275204352,
                        "remaining_time": 6.498952709
                      },
                      {
                        "learn": [
                          0.3869131875
                        ],
                        "iteration": 588,
                        "passed_time": 9.290354822,
                        "remaining_time": 6.482743348
                      },
                      {
                        "learn": [
                          0.3868330155
                        ],
                        "iteration": 589,
                        "passed_time": 9.30911303,
                        "remaining_time": 6.469044648
                      },
                      {
                        "learn": [
                          0.3867515195
                        ],
                        "iteration": 590,
                        "passed_time": 9.325474555,
                        "remaining_time": 6.453670208
                      },
                      {
                        "learn": [
                          0.3866965362
                        ],
                        "iteration": 591,
                        "passed_time": 9.340837933,
                        "remaining_time": 6.437604522
                      },
                      {
                        "learn": [
                          0.3866447042
                        ],
                        "iteration": 592,
                        "passed_time": 9.354331146,
                        "remaining_time": 6.420257633
                      },
                      {
                        "learn": [
                          0.3865593769
                        ],
                        "iteration": 593,
                        "passed_time": 9.371174484,
                        "remaining_time": 6.405213536
                      },
                      {
                        "learn": [
                          0.3864895798
                        ],
                        "iteration": 594,
                        "passed_time": 9.385136889,
                        "remaining_time": 6.38820242
                      },
                      {
                        "learn": [
                          0.3864753013
                        ],
                        "iteration": 595,
                        "passed_time": 9.398873286,
                        "remaining_time": 6.371048335
                      },
                      {
                        "learn": [
                          0.3863916754
                        ],
                        "iteration": 596,
                        "passed_time": 9.412247528,
                        "remaining_time": 6.353661229
                      },
                      {
                        "learn": [
                          0.3863326715
                        ],
                        "iteration": 597,
                        "passed_time": 9.428588301,
                        "remaining_time": 6.338281768
                      },
                      {
                        "learn": [
                          0.3862539102
                        ],
                        "iteration": 598,
                        "passed_time": 9.45707569,
                        "remaining_time": 6.331030637
                      },
                      {
                        "learn": [
                          0.386197424
                        ],
                        "iteration": 599,
                        "passed_time": 9.471557862,
                        "remaining_time": 6.314371908
                      },
                      {
                        "learn": [
                          0.3861721167
                        ],
                        "iteration": 600,
                        "passed_time": 9.485998478,
                        "remaining_time": 6.297692833
                      },
                      {
                        "learn": [
                          0.3860557662
                        ],
                        "iteration": 601,
                        "passed_time": 9.501406269,
                        "remaining_time": 6.281660623
                      },
                      {
                        "learn": [
                          0.3859992796
                        ],
                        "iteration": 602,
                        "passed_time": 9.519175283,
                        "remaining_time": 6.267185053
                      },
                      {
                        "learn": [
                          0.3859483405
                        ],
                        "iteration": 603,
                        "passed_time": 9.5364262,
                        "remaining_time": 6.252358899
                      },
                      {
                        "learn": [
                          0.3859213633
                        ],
                        "iteration": 604,
                        "passed_time": 9.549556024,
                        "remaining_time": 6.234834099
                      },
                      {
                        "learn": [
                          0.3858534211
                        ],
                        "iteration": 605,
                        "passed_time": 9.562416673,
                        "remaining_time": 6.217148794
                      },
                      {
                        "learn": [
                          0.385838095
                        ],
                        "iteration": 606,
                        "passed_time": 9.575030582,
                        "remaining_time": 6.199319635
                      },
                      {
                        "learn": [
                          0.3857399162
                        ],
                        "iteration": 607,
                        "passed_time": 9.591490711,
                        "remaining_time": 6.183987432
                      },
                      {
                        "learn": [
                          0.3856540281
                        ],
                        "iteration": 608,
                        "passed_time": 9.608889553,
                        "remaining_time": 6.169254212
                      },
                      {
                        "learn": [
                          0.3856217778
                        ],
                        "iteration": 609,
                        "passed_time": 9.621808004,
                        "remaining_time": 6.15164774
                      },
                      {
                        "learn": [
                          0.3856032579
                        ],
                        "iteration": 610,
                        "passed_time": 9.633926021,
                        "remaining_time": 6.133547008
                      },
                      {
                        "learn": [
                          0.3854367762
                        ],
                        "iteration": 611,
                        "passed_time": 9.648088343,
                        "remaining_time": 6.116761891
                      },
                      {
                        "learn": [
                          0.3854271702
                        ],
                        "iteration": 612,
                        "passed_time": 9.661309481,
                        "remaining_time": 6.09939114
                      },
                      {
                        "learn": [
                          0.3853776738
                        ],
                        "iteration": 613,
                        "passed_time": 9.675537872,
                        "remaining_time": 6.082667131
                      },
                      {
                        "learn": [
                          0.3852467337
                        ],
                        "iteration": 614,
                        "passed_time": 9.68994223,
                        "remaining_time": 6.066061396
                      },
                      {
                        "learn": [
                          0.3851775937
                        ],
                        "iteration": 615,
                        "passed_time": 9.703751837,
                        "remaining_time": 6.049092054
                      },
                      {
                        "learn": [
                          0.3850698435
                        ],
                        "iteration": 616,
                        "passed_time": 9.718221151,
                        "remaining_time": 6.032542465
                      },
                      {
                        "learn": [
                          0.3850656944
                        ],
                        "iteration": 617,
                        "passed_time": 9.73126673,
                        "remaining_time": 6.015119565
                      },
                      {
                        "learn": [
                          0.3849332464
                        ],
                        "iteration": 618,
                        "passed_time": 9.746699535,
                        "remaining_time": 5.999180166
                      },
                      {
                        "learn": [
                          0.3848563711
                        ],
                        "iteration": 619,
                        "passed_time": 9.760750719,
                        "remaining_time": 5.982395602
                      },
                      {
                        "learn": [
                          0.3848263404
                        ],
                        "iteration": 620,
                        "passed_time": 9.774073046,
                        "remaining_time": 5.965175015
                      },
                      {
                        "learn": [
                          0.3847542951
                        ],
                        "iteration": 621,
                        "passed_time": 9.788095462,
                        "remaining_time": 5.948392419
                      },
                      {
                        "learn": [
                          0.3847153325
                        ],
                        "iteration": 622,
                        "passed_time": 9.811350288,
                        "remaining_time": 5.937205551
                      },
                      {
                        "learn": [
                          0.3846650491
                        ],
                        "iteration": 623,
                        "passed_time": 9.862275886,
                        "remaining_time": 5.942653419
                      },
                      {
                        "learn": [
                          0.3846214054
                        ],
                        "iteration": 624,
                        "passed_time": 9.874714687,
                        "remaining_time": 5.924828812
                      },
                      {
                        "learn": [
                          0.3845403663
                        ],
                        "iteration": 625,
                        "passed_time": 9.887693995,
                        "remaining_time": 5.907344336
                      },
                      {
                        "learn": [
                          0.3844794084
                        ],
                        "iteration": 626,
                        "passed_time": 9.901349572,
                        "remaining_time": 5.890276539
                      },
                      {
                        "learn": [
                          0.384434822
                        ],
                        "iteration": 627,
                        "passed_time": 9.914169102,
                        "remaining_time": 5.872724372
                      },
                      {
                        "learn": [
                          0.3843896604
                        ],
                        "iteration": 628,
                        "passed_time": 9.928749438,
                        "remaining_time": 5.856225821
                      },
                      {
                        "learn": [
                          0.384342022
                        ],
                        "iteration": 629,
                        "passed_time": 9.942891219,
                        "remaining_time": 5.839475796
                      },
                      {
                        "learn": [
                          0.3842593831
                        ],
                        "iteration": 630,
                        "passed_time": 9.965032022,
                        "remaining_time": 5.827411753
                      },
                      {
                        "learn": [
                          0.3841674611
                        ],
                        "iteration": 631,
                        "passed_time": 9.981088578,
                        "remaining_time": 5.811773096
                      },
                      {
                        "learn": [
                          0.3841261717
                        ],
                        "iteration": 632,
                        "passed_time": 9.994768869,
                        "remaining_time": 5.794755411
                      },
                      {
                        "learn": [
                          0.3840434164
                        ],
                        "iteration": 633,
                        "passed_time": 10.00954113,
                        "remaining_time": 5.778378634
                      },
                      {
                        "learn": [
                          0.3839472172
                        ],
                        "iteration": 634,
                        "passed_time": 10.02799011,
                        "remaining_time": 5.764120298
                      },
                      {
                        "learn": [
                          0.3839255787
                        ],
                        "iteration": 635,
                        "passed_time": 10.04063844,
                        "remaining_time": 5.746528916
                      },
                      {
                        "learn": [
                          0.3838691315
                        ],
                        "iteration": 636,
                        "passed_time": 10.05241899,
                        "remaining_time": 5.728458544
                      },
                      {
                        "learn": [
                          0.3837141101
                        ],
                        "iteration": 637,
                        "passed_time": 10.06645588,
                        "remaining_time": 5.71168813
                      },
                      {
                        "learn": [
                          0.3835822258
                        ],
                        "iteration": 638,
                        "passed_time": 10.08252402,
                        "remaining_time": 5.696073818
                      },
                      {
                        "learn": [
                          0.3834919615
                        ],
                        "iteration": 639,
                        "passed_time": 10.09845089,
                        "remaining_time": 5.680378627
                      },
                      {
                        "learn": [
                          0.383397827
                        ],
                        "iteration": 640,
                        "passed_time": 10.11243079,
                        "remaining_time": 5.663592284
                      },
                      {
                        "learn": [
                          0.3833041137
                        ],
                        "iteration": 641,
                        "passed_time": 10.12799485,
                        "remaining_time": 5.647698063
                      },
                      {
                        "learn": [
                          0.3832575451
                        ],
                        "iteration": 642,
                        "passed_time": 10.14919457,
                        "remaining_time": 5.634933843
                      },
                      {
                        "learn": [
                          0.3831503635
                        ],
                        "iteration": 643,
                        "passed_time": 10.16440079,
                        "remaining_time": 5.61883025
                      },
                      {
                        "learn": [
                          0.383136613
                        ],
                        "iteration": 644,
                        "passed_time": 10.17770648,
                        "remaining_time": 5.601683411
                      },
                      {
                        "learn": [
                          0.3830945459
                        ],
                        "iteration": 645,
                        "passed_time": 10.1914659,
                        "remaining_time": 5.584797104
                      },
                      {
                        "learn": [
                          0.3830293537
                        ],
                        "iteration": 646,
                        "passed_time": 10.21111256,
                        "remaining_time": 5.571132509
                      },
                      {
                        "learn": [
                          0.3829836777
                        ],
                        "iteration": 647,
                        "passed_time": 10.23273292,
                        "remaining_time": 5.558521589
                      },
                      {
                        "learn": [
                          0.3829507041
                        ],
                        "iteration": 648,
                        "passed_time": 10.24842661,
                        "remaining_time": 5.542677565
                      },
                      {
                        "learn": [
                          0.3828754994
                        ],
                        "iteration": 649,
                        "passed_time": 10.26445565,
                        "remaining_time": 5.527014579
                      },
                      {
                        "learn": [
                          0.3828651588
                        ],
                        "iteration": 650,
                        "passed_time": 10.27744057,
                        "remaining_time": 5.509718523
                      },
                      {
                        "learn": [
                          0.382810507
                        ],
                        "iteration": 651,
                        "passed_time": 10.29303789,
                        "remaining_time": 5.49383004
                      },
                      {
                        "learn": [
                          0.3827471722
                        ],
                        "iteration": 652,
                        "passed_time": 10.3101078,
                        "remaining_time": 5.478724969
                      },
                      {
                        "learn": [
                          0.382740145
                        ],
                        "iteration": 653,
                        "passed_time": 10.32408293,
                        "remaining_time": 5.461976595
                      },
                      {
                        "learn": [
                          0.3826735627
                        ],
                        "iteration": 654,
                        "passed_time": 10.33837558,
                        "remaining_time": 5.44540393
                      },
                      {
                        "learn": [
                          0.3825663711
                        ],
                        "iteration": 655,
                        "passed_time": 10.35230498,
                        "remaining_time": 5.428647732
                      },
                      {
                        "learn": [
                          0.3825171878
                        ],
                        "iteration": 656,
                        "passed_time": 10.36401846,
                        "remaining_time": 5.410743277
                      },
                      {
                        "learn": [
                          0.3824712626
                        ],
                        "iteration": 657,
                        "passed_time": 10.37755265,
                        "remaining_time": 5.393803961
                      },
                      {
                        "learn": [
                          0.3824418352
                        ],
                        "iteration": 658,
                        "passed_time": 10.39217608,
                        "remaining_time": 5.377438608
                      },
                      {
                        "learn": [
                          0.382303366
                        ],
                        "iteration": 659,
                        "passed_time": 10.40606912,
                        "remaining_time": 5.360702274
                      },
                      {
                        "learn": [
                          0.3822376722
                        ],
                        "iteration": 660,
                        "passed_time": 10.42741633,
                        "remaining_time": 5.347797482
                      },
                      {
                        "learn": [
                          0.3822091614
                        ],
                        "iteration": 661,
                        "passed_time": 10.4451299,
                        "remaining_time": 5.333011942
                      },
                      {
                        "learn": [
                          0.3821959798
                        ],
                        "iteration": 662,
                        "passed_time": 10.46453253,
                        "remaining_time": 5.319076112
                      },
                      {
                        "learn": [
                          0.3821489547
                        ],
                        "iteration": 663,
                        "passed_time": 10.47981631,
                        "remaining_time": 5.30303958
                      },
                      {
                        "learn": [
                          0.3821231408
                        ],
                        "iteration": 664,
                        "passed_time": 10.49609034,
                        "remaining_time": 5.287504155
                      },
                      {
                        "learn": [
                          0.3821061011
                        ],
                        "iteration": 665,
                        "passed_time": 10.51193654,
                        "remaining_time": 5.271751959
                      },
                      {
                        "learn": [
                          0.3820211273
                        ],
                        "iteration": 666,
                        "passed_time": 10.53195445,
                        "remaining_time": 5.258082206
                      },
                      {
                        "learn": [
                          0.3819203882
                        ],
                        "iteration": 667,
                        "passed_time": 10.54605697,
                        "remaining_time": 5.241453467
                      },
                      {
                        "learn": [
                          0.3818307581
                        ],
                        "iteration": 668,
                        "passed_time": 10.56149849,
                        "remaining_time": 5.225494767
                      },
                      {
                        "learn": [
                          0.3817591366
                        ],
                        "iteration": 669,
                        "passed_time": 10.57730177,
                        "remaining_time": 5.209715797
                      },
                      {
                        "learn": [
                          0.3816200406
                        ],
                        "iteration": 670,
                        "passed_time": 10.59264331,
                        "remaining_time": 5.193710357
                      },
                      {
                        "learn": [
                          0.3815557143
                        ],
                        "iteration": 671,
                        "passed_time": 10.60673335,
                        "remaining_time": 5.177096038
                      },
                      {
                        "learn": [
                          0.3815280106
                        ],
                        "iteration": 672,
                        "passed_time": 10.62215916,
                        "remaining_time": 5.161138257
                      },
                      {
                        "learn": [
                          0.3814269802
                        ],
                        "iteration": 673,
                        "passed_time": 10.63638412,
                        "remaining_time": 5.14460122
                      },
                      {
                        "learn": [
                          0.381374743
                        ],
                        "iteration": 674,
                        "passed_time": 10.65720312,
                        "remaining_time": 5.131245945
                      },
                      {
                        "learn": [
                          0.3812842548
                        ],
                        "iteration": 675,
                        "passed_time": 10.67408495,
                        "remaining_time": 5.115981546
                      },
                      {
                        "learn": [
                          0.3812540908
                        ],
                        "iteration": 676,
                        "passed_time": 10.68707957,
                        "remaining_time": 5.098857757
                      },
                      {
                        "learn": [
                          0.3812150225
                        ],
                        "iteration": 677,
                        "passed_time": 10.70289037,
                        "remaining_time": 5.083083625
                      },
                      {
                        "learn": [
                          0.3811563509
                        ],
                        "iteration": 678,
                        "passed_time": 10.71896969,
                        "remaining_time": 5.067436335
                      },
                      {
                        "learn": [
                          0.3811288529
                        ],
                        "iteration": 679,
                        "passed_time": 10.73378858,
                        "remaining_time": 5.051194627
                      },
                      {
                        "learn": [
                          0.38104849
                        ],
                        "iteration": 680,
                        "passed_time": 10.75146263,
                        "remaining_time": 5.036294535
                      },
                      {
                        "learn": [
                          0.3810045111
                        ],
                        "iteration": 681,
                        "passed_time": 10.76743503,
                        "remaining_time": 5.020592875
                      },
                      {
                        "learn": [
                          0.3809693451
                        ],
                        "iteration": 682,
                        "passed_time": 10.78717445,
                        "remaining_time": 5.006638802
                      },
                      {
                        "learn": [
                          0.3809522281
                        ],
                        "iteration": 683,
                        "passed_time": 10.80264068,
                        "remaining_time": 4.990693647
                      },
                      {
                        "learn": [
                          0.3808634963
                        ],
                        "iteration": 684,
                        "passed_time": 10.86274251,
                        "remaining_time": 4.995275751
                      },
                      {
                        "learn": [
                          0.38081934
                        ],
                        "iteration": 685,
                        "passed_time": 10.8845868,
                        "remaining_time": 4.982157808
                      },
                      {
                        "learn": [
                          0.3807958354
                        ],
                        "iteration": 686,
                        "passed_time": 10.89905914,
                        "remaining_time": 4.965655765
                      },
                      {
                        "learn": [
                          0.3807674784
                        ],
                        "iteration": 687,
                        "passed_time": 10.91131007,
                        "remaining_time": 4.948152243
                      },
                      {
                        "learn": [
                          0.3806903201
                        ],
                        "iteration": 688,
                        "passed_time": 10.93076777,
                        "remaining_time": 4.933916949
                      },
                      {
                        "learn": [
                          0.380609729
                        ],
                        "iteration": 689,
                        "passed_time": 10.95079872,
                        "remaining_time": 4.919924064
                      },
                      {
                        "learn": [
                          0.3804972494
                        ],
                        "iteration": 690,
                        "passed_time": 10.96655068,
                        "remaining_time": 4.90400023
                      },
                      {
                        "learn": [
                          0.3804432934
                        ],
                        "iteration": 691,
                        "passed_time": 10.98286732,
                        "remaining_time": 4.888328229
                      },
                      {
                        "learn": [
                          0.3804124647
                        ],
                        "iteration": 692,
                        "passed_time": 10.99679905,
                        "remaining_time": 4.87159785
                      },
                      {
                        "learn": [
                          0.3803285014
                        ],
                        "iteration": 693,
                        "passed_time": 11.01304007,
                        "remaining_time": 4.855893747
                      },
                      {
                        "learn": [
                          0.3802899052
                        ],
                        "iteration": 694,
                        "passed_time": 11.02830004,
                        "remaining_time": 4.839757573
                      },
                      {
                        "learn": [
                          0.3802593189
                        ],
                        "iteration": 695,
                        "passed_time": 11.04371888,
                        "remaining_time": 4.823693306
                      },
                      {
                        "learn": [
                          0.3802066894
                        ],
                        "iteration": 696,
                        "passed_time": 11.0616205,
                        "remaining_time": 4.808710205
                      },
                      {
                        "learn": [
                          0.3800568265
                        ],
                        "iteration": 697,
                        "passed_time": 11.09272707,
                        "remaining_time": 4.799432055
                      },
                      {
                        "learn": [
                          0.37991586
                        ],
                        "iteration": 698,
                        "passed_time": 11.10717175,
                        "remaining_time": 4.782916592
                      },
                      {
                        "learn": [
                          0.379815943
                        ],
                        "iteration": 699,
                        "passed_time": 11.12312,
                        "remaining_time": 4.767051429
                      },
                      {
                        "learn": [
                          0.3797947059
                        ],
                        "iteration": 700,
                        "passed_time": 11.13788432,
                        "remaining_time": 4.750681046
                      },
                      {
                        "learn": [
                          0.3797330557
                        ],
                        "iteration": 701,
                        "passed_time": 11.15350527,
                        "remaining_time": 4.734678876
                      },
                      {
                        "learn": [
                          0.3796906472
                        ],
                        "iteration": 702,
                        "passed_time": 11.16910097,
                        "remaining_time": 4.718667124
                      },
                      {
                        "learn": [
                          0.3796701019
                        ],
                        "iteration": 703,
                        "passed_time": 11.18480838,
                        "remaining_time": 4.702703524
                      },
                      {
                        "learn": [
                          0.3796278543
                        ],
                        "iteration": 704,
                        "passed_time": 11.20277197,
                        "remaining_time": 4.687684724
                      },
                      {
                        "learn": [
                          0.3795395229
                        ],
                        "iteration": 705,
                        "passed_time": 11.21950034,
                        "remaining_time": 4.672143202
                      },
                      {
                        "learn": [
                          0.3795253303
                        ],
                        "iteration": 706,
                        "passed_time": 11.23358057,
                        "remaining_time": 4.655500857
                      },
                      {
                        "learn": [
                          0.3794601335
                        ],
                        "iteration": 707,
                        "passed_time": 11.25057433,
                        "remaining_time": 4.640067378
                      },
                      {
                        "learn": [
                          0.3794194735
                        ],
                        "iteration": 708,
                        "passed_time": 11.2724166,
                        "remaining_time": 4.626619505
                      },
                      {
                        "learn": [
                          0.3793543774
                        ],
                        "iteration": 709,
                        "passed_time": 11.28910336,
                        "remaining_time": 4.611042218
                      },
                      {
                        "learn": [
                          0.3792949162
                        ],
                        "iteration": 710,
                        "passed_time": 11.30626367,
                        "remaining_time": 4.595654292
                      },
                      {
                        "learn": [
                          0.3792189894
                        ],
                        "iteration": 711,
                        "passed_time": 11.32179835,
                        "remaining_time": 4.579603828
                      },
                      {
                        "learn": [
                          0.3790826569
                        ],
                        "iteration": 712,
                        "passed_time": 11.33704821,
                        "remaining_time": 4.563440165
                      },
                      {
                        "learn": [
                          0.3789393433
                        ],
                        "iteration": 713,
                        "passed_time": 11.35247413,
                        "remaining_time": 4.54734958
                      },
                      {
                        "learn": [
                          0.3788985232
                        ],
                        "iteration": 714,
                        "passed_time": 11.37009182,
                        "remaining_time": 4.532134503
                      },
                      {
                        "learn": [
                          0.378875574
                        ],
                        "iteration": 715,
                        "passed_time": 11.38417742,
                        "remaining_time": 4.515511716
                      },
                      {
                        "learn": [
                          0.3787926015
                        ],
                        "iteration": 716,
                        "passed_time": 11.40911565,
                        "remaining_time": 4.503179537
                      },
                      {
                        "learn": [
                          0.3787711097
                        ],
                        "iteration": 717,
                        "passed_time": 11.42198882,
                        "remaining_time": 4.486073603
                      },
                      {
                        "learn": [
                          0.3786701318
                        ],
                        "iteration": 718,
                        "passed_time": 11.44686425,
                        "remaining_time": 4.473670172
                      },
                      {
                        "learn": [
                          0.3785740885
                        ],
                        "iteration": 719,
                        "passed_time": 11.47571729,
                        "remaining_time": 4.462778946
                      },
                      {
                        "learn": [
                          0.3784875845
                        ],
                        "iteration": 720,
                        "passed_time": 11.49227025,
                        "remaining_time": 4.447078226
                      },
                      {
                        "learn": [
                          0.3783362095
                        ],
                        "iteration": 721,
                        "passed_time": 11.50657379,
                        "remaining_time": 4.43050902
                      },
                      {
                        "learn": [
                          0.3782662919
                        ],
                        "iteration": 722,
                        "passed_time": 11.5190555,
                        "remaining_time": 4.413248096
                      },
                      {
                        "learn": [
                          0.3782408998
                        ],
                        "iteration": 723,
                        "passed_time": 11.53377407,
                        "remaining_time": 4.3968531
                      },
                      {
                        "learn": [
                          0.3781204732
                        ],
                        "iteration": 724,
                        "passed_time": 11.54911795,
                        "remaining_time": 4.380699913
                      },
                      {
                        "learn": [
                          0.37805833
                        ],
                        "iteration": 725,
                        "passed_time": 11.56381067,
                        "remaining_time": 4.364303202
                      },
                      {
                        "learn": [
                          0.3780461469
                        ],
                        "iteration": 726,
                        "passed_time": 11.57718551,
                        "remaining_time": 4.347416291
                      },
                      {
                        "learn": [
                          0.3779706001
                        ],
                        "iteration": 727,
                        "passed_time": 11.59214028,
                        "remaining_time": 4.331129334
                      },
                      {
                        "learn": [
                          0.3778930591
                        ],
                        "iteration": 728,
                        "passed_time": 11.60677611,
                        "remaining_time": 4.31472747
                      },
                      {
                        "learn": [
                          0.3778677442
                        ],
                        "iteration": 729,
                        "passed_time": 11.62098785,
                        "remaining_time": 4.298173589
                      },
                      {
                        "learn": [
                          0.3777466451
                        ],
                        "iteration": 730,
                        "passed_time": 11.63623299,
                        "remaining_time": 4.282006395
                      },
                      {
                        "learn": [
                          0.377705745
                        ],
                        "iteration": 731,
                        "passed_time": 11.65143713,
                        "remaining_time": 4.26582671
                      },
                      {
                        "learn": [
                          0.3776209536
                        ],
                        "iteration": 732,
                        "passed_time": 11.68088287,
                        "remaining_time": 4.254837281
                      },
                      {
                        "learn": [
                          0.3775596032
                        ],
                        "iteration": 733,
                        "passed_time": 11.69780924,
                        "remaining_time": 4.239260571
                      },
                      {
                        "learn": [
                          0.3774784075
                        ],
                        "iteration": 734,
                        "passed_time": 11.71071013,
                        "remaining_time": 4.222228822
                      },
                      {
                        "learn": [
                          0.3774747024
                        ],
                        "iteration": 735,
                        "passed_time": 11.7243162,
                        "remaining_time": 4.205461244
                      },
                      {
                        "learn": [
                          0.3774265637
                        ],
                        "iteration": 736,
                        "passed_time": 11.74084849,
                        "remaining_time": 4.189746474
                      },
                      {
                        "learn": [
                          0.3773565751
                        ],
                        "iteration": 737,
                        "passed_time": 11.75557887,
                        "remaining_time": 4.17338979
                      },
                      {
                        "learn": [
                          0.377311663
                        ],
                        "iteration": 738,
                        "passed_time": 11.77093014,
                        "remaining_time": 4.157256788
                      },
                      {
                        "learn": [
                          0.3771430491
                        ],
                        "iteration": 739,
                        "passed_time": 11.78598512,
                        "remaining_time": 4.141021797
                      },
                      {
                        "learn": [
                          0.3769600127
                        ],
                        "iteration": 740,
                        "passed_time": 11.82317048,
                        "remaining_time": 4.132525175
                      },
                      {
                        "learn": [
                          0.3768597386
                        ],
                        "iteration": 741,
                        "passed_time": 11.84773171,
                        "remaining_time": 4.119561699
                      },
                      {
                        "learn": [
                          0.3768580188
                        ],
                        "iteration": 742,
                        "passed_time": 11.85988691,
                        "remaining_time": 4.102275821
                      },
                      {
                        "learn": [
                          0.3767891522
                        ],
                        "iteration": 743,
                        "passed_time": 11.87688927,
                        "remaining_time": 4.086671576
                      },
                      {
                        "learn": [
                          0.3767184171
                        ],
                        "iteration": 744,
                        "passed_time": 11.89699249,
                        "remaining_time": 4.072124947
                      },
                      {
                        "learn": [
                          0.3765782942
                        ],
                        "iteration": 745,
                        "passed_time": 11.9158013,
                        "remaining_time": 4.057122694
                      },
                      {
                        "learn": [
                          0.3764567268
                        ],
                        "iteration": 746,
                        "passed_time": 11.9319195,
                        "remaining_time": 4.041198975
                      },
                      {
                        "learn": [
                          0.3763742661
                        ],
                        "iteration": 747,
                        "passed_time": 11.94856833,
                        "remaining_time": 4.025453502
                      },
                      {
                        "learn": [
                          0.3762830077
                        ],
                        "iteration": 748,
                        "passed_time": 11.96217129,
                        "remaining_time": 4.008684905
                      },
                      {
                        "learn": [
                          0.3762029848
                        ],
                        "iteration": 749,
                        "passed_time": 11.97681447,
                        "remaining_time": 3.992271489
                      },
                      {
                        "learn": [
                          0.3761189355
                        ],
                        "iteration": 750,
                        "passed_time": 11.99119494,
                        "remaining_time": 3.975775686
                      },
                      {
                        "learn": [
                          0.3760413662
                        ],
                        "iteration": 751,
                        "passed_time": 12.00716529,
                        "remaining_time": 3.959809831
                      },
                      {
                        "learn": [
                          0.3759920206
                        ],
                        "iteration": 752,
                        "passed_time": 12.03345011,
                        "remaining_time": 3.947227327
                      },
                      {
                        "learn": [
                          0.3759256218
                        ],
                        "iteration": 753,
                        "passed_time": 12.04609792,
                        "remaining_time": 3.930159267
                      },
                      {
                        "learn": [
                          0.3758167477
                        ],
                        "iteration": 754,
                        "passed_time": 12.06007648,
                        "remaining_time": 3.913534751
                      },
                      {
                        "learn": [
                          0.3757242396
                        ],
                        "iteration": 755,
                        "passed_time": 12.07446405,
                        "remaining_time": 3.897049243
                      },
                      {
                        "learn": [
                          0.3756730699
                        ],
                        "iteration": 756,
                        "passed_time": 12.09531157,
                        "remaining_time": 3.882642948
                      },
                      {
                        "learn": [
                          0.3755521336
                        ],
                        "iteration": 757,
                        "passed_time": 12.1092124,
                        "remaining_time": 3.866001848
                      },
                      {
                        "learn": [
                          0.3755462357
                        ],
                        "iteration": 758,
                        "passed_time": 12.12359352,
                        "remaining_time": 3.849520471
                      },
                      {
                        "learn": [
                          0.3754681888
                        ],
                        "iteration": 759,
                        "passed_time": 12.14075268,
                        "remaining_time": 3.833921898
                      },
                      {
                        "learn": [
                          0.3754059645
                        ],
                        "iteration": 760,
                        "passed_time": 12.15673869,
                        "remaining_time": 3.817950785
                      },
                      {
                        "learn": [
                          0.3752531618
                        ],
                        "iteration": 761,
                        "passed_time": 12.17454362,
                        "remaining_time": 3.802547744
                      },
                      {
                        "learn": [
                          0.3752170715
                        ],
                        "iteration": 762,
                        "passed_time": 12.19079702,
                        "remaining_time": 3.786656478
                      },
                      {
                        "learn": [
                          0.3751537191
                        ],
                        "iteration": 763,
                        "passed_time": 12.20610318,
                        "remaining_time": 3.770471664
                      },
                      {
                        "learn": [
                          0.3750841776
                        ],
                        "iteration": 764,
                        "passed_time": 12.22296499,
                        "remaining_time": 3.754767022
                      },
                      {
                        "learn": [
                          0.3750021776
                        ],
                        "iteration": 765,
                        "passed_time": 12.23918904,
                        "remaining_time": 3.738864537
                      },
                      {
                        "learn": [
                          0.374929908
                        ],
                        "iteration": 766,
                        "passed_time": 12.25412116,
                        "remaining_time": 3.722568749
                      },
                      {
                        "learn": [
                          0.3748507364
                        ],
                        "iteration": 767,
                        "passed_time": 12.27003699,
                        "remaining_time": 3.706573675
                      },
                      {
                        "learn": [
                          0.3748183111
                        ],
                        "iteration": 768,
                        "passed_time": 12.28549448,
                        "remaining_time": 3.690441124
                      },
                      {
                        "learn": [
                          0.3747373091
                        ],
                        "iteration": 769,
                        "passed_time": 12.30479899,
                        "remaining_time": 3.675459438
                      },
                      {
                        "learn": [
                          0.3746945125
                        ],
                        "iteration": 770,
                        "passed_time": 12.31923988,
                        "remaining_time": 3.659021961
                      },
                      {
                        "learn": [
                          0.3746772206
                        ],
                        "iteration": 771,
                        "passed_time": 12.33363151,
                        "remaining_time": 3.642575109
                      },
                      {
                        "learn": [
                          0.3745810598
                        ],
                        "iteration": 772,
                        "passed_time": 12.34840411,
                        "remaining_time": 3.626245451
                      },
                      {
                        "learn": [
                          0.374549825
                        ],
                        "iteration": 773,
                        "passed_time": 12.37069343,
                        "remaining_time": 3.612114618
                      },
                      {
                        "learn": [
                          0.3744166641
                        ],
                        "iteration": 774,
                        "passed_time": 12.38734815,
                        "remaining_time": 3.596326881
                      },
                      {
                        "learn": [
                          0.3743599267
                        ],
                        "iteration": 775,
                        "passed_time": 12.4012241,
                        "remaining_time": 3.579734793
                      },
                      {
                        "learn": [
                          0.3743046703
                        ],
                        "iteration": 776,
                        "passed_time": 12.41780679,
                        "remaining_time": 3.56392653
                      },
                      {
                        "learn": [
                          0.3742777229
                        ],
                        "iteration": 777,
                        "passed_time": 12.43363994,
                        "remaining_time": 3.5479024
                      },
                      {
                        "learn": [
                          0.3742541545
                        ],
                        "iteration": 778,
                        "passed_time": 12.45723265,
                        "remaining_time": 3.534080122
                      },
                      {
                        "learn": [
                          0.3742115462
                        ],
                        "iteration": 779,
                        "passed_time": 12.47057616,
                        "remaining_time": 3.517341994
                      },
                      {
                        "learn": [
                          0.3741692434
                        ],
                        "iteration": 780,
                        "passed_time": 12.48797308,
                        "remaining_time": 3.501749175
                      },
                      {
                        "learn": [
                          0.3740928866
                        ],
                        "iteration": 781,
                        "passed_time": 12.50199654,
                        "remaining_time": 3.485211313
                      },
                      {
                        "learn": [
                          0.3740594611
                        ],
                        "iteration": 782,
                        "passed_time": 12.52198273,
                        "remaining_time": 3.470332379
                      },
                      {
                        "learn": [
                          0.3739913302
                        ],
                        "iteration": 783,
                        "passed_time": 12.53751614,
                        "remaining_time": 3.45421363
                      },
                      {
                        "learn": [
                          0.3739148383
                        ],
                        "iteration": 784,
                        "passed_time": 12.55547517,
                        "remaining_time": 3.438760717
                      },
                      {
                        "learn": [
                          0.373843706
                        ],
                        "iteration": 785,
                        "passed_time": 12.57180303,
                        "remaining_time": 3.422857314
                      },
                      {
                        "learn": [
                          0.3738143111
                        ],
                        "iteration": 786,
                        "passed_time": 12.58786881,
                        "remaining_time": 3.406881901
                      },
                      {
                        "learn": [
                          0.373725919
                        ],
                        "iteration": 787,
                        "passed_time": 12.60333934,
                        "remaining_time": 3.390746117
                      },
                      {
                        "learn": [
                          0.3736961529
                        ],
                        "iteration": 788,
                        "passed_time": 12.61674864,
                        "remaining_time": 3.37406079
                      },
                      {
                        "learn": [
                          0.3736425806
                        ],
                        "iteration": 789,
                        "passed_time": 12.62878221,
                        "remaining_time": 3.357018055
                      },
                      {
                        "learn": [
                          0.3735800632
                        ],
                        "iteration": 790,
                        "passed_time": 12.65255819,
                        "remaining_time": 3.343090597
                      },
                      {
                        "learn": [
                          0.3735318606
                        ],
                        "iteration": 791,
                        "passed_time": 12.66931062,
                        "remaining_time": 3.327293699
                      },
                      {
                        "learn": [
                          0.3735041389
                        ],
                        "iteration": 792,
                        "passed_time": 12.68241553,
                        "remaining_time": 3.310542262
                      },
                      {
                        "learn": [
                          0.373468248
                        ],
                        "iteration": 793,
                        "passed_time": 12.69650277,
                        "remaining_time": 3.294054875
                      },
                      {
                        "learn": [
                          0.3733885758
                        ],
                        "iteration": 794,
                        "passed_time": 12.7122903,
                        "remaining_time": 3.278011964
                      },
                      {
                        "learn": [
                          0.3733065208
                        ],
                        "iteration": 795,
                        "passed_time": 12.7373189,
                        "remaining_time": 3.26433801
                      },
                      {
                        "learn": [
                          0.3732430243
                        ],
                        "iteration": 796,
                        "passed_time": 12.75169827,
                        "remaining_time": 3.247923147
                      },
                      {
                        "learn": [
                          0.3731665631
                        ],
                        "iteration": 797,
                        "passed_time": 12.76853545,
                        "remaining_time": 3.232135541
                      },
                      {
                        "learn": [
                          0.3731100594
                        ],
                        "iteration": 798,
                        "passed_time": 12.78292289,
                        "remaining_time": 3.215729038
                      },
                      {
                        "learn": [
                          0.3730692863
                        ],
                        "iteration": 799,
                        "passed_time": 12.81987788,
                        "remaining_time": 3.204969469
                      },
                      {
                        "learn": [
                          0.3729779918
                        ],
                        "iteration": 800,
                        "passed_time": 12.84749809,
                        "remaining_time": 3.191825369
                      },
                      {
                        "learn": [
                          0.3729128294
                        ],
                        "iteration": 801,
                        "passed_time": 12.86751198,
                        "remaining_time": 3.176767297
                      },
                      {
                        "learn": [
                          0.3729063338
                        ],
                        "iteration": 802,
                        "passed_time": 12.88267759,
                        "remaining_time": 3.160507452
                      },
                      {
                        "learn": [
                          0.372860501
                        ],
                        "iteration": 803,
                        "passed_time": 12.90337615,
                        "remaining_time": 3.14559916
                      },
                      {
                        "learn": [
                          0.3727867546
                        ],
                        "iteration": 804,
                        "passed_time": 12.92708775,
                        "remaining_time": 3.131406348
                      },
                      {
                        "learn": [
                          0.3726734966
                        ],
                        "iteration": 805,
                        "passed_time": 12.94784796,
                        "remaining_time": 3.116479535
                      },
                      {
                        "learn": [
                          0.3726550031
                        ],
                        "iteration": 806,
                        "passed_time": 12.96246547,
                        "remaining_time": 3.100069189
                      },
                      {
                        "learn": [
                          0.3726021258
                        ],
                        "iteration": 807,
                        "passed_time": 12.97468649,
                        "remaining_time": 3.083093819
                      },
                      {
                        "learn": [
                          0.3725233393
                        ],
                        "iteration": 808,
                        "passed_time": 12.99147219,
                        "remaining_time": 3.067207897
                      },
                      {
                        "learn": [
                          0.3724488811
                        ],
                        "iteration": 809,
                        "passed_time": 13.00924964,
                        "remaining_time": 3.051552385
                      },
                      {
                        "learn": [
                          0.3724199694
                        ],
                        "iteration": 810,
                        "passed_time": 13.02466301,
                        "remaining_time": 3.035340702
                      },
                      {
                        "learn": [
                          0.3723302165
                        ],
                        "iteration": 811,
                        "passed_time": 13.03832654,
                        "remaining_time": 3.018725849
                      },
                      {
                        "learn": [
                          0.3723050773
                        ],
                        "iteration": 812,
                        "passed_time": 13.05612917,
                        "remaining_time": 3.003070302
                      },
                      {
                        "learn": [
                          0.3722497354
                        ],
                        "iteration": 813,
                        "passed_time": 13.07384871,
                        "remaining_time": 2.987390492
                      },
                      {
                        "learn": [
                          0.3721460006
                        ],
                        "iteration": 814,
                        "passed_time": 13.08873755,
                        "remaining_time": 2.971063125
                      },
                      {
                        "learn": [
                          0.3720670738
                        ],
                        "iteration": 815,
                        "passed_time": 13.10477458,
                        "remaining_time": 2.954998189
                      },
                      {
                        "learn": [
                          0.3719204305
                        ],
                        "iteration": 816,
                        "passed_time": 13.12144173,
                        "remaining_time": 2.939074463
                      },
                      {
                        "learn": [
                          0.3718561544
                        ],
                        "iteration": 817,
                        "passed_time": 13.13940334,
                        "remaining_time": 2.923436929
                      },
                      {
                        "learn": [
                          0.371751403
                        ],
                        "iteration": 818,
                        "passed_time": 13.16091339,
                        "remaining_time": 2.908577929
                      },
                      {
                        "learn": [
                          0.3717137829
                        ],
                        "iteration": 819,
                        "passed_time": 13.17956944,
                        "remaining_time": 2.893076219
                      },
                      {
                        "learn": [
                          0.3716062245
                        ],
                        "iteration": 820,
                        "passed_time": 13.19556403,
                        "remaining_time": 2.876986554
                      },
                      {
                        "learn": [
                          0.3715818847
                        ],
                        "iteration": 821,
                        "passed_time": 13.21240104,
                        "remaining_time": 2.861079544
                      },
                      {
                        "learn": [
                          0.3715429766
                        ],
                        "iteration": 822,
                        "passed_time": 13.22775803,
                        "remaining_time": 2.844851971
                      },
                      {
                        "learn": [
                          0.3714607092
                        ],
                        "iteration": 823,
                        "passed_time": 13.24396077,
                        "remaining_time": 2.828807156
                      },
                      {
                        "learn": [
                          0.371389138
                        ],
                        "iteration": 824,
                        "passed_time": 13.26750418,
                        "remaining_time": 2.814319069
                      },
                      {
                        "learn": [
                          0.3713030318
                        ],
                        "iteration": 825,
                        "passed_time": 13.28236435,
                        "remaining_time": 2.7979799
                      },
                      {
                        "learn": [
                          0.3712007929
                        ],
                        "iteration": 826,
                        "passed_time": 13.29817477,
                        "remaining_time": 2.78184309
                      },
                      {
                        "learn": [
                          0.3711446521
                        ],
                        "iteration": 827,
                        "passed_time": 13.31373476,
                        "remaining_time": 2.765655047
                      },
                      {
                        "learn": [
                          0.3710397704
                        ],
                        "iteration": 828,
                        "passed_time": 13.33018291,
                        "remaining_time": 2.749651721
                      },
                      {
                        "learn": [
                          0.3709898981
                        ],
                        "iteration": 829,
                        "passed_time": 13.34775648,
                        "remaining_time": 2.733877833
                      },
                      {
                        "learn": [
                          0.3708865277
                        ],
                        "iteration": 830,
                        "passed_time": 13.36887783,
                        "remaining_time": 2.718821123
                      },
                      {
                        "learn": [
                          0.3707874594
                        ],
                        "iteration": 831,
                        "passed_time": 13.38528717,
                        "remaining_time": 2.702798371
                      },
                      {
                        "learn": [
                          0.3706679022
                        ],
                        "iteration": 832,
                        "passed_time": 13.40021308,
                        "remaining_time": 2.686477292
                      },
                      {
                        "learn": [
                          0.3706308438
                        ],
                        "iteration": 833,
                        "passed_time": 13.41638965,
                        "remaining_time": 2.670408492
                      },
                      {
                        "learn": [
                          0.370614037
                        ],
                        "iteration": 834,
                        "passed_time": 13.44311885,
                        "remaining_time": 2.656424682
                      },
                      {
                        "learn": [
                          0.3705088201
                        ],
                        "iteration": 835,
                        "passed_time": 13.46070316,
                        "remaining_time": 2.64061641
                      },
                      {
                        "learn": [
                          0.3704776995
                        ],
                        "iteration": 836,
                        "passed_time": 13.47458036,
                        "remaining_time": 2.624081957
                      },
                      {
                        "learn": [
                          0.3704060226
                        ],
                        "iteration": 837,
                        "passed_time": 13.49079387,
                        "remaining_time": 2.608005497
                      },
                      {
                        "learn": [
                          0.3703361675
                        ],
                        "iteration": 838,
                        "passed_time": 13.50898471,
                        "remaining_time": 2.59230815
                      },
                      {
                        "learn": [
                          0.3702773638
                        ],
                        "iteration": 839,
                        "passed_time": 13.52467667,
                        "remaining_time": 2.57612889
                      },
                      {
                        "learn": [
                          0.3702654875
                        ],
                        "iteration": 840,
                        "passed_time": 13.5457066,
                        "remaining_time": 2.560959987
                      },
                      {
                        "learn": [
                          0.3702112352
                        ],
                        "iteration": 841,
                        "passed_time": 13.56868314,
                        "remaining_time": 2.546142442
                      },
                      {
                        "learn": [
                          0.3701584892
                        ],
                        "iteration": 842,
                        "passed_time": 13.58632786,
                        "remaining_time": 2.530312544
                      },
                      {
                        "learn": [
                          0.3701414372
                        ],
                        "iteration": 843,
                        "passed_time": 13.60115394,
                        "remaining_time": 2.513957363
                      },
                      {
                        "learn": [
                          0.370101022
                        ],
                        "iteration": 844,
                        "passed_time": 13.61757365,
                        "remaining_time": 2.497898125
                      },
                      {
                        "learn": [
                          0.3700811775
                        ],
                        "iteration": 845,
                        "passed_time": 13.63279006,
                        "remaining_time": 2.481618994
                      },
                      {
                        "learn": [
                          0.3700197233
                        ],
                        "iteration": 846,
                        "passed_time": 13.64986493,
                        "remaining_time": 2.465678081
                      },
                      {
                        "learn": [
                          0.3699664485
                        ],
                        "iteration": 847,
                        "passed_time": 13.66488471,
                        "remaining_time": 2.449366127
                      },
                      {
                        "learn": [
                          0.3698165455
                        ],
                        "iteration": 848,
                        "passed_time": 13.67920899,
                        "remaining_time": 2.432933519
                      },
                      {
                        "learn": [
                          0.369716034
                        ],
                        "iteration": 849,
                        "passed_time": 13.69602941,
                        "remaining_time": 2.416946366
                      },
                      {
                        "learn": [
                          0.3696780258
                        ],
                        "iteration": 850,
                        "passed_time": 13.71220784,
                        "remaining_time": 2.400844851
                      },
                      {
                        "learn": [
                          0.3696361873
                        ],
                        "iteration": 851,
                        "passed_time": 13.72894272,
                        "remaining_time": 2.384839816
                      },
                      {
                        "learn": [
                          0.3695329364
                        ],
                        "iteration": 852,
                        "passed_time": 13.74453788,
                        "remaining_time": 2.368636657
                      },
                      {
                        "learn": [
                          0.36945055
                        ],
                        "iteration": 853,
                        "passed_time": 13.75923643,
                        "remaining_time": 2.352281637
                      },
                      {
                        "learn": [
                          0.3694231033
                        ],
                        "iteration": 854,
                        "passed_time": 13.78294157,
                        "remaining_time": 2.337457927
                      },
                      {
                        "learn": [
                          0.3693577206
                        ],
                        "iteration": 855,
                        "passed_time": 13.83487402,
                        "remaining_time": 2.327361985
                      },
                      {
                        "learn": [
                          0.3693318479
                        ],
                        "iteration": 856,
                        "passed_time": 13.86569229,
                        "remaining_time": 2.313645272
                      },
                      {
                        "learn": [
                          0.3692916711
                        ],
                        "iteration": 857,
                        "passed_time": 13.88157565,
                        "remaining_time": 2.297416949
                      },
                      {
                        "learn": [
                          0.3692389904
                        ],
                        "iteration": 858,
                        "passed_time": 13.90161373,
                        "remaining_time": 2.281871404
                      },
                      {
                        "learn": [
                          0.3691186798
                        ],
                        "iteration": 859,
                        "passed_time": 13.91581197,
                        "remaining_time": 2.265364739
                      },
                      {
                        "learn": [
                          0.3690086674
                        ],
                        "iteration": 860,
                        "passed_time": 13.93162702,
                        "remaining_time": 2.249124455
                      },
                      {
                        "learn": [
                          0.3689670715
                        ],
                        "iteration": 861,
                        "passed_time": 13.94627576,
                        "remaining_time": 2.232698439
                      },
                      {
                        "learn": [
                          0.3688813251
                        ],
                        "iteration": 862,
                        "passed_time": 13.96191797,
                        "remaining_time": 2.216434255
                      },
                      {
                        "learn": [
                          0.3688321694
                        ],
                        "iteration": 863,
                        "passed_time": 13.97642759,
                        "remaining_time": 2.199993231
                      },
                      {
                        "learn": [
                          0.3687272332
                        ],
                        "iteration": 864,
                        "passed_time": 13.9990739,
                        "remaining_time": 2.184826563
                      },
                      {
                        "learn": [
                          0.3686655918
                        ],
                        "iteration": 865,
                        "passed_time": 14.01477052,
                        "remaining_time": 2.168567263
                      },
                      {
                        "learn": [
                          0.368602577
                        ],
                        "iteration": 866,
                        "passed_time": 14.0292753,
                        "remaining_time": 2.152126431
                      },
                      {
                        "learn": [
                          0.3685116943
                        ],
                        "iteration": 867,
                        "passed_time": 14.0454539,
                        "remaining_time": 2.135944603
                      },
                      {
                        "learn": [
                          0.3683693775
                        ],
                        "iteration": 868,
                        "passed_time": 14.0603455,
                        "remaining_time": 2.119568769
                      },
                      {
                        "learn": [
                          0.3683104809
                        ],
                        "iteration": 869,
                        "passed_time": 14.07979069,
                        "remaining_time": 2.10387677
                      },
                      {
                        "learn": [
                          0.3682822101
                        ],
                        "iteration": 870,
                        "passed_time": 14.1009004,
                        "remaining_time": 2.088422678
                      },
                      {
                        "learn": [
                          0.3682200953
                        ],
                        "iteration": 871,
                        "passed_time": 14.11757593,
                        "remaining_time": 2.072304724
                      },
                      {
                        "learn": [
                          0.3682047585
                        ],
                        "iteration": 872,
                        "passed_time": 14.13232874,
                        "remaining_time": 2.055905785
                      },
                      {
                        "learn": [
                          0.3681372619
                        ],
                        "iteration": 873,
                        "passed_time": 14.14763252,
                        "remaining_time": 2.039590043
                      },
                      {
                        "learn": [
                          0.3680964614
                        ],
                        "iteration": 874,
                        "passed_time": 14.16273017,
                        "remaining_time": 2.023247167
                      },
                      {
                        "learn": [
                          0.3680250917
                        ],
                        "iteration": 875,
                        "passed_time": 14.17812952,
                        "remaining_time": 2.00694984
                      },
                      {
                        "learn": [
                          0.3679350257
                        ],
                        "iteration": 876,
                        "passed_time": 14.19446003,
                        "remaining_time": 1.990785158
                      },
                      {
                        "learn": [
                          0.3678789658
                        ],
                        "iteration": 877,
                        "passed_time": 14.2120222,
                        "remaining_time": 1.974791239
                      },
                      {
                        "learn": [
                          0.3678005273
                        ],
                        "iteration": 878,
                        "passed_time": 14.22681897,
                        "remaining_time": 1.958413078
                      },
                      {
                        "learn": [
                          0.3677115649
                        ],
                        "iteration": 879,
                        "passed_time": 14.24199498,
                        "remaining_time": 1.942090225
                      },
                      {
                        "learn": [
                          0.3676797133
                        ],
                        "iteration": 880,
                        "passed_time": 14.25647143,
                        "remaining_time": 1.925675482
                      },
                      {
                        "learn": [
                          0.3675772115
                        ],
                        "iteration": 881,
                        "passed_time": 14.27216834,
                        "remaining_time": 1.909428418
                      },
                      {
                        "learn": [
                          0.3675406561
                        ],
                        "iteration": 882,
                        "passed_time": 14.28715257,
                        "remaining_time": 1.893088167
                      },
                      {
                        "learn": [
                          0.3675127268
                        ],
                        "iteration": 883,
                        "passed_time": 14.3010077,
                        "remaining_time": 1.876602821
                      },
                      {
                        "learn": [
                          0.3674709903
                        ],
                        "iteration": 884,
                        "passed_time": 14.31602683,
                        "remaining_time": 1.860274672
                      },
                      {
                        "learn": [
                          0.3674421326
                        ],
                        "iteration": 885,
                        "passed_time": 14.33161009,
                        "remaining_time": 1.844022066
                      },
                      {
                        "learn": [
                          0.3673473613
                        ],
                        "iteration": 886,
                        "passed_time": 14.34544121,
                        "remaining_time": 1.827547753
                      },
                      {
                        "learn": [
                          0.3672219282
                        ],
                        "iteration": 887,
                        "passed_time": 14.36009176,
                        "remaining_time": 1.811182744
                      },
                      {
                        "learn": [
                          0.3671763388
                        ],
                        "iteration": 888,
                        "passed_time": 14.3739423,
                        "remaining_time": 1.794721704
                      },
                      {
                        "learn": [
                          0.3671485424
                        ],
                        "iteration": 889,
                        "passed_time": 14.38987598,
                        "remaining_time": 1.778523997
                      },
                      {
                        "learn": [
                          0.3671207891
                        ],
                        "iteration": 890,
                        "passed_time": 14.41007609,
                        "remaining_time": 1.762848814
                      },
                      {
                        "learn": [
                          0.3670814517
                        ],
                        "iteration": 891,
                        "passed_time": 14.44706687,
                        "remaining_time": 1.749196437
                      },
                      {
                        "learn": [
                          0.3670622365
                        ],
                        "iteration": 892,
                        "passed_time": 14.46127228,
                        "remaining_time": 1.732761628
                      },
                      {
                        "learn": [
                          0.3669889982
                        ],
                        "iteration": 893,
                        "passed_time": 14.4769389,
                        "remaining_time": 1.71650506
                      },
                      {
                        "learn": [
                          0.3669152892
                        ],
                        "iteration": 894,
                        "passed_time": 14.49267938,
                        "remaining_time": 1.700258474
                      },
                      {
                        "learn": [
                          0.366834001
                        ],
                        "iteration": 895,
                        "passed_time": 14.50697142,
                        "remaining_time": 1.683844897
                      },
                      {
                        "learn": [
                          0.3668217468
                        ],
                        "iteration": 896,
                        "passed_time": 14.5217019,
                        "remaining_time": 1.667486395
                      },
                      {
                        "learn": [
                          0.366792228
                        ],
                        "iteration": 897,
                        "passed_time": 14.53580171,
                        "remaining_time": 1.651059882
                      },
                      {
                        "learn": [
                          0.3667628292
                        ],
                        "iteration": 898,
                        "passed_time": 14.55109817,
                        "remaining_time": 1.634772987
                      },
                      {
                        "learn": [
                          0.3666763442
                        ],
                        "iteration": 899,
                        "passed_time": 14.56837224,
                        "remaining_time": 1.618708026
                      },
                      {
                        "learn": [
                          0.3666598624
                        ],
                        "iteration": 900,
                        "passed_time": 14.58125294,
                        "remaining_time": 1.602157648
                      },
                      {
                        "learn": [
                          0.3665937466
                        ],
                        "iteration": 901,
                        "passed_time": 14.59824396,
                        "remaining_time": 1.586061983
                      },
                      {
                        "learn": [
                          0.3665351256
                        ],
                        "iteration": 902,
                        "passed_time": 14.61889637,
                        "remaining_time": 1.570357639
                      },
                      {
                        "learn": [
                          0.3665101906
                        ],
                        "iteration": 903,
                        "passed_time": 14.63408518,
                        "remaining_time": 1.554062142
                      },
                      {
                        "learn": [
                          0.3664186438
                        ],
                        "iteration": 904,
                        "passed_time": 14.64997379,
                        "remaining_time": 1.537842553
                      },
                      {
                        "learn": [
                          0.3663191035
                        ],
                        "iteration": 905,
                        "passed_time": 14.66809742,
                        "remaining_time": 1.521855582
                      },
                      {
                        "learn": [
                          0.3662519826
                        ],
                        "iteration": 906,
                        "passed_time": 14.68525814,
                        "remaining_time": 1.505765167
                      },
                      {
                        "learn": [
                          0.3662173195
                        ],
                        "iteration": 907,
                        "passed_time": 14.69928897,
                        "remaining_time": 1.489355271
                      },
                      {
                        "learn": [
                          0.3661039574
                        ],
                        "iteration": 908,
                        "passed_time": 14.7179413,
                        "remaining_time": 1.473413266
                      },
                      {
                        "learn": [
                          0.3660775147
                        ],
                        "iteration": 909,
                        "passed_time": 14.73379943,
                        "remaining_time": 1.457188955
                      },
                      {
                        "learn": [
                          0.3660183272
                        ],
                        "iteration": 910,
                        "passed_time": 14.75053548,
                        "remaining_time": 1.441051216
                      },
                      {
                        "learn": [
                          0.3660094858
                        ],
                        "iteration": 911,
                        "passed_time": 14.76464152,
                        "remaining_time": 1.424658392
                      },
                      {
                        "learn": [
                          0.3659897947
                        ],
                        "iteration": 912,
                        "passed_time": 14.79133188,
                        "remaining_time": 1.409469741
                      },
                      {
                        "learn": [
                          0.3659624352
                        ],
                        "iteration": 913,
                        "passed_time": 14.85088593,
                        "remaining_time": 1.397348129
                      },
                      {
                        "learn": [
                          0.3658481839
                        ],
                        "iteration": 914,
                        "passed_time": 14.8843992,
                        "remaining_time": 1.382703751
                      },
                      {
                        "learn": [
                          0.3657736142
                        ],
                        "iteration": 915,
                        "passed_time": 14.90010172,
                        "remaining_time": 1.366384874
                      },
                      {
                        "learn": [
                          0.3657054694
                        ],
                        "iteration": 916,
                        "passed_time": 14.91548484,
                        "remaining_time": 1.350038431
                      },
                      {
                        "learn": [
                          0.3656143536
                        ],
                        "iteration": 917,
                        "passed_time": 14.93124417,
                        "remaining_time": 1.333727693
                      },
                      {
                        "learn": [
                          0.3655235046
                        ],
                        "iteration": 918,
                        "passed_time": 14.94751464,
                        "remaining_time": 1.317463206
                      },
                      {
                        "learn": [
                          0.3654417179
                        ],
                        "iteration": 919,
                        "passed_time": 14.96575628,
                        "remaining_time": 1.301370111
                      },
                      {
                        "learn": [
                          0.3653824202
                        ],
                        "iteration": 920,
                        "passed_time": 14.98331477,
                        "remaining_time": 1.285213753
                      },
                      {
                        "learn": [
                          0.3653126059
                        ],
                        "iteration": 921,
                        "passed_time": 14.99930858,
                        "remaining_time": 1.268921984
                      },
                      {
                        "learn": [
                          0.3652753763
                        ],
                        "iteration": 922,
                        "passed_time": 15.01617485,
                        "remaining_time": 1.252703644
                      },
                      {
                        "learn": [
                          0.3652598681
                        ],
                        "iteration": 923,
                        "passed_time": 15.03337989,
                        "remaining_time": 1.236511766
                      },
                      {
                        "learn": [
                          0.3652028658
                        ],
                        "iteration": 924,
                        "passed_time": 15.04856458,
                        "remaining_time": 1.220153885
                      },
                      {
                        "learn": [
                          0.365179118
                        ],
                        "iteration": 925,
                        "passed_time": 15.07963905,
                        "remaining_time": 1.205068348
                      },
                      {
                        "learn": [
                          0.3650709406
                        ],
                        "iteration": 926,
                        "passed_time": 15.09772101,
                        "remaining_time": 1.188925171
                      },
                      {
                        "learn": [
                          0.3650170225
                        ],
                        "iteration": 927,
                        "passed_time": 15.11422926,
                        "remaining_time": 1.172655718
                      },
                      {
                        "learn": [
                          0.3649496836
                        ],
                        "iteration": 928,
                        "passed_time": 15.12944817,
                        "remaining_time": 1.156287212
                      },
                      {
                        "learn": [
                          0.3649399103
                        ],
                        "iteration": 929,
                        "passed_time": 15.14250465,
                        "remaining_time": 1.139758415
                      },
                      {
                        "learn": [
                          0.3649149297
                        ],
                        "iteration": 930,
                        "passed_time": 15.15779872,
                        "remaining_time": 1.123402913
                      },
                      {
                        "learn": [
                          0.3648599484
                        ],
                        "iteration": 931,
                        "passed_time": 15.17139326,
                        "remaining_time": 1.106925688
                      },
                      {
                        "learn": [
                          0.3648326271
                        ],
                        "iteration": 932,
                        "passed_time": 15.18648225,
                        "remaining_time": 1.090561962
                      },
                      {
                        "learn": [
                          0.3647746299
                        ],
                        "iteration": 933,
                        "passed_time": 15.2029766,
                        "remaining_time": 1.074300274
                      },
                      {
                        "learn": [
                          0.3646935226
                        ],
                        "iteration": 934,
                        "passed_time": 15.21967916,
                        "remaining_time": 1.058052562
                      },
                      {
                        "learn": [
                          0.3646499909
                        ],
                        "iteration": 935,
                        "passed_time": 15.23585339,
                        "remaining_time": 1.041767753
                      },
                      {
                        "learn": [
                          0.364599092
                        ],
                        "iteration": 936,
                        "passed_time": 15.25700389,
                        "remaining_time": 1.025817764
                      },
                      {
                        "learn": [
                          0.3645554502
                        ],
                        "iteration": 937,
                        "passed_time": 15.27319066,
                        "remaining_time": 1.009528594
                      },
                      {
                        "learn": [
                          0.3644860938
                        ],
                        "iteration": 938,
                        "passed_time": 15.29021196,
                        "remaining_time": 0.9932938546
                      },
                      {
                        "learn": [
                          0.3644258654
                        ],
                        "iteration": 939,
                        "passed_time": 15.30536849,
                        "remaining_time": 0.9769384143
                      },
                      {
                        "learn": [
                          0.3643998061
                        ],
                        "iteration": 940,
                        "passed_time": 15.32189026,
                        "remaining_time": 0.9606711212
                      },
                      {
                        "learn": [
                          0.3643881082
                        ],
                        "iteration": 941,
                        "passed_time": 15.3378352,
                        "remaining_time": 0.9443677722
                      },
                      {
                        "learn": [
                          0.3642989802
                        ],
                        "iteration": 942,
                        "passed_time": 15.35432952,
                        "remaining_time": 0.928098391
                      },
                      {
                        "learn": [
                          0.3642154094
                        ],
                        "iteration": 943,
                        "passed_time": 15.37641237,
                        "remaining_time": 0.9121600556
                      },
                      {
                        "learn": [
                          0.3641970982
                        ],
                        "iteration": 944,
                        "passed_time": 15.39349479,
                        "remaining_time": 0.8959176862
                      },
                      {
                        "learn": [
                          0.3641003692
                        ],
                        "iteration": 945,
                        "passed_time": 15.41128797,
                        "remaining_time": 0.8797141125
                      },
                      {
                        "learn": [
                          0.3640774696
                        ],
                        "iteration": 946,
                        "passed_time": 15.44030476,
                        "remaining_time": 0.8641353244
                      },
                      {
                        "learn": [
                          0.3640102337
                        ],
                        "iteration": 947,
                        "passed_time": 15.45725814,
                        "remaining_time": 0.8478664801
                      },
                      {
                        "learn": [
                          0.3638826611
                        ],
                        "iteration": 948,
                        "passed_time": 15.47542361,
                        "remaining_time": 0.8316613318
                      },
                      {
                        "learn": [
                          0.3638559154
                        ],
                        "iteration": 949,
                        "passed_time": 15.49084057,
                        "remaining_time": 0.8153073986
                      },
                      {
                        "learn": [
                          0.3637884848
                        ],
                        "iteration": 950,
                        "passed_time": 15.50568967,
                        "remaining_time": 0.7989261767
                      },
                      {
                        "learn": [
                          0.3637071136
                        ],
                        "iteration": 951,
                        "passed_time": 15.52202011,
                        "remaining_time": 0.7826228625
                      },
                      {
                        "learn": [
                          0.3636629602
                        ],
                        "iteration": 952,
                        "passed_time": 15.53670244,
                        "remaining_time": 0.7662382107
                      },
                      {
                        "learn": [
                          0.3636080421
                        ],
                        "iteration": 953,
                        "passed_time": 15.55116883,
                        "remaining_time": 0.7498467153
                      },
                      {
                        "learn": [
                          0.3634635827
                        ],
                        "iteration": 954,
                        "passed_time": 15.56793684,
                        "remaining_time": 0.7335677044
                      },
                      {
                        "learn": [
                          0.3634056068
                        ],
                        "iteration": 955,
                        "passed_time": 15.58445387,
                        "remaining_time": 0.7172761196
                      },
                      {
                        "learn": [
                          0.3633074236
                        ],
                        "iteration": 956,
                        "passed_time": 15.59931984,
                        "remaining_time": 0.7009098777
                      },
                      {
                        "learn": [
                          0.3632711402
                        ],
                        "iteration": 957,
                        "passed_time": 15.61676704,
                        "remaining_time": 0.6846599327
                      },
                      {
                        "learn": [
                          0.3632396286
                        ],
                        "iteration": 958,
                        "passed_time": 15.63171202,
                        "remaining_time": 0.668300514
                      },
                      {
                        "learn": [
                          0.3631744984
                        ],
                        "iteration": 959,
                        "passed_time": 15.66257658,
                        "remaining_time": 0.6526073575
                      },
                      {
                        "learn": [
                          0.3631277923
                        ],
                        "iteration": 960,
                        "passed_time": 15.68034921,
                        "remaining_time": 0.6363513208
                      },
                      {
                        "learn": [
                          0.3630591506
                        ],
                        "iteration": 961,
                        "passed_time": 15.69666559,
                        "remaining_time": 0.6200346074
                      },
                      {
                        "learn": [
                          0.3629524903
                        ],
                        "iteration": 962,
                        "passed_time": 15.71393918,
                        "remaining_time": 0.6037546726
                      },
                      {
                        "learn": [
                          0.3628690626
                        ],
                        "iteration": 963,
                        "passed_time": 15.72978239,
                        "remaining_time": 0.5874192594
                      },
                      {
                        "learn": [
                          0.3628247553
                        ],
                        "iteration": 964,
                        "passed_time": 15.74625908,
                        "remaining_time": 0.5711078421
                      },
                      {
                        "learn": [
                          0.3626609437
                        ],
                        "iteration": 965,
                        "passed_time": 15.76390099,
                        "remaining_time": 0.5548370948
                      },
                      {
                        "learn": [
                          0.3625863736
                        ],
                        "iteration": 966,
                        "passed_time": 15.78055319,
                        "remaining_time": 0.5385297365
                      },
                      {
                        "learn": [
                          0.3625521841
                        ],
                        "iteration": 967,
                        "passed_time": 15.79754438,
                        "remaining_time": 0.522232872
                      },
                      {
                        "learn": [
                          0.3624697798
                        ],
                        "iteration": 968,
                        "passed_time": 15.87273427,
                        "remaining_time": 0.5077964524
                      },
                      {
                        "learn": [
                          0.3624136977
                        ],
                        "iteration": 969,
                        "passed_time": 15.90245161,
                        "remaining_time": 0.4918284002
                      },
                      {
                        "learn": [
                          0.3623769032
                        ],
                        "iteration": 970,
                        "passed_time": 15.91953131,
                        "remaining_time": 0.4754545911
                      },
                      {
                        "learn": [
                          0.362344494
                        ],
                        "iteration": 971,
                        "passed_time": 15.93750145,
                        "remaining_time": 0.4591049802
                      },
                      {
                        "learn": [
                          0.3622878387
                        ],
                        "iteration": 972,
                        "passed_time": 15.96044304,
                        "remaining_time": 0.4428899919
                      },
                      {
                        "learn": [
                          0.3622097013
                        ],
                        "iteration": 973,
                        "passed_time": 15.97675752,
                        "remaining_time": 0.426484287
                      },
                      {
                        "learn": [
                          0.3621577612
                        ],
                        "iteration": 974,
                        "passed_time": 15.99269567,
                        "remaining_time": 0.4100691197
                      },
                      {
                        "learn": [
                          0.3621445992
                        ],
                        "iteration": 975,
                        "passed_time": 16.0087504,
                        "remaining_time": 0.3936577967
                      },
                      {
                        "learn": [
                          0.3621248045
                        ],
                        "iteration": 976,
                        "passed_time": 16.02556526,
                        "remaining_time": 0.3772650983
                      },
                      {
                        "learn": [
                          0.3620702215
                        ],
                        "iteration": 977,
                        "passed_time": 16.04232056,
                        "remaining_time": 0.3608701966
                      },
                      {
                        "learn": [
                          0.3620479556
                        ],
                        "iteration": 978,
                        "passed_time": 16.05916322,
                        "remaining_time": 0.3444764327
                      },
                      {
                        "learn": [
                          0.3620001776
                        ],
                        "iteration": 979,
                        "passed_time": 16.07852531,
                        "remaining_time": 0.3281331696
                      },
                      {
                        "learn": [
                          0.361927693
                        ],
                        "iteration": 980,
                        "passed_time": 16.09636635,
                        "remaining_time": 0.3117542921
                      },
                      {
                        "learn": [
                          0.3618214779
                        ],
                        "iteration": 981,
                        "passed_time": 16.11228168,
                        "remaining_time": 0.2953371387
                      },
                      {
                        "learn": [
                          0.3617725917
                        ],
                        "iteration": 982,
                        "passed_time": 16.12769669,
                        "remaining_time": 0.2789123538
                      },
                      {
                        "learn": [
                          0.3617249025
                        ],
                        "iteration": 983,
                        "passed_time": 16.15591036,
                        "remaining_time": 0.2626977294
                      },
                      {
                        "learn": [
                          0.3616762286
                        ],
                        "iteration": 984,
                        "passed_time": 16.17136774,
                        "remaining_time": 0.2462644833
                      },
                      {
                        "learn": [
                          0.3616124546
                        ],
                        "iteration": 985,
                        "passed_time": 16.1874212,
                        "remaining_time": 0.2298416803
                      },
                      {
                        "learn": [
                          0.3615256716
                        ],
                        "iteration": 986,
                        "passed_time": 16.2045509,
                        "remaining_time": 0.2134338011
                      },
                      {
                        "learn": [
                          0.3614612094
                        ],
                        "iteration": 987,
                        "passed_time": 16.22038711,
                        "remaining_time": 0.1970087503
                      },
                      {
                        "learn": [
                          0.3613940472
                        ],
                        "iteration": 988,
                        "passed_time": 16.23594683,
                        "remaining_time": 0.1805818151
                      },
                      {
                        "learn": [
                          0.3613481105
                        ],
                        "iteration": 989,
                        "passed_time": 16.2523879,
                        "remaining_time": 0.1641655343
                      },
                      {
                        "learn": [
                          0.3612802729
                        ],
                        "iteration": 990,
                        "passed_time": 16.26709694,
                        "remaining_time": 0.1477334738
                      },
                      {
                        "learn": [
                          0.3612467446
                        ],
                        "iteration": 991,
                        "passed_time": 16.29996745,
                        "remaining_time": 0.1314513504
                      },
                      {
                        "learn": [
                          0.3612114052
                        ],
                        "iteration": 992,
                        "passed_time": 16.31685283,
                        "remaining_time": 0.1150231317
                      },
                      {
                        "learn": [
                          0.3611952093
                        ],
                        "iteration": 993,
                        "passed_time": 16.33281051,
                        "remaining_time": 0.09858839343
                      },
                      {
                        "learn": [
                          0.3611625607
                        ],
                        "iteration": 994,
                        "passed_time": 16.34885103,
                        "remaining_time": 0.08215503032
                      },
                      {
                        "learn": [
                          0.3611221005
                        ],
                        "iteration": 995,
                        "passed_time": 16.3655072,
                        "remaining_time": 0.0657249285
                      },
                      {
                        "learn": [
                          0.3610350936
                        ],
                        "iteration": 996,
                        "passed_time": 16.38062806,
                        "remaining_time": 0.04928975344
                      },
                      {
                        "learn": [
                          0.3609731056
                        ],
                        "iteration": 997,
                        "passed_time": 16.39776912,
                        "remaining_time": 0.03286126075
                      },
                      {
                        "learn": [
                          0.3609043573
                        ],
                        "iteration": 998,
                        "passed_time": 16.42336184,
                        "remaining_time": 0.01643980165
                      },
                      {
                        "learn": [
                          0.3608563864
                        ],
                        "iteration": 999,
                        "passed_time": 16.44589716,
                        "remaining_time": 0
                      }
                    ],
                    "meta": {
                      "test_sets": [],
                      "test_metrics": [],
                      "learn_metrics": [
                        {
                          "best_value": "Min",
                          "name": "Logloss"
                        }
                      ],
                      "launch_mode": "Train",
                      "parameters": "",
                      "iteration_count": 1000,
                      "learn_sets": [
                        "learn"
                      ],
                      "name": "experiment"
                    }
                  }
                }
              }
            },
            "layout": "IPY_MODEL_4c461853be624097a46f77bb4b675c74"
          }
        }
      }
    }
  },
  "cells": [
    {
      "cell_type": "markdown",
      "source": [
        "#Проектная работа по итогу курса \"Интеллектуальный анализ данных в бизнесе\""
      ],
      "metadata": {
        "id": "Mzec65BQQvYm"
      }
    },
    {
      "cell_type": "markdown",
      "source": [
        "Авторы: Кобылин Константин, Курочкин Даниил\n",
        "\n",
        "Группа: 11-006"
      ],
      "metadata": {
        "id": "JUMEwg8iQ1et"
      }
    },
    {
      "cell_type": "markdown",
      "source": [
        "##Описание работы"
      ],
      "metadata": {
        "id": "-dQJpW0wRID_"
      }
    },
    {
      "cell_type": "markdown",
      "source": [
        "В датасете хранятся данные о пассажирах из следующей смоделированной ситуации: в далёком будущем ситуация с Титаником повторяется, но в этот раз в космосе. Нам, как исследователям, предстоит выяснить, кому из пассажиров удалось выжить, полагаясь на данные из датасета. И сделать мы это собираемся 5-ю разными методами, чтобы выяснить, какой из них проявит себя в этой задаче наиболее эффективно."
      ],
      "metadata": {
        "id": "IyH_nuXfRVJi"
      }
    },
    {
      "cell_type": "markdown",
      "source": [
        "##Импорты и загрузка датасета"
      ],
      "metadata": {
        "id": "KFF-wL8Tmy-f"
      }
    },
    {
      "cell_type": "code",
      "execution_count": null,
      "metadata": {
        "colab": {
          "base_uri": "https://localhost:8080/"
        },
        "id": "X5HhAp6ilbVi",
        "outputId": "65676d65-0980-4428-d64b-87ea65cc4159"
      },
      "outputs": [
        {
          "output_type": "stream",
          "name": "stdout",
          "text": [
            "Looking in indexes: https://pypi.org/simple, https://us-python.pkg.dev/colab-wheels/public/simple/\n",
            "Collecting git+https://github.com/ML-Challenge/learntools.git\n",
            "  Cloning https://github.com/ML-Challenge/learntools.git to /tmp/pip-req-build-jclzo4u4\n",
            "  Running command git clone -q https://github.com/ML-Challenge/learntools.git /tmp/pip-req-build-jclzo4u4\n"
          ]
        },
        {
          "output_type": "stream",
          "name": "stderr",
          "text": [
            "WARNING:root:Ignoring repeated attempt to bind to globals\n"
          ]
        },
        {
          "output_type": "stream",
          "name": "stdout",
          "text": [
            "Setup Complete\n"
          ]
        }
      ],
      "source": [
        "!pip install git+https://github.com/ML-Challenge/learntools.git\n",
        "import os\n",
        "from learntools.core import binder\n",
        "binder.bind(globals())\n",
        "from learntools.ml_intermediate.ex3 import *\n",
        "print(\"Setup Complete\")"
      ]
    },
    {
      "cell_type": "code",
      "source": [
        "from google.colab import drive\n",
        "drive.mount('/content/drive')"
      ],
      "metadata": {
        "colab": {
          "base_uri": "https://localhost:8080/"
        },
        "id": "QHCbZCAwzbyt",
        "outputId": "be1ff76f-c282-4f9e-f9e3-b9d28773fa9d"
      },
      "execution_count": null,
      "outputs": [
        {
          "output_type": "stream",
          "name": "stdout",
          "text": [
            "Drive already mounted at /content/drive; to attempt to forcibly remount, call drive.mount(\"/content/drive\", force_remount=True).\n"
          ]
        }
      ]
    },
    {
      "cell_type": "code",
      "source": [
        "import pandas as pd\n",
        "import numpy as np\n",
        "from sklearn.model_selection import train_test_split\n",
        "from sklearn.metrics import mean_absolute_error\n",
        "from xgboost import XGBRegressor\n",
        "\n",
        "# Read the data\n",
        "X_train = pd.read_csv('/content/drive/MyDrive/Data Analysis/Project/train.csv', index_col='PassengerId')\n",
        "X_test = pd.read_csv('/content/drive/MyDrive/Data Analysis/Project/test.csv', index_col='PassengerId')\n",
        "\n",
        "X_train.drop(['Name'], axis=1, inplace=True)\n",
        "X_test.drop(['Name'], axis=1, inplace=True)\n",
        "\n",
        "X_train.dropna(axis=0, subset=['Transported'], inplace=True)\n",
        "y = X_train.Transported            \n",
        "X_train.drop(['Transported'], axis=1, inplace=True)\n",
        "X_train_EDA = X_train\n",
        "\n",
        "X_train.head()"
      ],
      "metadata": {
        "colab": {
          "base_uri": "https://localhost:8080/"
        },
        "id": "plTNywPHm2Yq",
        "outputId": "931f0741-8240-4a2e-b09e-7ced7b733b40"
      },
      "execution_count": null,
      "outputs": [
        {
          "output_type": "execute_result",
          "data": {
            "text/plain": [
              "            HomePlanet CryoSleep  Cabin  Destination   Age    VIP  \\\n",
              "PassengerId                                                         \n",
              "0001_01         Europa     False  B/0/P  TRAPPIST-1e  39.0  False   \n",
              "0002_01          Earth     False  F/0/S  TRAPPIST-1e  24.0  False   \n",
              "0003_01         Europa     False  A/0/S  TRAPPIST-1e  58.0   True   \n",
              "0003_02         Europa     False  A/0/S  TRAPPIST-1e  33.0  False   \n",
              "0004_01          Earth     False  F/1/S  TRAPPIST-1e  16.0  False   \n",
              "\n",
              "             RoomService  FoodCourt  ShoppingMall     Spa  VRDeck  \n",
              "PassengerId                                                        \n",
              "0001_01              0.0        0.0           0.0     0.0     0.0  \n",
              "0002_01            109.0        9.0          25.0   549.0    44.0  \n",
              "0003_01             43.0     3576.0           0.0  6715.0    49.0  \n",
              "0003_02              0.0     1283.0         371.0  3329.0   193.0  \n",
              "0004_01            303.0       70.0         151.0   565.0     2.0  "
            ],
            "text/html": [
              "\n",
              "  <div id=\"df-03e660a1-bae4-4e14-a576-d99d8cba65ff\">\n",
              "    <div class=\"colab-df-container\">\n",
              "      <div>\n",
              "<style scoped>\n",
              "    .dataframe tbody tr th:only-of-type {\n",
              "        vertical-align: middle;\n",
              "    }\n",
              "\n",
              "    .dataframe tbody tr th {\n",
              "        vertical-align: top;\n",
              "    }\n",
              "\n",
              "    .dataframe thead th {\n",
              "        text-align: right;\n",
              "    }\n",
              "</style>\n",
              "<table border=\"1\" class=\"dataframe\">\n",
              "  <thead>\n",
              "    <tr style=\"text-align: right;\">\n",
              "      <th></th>\n",
              "      <th>HomePlanet</th>\n",
              "      <th>CryoSleep</th>\n",
              "      <th>Cabin</th>\n",
              "      <th>Destination</th>\n",
              "      <th>Age</th>\n",
              "      <th>VIP</th>\n",
              "      <th>RoomService</th>\n",
              "      <th>FoodCourt</th>\n",
              "      <th>ShoppingMall</th>\n",
              "      <th>Spa</th>\n",
              "      <th>VRDeck</th>\n",
              "    </tr>\n",
              "    <tr>\n",
              "      <th>PassengerId</th>\n",
              "      <th></th>\n",
              "      <th></th>\n",
              "      <th></th>\n",
              "      <th></th>\n",
              "      <th></th>\n",
              "      <th></th>\n",
              "      <th></th>\n",
              "      <th></th>\n",
              "      <th></th>\n",
              "      <th></th>\n",
              "      <th></th>\n",
              "    </tr>\n",
              "  </thead>\n",
              "  <tbody>\n",
              "    <tr>\n",
              "      <th>0001_01</th>\n",
              "      <td>Europa</td>\n",
              "      <td>False</td>\n",
              "      <td>B/0/P</td>\n",
              "      <td>TRAPPIST-1e</td>\n",
              "      <td>39.0</td>\n",
              "      <td>False</td>\n",
              "      <td>0.0</td>\n",
              "      <td>0.0</td>\n",
              "      <td>0.0</td>\n",
              "      <td>0.0</td>\n",
              "      <td>0.0</td>\n",
              "    </tr>\n",
              "    <tr>\n",
              "      <th>0002_01</th>\n",
              "      <td>Earth</td>\n",
              "      <td>False</td>\n",
              "      <td>F/0/S</td>\n",
              "      <td>TRAPPIST-1e</td>\n",
              "      <td>24.0</td>\n",
              "      <td>False</td>\n",
              "      <td>109.0</td>\n",
              "      <td>9.0</td>\n",
              "      <td>25.0</td>\n",
              "      <td>549.0</td>\n",
              "      <td>44.0</td>\n",
              "    </tr>\n",
              "    <tr>\n",
              "      <th>0003_01</th>\n",
              "      <td>Europa</td>\n",
              "      <td>False</td>\n",
              "      <td>A/0/S</td>\n",
              "      <td>TRAPPIST-1e</td>\n",
              "      <td>58.0</td>\n",
              "      <td>True</td>\n",
              "      <td>43.0</td>\n",
              "      <td>3576.0</td>\n",
              "      <td>0.0</td>\n",
              "      <td>6715.0</td>\n",
              "      <td>49.0</td>\n",
              "    </tr>\n",
              "    <tr>\n",
              "      <th>0003_02</th>\n",
              "      <td>Europa</td>\n",
              "      <td>False</td>\n",
              "      <td>A/0/S</td>\n",
              "      <td>TRAPPIST-1e</td>\n",
              "      <td>33.0</td>\n",
              "      <td>False</td>\n",
              "      <td>0.0</td>\n",
              "      <td>1283.0</td>\n",
              "      <td>371.0</td>\n",
              "      <td>3329.0</td>\n",
              "      <td>193.0</td>\n",
              "    </tr>\n",
              "    <tr>\n",
              "      <th>0004_01</th>\n",
              "      <td>Earth</td>\n",
              "      <td>False</td>\n",
              "      <td>F/1/S</td>\n",
              "      <td>TRAPPIST-1e</td>\n",
              "      <td>16.0</td>\n",
              "      <td>False</td>\n",
              "      <td>303.0</td>\n",
              "      <td>70.0</td>\n",
              "      <td>151.0</td>\n",
              "      <td>565.0</td>\n",
              "      <td>2.0</td>\n",
              "    </tr>\n",
              "  </tbody>\n",
              "</table>\n",
              "</div>\n",
              "      <button class=\"colab-df-convert\" onclick=\"convertToInteractive('df-03e660a1-bae4-4e14-a576-d99d8cba65ff')\"\n",
              "              title=\"Convert this dataframe to an interactive table.\"\n",
              "              style=\"display:none;\">\n",
              "        \n",
              "  <svg xmlns=\"http://www.w3.org/2000/svg\" height=\"24px\"viewBox=\"0 0 24 24\"\n",
              "       width=\"24px\">\n",
              "    <path d=\"M0 0h24v24H0V0z\" fill=\"none\"/>\n",
              "    <path d=\"M18.56 5.44l.94 2.06.94-2.06 2.06-.94-2.06-.94-.94-2.06-.94 2.06-2.06.94zm-11 1L8.5 8.5l.94-2.06 2.06-.94-2.06-.94L8.5 2.5l-.94 2.06-2.06.94zm10 10l.94 2.06.94-2.06 2.06-.94-2.06-.94-.94-2.06-.94 2.06-2.06.94z\"/><path d=\"M17.41 7.96l-1.37-1.37c-.4-.4-.92-.59-1.43-.59-.52 0-1.04.2-1.43.59L10.3 9.45l-7.72 7.72c-.78.78-.78 2.05 0 2.83L4 21.41c.39.39.9.59 1.41.59.51 0 1.02-.2 1.41-.59l7.78-7.78 2.81-2.81c.8-.78.8-2.07 0-2.86zM5.41 20L4 18.59l7.72-7.72 1.47 1.35L5.41 20z\"/>\n",
              "  </svg>\n",
              "      </button>\n",
              "      \n",
              "  <style>\n",
              "    .colab-df-container {\n",
              "      display:flex;\n",
              "      flex-wrap:wrap;\n",
              "      gap: 12px;\n",
              "    }\n",
              "\n",
              "    .colab-df-convert {\n",
              "      background-color: #E8F0FE;\n",
              "      border: none;\n",
              "      border-radius: 50%;\n",
              "      cursor: pointer;\n",
              "      display: none;\n",
              "      fill: #1967D2;\n",
              "      height: 32px;\n",
              "      padding: 0 0 0 0;\n",
              "      width: 32px;\n",
              "    }\n",
              "\n",
              "    .colab-df-convert:hover {\n",
              "      background-color: #E2EBFA;\n",
              "      box-shadow: 0px 1px 2px rgba(60, 64, 67, 0.3), 0px 1px 3px 1px rgba(60, 64, 67, 0.15);\n",
              "      fill: #174EA6;\n",
              "    }\n",
              "\n",
              "    [theme=dark] .colab-df-convert {\n",
              "      background-color: #3B4455;\n",
              "      fill: #D2E3FC;\n",
              "    }\n",
              "\n",
              "    [theme=dark] .colab-df-convert:hover {\n",
              "      background-color: #434B5C;\n",
              "      box-shadow: 0px 1px 3px 1px rgba(0, 0, 0, 0.15);\n",
              "      filter: drop-shadow(0px 1px 2px rgba(0, 0, 0, 0.3));\n",
              "      fill: #FFFFFF;\n",
              "    }\n",
              "  </style>\n",
              "\n",
              "      <script>\n",
              "        const buttonEl =\n",
              "          document.querySelector('#df-03e660a1-bae4-4e14-a576-d99d8cba65ff button.colab-df-convert');\n",
              "        buttonEl.style.display =\n",
              "          google.colab.kernel.accessAllowed ? 'block' : 'none';\n",
              "\n",
              "        async function convertToInteractive(key) {\n",
              "          const element = document.querySelector('#df-03e660a1-bae4-4e14-a576-d99d8cba65ff');\n",
              "          const dataTable =\n",
              "            await google.colab.kernel.invokeFunction('convertToInteractive',\n",
              "                                                     [key], {});\n",
              "          if (!dataTable) return;\n",
              "\n",
              "          const docLinkHtml = 'Like what you see? Visit the ' +\n",
              "            '<a target=\"_blank\" href=https://colab.research.google.com/notebooks/data_table.ipynb>data table notebook</a>'\n",
              "            + ' to learn more about interactive tables.';\n",
              "          element.innerHTML = '';\n",
              "          dataTable['output_type'] = 'display_data';\n",
              "          await google.colab.output.renderOutput(dataTable, element);\n",
              "          const docLink = document.createElement('div');\n",
              "          docLink.innerHTML = docLinkHtml;\n",
              "          element.appendChild(docLink);\n",
              "        }\n",
              "      </script>\n",
              "    </div>\n",
              "  </div>\n",
              "  "
            ]
          },
          "metadata": {},
          "execution_count": 89
        }
      ]
    },
    {
      "cell_type": "markdown",
      "source": [
        "## EDA и подготовка данных"
      ],
      "metadata": {
        "id": "o1o19TsTucM0"
      }
    },
    {
      "cell_type": "markdown",
      "source": [
        "Перед построением моделей изучим набор данных, чтобы получить представление об их составе."
      ],
      "metadata": {
        "id": "MugDRTcsvIoA"
      }
    },
    {
      "cell_type": "code",
      "source": [
        "X_train.info()"
      ],
      "metadata": {
        "colab": {
          "base_uri": "https://localhost:8080/"
        },
        "id": "ZXjv7aC2U9QR",
        "outputId": "41149629-4932-4c07-ce11-85a5fdb81285"
      },
      "execution_count": null,
      "outputs": [
        {
          "output_type": "stream",
          "name": "stdout",
          "text": [
            "<class 'pandas.core.frame.DataFrame'>\n",
            "Index: 8693 entries, 0001_01 to 9280_02\n",
            "Data columns (total 11 columns):\n",
            " #   Column        Non-Null Count  Dtype  \n",
            "---  ------        --------------  -----  \n",
            " 0   HomePlanet    8492 non-null   object \n",
            " 1   CryoSleep     8476 non-null   object \n",
            " 2   Cabin         8494 non-null   object \n",
            " 3   Destination   8511 non-null   object \n",
            " 4   Age           8514 non-null   float64\n",
            " 5   VIP           8490 non-null   object \n",
            " 6   RoomService   8512 non-null   float64\n",
            " 7   FoodCourt     8510 non-null   float64\n",
            " 8   ShoppingMall  8485 non-null   float64\n",
            " 9   Spa           8510 non-null   float64\n",
            " 10  VRDeck        8505 non-null   float64\n",
            "dtypes: float64(6), object(5)\n",
            "memory usage: 815.0+ KB\n"
          ]
        }
      ]
    },
    {
      "cell_type": "markdown",
      "source": [
        "Заметим, что датасет содержит почти 8700 строк и 10 столбцов. \n",
        "\n",
        "Рассмотрим их подробнее:\n",
        "\n",
        "\n",
        "1. HomePlanet - планета, с которой отправился пассажир\n",
        "2. CryoSleep - согласился ли пассажир провести путешествие в крио-сне, тем самым оставшись в своей комнате на протяжение всего путешествия\n",
        "3. Cabin - номер комнаты пассажира\n",
        "4. Destination - планета, куда отправился пассажир\n",
        "5. Age - возраст пассажира\n",
        "6. VIP - оплатил ли пассажир VIP сервис\n",
        "7. RoomService, FoodCourt, ShoppingMall, Spa, VRDeck - эти столбцы отражают, сколько пассажир потратил денег на указанные услуги\n",
        "\n",
        "Также изначально датасет содержат столбец с именем, но в ходе исследования оно нам никак не понадобится и будет только добавлять шум, поэтому было принято решение убрать эту фичу.\n",
        "\n"
      ],
      "metadata": {
        "id": "STlQqep9Ve-l"
      }
    },
    {
      "cell_type": "markdown",
      "source": [
        "##Категориальные значения"
      ],
      "metadata": {
        "id": "LSbFYMJBX8XB"
      }
    },
    {
      "cell_type": "code",
      "source": [
        "X_train.dtypes"
      ],
      "metadata": {
        "colab": {
          "base_uri": "https://localhost:8080/"
        },
        "id": "pEY-Wwyvt3dL",
        "outputId": "212a883c-ff9b-4e82-f7c2-ec77f09cbd96"
      },
      "execution_count": null,
      "outputs": [
        {
          "output_type": "execute_result",
          "data": {
            "text/plain": [
              "HomePlanet       object\n",
              "CryoSleep        object\n",
              "Cabin            object\n",
              "Destination      object\n",
              "Age             float64\n",
              "VIP              object\n",
              "RoomService     float64\n",
              "FoodCourt       float64\n",
              "ShoppingMall    float64\n",
              "Spa             float64\n",
              "VRDeck          float64\n",
              "dtype: object"
            ]
          },
          "metadata": {},
          "execution_count": 91
        }
      ]
    },
    {
      "cell_type": "markdown",
      "source": [
        "Здесь мы убеждаемся, что в датасете присутствуют категориальные значения, и их необходимо обработать.\n",
        "\n",
        "Для этого прибегнем к помощи метода get_dummies, который превращает категориальные переменные в фиктивные, представленные числовыми значениями."
      ],
      "metadata": {
        "id": "xwpzMWPyYS2s"
      }
    },
    {
      "cell_type": "code",
      "source": [
        "categorical_features = ['HomePlanet', 'CryoSleep', 'Destination', 'VIP']\n",
        "num_features = ['Age', 'RoomService', 'FoodCourt', 'ShoppingMall', 'Spa', 'VRDeck']\n",
        "cols = categorical_features + num_features\n",
        "\n",
        "\n",
        "X_train = pd.get_dummies(X_train[cols])\n",
        "X_test = pd.get_dummies(X_test[cols])\n",
        "X_test"
      ],
      "metadata": {
        "colab": {
          "base_uri": "https://localhost:8080/"
        },
        "id": "hmUAglKSoA22",
        "outputId": "c391aefa-8d60-4c3c-958b-3b55ce38de44"
      },
      "execution_count": null,
      "outputs": [
        {
          "output_type": "execute_result",
          "data": {
            "text/plain": [
              "              Age  RoomService  FoodCourt  ShoppingMall     Spa  VRDeck  \\\n",
              "PassengerId                                                               \n",
              "0013_01      27.0          0.0        0.0           0.0     0.0     0.0   \n",
              "0018_01      19.0          0.0        9.0           0.0  2823.0     0.0   \n",
              "0019_01      31.0          0.0        0.0           0.0     0.0     0.0   \n",
              "0021_01      38.0          0.0     6652.0           0.0   181.0   585.0   \n",
              "0023_01      20.0         10.0        0.0         635.0     0.0     0.0   \n",
              "...           ...          ...        ...           ...     ...     ...   \n",
              "9266_02      34.0          0.0        0.0           0.0     0.0     0.0   \n",
              "9269_01      42.0          0.0      847.0          17.0    10.0   144.0   \n",
              "9271_01       NaN          0.0        0.0           0.0     0.0     0.0   \n",
              "9273_01       NaN          0.0     2680.0           0.0     0.0   523.0   \n",
              "9277_01      43.0          0.0        0.0           0.0     0.0     0.0   \n",
              "\n",
              "             HomePlanet_Earth  HomePlanet_Europa  HomePlanet_Mars  \\\n",
              "PassengerId                                                         \n",
              "0013_01                     1                  0                0   \n",
              "0018_01                     1                  0                0   \n",
              "0019_01                     0                  1                0   \n",
              "0021_01                     0                  1                0   \n",
              "0023_01                     1                  0                0   \n",
              "...                       ...                ...              ...   \n",
              "9266_02                     1                  0                0   \n",
              "9269_01                     1                  0                0   \n",
              "9271_01                     0                  0                1   \n",
              "9273_01                     0                  1                0   \n",
              "9277_01                     1                  0                0   \n",
              "\n",
              "             CryoSleep_False  CryoSleep_True  Destination_55 Cancri e  \\\n",
              "PassengerId                                                             \n",
              "0013_01                    0               1                        0   \n",
              "0018_01                    1               0                        0   \n",
              "0019_01                    0               1                        1   \n",
              "0021_01                    1               0                        0   \n",
              "0023_01                    1               0                        0   \n",
              "...                      ...             ...                      ...   \n",
              "9266_02                    0               1                        0   \n",
              "9269_01                    1               0                        0   \n",
              "9271_01                    0               1                        1   \n",
              "9273_01                    1               0                        0   \n",
              "9277_01                    0               1                        0   \n",
              "\n",
              "             Destination_PSO J318.5-22  Destination_TRAPPIST-1e  VIP_False  \\\n",
              "PassengerId                                                                  \n",
              "0013_01                              0                        1          1   \n",
              "0018_01                              0                        1          1   \n",
              "0019_01                              0                        0          1   \n",
              "0021_01                              0                        1          1   \n",
              "0023_01                              0                        1          1   \n",
              "...                                ...                      ...        ...   \n",
              "9266_02                              0                        1          1   \n",
              "9269_01                              0                        1          1   \n",
              "9271_01                              0                        0          1   \n",
              "9273_01                              0                        0          1   \n",
              "9277_01                              1                        0          1   \n",
              "\n",
              "             VIP_True  \n",
              "PassengerId            \n",
              "0013_01             0  \n",
              "0018_01             0  \n",
              "0019_01             0  \n",
              "0021_01             0  \n",
              "0023_01             0  \n",
              "...               ...  \n",
              "9266_02             0  \n",
              "9269_01             0  \n",
              "9271_01             0  \n",
              "9273_01             0  \n",
              "9277_01             0  \n",
              "\n",
              "[4277 rows x 16 columns]"
            ],
            "text/html": [
              "\n",
              "  <div id=\"df-fbc30f8c-604b-4b38-9270-6c7a1e877553\">\n",
              "    <div class=\"colab-df-container\">\n",
              "      <div>\n",
              "<style scoped>\n",
              "    .dataframe tbody tr th:only-of-type {\n",
              "        vertical-align: middle;\n",
              "    }\n",
              "\n",
              "    .dataframe tbody tr th {\n",
              "        vertical-align: top;\n",
              "    }\n",
              "\n",
              "    .dataframe thead th {\n",
              "        text-align: right;\n",
              "    }\n",
              "</style>\n",
              "<table border=\"1\" class=\"dataframe\">\n",
              "  <thead>\n",
              "    <tr style=\"text-align: right;\">\n",
              "      <th></th>\n",
              "      <th>Age</th>\n",
              "      <th>RoomService</th>\n",
              "      <th>FoodCourt</th>\n",
              "      <th>ShoppingMall</th>\n",
              "      <th>Spa</th>\n",
              "      <th>VRDeck</th>\n",
              "      <th>HomePlanet_Earth</th>\n",
              "      <th>HomePlanet_Europa</th>\n",
              "      <th>HomePlanet_Mars</th>\n",
              "      <th>CryoSleep_False</th>\n",
              "      <th>CryoSleep_True</th>\n",
              "      <th>Destination_55 Cancri e</th>\n",
              "      <th>Destination_PSO J318.5-22</th>\n",
              "      <th>Destination_TRAPPIST-1e</th>\n",
              "      <th>VIP_False</th>\n",
              "      <th>VIP_True</th>\n",
              "    </tr>\n",
              "    <tr>\n",
              "      <th>PassengerId</th>\n",
              "      <th></th>\n",
              "      <th></th>\n",
              "      <th></th>\n",
              "      <th></th>\n",
              "      <th></th>\n",
              "      <th></th>\n",
              "      <th></th>\n",
              "      <th></th>\n",
              "      <th></th>\n",
              "      <th></th>\n",
              "      <th></th>\n",
              "      <th></th>\n",
              "      <th></th>\n",
              "      <th></th>\n",
              "      <th></th>\n",
              "      <th></th>\n",
              "    </tr>\n",
              "  </thead>\n",
              "  <tbody>\n",
              "    <tr>\n",
              "      <th>0013_01</th>\n",
              "      <td>27.0</td>\n",
              "      <td>0.0</td>\n",
              "      <td>0.0</td>\n",
              "      <td>0.0</td>\n",
              "      <td>0.0</td>\n",
              "      <td>0.0</td>\n",
              "      <td>1</td>\n",
              "      <td>0</td>\n",
              "      <td>0</td>\n",
              "      <td>0</td>\n",
              "      <td>1</td>\n",
              "      <td>0</td>\n",
              "      <td>0</td>\n",
              "      <td>1</td>\n",
              "      <td>1</td>\n",
              "      <td>0</td>\n",
              "    </tr>\n",
              "    <tr>\n",
              "      <th>0018_01</th>\n",
              "      <td>19.0</td>\n",
              "      <td>0.0</td>\n",
              "      <td>9.0</td>\n",
              "      <td>0.0</td>\n",
              "      <td>2823.0</td>\n",
              "      <td>0.0</td>\n",
              "      <td>1</td>\n",
              "      <td>0</td>\n",
              "      <td>0</td>\n",
              "      <td>1</td>\n",
              "      <td>0</td>\n",
              "      <td>0</td>\n",
              "      <td>0</td>\n",
              "      <td>1</td>\n",
              "      <td>1</td>\n",
              "      <td>0</td>\n",
              "    </tr>\n",
              "    <tr>\n",
              "      <th>0019_01</th>\n",
              "      <td>31.0</td>\n",
              "      <td>0.0</td>\n",
              "      <td>0.0</td>\n",
              "      <td>0.0</td>\n",
              "      <td>0.0</td>\n",
              "      <td>0.0</td>\n",
              "      <td>0</td>\n",
              "      <td>1</td>\n",
              "      <td>0</td>\n",
              "      <td>0</td>\n",
              "      <td>1</td>\n",
              "      <td>1</td>\n",
              "      <td>0</td>\n",
              "      <td>0</td>\n",
              "      <td>1</td>\n",
              "      <td>0</td>\n",
              "    </tr>\n",
              "    <tr>\n",
              "      <th>0021_01</th>\n",
              "      <td>38.0</td>\n",
              "      <td>0.0</td>\n",
              "      <td>6652.0</td>\n",
              "      <td>0.0</td>\n",
              "      <td>181.0</td>\n",
              "      <td>585.0</td>\n",
              "      <td>0</td>\n",
              "      <td>1</td>\n",
              "      <td>0</td>\n",
              "      <td>1</td>\n",
              "      <td>0</td>\n",
              "      <td>0</td>\n",
              "      <td>0</td>\n",
              "      <td>1</td>\n",
              "      <td>1</td>\n",
              "      <td>0</td>\n",
              "    </tr>\n",
              "    <tr>\n",
              "      <th>0023_01</th>\n",
              "      <td>20.0</td>\n",
              "      <td>10.0</td>\n",
              "      <td>0.0</td>\n",
              "      <td>635.0</td>\n",
              "      <td>0.0</td>\n",
              "      <td>0.0</td>\n",
              "      <td>1</td>\n",
              "      <td>0</td>\n",
              "      <td>0</td>\n",
              "      <td>1</td>\n",
              "      <td>0</td>\n",
              "      <td>0</td>\n",
              "      <td>0</td>\n",
              "      <td>1</td>\n",
              "      <td>1</td>\n",
              "      <td>0</td>\n",
              "    </tr>\n",
              "    <tr>\n",
              "      <th>...</th>\n",
              "      <td>...</td>\n",
              "      <td>...</td>\n",
              "      <td>...</td>\n",
              "      <td>...</td>\n",
              "      <td>...</td>\n",
              "      <td>...</td>\n",
              "      <td>...</td>\n",
              "      <td>...</td>\n",
              "      <td>...</td>\n",
              "      <td>...</td>\n",
              "      <td>...</td>\n",
              "      <td>...</td>\n",
              "      <td>...</td>\n",
              "      <td>...</td>\n",
              "      <td>...</td>\n",
              "      <td>...</td>\n",
              "    </tr>\n",
              "    <tr>\n",
              "      <th>9266_02</th>\n",
              "      <td>34.0</td>\n",
              "      <td>0.0</td>\n",
              "      <td>0.0</td>\n",
              "      <td>0.0</td>\n",
              "      <td>0.0</td>\n",
              "      <td>0.0</td>\n",
              "      <td>1</td>\n",
              "      <td>0</td>\n",
              "      <td>0</td>\n",
              "      <td>0</td>\n",
              "      <td>1</td>\n",
              "      <td>0</td>\n",
              "      <td>0</td>\n",
              "      <td>1</td>\n",
              "      <td>1</td>\n",
              "      <td>0</td>\n",
              "    </tr>\n",
              "    <tr>\n",
              "      <th>9269_01</th>\n",
              "      <td>42.0</td>\n",
              "      <td>0.0</td>\n",
              "      <td>847.0</td>\n",
              "      <td>17.0</td>\n",
              "      <td>10.0</td>\n",
              "      <td>144.0</td>\n",
              "      <td>1</td>\n",
              "      <td>0</td>\n",
              "      <td>0</td>\n",
              "      <td>1</td>\n",
              "      <td>0</td>\n",
              "      <td>0</td>\n",
              "      <td>0</td>\n",
              "      <td>1</td>\n",
              "      <td>1</td>\n",
              "      <td>0</td>\n",
              "    </tr>\n",
              "    <tr>\n",
              "      <th>9271_01</th>\n",
              "      <td>NaN</td>\n",
              "      <td>0.0</td>\n",
              "      <td>0.0</td>\n",
              "      <td>0.0</td>\n",
              "      <td>0.0</td>\n",
              "      <td>0.0</td>\n",
              "      <td>0</td>\n",
              "      <td>0</td>\n",
              "      <td>1</td>\n",
              "      <td>0</td>\n",
              "      <td>1</td>\n",
              "      <td>1</td>\n",
              "      <td>0</td>\n",
              "      <td>0</td>\n",
              "      <td>1</td>\n",
              "      <td>0</td>\n",
              "    </tr>\n",
              "    <tr>\n",
              "      <th>9273_01</th>\n",
              "      <td>NaN</td>\n",
              "      <td>0.0</td>\n",
              "      <td>2680.0</td>\n",
              "      <td>0.0</td>\n",
              "      <td>0.0</td>\n",
              "      <td>523.0</td>\n",
              "      <td>0</td>\n",
              "      <td>1</td>\n",
              "      <td>0</td>\n",
              "      <td>1</td>\n",
              "      <td>0</td>\n",
              "      <td>0</td>\n",
              "      <td>0</td>\n",
              "      <td>0</td>\n",
              "      <td>1</td>\n",
              "      <td>0</td>\n",
              "    </tr>\n",
              "    <tr>\n",
              "      <th>9277_01</th>\n",
              "      <td>43.0</td>\n",
              "      <td>0.0</td>\n",
              "      <td>0.0</td>\n",
              "      <td>0.0</td>\n",
              "      <td>0.0</td>\n",
              "      <td>0.0</td>\n",
              "      <td>1</td>\n",
              "      <td>0</td>\n",
              "      <td>0</td>\n",
              "      <td>0</td>\n",
              "      <td>1</td>\n",
              "      <td>0</td>\n",
              "      <td>1</td>\n",
              "      <td>0</td>\n",
              "      <td>1</td>\n",
              "      <td>0</td>\n",
              "    </tr>\n",
              "  </tbody>\n",
              "</table>\n",
              "<p>4277 rows × 16 columns</p>\n",
              "</div>\n",
              "      <button class=\"colab-df-convert\" onclick=\"convertToInteractive('df-fbc30f8c-604b-4b38-9270-6c7a1e877553')\"\n",
              "              title=\"Convert this dataframe to an interactive table.\"\n",
              "              style=\"display:none;\">\n",
              "        \n",
              "  <svg xmlns=\"http://www.w3.org/2000/svg\" height=\"24px\"viewBox=\"0 0 24 24\"\n",
              "       width=\"24px\">\n",
              "    <path d=\"M0 0h24v24H0V0z\" fill=\"none\"/>\n",
              "    <path d=\"M18.56 5.44l.94 2.06.94-2.06 2.06-.94-2.06-.94-.94-2.06-.94 2.06-2.06.94zm-11 1L8.5 8.5l.94-2.06 2.06-.94-2.06-.94L8.5 2.5l-.94 2.06-2.06.94zm10 10l.94 2.06.94-2.06 2.06-.94-2.06-.94-.94-2.06-.94 2.06-2.06.94z\"/><path d=\"M17.41 7.96l-1.37-1.37c-.4-.4-.92-.59-1.43-.59-.52 0-1.04.2-1.43.59L10.3 9.45l-7.72 7.72c-.78.78-.78 2.05 0 2.83L4 21.41c.39.39.9.59 1.41.59.51 0 1.02-.2 1.41-.59l7.78-7.78 2.81-2.81c.8-.78.8-2.07 0-2.86zM5.41 20L4 18.59l7.72-7.72 1.47 1.35L5.41 20z\"/>\n",
              "  </svg>\n",
              "      </button>\n",
              "      \n",
              "  <style>\n",
              "    .colab-df-container {\n",
              "      display:flex;\n",
              "      flex-wrap:wrap;\n",
              "      gap: 12px;\n",
              "    }\n",
              "\n",
              "    .colab-df-convert {\n",
              "      background-color: #E8F0FE;\n",
              "      border: none;\n",
              "      border-radius: 50%;\n",
              "      cursor: pointer;\n",
              "      display: none;\n",
              "      fill: #1967D2;\n",
              "      height: 32px;\n",
              "      padding: 0 0 0 0;\n",
              "      width: 32px;\n",
              "    }\n",
              "\n",
              "    .colab-df-convert:hover {\n",
              "      background-color: #E2EBFA;\n",
              "      box-shadow: 0px 1px 2px rgba(60, 64, 67, 0.3), 0px 1px 3px 1px rgba(60, 64, 67, 0.15);\n",
              "      fill: #174EA6;\n",
              "    }\n",
              "\n",
              "    [theme=dark] .colab-df-convert {\n",
              "      background-color: #3B4455;\n",
              "      fill: #D2E3FC;\n",
              "    }\n",
              "\n",
              "    [theme=dark] .colab-df-convert:hover {\n",
              "      background-color: #434B5C;\n",
              "      box-shadow: 0px 1px 3px 1px rgba(0, 0, 0, 0.15);\n",
              "      filter: drop-shadow(0px 1px 2px rgba(0, 0, 0, 0.3));\n",
              "      fill: #FFFFFF;\n",
              "    }\n",
              "  </style>\n",
              "\n",
              "      <script>\n",
              "        const buttonEl =\n",
              "          document.querySelector('#df-fbc30f8c-604b-4b38-9270-6c7a1e877553 button.colab-df-convert');\n",
              "        buttonEl.style.display =\n",
              "          google.colab.kernel.accessAllowed ? 'block' : 'none';\n",
              "\n",
              "        async function convertToInteractive(key) {\n",
              "          const element = document.querySelector('#df-fbc30f8c-604b-4b38-9270-6c7a1e877553');\n",
              "          const dataTable =\n",
              "            await google.colab.kernel.invokeFunction('convertToInteractive',\n",
              "                                                     [key], {});\n",
              "          if (!dataTable) return;\n",
              "\n",
              "          const docLinkHtml = 'Like what you see? Visit the ' +\n",
              "            '<a target=\"_blank\" href=https://colab.research.google.com/notebooks/data_table.ipynb>data table notebook</a>'\n",
              "            + ' to learn more about interactive tables.';\n",
              "          element.innerHTML = '';\n",
              "          dataTable['output_type'] = 'display_data';\n",
              "          await google.colab.output.renderOutput(dataTable, element);\n",
              "          const docLink = document.createElement('div');\n",
              "          docLink.innerHTML = docLinkHtml;\n",
              "          element.appendChild(docLink);\n",
              "        }\n",
              "      </script>\n",
              "    </div>\n",
              "  </div>\n",
              "  "
            ]
          },
          "metadata": {},
          "execution_count": 92
        }
      ]
    },
    {
      "cell_type": "markdown",
      "source": [
        "Видим, что столбцы с категориальными значениями разделились на 2-3 столбца. Всего получилось 16 столбцов, что является относительно оптимальным числом для использования XGBoost, поэтому использование метода get_dummies() было оправданным."
      ],
      "metadata": {
        "id": "p3yIUWOLZtb9"
      }
    },
    {
      "cell_type": "markdown",
      "source": [
        "##Пропущенные значения"
      ],
      "metadata": {
        "id": "BcwrY5q9n_Ld"
      }
    },
    {
      "cell_type": "code",
      "source": [
        "cols_with_missing = [(col, X_train[col].isnull().sum() * 100 // len(X_train)) for col in X_train.columns\n",
        "                     if X_train[col].isnull().any()]\n",
        "cols_with_missing.sort(key=lambda x: x[1], reverse=True)\n",
        "cols_with_missing"
      ],
      "metadata": {
        "colab": {
          "base_uri": "https://localhost:8080/"
        },
        "id": "pT85T_1soVDQ",
        "outputId": "c3eb74fb-cca0-4e48-fa5f-739b84087ef6"
      },
      "execution_count": null,
      "outputs": [
        {
          "output_type": "execute_result",
          "data": {
            "text/plain": [
              "[('Age', 2),\n",
              " ('RoomService', 2),\n",
              " ('FoodCourt', 2),\n",
              " ('ShoppingMall', 2),\n",
              " ('Spa', 2),\n",
              " ('VRDeck', 2)]"
            ]
          },
          "metadata": {},
          "execution_count": 93
        }
      ]
    },
    {
      "cell_type": "markdown",
      "source": [
        "На основе данного output'a программы можно прийти к выводу, что в каждом из значений отсутствует примерно 2% значений, что не так критично, и нет никакой нужды полностью избавляться от столбца.\n",
        "\n",
        "Вместо этого мы заполним пустые значения с помощью SimpleImputer, воспользовавшись стратегией заполнения пустых значений медианным значением столбца."
      ],
      "metadata": {
        "id": "BfPZpBSkXWBL"
      }
    },
    {
      "cell_type": "code",
      "source": [
        "from sklearn.impute import SimpleImputer\n",
        "\n",
        "my_imputer = SimpleImputer(strategy = 'median')\n",
        "imputed_X_train = pd.DataFrame(my_imputer.fit_transform(X_train))\n",
        "imputed_X_test = pd.DataFrame(my_imputer.transform(X_test))\n",
        "\n",
        "imputed_X_train.columns = X_train.columns\n",
        "imputed_X_test.columns = X_test.columns\n",
        "imputed_X_test"
      ],
      "metadata": {
        "colab": {
          "base_uri": "https://localhost:8080/",
          "height": 505
        },
        "id": "rhopTXI0oHro",
        "outputId": "f26e272a-4c0a-41c3-d6b1-66e40e259283"
      },
      "execution_count": null,
      "outputs": [
        {
          "output_type": "execute_result",
          "data": {
            "text/plain": [
              "       Age  RoomService  FoodCourt  ShoppingMall     Spa  VRDeck  \\\n",
              "0     27.0          0.0        0.0           0.0     0.0     0.0   \n",
              "1     19.0          0.0        9.0           0.0  2823.0     0.0   \n",
              "2     31.0          0.0        0.0           0.0     0.0     0.0   \n",
              "3     38.0          0.0     6652.0           0.0   181.0   585.0   \n",
              "4     20.0         10.0        0.0         635.0     0.0     0.0   \n",
              "...    ...          ...        ...           ...     ...     ...   \n",
              "4272  34.0          0.0        0.0           0.0     0.0     0.0   \n",
              "4273  42.0          0.0      847.0          17.0    10.0   144.0   \n",
              "4274  27.0          0.0        0.0           0.0     0.0     0.0   \n",
              "4275  27.0          0.0     2680.0           0.0     0.0   523.0   \n",
              "4276  43.0          0.0        0.0           0.0     0.0     0.0   \n",
              "\n",
              "      HomePlanet_Earth  HomePlanet_Europa  HomePlanet_Mars  CryoSleep_False  \\\n",
              "0                  1.0                0.0              0.0              0.0   \n",
              "1                  1.0                0.0              0.0              1.0   \n",
              "2                  0.0                1.0              0.0              0.0   \n",
              "3                  0.0                1.0              0.0              1.0   \n",
              "4                  1.0                0.0              0.0              1.0   \n",
              "...                ...                ...              ...              ...   \n",
              "4272               1.0                0.0              0.0              0.0   \n",
              "4273               1.0                0.0              0.0              1.0   \n",
              "4274               0.0                0.0              1.0              0.0   \n",
              "4275               0.0                1.0              0.0              1.0   \n",
              "4276               1.0                0.0              0.0              0.0   \n",
              "\n",
              "      CryoSleep_True  Destination_55 Cancri e  Destination_PSO J318.5-22  \\\n",
              "0                1.0                      0.0                        0.0   \n",
              "1                0.0                      0.0                        0.0   \n",
              "2                1.0                      1.0                        0.0   \n",
              "3                0.0                      0.0                        0.0   \n",
              "4                0.0                      0.0                        0.0   \n",
              "...              ...                      ...                        ...   \n",
              "4272             1.0                      0.0                        0.0   \n",
              "4273             0.0                      0.0                        0.0   \n",
              "4274             1.0                      1.0                        0.0   \n",
              "4275             0.0                      0.0                        0.0   \n",
              "4276             1.0                      0.0                        1.0   \n",
              "\n",
              "      Destination_TRAPPIST-1e  VIP_False  VIP_True  \n",
              "0                         1.0        1.0       0.0  \n",
              "1                         1.0        1.0       0.0  \n",
              "2                         0.0        1.0       0.0  \n",
              "3                         1.0        1.0       0.0  \n",
              "4                         1.0        1.0       0.0  \n",
              "...                       ...        ...       ...  \n",
              "4272                      1.0        1.0       0.0  \n",
              "4273                      1.0        1.0       0.0  \n",
              "4274                      0.0        1.0       0.0  \n",
              "4275                      0.0        1.0       0.0  \n",
              "4276                      0.0        1.0       0.0  \n",
              "\n",
              "[4277 rows x 16 columns]"
            ],
            "text/html": [
              "\n",
              "  <div id=\"df-58d86ea9-c57b-4a56-b760-36bae0251e1b\">\n",
              "    <div class=\"colab-df-container\">\n",
              "      <div>\n",
              "<style scoped>\n",
              "    .dataframe tbody tr th:only-of-type {\n",
              "        vertical-align: middle;\n",
              "    }\n",
              "\n",
              "    .dataframe tbody tr th {\n",
              "        vertical-align: top;\n",
              "    }\n",
              "\n",
              "    .dataframe thead th {\n",
              "        text-align: right;\n",
              "    }\n",
              "</style>\n",
              "<table border=\"1\" class=\"dataframe\">\n",
              "  <thead>\n",
              "    <tr style=\"text-align: right;\">\n",
              "      <th></th>\n",
              "      <th>Age</th>\n",
              "      <th>RoomService</th>\n",
              "      <th>FoodCourt</th>\n",
              "      <th>ShoppingMall</th>\n",
              "      <th>Spa</th>\n",
              "      <th>VRDeck</th>\n",
              "      <th>HomePlanet_Earth</th>\n",
              "      <th>HomePlanet_Europa</th>\n",
              "      <th>HomePlanet_Mars</th>\n",
              "      <th>CryoSleep_False</th>\n",
              "      <th>CryoSleep_True</th>\n",
              "      <th>Destination_55 Cancri e</th>\n",
              "      <th>Destination_PSO J318.5-22</th>\n",
              "      <th>Destination_TRAPPIST-1e</th>\n",
              "      <th>VIP_False</th>\n",
              "      <th>VIP_True</th>\n",
              "    </tr>\n",
              "  </thead>\n",
              "  <tbody>\n",
              "    <tr>\n",
              "      <th>0</th>\n",
              "      <td>27.0</td>\n",
              "      <td>0.0</td>\n",
              "      <td>0.0</td>\n",
              "      <td>0.0</td>\n",
              "      <td>0.0</td>\n",
              "      <td>0.0</td>\n",
              "      <td>1.0</td>\n",
              "      <td>0.0</td>\n",
              "      <td>0.0</td>\n",
              "      <td>0.0</td>\n",
              "      <td>1.0</td>\n",
              "      <td>0.0</td>\n",
              "      <td>0.0</td>\n",
              "      <td>1.0</td>\n",
              "      <td>1.0</td>\n",
              "      <td>0.0</td>\n",
              "    </tr>\n",
              "    <tr>\n",
              "      <th>1</th>\n",
              "      <td>19.0</td>\n",
              "      <td>0.0</td>\n",
              "      <td>9.0</td>\n",
              "      <td>0.0</td>\n",
              "      <td>2823.0</td>\n",
              "      <td>0.0</td>\n",
              "      <td>1.0</td>\n",
              "      <td>0.0</td>\n",
              "      <td>0.0</td>\n",
              "      <td>1.0</td>\n",
              "      <td>0.0</td>\n",
              "      <td>0.0</td>\n",
              "      <td>0.0</td>\n",
              "      <td>1.0</td>\n",
              "      <td>1.0</td>\n",
              "      <td>0.0</td>\n",
              "    </tr>\n",
              "    <tr>\n",
              "      <th>2</th>\n",
              "      <td>31.0</td>\n",
              "      <td>0.0</td>\n",
              "      <td>0.0</td>\n",
              "      <td>0.0</td>\n",
              "      <td>0.0</td>\n",
              "      <td>0.0</td>\n",
              "      <td>0.0</td>\n",
              "      <td>1.0</td>\n",
              "      <td>0.0</td>\n",
              "      <td>0.0</td>\n",
              "      <td>1.0</td>\n",
              "      <td>1.0</td>\n",
              "      <td>0.0</td>\n",
              "      <td>0.0</td>\n",
              "      <td>1.0</td>\n",
              "      <td>0.0</td>\n",
              "    </tr>\n",
              "    <tr>\n",
              "      <th>3</th>\n",
              "      <td>38.0</td>\n",
              "      <td>0.0</td>\n",
              "      <td>6652.0</td>\n",
              "      <td>0.0</td>\n",
              "      <td>181.0</td>\n",
              "      <td>585.0</td>\n",
              "      <td>0.0</td>\n",
              "      <td>1.0</td>\n",
              "      <td>0.0</td>\n",
              "      <td>1.0</td>\n",
              "      <td>0.0</td>\n",
              "      <td>0.0</td>\n",
              "      <td>0.0</td>\n",
              "      <td>1.0</td>\n",
              "      <td>1.0</td>\n",
              "      <td>0.0</td>\n",
              "    </tr>\n",
              "    <tr>\n",
              "      <th>4</th>\n",
              "      <td>20.0</td>\n",
              "      <td>10.0</td>\n",
              "      <td>0.0</td>\n",
              "      <td>635.0</td>\n",
              "      <td>0.0</td>\n",
              "      <td>0.0</td>\n",
              "      <td>1.0</td>\n",
              "      <td>0.0</td>\n",
              "      <td>0.0</td>\n",
              "      <td>1.0</td>\n",
              "      <td>0.0</td>\n",
              "      <td>0.0</td>\n",
              "      <td>0.0</td>\n",
              "      <td>1.0</td>\n",
              "      <td>1.0</td>\n",
              "      <td>0.0</td>\n",
              "    </tr>\n",
              "    <tr>\n",
              "      <th>...</th>\n",
              "      <td>...</td>\n",
              "      <td>...</td>\n",
              "      <td>...</td>\n",
              "      <td>...</td>\n",
              "      <td>...</td>\n",
              "      <td>...</td>\n",
              "      <td>...</td>\n",
              "      <td>...</td>\n",
              "      <td>...</td>\n",
              "      <td>...</td>\n",
              "      <td>...</td>\n",
              "      <td>...</td>\n",
              "      <td>...</td>\n",
              "      <td>...</td>\n",
              "      <td>...</td>\n",
              "      <td>...</td>\n",
              "    </tr>\n",
              "    <tr>\n",
              "      <th>4272</th>\n",
              "      <td>34.0</td>\n",
              "      <td>0.0</td>\n",
              "      <td>0.0</td>\n",
              "      <td>0.0</td>\n",
              "      <td>0.0</td>\n",
              "      <td>0.0</td>\n",
              "      <td>1.0</td>\n",
              "      <td>0.0</td>\n",
              "      <td>0.0</td>\n",
              "      <td>0.0</td>\n",
              "      <td>1.0</td>\n",
              "      <td>0.0</td>\n",
              "      <td>0.0</td>\n",
              "      <td>1.0</td>\n",
              "      <td>1.0</td>\n",
              "      <td>0.0</td>\n",
              "    </tr>\n",
              "    <tr>\n",
              "      <th>4273</th>\n",
              "      <td>42.0</td>\n",
              "      <td>0.0</td>\n",
              "      <td>847.0</td>\n",
              "      <td>17.0</td>\n",
              "      <td>10.0</td>\n",
              "      <td>144.0</td>\n",
              "      <td>1.0</td>\n",
              "      <td>0.0</td>\n",
              "      <td>0.0</td>\n",
              "      <td>1.0</td>\n",
              "      <td>0.0</td>\n",
              "      <td>0.0</td>\n",
              "      <td>0.0</td>\n",
              "      <td>1.0</td>\n",
              "      <td>1.0</td>\n",
              "      <td>0.0</td>\n",
              "    </tr>\n",
              "    <tr>\n",
              "      <th>4274</th>\n",
              "      <td>27.0</td>\n",
              "      <td>0.0</td>\n",
              "      <td>0.0</td>\n",
              "      <td>0.0</td>\n",
              "      <td>0.0</td>\n",
              "      <td>0.0</td>\n",
              "      <td>0.0</td>\n",
              "      <td>0.0</td>\n",
              "      <td>1.0</td>\n",
              "      <td>0.0</td>\n",
              "      <td>1.0</td>\n",
              "      <td>1.0</td>\n",
              "      <td>0.0</td>\n",
              "      <td>0.0</td>\n",
              "      <td>1.0</td>\n",
              "      <td>0.0</td>\n",
              "    </tr>\n",
              "    <tr>\n",
              "      <th>4275</th>\n",
              "      <td>27.0</td>\n",
              "      <td>0.0</td>\n",
              "      <td>2680.0</td>\n",
              "      <td>0.0</td>\n",
              "      <td>0.0</td>\n",
              "      <td>523.0</td>\n",
              "      <td>0.0</td>\n",
              "      <td>1.0</td>\n",
              "      <td>0.0</td>\n",
              "      <td>1.0</td>\n",
              "      <td>0.0</td>\n",
              "      <td>0.0</td>\n",
              "      <td>0.0</td>\n",
              "      <td>0.0</td>\n",
              "      <td>1.0</td>\n",
              "      <td>0.0</td>\n",
              "    </tr>\n",
              "    <tr>\n",
              "      <th>4276</th>\n",
              "      <td>43.0</td>\n",
              "      <td>0.0</td>\n",
              "      <td>0.0</td>\n",
              "      <td>0.0</td>\n",
              "      <td>0.0</td>\n",
              "      <td>0.0</td>\n",
              "      <td>1.0</td>\n",
              "      <td>0.0</td>\n",
              "      <td>0.0</td>\n",
              "      <td>0.0</td>\n",
              "      <td>1.0</td>\n",
              "      <td>0.0</td>\n",
              "      <td>1.0</td>\n",
              "      <td>0.0</td>\n",
              "      <td>1.0</td>\n",
              "      <td>0.0</td>\n",
              "    </tr>\n",
              "  </tbody>\n",
              "</table>\n",
              "<p>4277 rows × 16 columns</p>\n",
              "</div>\n",
              "      <button class=\"colab-df-convert\" onclick=\"convertToInteractive('df-58d86ea9-c57b-4a56-b760-36bae0251e1b')\"\n",
              "              title=\"Convert this dataframe to an interactive table.\"\n",
              "              style=\"display:none;\">\n",
              "        \n",
              "  <svg xmlns=\"http://www.w3.org/2000/svg\" height=\"24px\"viewBox=\"0 0 24 24\"\n",
              "       width=\"24px\">\n",
              "    <path d=\"M0 0h24v24H0V0z\" fill=\"none\"/>\n",
              "    <path d=\"M18.56 5.44l.94 2.06.94-2.06 2.06-.94-2.06-.94-.94-2.06-.94 2.06-2.06.94zm-11 1L8.5 8.5l.94-2.06 2.06-.94-2.06-.94L8.5 2.5l-.94 2.06-2.06.94zm10 10l.94 2.06.94-2.06 2.06-.94-2.06-.94-.94-2.06-.94 2.06-2.06.94z\"/><path d=\"M17.41 7.96l-1.37-1.37c-.4-.4-.92-.59-1.43-.59-.52 0-1.04.2-1.43.59L10.3 9.45l-7.72 7.72c-.78.78-.78 2.05 0 2.83L4 21.41c.39.39.9.59 1.41.59.51 0 1.02-.2 1.41-.59l7.78-7.78 2.81-2.81c.8-.78.8-2.07 0-2.86zM5.41 20L4 18.59l7.72-7.72 1.47 1.35L5.41 20z\"/>\n",
              "  </svg>\n",
              "      </button>\n",
              "      \n",
              "  <style>\n",
              "    .colab-df-container {\n",
              "      display:flex;\n",
              "      flex-wrap:wrap;\n",
              "      gap: 12px;\n",
              "    }\n",
              "\n",
              "    .colab-df-convert {\n",
              "      background-color: #E8F0FE;\n",
              "      border: none;\n",
              "      border-radius: 50%;\n",
              "      cursor: pointer;\n",
              "      display: none;\n",
              "      fill: #1967D2;\n",
              "      height: 32px;\n",
              "      padding: 0 0 0 0;\n",
              "      width: 32px;\n",
              "    }\n",
              "\n",
              "    .colab-df-convert:hover {\n",
              "      background-color: #E2EBFA;\n",
              "      box-shadow: 0px 1px 2px rgba(60, 64, 67, 0.3), 0px 1px 3px 1px rgba(60, 64, 67, 0.15);\n",
              "      fill: #174EA6;\n",
              "    }\n",
              "\n",
              "    [theme=dark] .colab-df-convert {\n",
              "      background-color: #3B4455;\n",
              "      fill: #D2E3FC;\n",
              "    }\n",
              "\n",
              "    [theme=dark] .colab-df-convert:hover {\n",
              "      background-color: #434B5C;\n",
              "      box-shadow: 0px 1px 3px 1px rgba(0, 0, 0, 0.15);\n",
              "      filter: drop-shadow(0px 1px 2px rgba(0, 0, 0, 0.3));\n",
              "      fill: #FFFFFF;\n",
              "    }\n",
              "  </style>\n",
              "\n",
              "      <script>\n",
              "        const buttonEl =\n",
              "          document.querySelector('#df-58d86ea9-c57b-4a56-b760-36bae0251e1b button.colab-df-convert');\n",
              "        buttonEl.style.display =\n",
              "          google.colab.kernel.accessAllowed ? 'block' : 'none';\n",
              "\n",
              "        async function convertToInteractive(key) {\n",
              "          const element = document.querySelector('#df-58d86ea9-c57b-4a56-b760-36bae0251e1b');\n",
              "          const dataTable =\n",
              "            await google.colab.kernel.invokeFunction('convertToInteractive',\n",
              "                                                     [key], {});\n",
              "          if (!dataTable) return;\n",
              "\n",
              "          const docLinkHtml = 'Like what you see? Visit the ' +\n",
              "            '<a target=\"_blank\" href=https://colab.research.google.com/notebooks/data_table.ipynb>data table notebook</a>'\n",
              "            + ' to learn more about interactive tables.';\n",
              "          element.innerHTML = '';\n",
              "          dataTable['output_type'] = 'display_data';\n",
              "          await google.colab.output.renderOutput(dataTable, element);\n",
              "          const docLink = document.createElement('div');\n",
              "          docLink.innerHTML = docLinkHtml;\n",
              "          element.appendChild(docLink);\n",
              "        }\n",
              "      </script>\n",
              "    </div>\n",
              "  </div>\n",
              "  "
            ]
          },
          "metadata": {},
          "execution_count": 94
        }
      ]
    },
    {
      "cell_type": "markdown",
      "source": [
        "Проверим, остались ли ещё пустые значения."
      ],
      "metadata": {
        "id": "U-jCFPx_ab1n"
      }
    },
    {
      "cell_type": "code",
      "source": [
        "imputed_X_test.isnull().sum()"
      ],
      "metadata": {
        "colab": {
          "base_uri": "https://localhost:8080/"
        },
        "id": "wvA5bTT8zJPP",
        "outputId": "a8103c94-bce0-493d-abfa-bd124870054d"
      },
      "execution_count": null,
      "outputs": [
        {
          "output_type": "execute_result",
          "data": {
            "text/plain": [
              "Age                          0\n",
              "RoomService                  0\n",
              "FoodCourt                    0\n",
              "ShoppingMall                 0\n",
              "Spa                          0\n",
              "VRDeck                       0\n",
              "HomePlanet_Earth             0\n",
              "HomePlanet_Europa            0\n",
              "HomePlanet_Mars              0\n",
              "CryoSleep_False              0\n",
              "CryoSleep_True               0\n",
              "Destination_55 Cancri e      0\n",
              "Destination_PSO J318.5-22    0\n",
              "Destination_TRAPPIST-1e      0\n",
              "VIP_False                    0\n",
              "VIP_True                     0\n",
              "dtype: int64"
            ]
          },
          "metadata": {},
          "execution_count": 95
        }
      ]
    },
    {
      "cell_type": "markdown",
      "source": [
        "Таким образом, мы убедились, что SimpleImputer помог нам решить вопрос с NaN значениями."
      ],
      "metadata": {
        "id": "cyMUXVIIaggn"
      }
    },
    {
      "cell_type": "markdown",
      "source": [
        "Посмотрим на распределения и зависимости целевого столбца."
      ],
      "metadata": {
        "id": "8lcRXuWL5NOE"
      }
    },
    {
      "cell_type": "markdown",
      "source": [
        "Импорт библиотек для визуализации данных:"
      ],
      "metadata": {
        "id": "6BoSaZlpv048"
      }
    },
    {
      "cell_type": "code",
      "source": [
        "import matplotlib.pyplot as plt\n",
        "%matplotlib inline\n",
        "import seaborn as sns\n",
        "sns.set(style='darkgrid', font_scale=1.4)\n",
        "import plotly.express as px\n",
        "import time"
      ],
      "metadata": {
        "id": "3fDmGvJHvY_r"
      },
      "execution_count": null,
      "outputs": []
    },
    {
      "cell_type": "code",
      "source": [
        "plt.figure(figsize=(6,6))\n",
        "y.value_counts().plot.pie(explode=[0.1,0.1], autopct='%1.1f%%', shadow=True,\n",
        "                                                       textprops={'fontsize':16}).set_title(\"Target distribution\")"
      ],
      "metadata": {
        "colab": {
          "base_uri": "https://localhost:8080/",
          "height": 395
        },
        "id": "wh-How4t05OR",
        "outputId": "82485b12-69ac-4c8c-ed79-660c87b70043"
      },
      "execution_count": null,
      "outputs": [
        {
          "output_type": "execute_result",
          "data": {
            "text/plain": [
              "Text(0.5, 1.0, 'Target distribution')"
            ]
          },
          "metadata": {},
          "execution_count": 97
        },
        {
          "output_type": "display_data",
          "data": {
            "text/plain": [
              "<Figure size 432x432 with 1 Axes>"
            ],
            "image/png": "[encoded data removed]"
          },
          "metadata": {}
        }
      ]
    },
    {
      "cell_type": "markdown",
      "source": [
        "Целевой столбец сбалансирован, поэтому нам нам не нужно прибегать к овер- и андер-семплингу."
      ],
      "metadata": {
        "id": "S8Nt5pX41-IR"
      }
    },
    {
      "cell_type": "code",
      "source": [
        "plt.figure(figsize=(10,4))\n",
        "\n",
        "# Histogram\n",
        "sns.histplot(data=X_train_EDA, x='Age', hue=y, binwidth=1, kde=True)\n",
        "\n",
        "# Aesthetics\n",
        "plt.title('Age distribution')\n",
        "plt.xlabel('Age (years)')"
      ],
      "metadata": {
        "colab": {
          "base_uri": "https://localhost:8080/",
          "height": 332
        },
        "id": "nNNgEUFT29wz",
        "outputId": "252d8881-95a3-4987-9477-90ea34b9f97a"
      },
      "execution_count": null,
      "outputs": [
        {
          "output_type": "execute_result",
          "data": {
            "text/plain": [
              "Text(0.5, 0, 'Age (years)')"
            ]
          },
          "metadata": {},
          "execution_count": 98
        },
        {
          "output_type": "display_data",
          "data": {
            "text/plain": [
              "<Figure size 720x288 with 1 Axes>"
            ],
            "image/png": "[encoded data removed]"
          },
          "metadata": {}
        }
      ]
    },
    {
      "cell_type": "markdown",
      "source": [
        "\n",
        "*   Дети в возрасте до 18 лет чаще переносились, чем нет \n",
        "*   18-25-летние чаще оставались в этом измерении\n",
        "*   У лиц старше 25 лет вероятность остаться и перенестись примерно равны"
      ],
      "metadata": {
        "id": "MNla9nqF5afT"
      }
    },
    {
      "cell_type": "code",
      "source": [
        "exp_feats=['RoomService', 'FoodCourt', 'ShoppingMall', 'Spa', 'VRDeck']\n",
        "\n",
        "\n",
        "fig=plt.figure(figsize=(10,20))\n",
        "for i, var_name in enumerate(exp_feats):\n",
        "    \n",
        "    ax=fig.add_subplot(5,2,2*i+1)\n",
        "    sns.histplot(data=X_train, x=var_name, axes=ax, bins=30, kde=False, hue=y)\n",
        "    ax.set_title(var_name)\n",
        "    \n",
        "    \n",
        "    ax=fig.add_subplot(5,2,2*i+2)\n",
        "    sns.histplot(data=X_train, x=var_name, axes=ax, bins=30, kde=True, hue=y)\n",
        "    plt.ylim([0,100])\n",
        "    ax.set_title(var_name)\n",
        "fig.tight_layout()\n",
        "plt.show()"
      ],
      "metadata": {
        "colab": {
          "base_uri": "https://localhost:8080/",
          "height": 1000
        },
        "id": "tnX9gUIP6fS1",
        "outputId": "012f467f-91d4-4f4f-de93-f1a04923b360"
      },
      "execution_count": null,
      "outputs": [
        {
          "output_type": "display_data",
          "data": {
            "text/plain": [
              "<Figure size 720x1440 with 10 Axes>"
            ],
            "image/png": "[encoded data removed]"
          },
          "metadata": {}
        }
      ]
    },
    {
      "cell_type": "markdown",
      "source": [
        "Данные графики показывают распределение потраченных пассажирами денег на разные услуги.\n",
        "\n",
        "* Большинство людей не тратят никаких денег (как мы можем видеть слева), это связано с тем, что они выбрали криосон, корреляция абсолютная.\n",
        "* Распределение расходов уменьшается экспоненциально (как мы можем видеть справа).\n",
        "* Существует небольшое количество выбросов.\n",
        "* Люди, которых перевозили, как правило, тратили меньше.\n",
        "* Распределение обслуживания номеров, спа-центра и VRDeck отличаются от фуд-корта и торгового центра - мы можем рассматривать это как роскошь по сравнению с основными удобствами.\n"
      ],
      "metadata": {
        "id": "VjXTzXvX7Ebt"
      }
    },
    {
      "cell_type": "markdown",
      "source": [
        "Посмотрим на зависимость от планеты отправления:"
      ],
      "metadata": {
        "id": "y5inwWaeCZs2"
      }
    },
    {
      "cell_type": "code",
      "source": [
        "X_train_EDA['HomePlanet'].value_counts().plot(kind='bar')"
      ],
      "metadata": {
        "colab": {
          "base_uri": "https://localhost:8080/",
          "height": 329
        },
        "id": "g2wWQNQqBygG",
        "outputId": "d87548a7-117b-4d8d-9bf2-fdf96c1103bf"
      },
      "execution_count": null,
      "outputs": [
        {
          "output_type": "execute_result",
          "data": {
            "text/plain": [
              "<matplotlib.axes._subplots.AxesSubplot at 0x7f12ff931f10>"
            ]
          },
          "metadata": {},
          "execution_count": 101
        },
        {
          "output_type": "display_data",
          "data": {
            "text/plain": [
              "<Figure size 432x288 with 1 Axes>"
            ],
            "image/png": "[encoded data removed]"
          },
          "metadata": {}
        }
      ]
    },
    {
      "cell_type": "code",
      "source": [
        "sns.histplot(X_train_EDA, x='HomePlanet', hue=y)"
      ],
      "metadata": {
        "colab": {
          "base_uri": "https://localhost:8080/",
          "height": 312
        },
        "id": "OriPrryHB4cP",
        "outputId": "133a1c76-e732-455d-f35d-23d280c138f9"
      },
      "execution_count": null,
      "outputs": [
        {
          "output_type": "execute_result",
          "data": {
            "text/plain": [
              "<matplotlib.axes._subplots.AxesSubplot at 0x7f12ff821970>"
            ]
          },
          "metadata": {},
          "execution_count": 103
        },
        {
          "output_type": "display_data",
          "data": {
            "text/plain": [
              "<Figure size 432x288 with 1 Axes>"
            ],
            "image/png": "[encoded data removed]"
          },
          "metadata": {}
        }
      ]
    },
    {
      "cell_type": "markdown",
      "source": [
        "*  Мы можем видеть, что большинство перенесенных было с Земли\n",
        "* Земляне имели большую вероятность быть перенесенными в другое измерение.\n"
      ],
      "metadata": {
        "id": "fFqZ6ZeoCgcI"
      }
    },
    {
      "cell_type": "code",
      "source": [
        "X_train_EDA['CryoSleep'].value_counts().plot(kind='bar')"
      ],
      "metadata": {
        "colab": {
          "base_uri": "https://localhost:8080/",
          "height": 313
        },
        "id": "WvCbJhcxDHYY",
        "outputId": "17966c80-4475-4675-8ed6-0923b7fd792f"
      },
      "execution_count": null,
      "outputs": [
        {
          "output_type": "execute_result",
          "data": {
            "text/plain": [
              "<matplotlib.axes._subplots.AxesSubplot at 0x7f12ff8bbd90>"
            ]
          },
          "metadata": {},
          "execution_count": 104
        },
        {
          "output_type": "display_data",
          "data": {
            "text/plain": [
              "<Figure size 432x288 with 1 Axes>"
            ],
            "image/png": "[encoded data removed]"
          },
          "metadata": {}
        }
      ]
    },
    {
      "cell_type": "code",
      "source": [
        "sns.histplot(X_train_EDA, x=X_train_EDA['CryoSleep'].dropna().astype('int'), hue=y)"
      ],
      "metadata": {
        "colab": {
          "base_uri": "https://localhost:8080/",
          "height": 312
        },
        "id": "bdjsxho8DScq",
        "outputId": "df2652d2-d3b7-43d4-965c-8023cec37f23"
      },
      "execution_count": null,
      "outputs": [
        {
          "output_type": "execute_result",
          "data": {
            "text/plain": [
              "<matplotlib.axes._subplots.AxesSubplot at 0x7f12ff8b6a30>"
            ]
          },
          "metadata": {},
          "execution_count": 106
        },
        {
          "output_type": "display_data",
          "data": {
            "text/plain": [
              "<Figure size 432x288 with 1 Axes>"
            ],
            "image/png": "[encoded data removed]"
          },
          "metadata": {}
        }
      ]
    },
    {
      "cell_type": "markdown",
      "source": [
        "\n",
        "\n",
        "*   Большинство людей не находились в криосне\n",
        "* У тех, кто находился в криосне, было гораздо больше шансов не подвергнуться перемещению\n",
        "\n"
      ],
      "metadata": {
        "id": "xNCDEnCWDSCX"
      }
    },
    {
      "cell_type": "markdown",
      "source": [
        "##Модели"
      ],
      "metadata": {
        "id": "1fismDMRz9tX"
      }
    },
    {
      "cell_type": "markdown",
      "source": [
        "### Выбор моделей:\n",
        "\n",
        "\n",
        "1.   **Логистическая регрессия**. В отличие от линейной регрессии, которая использует наименьшие квадраты, эта модель использует оценку максимального правдоподобия для соответствия сигмоидной кривой распределению целевой переменной. \n",
        "\n",
        "2.  **KNN**. Работает путем выбора мажоритарного класса k-ближайших соседей, где обычно используется метрика евклидова расстояния. Это простой и эффективный алгоритм, но он может быть чувствителен ко многим факторам, например, к значению k, предварительной обработке данных и используемой метрике.\n",
        "\n",
        "3. **Random Forest** (Случайный лес). Ансамбль деревьев решений, который может быть использован для данной классификации. Здесь отдельные деревья строятся с помощью пакетирования (т.е. агрегирования загрузочных элементов, которые представляют собой не что иное, как множество наборов данных train, созданных с помощью выборки с заменой) и разделяются с использованием меньшего количества функций. Полученный в результате разнообразный лес некоррелированных деревьев демонстрирует меньшую дисперсию, а следовательно, он более устойчив к изменениям в данных и повышает точность прогнозирования новых данных.\n",
        "\n",
        "4. **XGBoost**. Похож на RF в том, что он состоит из ансамбля деревьев решений. Разница заключается в том, как эти деревья выводятся: XGBoost использует экстремальное повышение градиента при оптимизации своей целевой функции. Он часто дает наилучшие результаты, но работает относительно медленно по сравнению с другими алгоритмами повышения градиента.\n",
        "\n",
        "5. **CatBoost**. Категориальный бустинг - это алгоритм с открытым исходным кодом, основанный на деревьях решений с градиентным усилением. Он поддерживает числовые, категориальные и текстовые функции. Он хорошо работает с разнородными данными и даже с относительно небольшими данными. По задумке совмещает в себе лучшие идеи XGBoost и LightGBoost.\n"
      ],
      "metadata": {
        "id": "OsQncbL3wuuX"
      }
    },
    {
      "cell_type": "markdown",
      "source": [
        "Разделим данные на тренировочные и валидационные:"
      ],
      "metadata": {
        "id": "FbxJh-SV6rIC"
      }
    },
    {
      "cell_type": "code",
      "source": [
        "\n",
        "X_train, X_valid, y_train, y_valid = train_test_split(imputed_X_train ,y,stratify=y,train_size=0.8,test_size=0.2,random_state=0)"
      ],
      "metadata": {
        "id": "tZ3HeNuq6o9Q"
      },
      "execution_count": null,
      "outputs": []
    },
    {
      "cell_type": "markdown",
      "source": [
        "#LogisticRegression, KNN и RandomForest"
      ],
      "metadata": {
        "id": "TS-hTX9lyqsB"
      }
    },
    {
      "cell_type": "markdown",
      "source": [
        "Создадим Classifier'ы алгоритмов логиcтической регрессии, KNN и RandomForest, воспользовавшись библиотекой sklearn. \n",
        "\n",
        "Также подготовим сетки для GreedSearch - алгоритма автоматического подбора оптимальных параметров для модели."
      ],
      "metadata": {
        "id": "7E7MA49qyu-7"
      }
    },
    {
      "cell_type": "code",
      "source": [
        "from sklearn.linear_model import LogisticRegression\n",
        "from sklearn.ensemble import RandomForestClassifier\n",
        "from sklearn.neighbors import KNeighborsClassifier\n",
        "from sklearn.model_selection import GridSearchCV\n",
        "\n",
        "\n",
        "classifiers = {\n",
        "    \"LogisticRegression\" : LogisticRegression(random_state=0),\n",
        "    \"KNN\" : KNeighborsClassifier(),\n",
        "    \"RandomForest\" : RandomForestClassifier(random_state=0)\n",
        "}\n",
        "\n",
        "LR_grid = {'penalty': ['l2'],\n",
        "           'C': [0.25, 0.5, 0.75, 1, 1.25, 1.5],\n",
        "           'max_iter': [50, 100, 150]}\n",
        "\n",
        "KNN_grid = {'n_neighbors': [3, 5, 7, 9],\n",
        "            'p': [1, 2]}\n",
        "\n",
        "RF_grid = {'n_estimators': [50, 100, 150, 200, 250, 300],\n",
        "        'max_depth': [4, 6, 8, 10, 12]}\n",
        "\n",
        "grid = {\n",
        "    \"LogisticRegression\" : LR_grid,\n",
        "    \"KNN\" : KNN_grid,\n",
        "    \"RandomForest\" : RF_grid\n",
        "}"
      ],
      "metadata": {
        "id": "O9GVUSKAzXBf"
      },
      "execution_count": null,
      "outputs": []
    },
    {
      "cell_type": "markdown",
      "source": [
        "Обучаем модели с помощью GridSearch (но без перекрестной валидации, чтобы это не занимало слишком много времени), чтобы получить приблизительное представление о том, какие модели являются лучшими для этого набора данных."
      ],
      "metadata": {
        "id": "CcTY2Vvn3vu7"
      }
    },
    {
      "cell_type": "code",
      "source": [
        "i=0\n",
        "clf_best_params=classifiers.copy()\n",
        "valid_scores=pd.DataFrame({'Classifer':classifiers.keys(), 'Validation accuracy': np.zeros(len(classifiers)), 'Training time': np.zeros(len(classifiers))})\n",
        "for key, classifier in classifiers.items():\n",
        "    start = time.time()\n",
        "    clf = GridSearchCV(estimator=classifier, param_grid=grid[key], n_jobs=-1, cv=None)\n",
        "\n",
        "\n",
        "    clf.fit(X_train, y_train)\n",
        "    valid_scores.iloc[i,1]=clf.score(X_valid, y_valid)\n",
        "\n",
        "\n",
        "    clf_best_params[key]=clf.best_params_\n",
        "    \n",
        "\n",
        "    stop = time.time()\n",
        "    valid_scores.iloc[i,2]=np.round((stop - start)/60, 2)\n",
        "    \n",
        "    print('Модель:', key)\n",
        "    print('Время обучения:', valid_scores.iloc[i,2])\n",
        "    print('')\n",
        "    i+=1"
      ],
      "metadata": {
        "colab": {
          "base_uri": "https://localhost:8080/"
        },
        "id": "tTnaC-uG32mf",
        "outputId": "92a68806-a1ac-43e1-9235-6ffaf352647f"
      },
      "execution_count": null,
      "outputs": [
        {
          "output_type": "stream",
          "name": "stderr",
          "text": [
            "/usr/local/lib/python3.8/dist-packages/sklearn/linear_model/_logistic.py:814: ConvergenceWarning: lbfgs failed to converge (status=1):\n",
            "STOP: TOTAL NO. of ITERATIONS REACHED LIMIT.\n",
            "\n",
            "Increase the number of iterations (max_iter) or scale the data as shown in:\n",
            "    https://scikit-learn.org/stable/modules/preprocessing.html\n",
            "Please also refer to the documentation for alternative solver options:\n",
            "    https://scikit-learn.org/stable/modules/linear_model.html#logistic-regression\n",
            "  n_iter_i = _check_optimize_result(\n"
          ]
        },
        {
          "output_type": "stream",
          "name": "stdout",
          "text": [
            "Модель: LogisticRegression\n",
            "Время обучения: 0.13\n",
            "\n",
            "Модель: KNN\n",
            "Время обучения: 0.15\n",
            "\n",
            "Модель: RandomForest\n",
            "Время обучения: 1.78\n",
            "\n"
          ]
        }
      ]
    },
    {
      "cell_type": "markdown",
      "source": [
        "Теперь посмотрим результаты обучения моделей:"
      ],
      "metadata": {
        "id": "hVg634Qc-8Qp"
      }
    },
    {
      "cell_type": "code",
      "source": [
        "valid_scores"
      ],
      "metadata": {
        "colab": {
          "base_uri": "https://localhost:8080/",
          "height": 143
        },
        "id": "X7taPX3G-Qx2",
        "outputId": "335d7a64-1c37-4222-c392-803f9a66e397"
      },
      "execution_count": null,
      "outputs": [
        {
          "output_type": "execute_result",
          "data": {
            "text/plain": [
              "            Classifer  Validation accuracy  Training time\n",
              "0  LogisticRegression             0.782059           0.13\n",
              "1                 KNN             0.769983           0.15\n",
              "2        RandomForest             0.787234           1.78"
            ],
            "text/html": [
              "\n",
              "  <div id=\"df-e702bb21-1344-4ab6-8a30-d6d7b694cb00\">\n",
              "    <div class=\"colab-df-container\">\n",
              "      <div>\n",
              "<style scoped>\n",
              "    .dataframe tbody tr th:only-of-type {\n",
              "        vertical-align: middle;\n",
              "    }\n",
              "\n",
              "    .dataframe tbody tr th {\n",
              "        vertical-align: top;\n",
              "    }\n",
              "\n",
              "    .dataframe thead th {\n",
              "        text-align: right;\n",
              "    }\n",
              "</style>\n",
              "<table border=\"1\" class=\"dataframe\">\n",
              "  <thead>\n",
              "    <tr style=\"text-align: right;\">\n",
              "      <th></th>\n",
              "      <th>Classifer</th>\n",
              "      <th>Validation accuracy</th>\n",
              "      <th>Training time</th>\n",
              "    </tr>\n",
              "  </thead>\n",
              "  <tbody>\n",
              "    <tr>\n",
              "      <th>0</th>\n",
              "      <td>LogisticRegression</td>\n",
              "      <td>0.782059</td>\n",
              "      <td>0.13</td>\n",
              "    </tr>\n",
              "    <tr>\n",
              "      <th>1</th>\n",
              "      <td>KNN</td>\n",
              "      <td>0.769983</td>\n",
              "      <td>0.15</td>\n",
              "    </tr>\n",
              "    <tr>\n",
              "      <th>2</th>\n",
              "      <td>RandomForest</td>\n",
              "      <td>0.787234</td>\n",
              "      <td>1.78</td>\n",
              "    </tr>\n",
              "  </tbody>\n",
              "</table>\n",
              "</div>\n",
              "      <button class=\"colab-df-convert\" onclick=\"convertToInteractive('df-e702bb21-1344-4ab6-8a30-d6d7b694cb00')\"\n",
              "              title=\"Convert this dataframe to an interactive table.\"\n",
              "              style=\"display:none;\">\n",
              "        \n",
              "  <svg xmlns=\"http://www.w3.org/2000/svg\" height=\"24px\"viewBox=\"0 0 24 24\"\n",
              "       width=\"24px\">\n",
              "    <path d=\"M0 0h24v24H0V0z\" fill=\"none\"/>\n",
              "    <path d=\"M18.56 5.44l.94 2.06.94-2.06 2.06-.94-2.06-.94-.94-2.06-.94 2.06-2.06.94zm-11 1L8.5 8.5l.94-2.06 2.06-.94-2.06-.94L8.5 2.5l-.94 2.06-2.06.94zm10 10l.94 2.06.94-2.06 2.06-.94-2.06-.94-.94-2.06-.94 2.06-2.06.94z\"/><path d=\"M17.41 7.96l-1.37-1.37c-.4-.4-.92-.59-1.43-.59-.52 0-1.04.2-1.43.59L10.3 9.45l-7.72 7.72c-.78.78-.78 2.05 0 2.83L4 21.41c.39.39.9.59 1.41.59.51 0 1.02-.2 1.41-.59l7.78-7.78 2.81-2.81c.8-.78.8-2.07 0-2.86zM5.41 20L4 18.59l7.72-7.72 1.47 1.35L5.41 20z\"/>\n",
              "  </svg>\n",
              "      </button>\n",
              "      \n",
              "  <style>\n",
              "    .colab-df-container {\n",
              "      display:flex;\n",
              "      flex-wrap:wrap;\n",
              "      gap: 12px;\n",
              "    }\n",
              "\n",
              "    .colab-df-convert {\n",
              "      background-color: #E8F0FE;\n",
              "      border: none;\n",
              "      border-radius: 50%;\n",
              "      cursor: pointer;\n",
              "      display: none;\n",
              "      fill: #1967D2;\n",
              "      height: 32px;\n",
              "      padding: 0 0 0 0;\n",
              "      width: 32px;\n",
              "    }\n",
              "\n",
              "    .colab-df-convert:hover {\n",
              "      background-color: #E2EBFA;\n",
              "      box-shadow: 0px 1px 2px rgba(60, 64, 67, 0.3), 0px 1px 3px 1px rgba(60, 64, 67, 0.15);\n",
              "      fill: #174EA6;\n",
              "    }\n",
              "\n",
              "    [theme=dark] .colab-df-convert {\n",
              "      background-color: #3B4455;\n",
              "      fill: #D2E3FC;\n",
              "    }\n",
              "\n",
              "    [theme=dark] .colab-df-convert:hover {\n",
              "      background-color: #434B5C;\n",
              "      box-shadow: 0px 1px 3px 1px rgba(0, 0, 0, 0.15);\n",
              "      filter: drop-shadow(0px 1px 2px rgba(0, 0, 0, 0.3));\n",
              "      fill: #FFFFFF;\n",
              "    }\n",
              "  </style>\n",
              "\n",
              "      <script>\n",
              "        const buttonEl =\n",
              "          document.querySelector('#df-e702bb21-1344-4ab6-8a30-d6d7b694cb00 button.colab-df-convert');\n",
              "        buttonEl.style.display =\n",
              "          google.colab.kernel.accessAllowed ? 'block' : 'none';\n",
              "\n",
              "        async function convertToInteractive(key) {\n",
              "          const element = document.querySelector('#df-e702bb21-1344-4ab6-8a30-d6d7b694cb00');\n",
              "          const dataTable =\n",
              "            await google.colab.kernel.invokeFunction('convertToInteractive',\n",
              "                                                     [key], {});\n",
              "          if (!dataTable) return;\n",
              "\n",
              "          const docLinkHtml = 'Like what you see? Visit the ' +\n",
              "            '<a target=\"_blank\" href=https://colab.research.google.com/notebooks/data_table.ipynb>data table notebook</a>'\n",
              "            + ' to learn more about interactive tables.';\n",
              "          element.innerHTML = '';\n",
              "          dataTable['output_type'] = 'display_data';\n",
              "          await google.colab.output.renderOutput(dataTable, element);\n",
              "          const docLink = document.createElement('div');\n",
              "          docLink.innerHTML = docLinkHtml;\n",
              "          element.appendChild(docLink);\n",
              "        }\n",
              "      </script>\n",
              "    </div>\n",
              "  </div>\n",
              "  "
            ]
          },
          "metadata": {},
          "execution_count": 85
        }
      ]
    },
    {
      "cell_type": "markdown",
      "source": [
        "Как мы можем видеть, RandomForest показал лучший результат **0.787**.\n",
        "Поэтому нам стоит перейти к XGBoost, так как это должно улучшить наш результат."
      ],
      "metadata": {
        "id": "2G-f4_a5_EMV"
      }
    },
    {
      "cell_type": "markdown",
      "source": [
        "#4. XGBoost"
      ],
      "metadata": {
        "id": "qAPYZlnZmjaD"
      }
    },
    {
      "cell_type": "markdown",
      "source": [
        "Для нашей задачи необходим модуль XGBClassifier. Создадим с его помощью модель, заполним её тренировочными данными и начнём её обучение. Далее попробуем нашу обучившуюся модель на тестовых данных, чтобы она сделала предсказание."
      ],
      "metadata": {
        "id": "aTf-hmtMa1OK"
      }
    },
    {
      "cell_type": "code",
      "source": [
        "from xgboost import XGBClassifier\n",
        "\n",
        "my_model = XGBClassifier()\n",
        "my_model.fit(imputed_X_train, y)\n",
        "\n",
        "predictions = my_model.predict(imputed_X_test)\n",
        "predictions"
      ],
      "metadata": {
        "colab": {
          "base_uri": "https://localhost:8080/"
        },
        "id": "UOW3rWwez9dr",
        "outputId": "3223e887-c239-4750-f496-9373d7b06f25"
      },
      "execution_count": null,
      "outputs": [
        {
          "output_type": "execute_result",
          "data": {
            "text/plain": [
              "array([ True, False,  True, ...,  True,  True,  True])"
            ]
          },
          "metadata": {},
          "execution_count": 219
        }
      ]
    },
    {
      "cell_type": "markdown",
      "source": [
        "##Предсказание"
      ],
      "metadata": {
        "id": "paYvZNId2HSC"
      }
    },
    {
      "cell_type": "markdown",
      "source": [
        "Теперь на основе полученного предсказания составим новую таблицу, которую в дальнейшем отправим на соревнование. Она будет состоять из столбца с Id пассажира и информацией, выжил ли он."
      ],
      "metadata": {
        "id": "dI8-QmyobbNl"
      }
    },
    {
      "cell_type": "code",
      "source": [
        "prediction = my_model.predict(X_test)\n",
        "result = pd.DataFrame({\n",
        "    \"PassengerId\": X_test.index,\n",
        "    \"Transported\": prediction\n",
        "})\n",
        "result['PassengerId'] = result['PassengerId'].astype('str')\n",
        "result"
      ],
      "metadata": {
        "colab": {
          "base_uri": "https://localhost:8080/",
          "height": 424
        },
        "id": "PnPQH4jQ2IoN",
        "outputId": "114f5c3a-9c13-4810-ae71-efdb927be47f"
      },
      "execution_count": null,
      "outputs": [
        {
          "output_type": "execute_result",
          "data": {
            "text/plain": [
              "     PassengerId  Transported\n",
              "0        0013_01         True\n",
              "1        0018_01        False\n",
              "2        0019_01         True\n",
              "3        0021_01         True\n",
              "4        0023_01         True\n",
              "...          ...          ...\n",
              "4272     9266_02         True\n",
              "4273     9269_01        False\n",
              "4274     9271_01         True\n",
              "4275     9273_01         True\n",
              "4276     9277_01         True\n",
              "\n",
              "[4277 rows x 2 columns]"
            ],
            "text/html": [
              "\n",
              "  <div id=\"df-31ba3998-909e-4c66-8ab0-774be36a7e17\">\n",
              "    <div class=\"colab-df-container\">\n",
              "      <div>\n",
              "<style scoped>\n",
              "    .dataframe tbody tr th:only-of-type {\n",
              "        vertical-align: middle;\n",
              "    }\n",
              "\n",
              "    .dataframe tbody tr th {\n",
              "        vertical-align: top;\n",
              "    }\n",
              "\n",
              "    .dataframe thead th {\n",
              "        text-align: right;\n",
              "    }\n",
              "</style>\n",
              "<table border=\"1\" class=\"dataframe\">\n",
              "  <thead>\n",
              "    <tr style=\"text-align: right;\">\n",
              "      <th></th>\n",
              "      <th>PassengerId</th>\n",
              "      <th>Transported</th>\n",
              "    </tr>\n",
              "  </thead>\n",
              "  <tbody>\n",
              "    <tr>\n",
              "      <th>0</th>\n",
              "      <td>0013_01</td>\n",
              "      <td>True</td>\n",
              "    </tr>\n",
              "    <tr>\n",
              "      <th>1</th>\n",
              "      <td>0018_01</td>\n",
              "      <td>False</td>\n",
              "    </tr>\n",
              "    <tr>\n",
              "      <th>2</th>\n",
              "      <td>0019_01</td>\n",
              "      <td>True</td>\n",
              "    </tr>\n",
              "    <tr>\n",
              "      <th>3</th>\n",
              "      <td>0021_01</td>\n",
              "      <td>True</td>\n",
              "    </tr>\n",
              "    <tr>\n",
              "      <th>4</th>\n",
              "      <td>0023_01</td>\n",
              "      <td>True</td>\n",
              "    </tr>\n",
              "    <tr>\n",
              "      <th>...</th>\n",
              "      <td>...</td>\n",
              "      <td>...</td>\n",
              "    </tr>\n",
              "    <tr>\n",
              "      <th>4272</th>\n",
              "      <td>9266_02</td>\n",
              "      <td>True</td>\n",
              "    </tr>\n",
              "    <tr>\n",
              "      <th>4273</th>\n",
              "      <td>9269_01</td>\n",
              "      <td>False</td>\n",
              "    </tr>\n",
              "    <tr>\n",
              "      <th>4274</th>\n",
              "      <td>9271_01</td>\n",
              "      <td>True</td>\n",
              "    </tr>\n",
              "    <tr>\n",
              "      <th>4275</th>\n",
              "      <td>9273_01</td>\n",
              "      <td>True</td>\n",
              "    </tr>\n",
              "    <tr>\n",
              "      <th>4276</th>\n",
              "      <td>9277_01</td>\n",
              "      <td>True</td>\n",
              "    </tr>\n",
              "  </tbody>\n",
              "</table>\n",
              "<p>4277 rows × 2 columns</p>\n",
              "</div>\n",
              "      <button class=\"colab-df-convert\" onclick=\"convertToInteractive('df-31ba3998-909e-4c66-8ab0-774be36a7e17')\"\n",
              "              title=\"Convert this dataframe to an interactive table.\"\n",
              "              style=\"display:none;\">\n",
              "        \n",
              "  <svg xmlns=\"http://www.w3.org/2000/svg\" height=\"24px\"viewBox=\"0 0 24 24\"\n",
              "       width=\"24px\">\n",
              "    <path d=\"M0 0h24v24H0V0z\" fill=\"none\"/>\n",
              "    <path d=\"M18.56 5.44l.94 2.06.94-2.06 2.06-.94-2.06-.94-.94-2.06-.94 2.06-2.06.94zm-11 1L8.5 8.5l.94-2.06 2.06-.94-2.06-.94L8.5 2.5l-.94 2.06-2.06.94zm10 10l.94 2.06.94-2.06 2.06-.94-2.06-.94-.94-2.06-.94 2.06-2.06.94z\"/><path d=\"M17.41 7.96l-1.37-1.37c-.4-.4-.92-.59-1.43-.59-.52 0-1.04.2-1.43.59L10.3 9.45l-7.72 7.72c-.78.78-.78 2.05 0 2.83L4 21.41c.39.39.9.59 1.41.59.51 0 1.02-.2 1.41-.59l7.78-7.78 2.81-2.81c.8-.78.8-2.07 0-2.86zM5.41 20L4 18.59l7.72-7.72 1.47 1.35L5.41 20z\"/>\n",
              "  </svg>\n",
              "      </button>\n",
              "      \n",
              "  <style>\n",
              "    .colab-df-container {\n",
              "      display:flex;\n",
              "      flex-wrap:wrap;\n",
              "      gap: 12px;\n",
              "    }\n",
              "\n",
              "    .colab-df-convert {\n",
              "      background-color: #E8F0FE;\n",
              "      border: none;\n",
              "      border-radius: 50%;\n",
              "      cursor: pointer;\n",
              "      display: none;\n",
              "      fill: #1967D2;\n",
              "      height: 32px;\n",
              "      padding: 0 0 0 0;\n",
              "      width: 32px;\n",
              "    }\n",
              "\n",
              "    .colab-df-convert:hover {\n",
              "      background-color: #E2EBFA;\n",
              "      box-shadow: 0px 1px 2px rgba(60, 64, 67, 0.3), 0px 1px 3px 1px rgba(60, 64, 67, 0.15);\n",
              "      fill: #174EA6;\n",
              "    }\n",
              "\n",
              "    [theme=dark] .colab-df-convert {\n",
              "      background-color: #3B4455;\n",
              "      fill: #D2E3FC;\n",
              "    }\n",
              "\n",
              "    [theme=dark] .colab-df-convert:hover {\n",
              "      background-color: #434B5C;\n",
              "      box-shadow: 0px 1px 3px 1px rgba(0, 0, 0, 0.15);\n",
              "      filter: drop-shadow(0px 1px 2px rgba(0, 0, 0, 0.3));\n",
              "      fill: #FFFFFF;\n",
              "    }\n",
              "  </style>\n",
              "\n",
              "      <script>\n",
              "        const buttonEl =\n",
              "          document.querySelector('#df-31ba3998-909e-4c66-8ab0-774be36a7e17 button.colab-df-convert');\n",
              "        buttonEl.style.display =\n",
              "          google.colab.kernel.accessAllowed ? 'block' : 'none';\n",
              "\n",
              "        async function convertToInteractive(key) {\n",
              "          const element = document.querySelector('#df-31ba3998-909e-4c66-8ab0-774be36a7e17');\n",
              "          const dataTable =\n",
              "            await google.colab.kernel.invokeFunction('convertToInteractive',\n",
              "                                                     [key], {});\n",
              "          if (!dataTable) return;\n",
              "\n",
              "          const docLinkHtml = 'Like what you see? Visit the ' +\n",
              "            '<a target=\"_blank\" href=https://colab.research.google.com/notebooks/data_table.ipynb>data table notebook</a>'\n",
              "            + ' to learn more about interactive tables.';\n",
              "          element.innerHTML = '';\n",
              "          dataTable['output_type'] = 'display_data';\n",
              "          await google.colab.output.renderOutput(dataTable, element);\n",
              "          const docLink = document.createElement('div');\n",
              "          docLink.innerHTML = docLinkHtml;\n",
              "          element.appendChild(docLink);\n",
              "        }\n",
              "      </script>\n",
              "    </div>\n",
              "  </div>\n",
              "  "
            ]
          },
          "metadata": {},
          "execution_count": 220
        }
      ]
    },
    {
      "cell_type": "markdown",
      "source": [
        "##Экспорт в csv"
      ],
      "metadata": {
        "id": "hc0LMtRr3s2Z"
      }
    },
    {
      "cell_type": "markdown",
      "source": [
        "После этого экспортируем полученный результат в csv таблицу для дальнейшей отправки."
      ],
      "metadata": {
        "id": "OnN62Xzubrg1"
      }
    },
    {
      "cell_type": "code",
      "source": [
        "result.to_csv(\"/content/drive/MyDrive/Data Analysis/Project/result.csv\", index=False)"
      ],
      "metadata": {
        "id": "uNHwBWgk3u9y"
      },
      "execution_count": null,
      "outputs": []
    },
    {
      "cell_type": "markdown",
      "source": [
        "##Результат"
      ],
      "metadata": {
        "id": "B-jop_i8Ie9B"
      }
    },
    {
      "cell_type": "markdown",
      "source": [
        "С помощью XGBoost удалось достичь точности предсказания в 79,82% !"
      ],
      "metadata": {
        "id": "3fDWKseCb1rR"
      }
    },
    {
      "cell_type": "markdown",
      "source": [
        "![Безымянный.png](data:image/png;base64,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)"
      ],
      "metadata": {
        "id": "0AXmdDKPIEqm"
      }
    },
    {
      "cell_type": "markdown",
      "source": [
        "#CatBoost"
      ],
      "metadata": {
        "id": "kM9dyAUy7bwO"
      }
    },
    {
      "cell_type": "markdown",
      "source": [
        "##Импорты и загрузка датасета"
      ],
      "metadata": {
        "id": "YVi38Ay98DBG"
      }
    },
    {
      "cell_type": "code",
      "source": [
        "# Set up code checking\n",
        "!pip install git+https://github.com/ML-Challenge/learntools.git\n",
        "!pip install catboost\n",
        "!pip install scikit-learn\n",
        "!pip install ipywidgets\n",
        "import os\n",
        "from learntools.core import binder\n",
        "binder.bind(globals())\n",
        "from learntools.ml_intermediate.ex3 import *\n",
        "print(\"Setup Complete\")"
      ],
      "metadata": {
        "id": "HAy2WWgZ7fW5"
      },
      "execution_count": null,
      "outputs": []
    },
    {
      "cell_type": "code",
      "source": [
        "import pandas as pd\n",
        "import numpy as np\n",
        "from sklearn.model_selection import train_test_split\n",
        "from sklearn.metrics import mean_absolute_error\n",
        "from xgboost import XGBRegressor\n",
        "\n",
        "\n",
        "X_train = pd.read_csv('/content/drive/MyDrive/Data Analysis/Project/train.csv', index_col='PassengerId')\n",
        "X_test = pd.read_csv('/content/drive/MyDrive/Data Analysis/Project/test.csv', index_col='PassengerId')\n",
        "\n",
        "X_train.drop(['Name'], axis=1, inplace=True)\n",
        "X_test.drop(['Name'], axis=1, inplace=True)\n",
        "\n",
        "X_train.dropna(axis=0, subset=['Transported'], inplace=True)\n",
        "y = X_train.Transported              \n",
        "X_train.drop(['Transported'], axis=1, inplace=True)"
      ],
      "metadata": {
        "id": "eVIrrAJA7nM1"
      },
      "execution_count": null,
      "outputs": []
    },
    {
      "cell_type": "markdown",
      "source": [
        "Данный датасет уже был описан, поэтому сосредоточимся на особенностях использования CatBoost."
      ],
      "metadata": {
        "id": "_wtLPZ81cWa6"
      }
    },
    {
      "cell_type": "markdown",
      "source": [
        "##Категориальные данные"
      ],
      "metadata": {
        "id": "tphJ_4E_FNt5"
      }
    },
    {
      "cell_type": "code",
      "source": [
        "categorical_features_indices = np.where(X_train.dtypes != float)[0]\n",
        "categorical_features_indices"
      ],
      "metadata": {
        "colab": {
          "base_uri": "https://localhost:8080/"
        },
        "id": "GrkHUFdVFNQb",
        "outputId": "378b1621-db31-4efd-e71a-70ddb28f9ea5"
      },
      "execution_count": null,
      "outputs": [
        {
          "output_type": "execute_result",
          "data": {
            "text/plain": [
              "array([0, 1, 2, 3, 5])"
            ]
          },
          "metadata": {},
          "execution_count": 257
        }
      ]
    },
    {
      "cell_type": "markdown",
      "source": [
        "Здесь мы получили индексы категориальных фич, которые понадобятся нам в дальнейшем при создании модели."
      ],
      "metadata": {
        "id": "Fb2nfriPfw2x"
      }
    },
    {
      "cell_type": "markdown",
      "source": [
        "##Пропущенные значения"
      ],
      "metadata": {
        "id": "TTrKw-Dx8LEz"
      }
    },
    {
      "cell_type": "code",
      "source": [
        "# Fill in the line below: get names of columns with missing values\n",
        "cols_with_missing = [(col, X_train[col].isnull().sum() * 100 // len(X_train)) for col in X_train.columns\n",
        "                     if X_train[col].isnull().any()]\n",
        "cols_with_missing.sort(key=lambda x: x[1], reverse=True)\n",
        "cols_with_missing"
      ],
      "metadata": {
        "colab": {
          "base_uri": "https://localhost:8080/"
        },
        "id": "a4VISy0-8Myt",
        "outputId": "97085b07-8f8a-42f2-dc51-be23bbe33970"
      },
      "execution_count": null,
      "outputs": [
        {
          "output_type": "execute_result",
          "data": {
            "text/plain": [
              "[('HomePlanet', 2),\n",
              " ('CryoSleep', 2),\n",
              " ('Cabin', 2),\n",
              " ('Destination', 2),\n",
              " ('Age', 2),\n",
              " ('VIP', 2),\n",
              " ('RoomService', 2),\n",
              " ('FoodCourt', 2),\n",
              " ('ShoppingMall', 2),\n",
              " ('Spa', 2),\n",
              " ('VRDeck', 2)]"
            ]
          },
          "metadata": {},
          "execution_count": 258
        }
      ]
    },
    {
      "cell_type": "markdown",
      "source": [
        "Датасет по-прежнему тот же самый, поэтому снова убеждаемся, что пропущенных значений не более 2%"
      ],
      "metadata": {
        "id": "u4c0knTBgSS9"
      }
    },
    {
      "cell_type": "code",
      "source": [
        "X_train"
      ],
      "metadata": {
        "colab": {
          "base_uri": "https://localhost:8080/",
          "height": 455
        },
        "id": "iF-NOenD8kqs",
        "outputId": "48caa4f3-e443-4b52-a7cf-db087b8a1662"
      },
      "execution_count": null,
      "outputs": [
        {
          "output_type": "execute_result",
          "data": {
            "text/plain": [
              "            HomePlanet CryoSleep     Cabin    Destination   Age    VIP  \\\n",
              "PassengerId                                                              \n",
              "0001_01         Europa     False     B/0/P    TRAPPIST-1e  39.0  False   \n",
              "0002_01          Earth     False     F/0/S    TRAPPIST-1e  24.0  False   \n",
              "0003_01         Europa     False     A/0/S    TRAPPIST-1e  58.0   True   \n",
              "0003_02         Europa     False     A/0/S    TRAPPIST-1e  33.0  False   \n",
              "0004_01          Earth     False     F/1/S    TRAPPIST-1e  16.0  False   \n",
              "...                ...       ...       ...            ...   ...    ...   \n",
              "9276_01         Europa     False    A/98/P    55 Cancri e  41.0   True   \n",
              "9278_01          Earth      True  G/1499/S  PSO J318.5-22  18.0  False   \n",
              "9279_01          Earth     False  G/1500/S    TRAPPIST-1e  26.0  False   \n",
              "9280_01         Europa     False   E/608/S    55 Cancri e  32.0  False   \n",
              "9280_02         Europa     False   E/608/S    TRAPPIST-1e  44.0  False   \n",
              "\n",
              "             RoomService  FoodCourt  ShoppingMall     Spa  VRDeck  \n",
              "PassengerId                                                        \n",
              "0001_01              0.0        0.0           0.0     0.0     0.0  \n",
              "0002_01            109.0        9.0          25.0   549.0    44.0  \n",
              "0003_01             43.0     3576.0           0.0  6715.0    49.0  \n",
              "0003_02              0.0     1283.0         371.0  3329.0   193.0  \n",
              "0004_01            303.0       70.0         151.0   565.0     2.0  \n",
              "...                  ...        ...           ...     ...     ...  \n",
              "9276_01              0.0     6819.0           0.0  1643.0    74.0  \n",
              "9278_01              0.0        0.0           0.0     0.0     0.0  \n",
              "9279_01              0.0        0.0        1872.0     1.0     0.0  \n",
              "9280_01              0.0     1049.0           0.0   353.0  3235.0  \n",
              "9280_02            126.0     4688.0           0.0     0.0    12.0  \n",
              "\n",
              "[8693 rows x 11 columns]"
            ],
            "text/html": [
              "\n",
              "  <div id=\"df-e05d79b2-49cc-4fc0-b0c2-54ff1df38e6e\">\n",
              "    <div class=\"colab-df-container\">\n",
              "      <div>\n",
              "<style scoped>\n",
              "    .dataframe tbody tr th:only-of-type {\n",
              "        vertical-align: middle;\n",
              "    }\n",
              "\n",
              "    .dataframe tbody tr th {\n",
              "        vertical-align: top;\n",
              "    }\n",
              "\n",
              "    .dataframe thead th {\n",
              "        text-align: right;\n",
              "    }\n",
              "</style>\n",
              "<table border=\"1\" class=\"dataframe\">\n",
              "  <thead>\n",
              "    <tr style=\"text-align: right;\">\n",
              "      <th></th>\n",
              "      <th>HomePlanet</th>\n",
              "      <th>CryoSleep</th>\n",
              "      <th>Cabin</th>\n",
              "      <th>Destination</th>\n",
              "      <th>Age</th>\n",
              "      <th>VIP</th>\n",
              "      <th>RoomService</th>\n",
              "      <th>FoodCourt</th>\n",
              "      <th>ShoppingMall</th>\n",
              "      <th>Spa</th>\n",
              "      <th>VRDeck</th>\n",
              "    </tr>\n",
              "    <tr>\n",
              "      <th>PassengerId</th>\n",
              "      <th></th>\n",
              "      <th></th>\n",
              "      <th></th>\n",
              "      <th></th>\n",
              "      <th></th>\n",
              "      <th></th>\n",
              "      <th></th>\n",
              "      <th></th>\n",
              "      <th></th>\n",
              "      <th></th>\n",
              "      <th></th>\n",
              "    </tr>\n",
              "  </thead>\n",
              "  <tbody>\n",
              "    <tr>\n",
              "      <th>0001_01</th>\n",
              "      <td>Europa</td>\n",
              "      <td>False</td>\n",
              "      <td>B/0/P</td>\n",
              "      <td>TRAPPIST-1e</td>\n",
              "      <td>39.0</td>\n",
              "      <td>False</td>\n",
              "      <td>0.0</td>\n",
              "      <td>0.0</td>\n",
              "      <td>0.0</td>\n",
              "      <td>0.0</td>\n",
              "      <td>0.0</td>\n",
              "    </tr>\n",
              "    <tr>\n",
              "      <th>0002_01</th>\n",
              "      <td>Earth</td>\n",
              "      <td>False</td>\n",
              "      <td>F/0/S</td>\n",
              "      <td>TRAPPIST-1e</td>\n",
              "      <td>24.0</td>\n",
              "      <td>False</td>\n",
              "      <td>109.0</td>\n",
              "      <td>9.0</td>\n",
              "      <td>25.0</td>\n",
              "      <td>549.0</td>\n",
              "      <td>44.0</td>\n",
              "    </tr>\n",
              "    <tr>\n",
              "      <th>0003_01</th>\n",
              "      <td>Europa</td>\n",
              "      <td>False</td>\n",
              "      <td>A/0/S</td>\n",
              "      <td>TRAPPIST-1e</td>\n",
              "      <td>58.0</td>\n",
              "      <td>True</td>\n",
              "      <td>43.0</td>\n",
              "      <td>3576.0</td>\n",
              "      <td>0.0</td>\n",
              "      <td>6715.0</td>\n",
              "      <td>49.0</td>\n",
              "    </tr>\n",
              "    <tr>\n",
              "      <th>0003_02</th>\n",
              "      <td>Europa</td>\n",
              "      <td>False</td>\n",
              "      <td>A/0/S</td>\n",
              "      <td>TRAPPIST-1e</td>\n",
              "      <td>33.0</td>\n",
              "      <td>False</td>\n",
              "      <td>0.0</td>\n",
              "      <td>1283.0</td>\n",
              "      <td>371.0</td>\n",
              "      <td>3329.0</td>\n",
              "      <td>193.0</td>\n",
              "    </tr>\n",
              "    <tr>\n",
              "      <th>0004_01</th>\n",
              "      <td>Earth</td>\n",
              "      <td>False</td>\n",
              "      <td>F/1/S</td>\n",
              "      <td>TRAPPIST-1e</td>\n",
              "      <td>16.0</td>\n",
              "      <td>False</td>\n",
              "      <td>303.0</td>\n",
              "      <td>70.0</td>\n",
              "      <td>151.0</td>\n",
              "      <td>565.0</td>\n",
              "      <td>2.0</td>\n",
              "    </tr>\n",
              "    <tr>\n",
              "      <th>...</th>\n",
              "      <td>...</td>\n",
              "      <td>...</td>\n",
              "      <td>...</td>\n",
              "      <td>...</td>\n",
              "      <td>...</td>\n",
              "      <td>...</td>\n",
              "      <td>...</td>\n",
              "      <td>...</td>\n",
              "      <td>...</td>\n",
              "      <td>...</td>\n",
              "      <td>...</td>\n",
              "    </tr>\n",
              "    <tr>\n",
              "      <th>9276_01</th>\n",
              "      <td>Europa</td>\n",
              "      <td>False</td>\n",
              "      <td>A/98/P</td>\n",
              "      <td>55 Cancri e</td>\n",
              "      <td>41.0</td>\n",
              "      <td>True</td>\n",
              "      <td>0.0</td>\n",
              "      <td>6819.0</td>\n",
              "      <td>0.0</td>\n",
              "      <td>1643.0</td>\n",
              "      <td>74.0</td>\n",
              "    </tr>\n",
              "    <tr>\n",
              "      <th>9278_01</th>\n",
              "      <td>Earth</td>\n",
              "      <td>True</td>\n",
              "      <td>G/1499/S</td>\n",
              "      <td>PSO J318.5-22</td>\n",
              "      <td>18.0</td>\n",
              "      <td>False</td>\n",
              "      <td>0.0</td>\n",
              "      <td>0.0</td>\n",
              "      <td>0.0</td>\n",
              "      <td>0.0</td>\n",
              "      <td>0.0</td>\n",
              "    </tr>\n",
              "    <tr>\n",
              "      <th>9279_01</th>\n",
              "      <td>Earth</td>\n",
              "      <td>False</td>\n",
              "      <td>G/1500/S</td>\n",
              "      <td>TRAPPIST-1e</td>\n",
              "      <td>26.0</td>\n",
              "      <td>False</td>\n",
              "      <td>0.0</td>\n",
              "      <td>0.0</td>\n",
              "      <td>1872.0</td>\n",
              "      <td>1.0</td>\n",
              "      <td>0.0</td>\n",
              "    </tr>\n",
              "    <tr>\n",
              "      <th>9280_01</th>\n",
              "      <td>Europa</td>\n",
              "      <td>False</td>\n",
              "      <td>E/608/S</td>\n",
              "      <td>55 Cancri e</td>\n",
              "      <td>32.0</td>\n",
              "      <td>False</td>\n",
              "      <td>0.0</td>\n",
              "      <td>1049.0</td>\n",
              "      <td>0.0</td>\n",
              "      <td>353.0</td>\n",
              "      <td>3235.0</td>\n",
              "    </tr>\n",
              "    <tr>\n",
              "      <th>9280_02</th>\n",
              "      <td>Europa</td>\n",
              "      <td>False</td>\n",
              "      <td>E/608/S</td>\n",
              "      <td>TRAPPIST-1e</td>\n",
              "      <td>44.0</td>\n",
              "      <td>False</td>\n",
              "      <td>126.0</td>\n",
              "      <td>4688.0</td>\n",
              "      <td>0.0</td>\n",
              "      <td>0.0</td>\n",
              "      <td>12.0</td>\n",
              "    </tr>\n",
              "  </tbody>\n",
              "</table>\n",
              "<p>8693 rows × 11 columns</p>\n",
              "</div>\n",
              "      <button class=\"colab-df-convert\" onclick=\"convertToInteractive('df-e05d79b2-49cc-4fc0-b0c2-54ff1df38e6e')\"\n",
              "              title=\"Convert this dataframe to an interactive table.\"\n",
              "              style=\"display:none;\">\n",
              "        \n",
              "  <svg xmlns=\"http://www.w3.org/2000/svg\" height=\"24px\"viewBox=\"0 0 24 24\"\n",
              "       width=\"24px\">\n",
              "    <path d=\"M0 0h24v24H0V0z\" fill=\"none\"/>\n",
              "    <path d=\"M18.56 5.44l.94 2.06.94-2.06 2.06-.94-2.06-.94-.94-2.06-.94 2.06-2.06.94zm-11 1L8.5 8.5l.94-2.06 2.06-.94-2.06-.94L8.5 2.5l-.94 2.06-2.06.94zm10 10l.94 2.06.94-2.06 2.06-.94-2.06-.94-.94-2.06-.94 2.06-2.06.94z\"/><path d=\"M17.41 7.96l-1.37-1.37c-.4-.4-.92-.59-1.43-.59-.52 0-1.04.2-1.43.59L10.3 9.45l-7.72 7.72c-.78.78-.78 2.05 0 2.83L4 21.41c.39.39.9.59 1.41.59.51 0 1.02-.2 1.41-.59l7.78-7.78 2.81-2.81c.8-.78.8-2.07 0-2.86zM5.41 20L4 18.59l7.72-7.72 1.47 1.35L5.41 20z\"/>\n",
              "  </svg>\n",
              "      </button>\n",
              "      \n",
              "  <style>\n",
              "    .colab-df-container {\n",
              "      display:flex;\n",
              "      flex-wrap:wrap;\n",
              "      gap: 12px;\n",
              "    }\n",
              "\n",
              "    .colab-df-convert {\n",
              "      background-color: #E8F0FE;\n",
              "      border: none;\n",
              "      border-radius: 50%;\n",
              "      cursor: pointer;\n",
              "      display: none;\n",
              "      fill: #1967D2;\n",
              "      height: 32px;\n",
              "      padding: 0 0 0 0;\n",
              "      width: 32px;\n",
              "    }\n",
              "\n",
              "    .colab-df-convert:hover {\n",
              "      background-color: #E2EBFA;\n",
              "      box-shadow: 0px 1px 2px rgba(60, 64, 67, 0.3), 0px 1px 3px 1px rgba(60, 64, 67, 0.15);\n",
              "      fill: #174EA6;\n",
              "    }\n",
              "\n",
              "    [theme=dark] .colab-df-convert {\n",
              "      background-color: #3B4455;\n",
              "      fill: #D2E3FC;\n",
              "    }\n",
              "\n",
              "    [theme=dark] .colab-df-convert:hover {\n",
              "      background-color: #434B5C;\n",
              "      box-shadow: 0px 1px 3px 1px rgba(0, 0, 0, 0.15);\n",
              "      filter: drop-shadow(0px 1px 2px rgba(0, 0, 0, 0.3));\n",
              "      fill: #FFFFFF;\n",
              "    }\n",
              "  </style>\n",
              "\n",
              "      <script>\n",
              "        const buttonEl =\n",
              "          document.querySelector('#df-e05d79b2-49cc-4fc0-b0c2-54ff1df38e6e button.colab-df-convert');\n",
              "        buttonEl.style.display =\n",
              "          google.colab.kernel.accessAllowed ? 'block' : 'none';\n",
              "\n",
              "        async function convertToInteractive(key) {\n",
              "          const element = document.querySelector('#df-e05d79b2-49cc-4fc0-b0c2-54ff1df38e6e');\n",
              "          const dataTable =\n",
              "            await google.colab.kernel.invokeFunction('convertToInteractive',\n",
              "                                                     [key], {});\n",
              "          if (!dataTable) return;\n",
              "\n",
              "          const docLinkHtml = 'Like what you see? Visit the ' +\n",
              "            '<a target=\"_blank\" href=https://colab.research.google.com/notebooks/data_table.ipynb>data table notebook</a>'\n",
              "            + ' to learn more about interactive tables.';\n",
              "          element.innerHTML = '';\n",
              "          dataTable['output_type'] = 'display_data';\n",
              "          await google.colab.output.renderOutput(dataTable, element);\n",
              "          const docLink = document.createElement('div');\n",
              "          docLink.innerHTML = docLinkHtml;\n",
              "          element.appendChild(docLink);\n",
              "        }\n",
              "      </script>\n",
              "    </div>\n",
              "  </div>\n",
              "  "
            ]
          },
          "metadata": {},
          "execution_count": 259
        }
      ]
    },
    {
      "cell_type": "markdown",
      "source": [
        "##Заполнение пустых значений"
      ],
      "metadata": {
        "id": "cwFNXtpHhSOz"
      }
    },
    {
      "cell_type": "markdown",
      "source": [
        "Воспользуемся SimpleImputer'ом, но в этот раз выберем немного другую стратегию. Как так данные категориальные, стратегии \"mean\" (то есть среднее) или \"median\" (то есть медианное) нам не подходят, поэтому воспользуемся стратегией \"most_frequent\" (то есть самое часто встречающееся в столбце значение)"
      ],
      "metadata": {
        "id": "UNWw-E4IhVh0"
      }
    },
    {
      "cell_type": "code",
      "source": [
        "from sklearn.impute import SimpleImputer\n",
        "\n",
        "my_imputer = SimpleImputer(strategy = 'most_frequent')\n",
        "imputed_X_train = pd.DataFrame(my_imputer.fit_transform(X_train))\n",
        "imputed_X_test = pd.DataFrame(my_imputer.transform(X_test))\n",
        "\n",
        "imputed_X_train.columns = X_train.columns\n",
        "imputed_X_test.columns = X_test.columns\n",
        "imputed_X_train"
      ],
      "metadata": {
        "colab": {
          "base_uri": "https://localhost:8080/",
          "height": 424
        },
        "id": "euSx4H098wCX",
        "outputId": "b7a02795-5d6d-48be-a3ea-955fffbebc50"
      },
      "execution_count": null,
      "outputs": [
        {
          "output_type": "execute_result",
          "data": {
            "text/plain": [
              "     HomePlanet CryoSleep     Cabin    Destination   Age    VIP RoomService  \\\n",
              "0        Europa     False     B/0/P    TRAPPIST-1e  39.0  False         0.0   \n",
              "1         Earth     False     F/0/S    TRAPPIST-1e  24.0  False       109.0   \n",
              "2        Europa     False     A/0/S    TRAPPIST-1e  58.0   True        43.0   \n",
              "3        Europa     False     A/0/S    TRAPPIST-1e  33.0  False         0.0   \n",
              "4         Earth     False     F/1/S    TRAPPIST-1e  16.0  False       303.0   \n",
              "...         ...       ...       ...            ...   ...    ...         ...   \n",
              "8688     Europa     False    A/98/P    55 Cancri e  41.0   True         0.0   \n",
              "8689      Earth      True  G/1499/S  PSO J318.5-22  18.0  False         0.0   \n",
              "8690      Earth     False  G/1500/S    TRAPPIST-1e  26.0  False         0.0   \n",
              "8691     Europa     False   E/608/S    55 Cancri e  32.0  False         0.0   \n",
              "8692     Europa     False   E/608/S    TRAPPIST-1e  44.0  False       126.0   \n",
              "\n",
              "     FoodCourt ShoppingMall     Spa  VRDeck  \n",
              "0          0.0          0.0     0.0     0.0  \n",
              "1          9.0         25.0   549.0    44.0  \n",
              "2       3576.0          0.0  6715.0    49.0  \n",
              "3       1283.0        371.0  3329.0   193.0  \n",
              "4         70.0        151.0   565.0     2.0  \n",
              "...        ...          ...     ...     ...  \n",
              "8688    6819.0          0.0  1643.0    74.0  \n",
              "8689       0.0          0.0     0.0     0.0  \n",
              "8690       0.0       1872.0     1.0     0.0  \n",
              "8691    1049.0          0.0   353.0  3235.0  \n",
              "8692    4688.0          0.0     0.0    12.0  \n",
              "\n",
              "[8693 rows x 11 columns]"
            ],
            "text/html": [
              "\n",
              "  <div id=\"df-1a5bcd24-9e98-4362-b384-f302017aa5d5\">\n",
              "    <div class=\"colab-df-container\">\n",
              "      <div>\n",
              "<style scoped>\n",
              "    .dataframe tbody tr th:only-of-type {\n",
              "        vertical-align: middle;\n",
              "    }\n",
              "\n",
              "    .dataframe tbody tr th {\n",
              "        vertical-align: top;\n",
              "    }\n",
              "\n",
              "    .dataframe thead th {\n",
              "        text-align: right;\n",
              "    }\n",
              "</style>\n",
              "<table border=\"1\" class=\"dataframe\">\n",
              "  <thead>\n",
              "    <tr style=\"text-align: right;\">\n",
              "      <th></th>\n",
              "      <th>HomePlanet</th>\n",
              "      <th>CryoSleep</th>\n",
              "      <th>Cabin</th>\n",
              "      <th>Destination</th>\n",
              "      <th>Age</th>\n",
              "      <th>VIP</th>\n",
              "      <th>RoomService</th>\n",
              "      <th>FoodCourt</th>\n",
              "      <th>ShoppingMall</th>\n",
              "      <th>Spa</th>\n",
              "      <th>VRDeck</th>\n",
              "    </tr>\n",
              "  </thead>\n",
              "  <tbody>\n",
              "    <tr>\n",
              "      <th>0</th>\n",
              "      <td>Europa</td>\n",
              "      <td>False</td>\n",
              "      <td>B/0/P</td>\n",
              "      <td>TRAPPIST-1e</td>\n",
              "      <td>39.0</td>\n",
              "      <td>False</td>\n",
              "      <td>0.0</td>\n",
              "      <td>0.0</td>\n",
              "      <td>0.0</td>\n",
              "      <td>0.0</td>\n",
              "      <td>0.0</td>\n",
              "    </tr>\n",
              "    <tr>\n",
              "      <th>1</th>\n",
              "      <td>Earth</td>\n",
              "      <td>False</td>\n",
              "      <td>F/0/S</td>\n",
              "      <td>TRAPPIST-1e</td>\n",
              "      <td>24.0</td>\n",
              "      <td>False</td>\n",
              "      <td>109.0</td>\n",
              "      <td>9.0</td>\n",
              "      <td>25.0</td>\n",
              "      <td>549.0</td>\n",
              "      <td>44.0</td>\n",
              "    </tr>\n",
              "    <tr>\n",
              "      <th>2</th>\n",
              "      <td>Europa</td>\n",
              "      <td>False</td>\n",
              "      <td>A/0/S</td>\n",
              "      <td>TRAPPIST-1e</td>\n",
              "      <td>58.0</td>\n",
              "      <td>True</td>\n",
              "      <td>43.0</td>\n",
              "      <td>3576.0</td>\n",
              "      <td>0.0</td>\n",
              "      <td>6715.0</td>\n",
              "      <td>49.0</td>\n",
              "    </tr>\n",
              "    <tr>\n",
              "      <th>3</th>\n",
              "      <td>Europa</td>\n",
              "      <td>False</td>\n",
              "      <td>A/0/S</td>\n",
              "      <td>TRAPPIST-1e</td>\n",
              "      <td>33.0</td>\n",
              "      <td>False</td>\n",
              "      <td>0.0</td>\n",
              "      <td>1283.0</td>\n",
              "      <td>371.0</td>\n",
              "      <td>3329.0</td>\n",
              "      <td>193.0</td>\n",
              "    </tr>\n",
              "    <tr>\n",
              "      <th>4</th>\n",
              "      <td>Earth</td>\n",
              "      <td>False</td>\n",
              "      <td>F/1/S</td>\n",
              "      <td>TRAPPIST-1e</td>\n",
              "      <td>16.0</td>\n",
              "      <td>False</td>\n",
              "      <td>303.0</td>\n",
              "      <td>70.0</td>\n",
              "      <td>151.0</td>\n",
              "      <td>565.0</td>\n",
              "      <td>2.0</td>\n",
              "    </tr>\n",
              "    <tr>\n",
              "      <th>...</th>\n",
              "      <td>...</td>\n",
              "      <td>...</td>\n",
              "      <td>...</td>\n",
              "      <td>...</td>\n",
              "      <td>...</td>\n",
              "      <td>...</td>\n",
              "      <td>...</td>\n",
              "      <td>...</td>\n",
              "      <td>...</td>\n",
              "      <td>...</td>\n",
              "      <td>...</td>\n",
              "    </tr>\n",
              "    <tr>\n",
              "      <th>8688</th>\n",
              "      <td>Europa</td>\n",
              "      <td>False</td>\n",
              "      <td>A/98/P</td>\n",
              "      <td>55 Cancri e</td>\n",
              "      <td>41.0</td>\n",
              "      <td>True</td>\n",
              "      <td>0.0</td>\n",
              "      <td>6819.0</td>\n",
              "      <td>0.0</td>\n",
              "      <td>1643.0</td>\n",
              "      <td>74.0</td>\n",
              "    </tr>\n",
              "    <tr>\n",
              "      <th>8689</th>\n",
              "      <td>Earth</td>\n",
              "      <td>True</td>\n",
              "      <td>G/1499/S</td>\n",
              "      <td>PSO J318.5-22</td>\n",
              "      <td>18.0</td>\n",
              "      <td>False</td>\n",
              "      <td>0.0</td>\n",
              "      <td>0.0</td>\n",
              "      <td>0.0</td>\n",
              "      <td>0.0</td>\n",
              "      <td>0.0</td>\n",
              "    </tr>\n",
              "    <tr>\n",
              "      <th>8690</th>\n",
              "      <td>Earth</td>\n",
              "      <td>False</td>\n",
              "      <td>G/1500/S</td>\n",
              "      <td>TRAPPIST-1e</td>\n",
              "      <td>26.0</td>\n",
              "      <td>False</td>\n",
              "      <td>0.0</td>\n",
              "      <td>0.0</td>\n",
              "      <td>1872.0</td>\n",
              "      <td>1.0</td>\n",
              "      <td>0.0</td>\n",
              "    </tr>\n",
              "    <tr>\n",
              "      <th>8691</th>\n",
              "      <td>Europa</td>\n",
              "      <td>False</td>\n",
              "      <td>E/608/S</td>\n",
              "      <td>55 Cancri e</td>\n",
              "      <td>32.0</td>\n",
              "      <td>False</td>\n",
              "      <td>0.0</td>\n",
              "      <td>1049.0</td>\n",
              "      <td>0.0</td>\n",
              "      <td>353.0</td>\n",
              "      <td>3235.0</td>\n",
              "    </tr>\n",
              "    <tr>\n",
              "      <th>8692</th>\n",
              "      <td>Europa</td>\n",
              "      <td>False</td>\n",
              "      <td>E/608/S</td>\n",
              "      <td>TRAPPIST-1e</td>\n",
              "      <td>44.0</td>\n",
              "      <td>False</td>\n",
              "      <td>126.0</td>\n",
              "      <td>4688.0</td>\n",
              "      <td>0.0</td>\n",
              "      <td>0.0</td>\n",
              "      <td>12.0</td>\n",
              "    </tr>\n",
              "  </tbody>\n",
              "</table>\n",
              "<p>8693 rows × 11 columns</p>\n",
              "</div>\n",
              "      <button class=\"colab-df-convert\" onclick=\"convertToInteractive('df-1a5bcd24-9e98-4362-b384-f302017aa5d5')\"\n",
              "              title=\"Convert this dataframe to an interactive table.\"\n",
              "              style=\"display:none;\">\n",
              "        \n",
              "  <svg xmlns=\"http://www.w3.org/2000/svg\" height=\"24px\"viewBox=\"0 0 24 24\"\n",
              "       width=\"24px\">\n",
              "    <path d=\"M0 0h24v24H0V0z\" fill=\"none\"/>\n",
              "    <path d=\"M18.56 5.44l.94 2.06.94-2.06 2.06-.94-2.06-.94-.94-2.06-.94 2.06-2.06.94zm-11 1L8.5 8.5l.94-2.06 2.06-.94-2.06-.94L8.5 2.5l-.94 2.06-2.06.94zm10 10l.94 2.06.94-2.06 2.06-.94-2.06-.94-.94-2.06-.94 2.06-2.06.94z\"/><path d=\"M17.41 7.96l-1.37-1.37c-.4-.4-.92-.59-1.43-.59-.52 0-1.04.2-1.43.59L10.3 9.45l-7.72 7.72c-.78.78-.78 2.05 0 2.83L4 21.41c.39.39.9.59 1.41.59.51 0 1.02-.2 1.41-.59l7.78-7.78 2.81-2.81c.8-.78.8-2.07 0-2.86zM5.41 20L4 18.59l7.72-7.72 1.47 1.35L5.41 20z\"/>\n",
              "  </svg>\n",
              "      </button>\n",
              "      \n",
              "  <style>\n",
              "    .colab-df-container {\n",
              "      display:flex;\n",
              "      flex-wrap:wrap;\n",
              "      gap: 12px;\n",
              "    }\n",
              "\n",
              "    .colab-df-convert {\n",
              "      background-color: #E8F0FE;\n",
              "      border: none;\n",
              "      border-radius: 50%;\n",
              "      cursor: pointer;\n",
              "      display: none;\n",
              "      fill: #1967D2;\n",
              "      height: 32px;\n",
              "      padding: 0 0 0 0;\n",
              "      width: 32px;\n",
              "    }\n",
              "\n",
              "    .colab-df-convert:hover {\n",
              "      background-color: #E2EBFA;\n",
              "      box-shadow: 0px 1px 2px rgba(60, 64, 67, 0.3), 0px 1px 3px 1px rgba(60, 64, 67, 0.15);\n",
              "      fill: #174EA6;\n",
              "    }\n",
              "\n",
              "    [theme=dark] .colab-df-convert {\n",
              "      background-color: #3B4455;\n",
              "      fill: #D2E3FC;\n",
              "    }\n",
              "\n",
              "    [theme=dark] .colab-df-convert:hover {\n",
              "      background-color: #434B5C;\n",
              "      box-shadow: 0px 1px 3px 1px rgba(0, 0, 0, 0.15);\n",
              "      filter: drop-shadow(0px 1px 2px rgba(0, 0, 0, 0.3));\n",
              "      fill: #FFFFFF;\n",
              "    }\n",
              "  </style>\n",
              "\n",
              "      <script>\n",
              "        const buttonEl =\n",
              "          document.querySelector('#df-1a5bcd24-9e98-4362-b384-f302017aa5d5 button.colab-df-convert');\n",
              "        buttonEl.style.display =\n",
              "          google.colab.kernel.accessAllowed ? 'block' : 'none';\n",
              "\n",
              "        async function convertToInteractive(key) {\n",
              "          const element = document.querySelector('#df-1a5bcd24-9e98-4362-b384-f302017aa5d5');\n",
              "          const dataTable =\n",
              "            await google.colab.kernel.invokeFunction('convertToInteractive',\n",
              "                                                     [key], {});\n",
              "          if (!dataTable) return;\n",
              "\n",
              "          const docLinkHtml = 'Like what you see? Visit the ' +\n",
              "            '<a target=\"_blank\" href=https://colab.research.google.com/notebooks/data_table.ipynb>data table notebook</a>'\n",
              "            + ' to learn more about interactive tables.';\n",
              "          element.innerHTML = '';\n",
              "          dataTable['output_type'] = 'display_data';\n",
              "          await google.colab.output.renderOutput(dataTable, element);\n",
              "          const docLink = document.createElement('div');\n",
              "          docLink.innerHTML = docLinkHtml;\n",
              "          element.appendChild(docLink);\n",
              "        }\n",
              "      </script>\n",
              "    </div>\n",
              "  </div>\n",
              "  "
            ]
          },
          "metadata": {},
          "execution_count": 260
        }
      ]
    },
    {
      "cell_type": "markdown",
      "source": [
        "##Преобразование типов данных"
      ],
      "metadata": {
        "id": "TB4PqzBtgzjA"
      }
    },
    {
      "cell_type": "code",
      "source": [
        "for col in imputed_X_train:\n",
        "    if type(imputed_X_train[col]) == \"float64\":\n",
        "        imputed_X_train[col] = imputed_X_train[col].astype(int)"
      ],
      "metadata": {
        "id": "JvsDOl5ADI42"
      },
      "execution_count": null,
      "outputs": []
    },
    {
      "cell_type": "markdown",
      "source": [
        "Используя CatBoost, нужно обратить внимание на то, что из числовых значений этот модуль может обрабатывать только тип int, поэтому в каждом столбце нашего датасета меняем тип данных с float на int."
      ],
      "metadata": {
        "id": "rXkHCLuLg4Gn"
      }
    },
    {
      "cell_type": "code",
      "source": [
        "imputed_X_train.dtypes"
      ],
      "metadata": {
        "id": "w57X3FPsBYbq",
        "colab": {
          "base_uri": "https://localhost:8080/"
        },
        "outputId": "504b1ce6-11f8-4f42-ae8e-6fb98e8630b1"
      },
      "execution_count": null,
      "outputs": [
        {
          "output_type": "execute_result",
          "data": {
            "text/plain": [
              "HomePlanet      object\n",
              "CryoSleep       object\n",
              "Cabin           object\n",
              "Destination     object\n",
              "Age             object\n",
              "VIP             object\n",
              "RoomService     object\n",
              "FoodCourt       object\n",
              "ShoppingMall    object\n",
              "Spa             object\n",
              "VRDeck          object\n",
              "dtype: object"
            ]
          },
          "metadata": {},
          "execution_count": 263
        }
      ]
    },
    {
      "cell_type": "markdown",
      "source": [
        "Видим, что столбцов с типом данных int уже не осталось, значит, можно предпринимать дальнейшие шаги."
      ],
      "metadata": {
        "id": "94K1ePzFjEJf"
      }
    },
    {
      "cell_type": "markdown",
      "source": [
        "##Модель"
      ],
      "metadata": {
        "id": "aXQhFLpg_x1A"
      }
    },
    {
      "cell_type": "markdown",
      "source": [
        "С помощью CatBoost создадим модель, настроив её через количество итераций и коэффициент скорости обучения. Затем заполним модель тестовыми данными и укажем категориальные фичи. После этого сделаем предсказание с помощью построенной модели."
      ],
      "metadata": {
        "id": "ZracjHiZjQ1x"
      }
    },
    {
      "cell_type": "code",
      "source": [
        "from catboost import CatBoostClassifier\n",
        "\n",
        "my_model = CatBoostClassifier(\n",
        "    iterations = 1000,\n",
        "    learning_rate=0.03,\n",
        "    logging_level='Silent'\n",
        ")\n",
        "\n",
        "my_model.fit(imputed_X_train, y,\n",
        "             cat_features=categorical_features_indices,\n",
        "             logging_level='Verbose',\n",
        "             plot=True)\n",
        "\n",
        "\n",
        "predictions = my_model.predict(imputed_X_test)\n",
        "predictions"
      ],
      "metadata": {
        "colab": {
          "base_uri": "https://localhost:8080/",
          "height": 1000,
          "referenced_widgets": [
            "9ae964c0eb7b4893bbc956b9d3e47346"
          ]
        },
        "id": "XUv-KJEr_y4K",
        "outputId": "de1ed4b1-e657-4e5e-f09d-45c399192d30"
      },
      "execution_count": null,
      "outputs": [
        {
          "output_type": "display_data",
          "data": {
            "text/plain": [
              "MetricVisualizer(layout=Layout(align_self='stretch', height='500px'))"
            ],
            "application/vnd.jupyter.widget-view+json": {
              "version_major": 2,
              "version_minor": 0,
              "model_id": "9ae964c0eb7b4893bbc956b9d3e47346"
            }
          },
          "metadata": {}
        },
        {
          "output_type": "stream",
          "name": "stdout",
          "text": [
            "0:\tlearn: 0.6803661\ttotal: 19.7ms\tremaining: 19.7s\n",
            "1:\tlearn: 0.6687482\ttotal: 34.7ms\tremaining: 17.3s\n",
            "2:\tlearn: 0.6549936\ttotal: 49.9ms\tremaining: 16.6s\n",
            "3:\tlearn: 0.6425286\ttotal: 65.1ms\tremaining: 16.2s\n",
            "4:\tlearn: 0.6324279\ttotal: 84.6ms\tremaining: 16.8s\n",
            "5:\tlearn: 0.6215257\ttotal: 98.8ms\tremaining: 16.4s\n",
            "6:\tlearn: 0.6120166\ttotal: 115ms\tremaining: 16.3s\n",
            "7:\tlearn: 0.6026077\ttotal: 134ms\tremaining: 16.6s\n",
            "8:\tlearn: 0.5929272\ttotal: 148ms\tremaining: 16.3s\n",
            "9:\tlearn: 0.5842830\ttotal: 164ms\tremaining: 16.3s\n",
            "10:\tlearn: 0.5762744\ttotal: 179ms\tremaining: 16.1s\n",
            "11:\tlearn: 0.5682766\ttotal: 196ms\tremaining: 16.2s\n",
            "12:\tlearn: 0.5607346\ttotal: 211ms\tremaining: 16s\n",
            "13:\tlearn: 0.5547487\ttotal: 231ms\tremaining: 16.3s\n",
            "14:\tlearn: 0.5499485\ttotal: 246ms\tremaining: 16.2s\n",
            "15:\tlearn: 0.5441078\ttotal: 261ms\tremaining: 16s\n",
            "16:\tlearn: 0.5395589\ttotal: 276ms\tremaining: 16s\n",
            "17:\tlearn: 0.5355205\ttotal: 292ms\tremaining: 15.9s\n",
            "18:\tlearn: 0.5298226\ttotal: 314ms\tremaining: 16.2s\n",
            "19:\tlearn: 0.5256532\ttotal: 329ms\tremaining: 16.1s\n",
            "20:\tlearn: 0.5223349\ttotal: 344ms\tremaining: 16s\n",
            "21:\tlearn: 0.5175782\ttotal: 358ms\tremaining: 15.9s\n",
            "22:\tlearn: 0.5140047\ttotal: 374ms\tremaining: 15.9s\n",
            "23:\tlearn: 0.5121146\ttotal: 384ms\tremaining: 15.6s\n",
            "24:\tlearn: 0.5089973\ttotal: 399ms\tremaining: 15.6s\n",
            "25:\tlearn: 0.5055622\ttotal: 415ms\tremaining: 15.6s\n",
            "26:\tlearn: 0.5024453\ttotal: 435ms\tremaining: 15.7s\n",
            "27:\tlearn: 0.4994460\ttotal: 450ms\tremaining: 15.6s\n",
            "28:\tlearn: 0.4967605\ttotal: 464ms\tremaining: 15.5s\n",
            "29:\tlearn: 0.4938659\ttotal: 498ms\tremaining: 16.1s\n",
            "30:\tlearn: 0.4918027\ttotal: 515ms\tremaining: 16.1s\n",
            "31:\tlearn: 0.4894363\ttotal: 530ms\tremaining: 16s\n",
            "32:\tlearn: 0.4872768\ttotal: 545ms\tremaining: 16s\n",
            "33:\tlearn: 0.4847088\ttotal: 568ms\tremaining: 16.1s\n",
            "34:\tlearn: 0.4823130\ttotal: 582ms\tremaining: 16s\n",
            "35:\tlearn: 0.4810367\ttotal: 596ms\tremaining: 16s\n",
            "36:\tlearn: 0.4793748\ttotal: 612ms\tremaining: 15.9s\n",
            "37:\tlearn: 0.4772924\ttotal: 627ms\tremaining: 15.9s\n",
            "38:\tlearn: 0.4756941\ttotal: 649ms\tremaining: 16s\n",
            "39:\tlearn: 0.4737302\ttotal: 663ms\tremaining: 15.9s\n",
            "40:\tlearn: 0.4725827\ttotal: 688ms\tremaining: 16.1s\n",
            "41:\tlearn: 0.4717131\ttotal: 699ms\tremaining: 16s\n",
            "42:\tlearn: 0.4700853\ttotal: 713ms\tremaining: 15.9s\n",
            "43:\tlearn: 0.4688832\ttotal: 728ms\tremaining: 15.8s\n",
            "44:\tlearn: 0.4672593\ttotal: 743ms\tremaining: 15.8s\n",
            "45:\tlearn: 0.4657955\ttotal: 759ms\tremaining: 15.7s\n",
            "46:\tlearn: 0.4644083\ttotal: 774ms\tremaining: 15.7s\n",
            "47:\tlearn: 0.4630262\ttotal: 788ms\tremaining: 15.6s\n",
            "48:\tlearn: 0.4622470\ttotal: 804ms\tremaining: 15.6s\n",
            "49:\tlearn: 0.4610534\ttotal: 819ms\tremaining: 15.6s\n",
            "50:\tlearn: 0.4596957\ttotal: 833ms\tremaining: 15.5s\n",
            "51:\tlearn: 0.4585787\ttotal: 858ms\tremaining: 15.6s\n",
            "52:\tlearn: 0.4574902\ttotal: 874ms\tremaining: 15.6s\n",
            "53:\tlearn: 0.4564404\ttotal: 890ms\tremaining: 15.6s\n",
            "54:\tlearn: 0.4557495\ttotal: 905ms\tremaining: 15.6s\n",
            "55:\tlearn: 0.4551559\ttotal: 922ms\tremaining: 15.5s\n",
            "56:\tlearn: 0.4541033\ttotal: 939ms\tremaining: 15.5s\n",
            "57:\tlearn: 0.4531517\ttotal: 955ms\tremaining: 15.5s\n",
            "58:\tlearn: 0.4524845\ttotal: 984ms\tremaining: 15.7s\n",
            "59:\tlearn: 0.4518225\ttotal: 998ms\tremaining: 15.6s\n",
            "60:\tlearn: 0.4512447\ttotal: 1.01s\tremaining: 15.6s\n",
            "61:\tlearn: 0.4506169\ttotal: 1.03s\tremaining: 15.6s\n",
            "62:\tlearn: 0.4498687\ttotal: 1.04s\tremaining: 15.5s\n",
            "63:\tlearn: 0.4490049\ttotal: 1.06s\tremaining: 15.6s\n",
            "64:\tlearn: 0.4484831\ttotal: 1.08s\tremaining: 15.6s\n",
            "65:\tlearn: 0.4478587\ttotal: 1.1s\tremaining: 15.6s\n",
            "66:\tlearn: 0.4470734\ttotal: 1.12s\tremaining: 15.5s\n",
            "67:\tlearn: 0.4466026\ttotal: 1.13s\tremaining: 15.5s\n",
            "68:\tlearn: 0.4460619\ttotal: 1.15s\tremaining: 15.5s\n",
            "69:\tlearn: 0.4456206\ttotal: 1.16s\tremaining: 15.4s\n",
            "70:\tlearn: 0.4451974\ttotal: 1.17s\tremaining: 15.3s\n",
            "71:\tlearn: 0.4446790\ttotal: 1.19s\tremaining: 15.3s\n",
            "72:\tlearn: 0.4441427\ttotal: 1.2s\tremaining: 15.3s\n",
            "73:\tlearn: 0.4437616\ttotal: 1.22s\tremaining: 15.2s\n",
            "74:\tlearn: 0.4435237\ttotal: 1.23s\tremaining: 15.2s\n",
            "75:\tlearn: 0.4429114\ttotal: 1.25s\tremaining: 15.2s\n",
            "76:\tlearn: 0.4424517\ttotal: 1.27s\tremaining: 15.2s\n",
            "77:\tlearn: 0.4420847\ttotal: 1.28s\tremaining: 15.2s\n",
            "78:\tlearn: 0.4415616\ttotal: 1.31s\tremaining: 15.2s\n",
            "79:\tlearn: 0.4412202\ttotal: 1.32s\tremaining: 15.2s\n",
            "80:\tlearn: 0.4409374\ttotal: 1.34s\tremaining: 15.2s\n",
            "81:\tlearn: 0.4406010\ttotal: 1.35s\tremaining: 15.1s\n",
            "82:\tlearn: 0.4401500\ttotal: 1.37s\tremaining: 15.1s\n",
            "83:\tlearn: 0.4398160\ttotal: 1.38s\tremaining: 15.1s\n",
            "84:\tlearn: 0.4393271\ttotal: 1.4s\tremaining: 15.1s\n",
            "85:\tlearn: 0.4387451\ttotal: 1.42s\tremaining: 15s\n",
            "86:\tlearn: 0.4384094\ttotal: 1.43s\tremaining: 15s\n",
            "87:\tlearn: 0.4379563\ttotal: 1.45s\tremaining: 15s\n",
            "88:\tlearn: 0.4377459\ttotal: 1.46s\tremaining: 15s\n",
            "89:\tlearn: 0.4373138\ttotal: 1.49s\tremaining: 15.1s\n",
            "90:\tlearn: 0.4368687\ttotal: 1.51s\tremaining: 15.1s\n",
            "91:\tlearn: 0.4363869\ttotal: 1.52s\tremaining: 15.1s\n",
            "92:\tlearn: 0.4360742\ttotal: 1.54s\tremaining: 15s\n",
            "93:\tlearn: 0.4357387\ttotal: 1.55s\tremaining: 15s\n",
            "94:\tlearn: 0.4352844\ttotal: 1.57s\tremaining: 14.9s\n",
            "95:\tlearn: 0.4350207\ttotal: 1.58s\tremaining: 14.9s\n",
            "96:\tlearn: 0.4347495\ttotal: 1.6s\tremaining: 14.9s\n",
            "97:\tlearn: 0.4344430\ttotal: 1.62s\tremaining: 14.9s\n",
            "98:\tlearn: 0.4343081\ttotal: 1.63s\tremaining: 14.8s\n",
            "99:\tlearn: 0.4340737\ttotal: 1.64s\tremaining: 14.8s\n",
            "100:\tlearn: 0.4339497\ttotal: 1.66s\tremaining: 14.7s\n",
            "101:\tlearn: 0.4336732\ttotal: 1.67s\tremaining: 14.7s\n",
            "102:\tlearn: 0.4335246\ttotal: 1.68s\tremaining: 14.7s\n",
            "103:\tlearn: 0.4332404\ttotal: 1.7s\tremaining: 14.7s\n",
            "104:\tlearn: 0.4329173\ttotal: 1.72s\tremaining: 14.7s\n",
            "105:\tlearn: 0.4326399\ttotal: 1.74s\tremaining: 14.6s\n",
            "106:\tlearn: 0.4324872\ttotal: 1.75s\tremaining: 14.6s\n",
            "107:\tlearn: 0.4322675\ttotal: 1.76s\tremaining: 14.6s\n",
            "108:\tlearn: 0.4319707\ttotal: 1.78s\tremaining: 14.6s\n",
            "109:\tlearn: 0.4317669\ttotal: 1.79s\tremaining: 14.5s\n",
            "110:\tlearn: 0.4314043\ttotal: 1.81s\tremaining: 14.5s\n",
            "111:\tlearn: 0.4313884\ttotal: 1.82s\tremaining: 14.4s\n",
            "112:\tlearn: 0.4312225\ttotal: 1.83s\tremaining: 14.3s\n",
            "113:\tlearn: 0.4310849\ttotal: 1.84s\tremaining: 14.3s\n",
            "114:\tlearn: 0.4308083\ttotal: 1.85s\tremaining: 14.3s\n",
            "115:\tlearn: 0.4306488\ttotal: 1.87s\tremaining: 14.2s\n",
            "116:\tlearn: 0.4305765\ttotal: 1.88s\tremaining: 14.2s\n",
            "117:\tlearn: 0.4303603\ttotal: 1.9s\tremaining: 14.2s\n",
            "118:\tlearn: 0.4302302\ttotal: 1.91s\tremaining: 14.2s\n",
            "119:\tlearn: 0.4301304\ttotal: 1.93s\tremaining: 14.1s\n",
            "120:\tlearn: 0.4299015\ttotal: 1.96s\tremaining: 14.2s\n",
            "121:\tlearn: 0.4297609\ttotal: 1.97s\tremaining: 14.2s\n",
            "122:\tlearn: 0.4296087\ttotal: 1.99s\tremaining: 14.2s\n",
            "123:\tlearn: 0.4295824\ttotal: 2s\tremaining: 14.1s\n",
            "124:\tlearn: 0.4293986\ttotal: 2.02s\tremaining: 14.1s\n",
            "125:\tlearn: 0.4293014\ttotal: 2.03s\tremaining: 14.1s\n",
            "126:\tlearn: 0.4291014\ttotal: 2.04s\tremaining: 14s\n",
            "127:\tlearn: 0.4288591\ttotal: 2.06s\tremaining: 14s\n",
            "128:\tlearn: 0.4286785\ttotal: 2.07s\tremaining: 14s\n",
            "129:\tlearn: 0.4285534\ttotal: 2.09s\tremaining: 14s\n",
            "130:\tlearn: 0.4282934\ttotal: 2.11s\tremaining: 14s\n",
            "131:\tlearn: 0.4280454\ttotal: 2.13s\tremaining: 14s\n",
            "132:\tlearn: 0.4278300\ttotal: 2.14s\tremaining: 14s\n",
            "133:\tlearn: 0.4276195\ttotal: 2.15s\tremaining: 13.9s\n",
            "134:\tlearn: 0.4274815\ttotal: 2.17s\tremaining: 13.9s\n",
            "135:\tlearn: 0.4273741\ttotal: 2.18s\tremaining: 13.9s\n",
            "136:\tlearn: 0.4270999\ttotal: 2.2s\tremaining: 13.8s\n",
            "137:\tlearn: 0.4270479\ttotal: 2.21s\tremaining: 13.8s\n",
            "138:\tlearn: 0.4269232\ttotal: 2.22s\tremaining: 13.8s\n",
            "139:\tlearn: 0.4268730\ttotal: 2.23s\tremaining: 13.7s\n",
            "140:\tlearn: 0.4266776\ttotal: 2.25s\tremaining: 13.7s\n",
            "141:\tlearn: 0.4266232\ttotal: 2.26s\tremaining: 13.7s\n",
            "142:\tlearn: 0.4265332\ttotal: 2.27s\tremaining: 13.6s\n",
            "143:\tlearn: 0.4264848\ttotal: 2.29s\tremaining: 13.6s\n",
            "144:\tlearn: 0.4264848\ttotal: 2.29s\tremaining: 13.5s\n",
            "145:\tlearn: 0.4263430\ttotal: 2.31s\tremaining: 13.5s\n",
            "146:\tlearn: 0.4261958\ttotal: 2.32s\tremaining: 13.5s\n",
            "147:\tlearn: 0.4260158\ttotal: 2.34s\tremaining: 13.5s\n",
            "148:\tlearn: 0.4258540\ttotal: 2.36s\tremaining: 13.5s\n",
            "149:\tlearn: 0.4257009\ttotal: 2.37s\tremaining: 13.4s\n",
            "150:\tlearn: 0.4254679\ttotal: 2.38s\tremaining: 13.4s\n",
            "151:\tlearn: 0.4252844\ttotal: 2.4s\tremaining: 13.4s\n",
            "152:\tlearn: 0.4251221\ttotal: 2.41s\tremaining: 13.4s\n",
            "153:\tlearn: 0.4248918\ttotal: 2.43s\tremaining: 13.3s\n",
            "154:\tlearn: 0.4246651\ttotal: 2.44s\tremaining: 13.3s\n",
            "155:\tlearn: 0.4246275\ttotal: 2.46s\tremaining: 13.3s\n",
            "156:\tlearn: 0.4245366\ttotal: 2.47s\tremaining: 13.3s\n",
            "157:\tlearn: 0.4243263\ttotal: 2.5s\tremaining: 13.3s\n",
            "158:\tlearn: 0.4241918\ttotal: 2.51s\tremaining: 13.3s\n",
            "159:\tlearn: 0.4238817\ttotal: 2.53s\tremaining: 13.3s\n",
            "160:\tlearn: 0.4237357\ttotal: 2.54s\tremaining: 13.3s\n",
            "161:\tlearn: 0.4235796\ttotal: 2.56s\tremaining: 13.2s\n",
            "162:\tlearn: 0.4234742\ttotal: 2.57s\tremaining: 13.2s\n",
            "163:\tlearn: 0.4233718\ttotal: 2.58s\tremaining: 13.2s\n",
            "164:\tlearn: 0.4233500\ttotal: 2.6s\tremaining: 13.1s\n",
            "165:\tlearn: 0.4232234\ttotal: 2.62s\tremaining: 13.1s\n",
            "166:\tlearn: 0.4230770\ttotal: 2.63s\tremaining: 13.1s\n",
            "167:\tlearn: 0.4229240\ttotal: 2.65s\tremaining: 13.1s\n",
            "168:\tlearn: 0.4228291\ttotal: 2.66s\tremaining: 13.1s\n",
            "169:\tlearn: 0.4226475\ttotal: 2.68s\tremaining: 13.1s\n",
            "170:\tlearn: 0.4225970\ttotal: 2.69s\tremaining: 13.1s\n",
            "171:\tlearn: 0.4225232\ttotal: 2.71s\tremaining: 13s\n",
            "172:\tlearn: 0.4224099\ttotal: 2.72s\tremaining: 13s\n",
            "173:\tlearn: 0.4223412\ttotal: 2.74s\tremaining: 13s\n",
            "174:\tlearn: 0.4221948\ttotal: 2.75s\tremaining: 13s\n",
            "175:\tlearn: 0.4220941\ttotal: 2.77s\tremaining: 13s\n",
            "176:\tlearn: 0.4219402\ttotal: 2.78s\tremaining: 12.9s\n",
            "177:\tlearn: 0.4218910\ttotal: 2.8s\tremaining: 12.9s\n",
            "178:\tlearn: 0.4218332\ttotal: 2.81s\tremaining: 12.9s\n",
            "179:\tlearn: 0.4217223\ttotal: 2.82s\tremaining: 12.9s\n",
            "180:\tlearn: 0.4216304\ttotal: 2.83s\tremaining: 12.8s\n",
            "181:\tlearn: 0.4215172\ttotal: 2.85s\tremaining: 12.8s\n",
            "182:\tlearn: 0.4213792\ttotal: 2.86s\tremaining: 12.8s\n",
            "183:\tlearn: 0.4212718\ttotal: 2.88s\tremaining: 12.8s\n",
            "184:\tlearn: 0.4212381\ttotal: 2.89s\tremaining: 12.7s\n",
            "185:\tlearn: 0.4212142\ttotal: 2.93s\tremaining: 12.8s\n",
            "186:\tlearn: 0.4211531\ttotal: 2.95s\tremaining: 12.8s\n",
            "187:\tlearn: 0.4210804\ttotal: 2.96s\tremaining: 12.8s\n",
            "188:\tlearn: 0.4210527\ttotal: 2.97s\tremaining: 12.7s\n",
            "189:\tlearn: 0.4208705\ttotal: 2.98s\tremaining: 12.7s\n",
            "190:\tlearn: 0.4208042\ttotal: 3s\tremaining: 12.7s\n",
            "191:\tlearn: 0.4206848\ttotal: 3.01s\tremaining: 12.7s\n",
            "192:\tlearn: 0.4205615\ttotal: 3.02s\tremaining: 12.6s\n",
            "193:\tlearn: 0.4204908\ttotal: 3.03s\tremaining: 12.6s\n",
            "194:\tlearn: 0.4202944\ttotal: 3.05s\tremaining: 12.6s\n",
            "195:\tlearn: 0.4202148\ttotal: 3.06s\tremaining: 12.6s\n",
            "196:\tlearn: 0.4201079\ttotal: 3.08s\tremaining: 12.6s\n",
            "197:\tlearn: 0.4198942\ttotal: 3.11s\tremaining: 12.6s\n",
            "198:\tlearn: 0.4198520\ttotal: 3.13s\tremaining: 12.6s\n",
            "199:\tlearn: 0.4196754\ttotal: 3.15s\tremaining: 12.6s\n",
            "200:\tlearn: 0.4195551\ttotal: 3.17s\tremaining: 12.6s\n",
            "201:\tlearn: 0.4194348\ttotal: 3.18s\tremaining: 12.6s\n",
            "202:\tlearn: 0.4192787\ttotal: 3.2s\tremaining: 12.6s\n",
            "203:\tlearn: 0.4191846\ttotal: 3.21s\tremaining: 12.5s\n",
            "204:\tlearn: 0.4191309\ttotal: 3.23s\tremaining: 12.5s\n",
            "205:\tlearn: 0.4190948\ttotal: 3.25s\tremaining: 12.5s\n",
            "206:\tlearn: 0.4189293\ttotal: 3.27s\tremaining: 12.5s\n",
            "207:\tlearn: 0.4188114\ttotal: 3.28s\tremaining: 12.5s\n",
            "208:\tlearn: 0.4186925\ttotal: 3.3s\tremaining: 12.5s\n",
            "209:\tlearn: 0.4186254\ttotal: 3.31s\tremaining: 12.5s\n",
            "210:\tlearn: 0.4185833\ttotal: 3.33s\tremaining: 12.4s\n",
            "211:\tlearn: 0.4184775\ttotal: 3.34s\tremaining: 12.4s\n",
            "212:\tlearn: 0.4183816\ttotal: 3.36s\tremaining: 12.4s\n",
            "213:\tlearn: 0.4183362\ttotal: 3.38s\tremaining: 12.4s\n",
            "214:\tlearn: 0.4182732\ttotal: 3.39s\tremaining: 12.4s\n",
            "215:\tlearn: 0.4182586\ttotal: 3.41s\tremaining: 12.4s\n",
            "216:\tlearn: 0.4181060\ttotal: 3.42s\tremaining: 12.3s\n",
            "217:\tlearn: 0.4180136\ttotal: 3.44s\tremaining: 12.3s\n",
            "218:\tlearn: 0.4179839\ttotal: 3.44s\tremaining: 12.3s\n",
            "219:\tlearn: 0.4179687\ttotal: 3.47s\tremaining: 12.3s\n",
            "220:\tlearn: 0.4179647\ttotal: 3.48s\tremaining: 12.3s\n",
            "221:\tlearn: 0.4179014\ttotal: 3.5s\tremaining: 12.3s\n",
            "222:\tlearn: 0.4176970\ttotal: 3.52s\tremaining: 12.2s\n",
            "223:\tlearn: 0.4176620\ttotal: 3.53s\tremaining: 12.2s\n",
            "224:\tlearn: 0.4175040\ttotal: 3.54s\tremaining: 12.2s\n",
            "225:\tlearn: 0.4174306\ttotal: 3.56s\tremaining: 12.2s\n",
            "226:\tlearn: 0.4173185\ttotal: 3.58s\tremaining: 12.2s\n",
            "227:\tlearn: 0.4172681\ttotal: 3.59s\tremaining: 12.2s\n",
            "228:\tlearn: 0.4171335\ttotal: 3.61s\tremaining: 12.2s\n",
            "229:\tlearn: 0.4169687\ttotal: 3.62s\tremaining: 12.1s\n",
            "230:\tlearn: 0.4168830\ttotal: 3.63s\tremaining: 12.1s\n",
            "231:\tlearn: 0.4167965\ttotal: 3.65s\tremaining: 12.1s\n",
            "232:\tlearn: 0.4167829\ttotal: 3.66s\tremaining: 12s\n",
            "233:\tlearn: 0.4167534\ttotal: 3.67s\tremaining: 12s\n",
            "234:\tlearn: 0.4167083\ttotal: 3.69s\tremaining: 12s\n",
            "235:\tlearn: 0.4165479\ttotal: 3.7s\tremaining: 12s\n",
            "236:\tlearn: 0.4165213\ttotal: 3.71s\tremaining: 12s\n",
            "237:\tlearn: 0.4164692\ttotal: 3.73s\tremaining: 11.9s\n",
            "238:\tlearn: 0.4164255\ttotal: 3.74s\tremaining: 11.9s\n",
            "239:\tlearn: 0.4163172\ttotal: 3.76s\tremaining: 11.9s\n",
            "240:\tlearn: 0.4161637\ttotal: 3.77s\tremaining: 11.9s\n",
            "241:\tlearn: 0.4160287\ttotal: 3.79s\tremaining: 11.9s\n",
            "242:\tlearn: 0.4159601\ttotal: 3.8s\tremaining: 11.9s\n",
            "243:\tlearn: 0.4159548\ttotal: 3.82s\tremaining: 11.8s\n",
            "244:\tlearn: 0.4159459\ttotal: 3.83s\tremaining: 11.8s\n",
            "245:\tlearn: 0.4158497\ttotal: 3.84s\tremaining: 11.8s\n",
            "246:\tlearn: 0.4157733\ttotal: 3.86s\tremaining: 11.8s\n",
            "247:\tlearn: 0.4156448\ttotal: 3.87s\tremaining: 11.7s\n",
            "248:\tlearn: 0.4153973\ttotal: 3.9s\tremaining: 11.8s\n",
            "249:\tlearn: 0.4153259\ttotal: 3.92s\tremaining: 11.8s\n",
            "250:\tlearn: 0.4153091\ttotal: 3.93s\tremaining: 11.7s\n",
            "251:\tlearn: 0.4152166\ttotal: 3.95s\tremaining: 11.7s\n",
            "252:\tlearn: 0.4151130\ttotal: 3.96s\tremaining: 11.7s\n",
            "253:\tlearn: 0.4149769\ttotal: 3.98s\tremaining: 11.7s\n",
            "254:\tlearn: 0.4148257\ttotal: 4s\tremaining: 11.7s\n",
            "255:\tlearn: 0.4147589\ttotal: 4.01s\tremaining: 11.7s\n",
            "256:\tlearn: 0.4146937\ttotal: 4.03s\tremaining: 11.6s\n",
            "257:\tlearn: 0.4146066\ttotal: 4.04s\tremaining: 11.6s\n",
            "258:\tlearn: 0.4144706\ttotal: 4.06s\tremaining: 11.6s\n",
            "259:\tlearn: 0.4143125\ttotal: 4.08s\tremaining: 11.6s\n",
            "260:\tlearn: 0.4142363\ttotal: 4.1s\tremaining: 11.6s\n",
            "261:\tlearn: 0.4141684\ttotal: 4.11s\tremaining: 11.6s\n",
            "262:\tlearn: 0.4141265\ttotal: 4.13s\tremaining: 11.6s\n",
            "263:\tlearn: 0.4140265\ttotal: 4.14s\tremaining: 11.6s\n",
            "264:\tlearn: 0.4138417\ttotal: 4.16s\tremaining: 11.5s\n",
            "265:\tlearn: 0.4138022\ttotal: 4.17s\tremaining: 11.5s\n",
            "266:\tlearn: 0.4137929\ttotal: 4.18s\tremaining: 11.5s\n",
            "267:\tlearn: 0.4136647\ttotal: 4.2s\tremaining: 11.5s\n",
            "268:\tlearn: 0.4135831\ttotal: 4.21s\tremaining: 11.5s\n",
            "269:\tlearn: 0.4135246\ttotal: 4.23s\tremaining: 11.4s\n",
            "270:\tlearn: 0.4134739\ttotal: 4.24s\tremaining: 11.4s\n",
            "271:\tlearn: 0.4133885\ttotal: 4.26s\tremaining: 11.4s\n",
            "272:\tlearn: 0.4133794\ttotal: 4.27s\tremaining: 11.4s\n",
            "273:\tlearn: 0.4133788\ttotal: 4.28s\tremaining: 11.3s\n",
            "274:\tlearn: 0.4133658\ttotal: 4.28s\tremaining: 11.3s\n",
            "275:\tlearn: 0.4132160\ttotal: 4.3s\tremaining: 11.3s\n",
            "276:\tlearn: 0.4130962\ttotal: 4.31s\tremaining: 11.3s\n",
            "277:\tlearn: 0.4129786\ttotal: 4.33s\tremaining: 11.2s\n",
            "278:\tlearn: 0.4128252\ttotal: 4.35s\tremaining: 11.2s\n",
            "279:\tlearn: 0.4126482\ttotal: 4.36s\tremaining: 11.2s\n",
            "280:\tlearn: 0.4125521\ttotal: 4.39s\tremaining: 11.2s\n",
            "281:\tlearn: 0.4124993\ttotal: 4.4s\tremaining: 11.2s\n",
            "282:\tlearn: 0.4124414\ttotal: 4.42s\tremaining: 11.2s\n",
            "283:\tlearn: 0.4123838\ttotal: 4.43s\tremaining: 11.2s\n",
            "284:\tlearn: 0.4123792\ttotal: 4.44s\tremaining: 11.1s\n",
            "285:\tlearn: 0.4123248\ttotal: 4.46s\tremaining: 11.1s\n",
            "286:\tlearn: 0.4122439\ttotal: 4.48s\tremaining: 11.1s\n",
            "287:\tlearn: 0.4120911\ttotal: 4.49s\tremaining: 11.1s\n",
            "288:\tlearn: 0.4120085\ttotal: 4.51s\tremaining: 11.1s\n",
            "289:\tlearn: 0.4119313\ttotal: 4.52s\tremaining: 11.1s\n",
            "290:\tlearn: 0.4118294\ttotal: 4.54s\tremaining: 11.1s\n",
            "291:\tlearn: 0.4118043\ttotal: 4.55s\tremaining: 11s\n",
            "292:\tlearn: 0.4117057\ttotal: 4.56s\tremaining: 11s\n",
            "293:\tlearn: 0.4115948\ttotal: 4.57s\tremaining: 11s\n",
            "294:\tlearn: 0.4115022\ttotal: 4.59s\tremaining: 11s\n",
            "295:\tlearn: 0.4114206\ttotal: 4.61s\tremaining: 11s\n",
            "296:\tlearn: 0.4113635\ttotal: 4.62s\tremaining: 10.9s\n",
            "297:\tlearn: 0.4111410\ttotal: 4.63s\tremaining: 10.9s\n",
            "298:\tlearn: 0.4110428\ttotal: 4.65s\tremaining: 10.9s\n",
            "299:\tlearn: 0.4110142\ttotal: 4.67s\tremaining: 10.9s\n",
            "300:\tlearn: 0.4109975\ttotal: 4.68s\tremaining: 10.9s\n",
            "301:\tlearn: 0.4109569\ttotal: 4.69s\tremaining: 10.8s\n",
            "302:\tlearn: 0.4109020\ttotal: 4.7s\tremaining: 10.8s\n",
            "303:\tlearn: 0.4107951\ttotal: 4.72s\tremaining: 10.8s\n",
            "304:\tlearn: 0.4107433\ttotal: 4.73s\tremaining: 10.8s\n",
            "305:\tlearn: 0.4106876\ttotal: 4.74s\tremaining: 10.8s\n",
            "306:\tlearn: 0.4106113\ttotal: 4.75s\tremaining: 10.7s\n",
            "307:\tlearn: 0.4105243\ttotal: 4.77s\tremaining: 10.7s\n",
            "308:\tlearn: 0.4103738\ttotal: 4.78s\tremaining: 10.7s\n",
            "309:\tlearn: 0.4102325\ttotal: 4.8s\tremaining: 10.7s\n",
            "310:\tlearn: 0.4100622\ttotal: 4.82s\tremaining: 10.7s\n",
            "311:\tlearn: 0.4100592\ttotal: 4.82s\tremaining: 10.6s\n",
            "312:\tlearn: 0.4099403\ttotal: 4.84s\tremaining: 10.6s\n",
            "313:\tlearn: 0.4098358\ttotal: 4.85s\tremaining: 10.6s\n",
            "314:\tlearn: 0.4097105\ttotal: 4.87s\tremaining: 10.6s\n",
            "315:\tlearn: 0.4096067\ttotal: 4.9s\tremaining: 10.6s\n",
            "316:\tlearn: 0.4095720\ttotal: 4.92s\tremaining: 10.6s\n",
            "317:\tlearn: 0.4095115\ttotal: 4.93s\tremaining: 10.6s\n",
            "318:\tlearn: 0.4093931\ttotal: 4.95s\tremaining: 10.6s\n",
            "319:\tlearn: 0.4092609\ttotal: 4.97s\tremaining: 10.6s\n",
            "320:\tlearn: 0.4091391\ttotal: 4.98s\tremaining: 10.5s\n",
            "321:\tlearn: 0.4090458\ttotal: 5s\tremaining: 10.5s\n",
            "322:\tlearn: 0.4089508\ttotal: 5.01s\tremaining: 10.5s\n",
            "323:\tlearn: 0.4086803\ttotal: 5.03s\tremaining: 10.5s\n",
            "324:\tlearn: 0.4085133\ttotal: 5.05s\tremaining: 10.5s\n",
            "325:\tlearn: 0.4084531\ttotal: 5.06s\tremaining: 10.5s\n",
            "326:\tlearn: 0.4080773\ttotal: 5.07s\tremaining: 10.4s\n",
            "327:\tlearn: 0.4079931\ttotal: 5.09s\tremaining: 10.4s\n",
            "328:\tlearn: 0.4078998\ttotal: 5.1s\tremaining: 10.4s\n",
            "329:\tlearn: 0.4078095\ttotal: 5.12s\tremaining: 10.4s\n",
            "330:\tlearn: 0.4077582\ttotal: 5.13s\tremaining: 10.4s\n",
            "331:\tlearn: 0.4076708\ttotal: 5.15s\tremaining: 10.4s\n",
            "332:\tlearn: 0.4076196\ttotal: 5.17s\tremaining: 10.3s\n",
            "333:\tlearn: 0.4075449\ttotal: 5.18s\tremaining: 10.3s\n",
            "334:\tlearn: 0.4073194\ttotal: 5.19s\tremaining: 10.3s\n",
            "335:\tlearn: 0.4072706\ttotal: 5.21s\tremaining: 10.3s\n",
            "336:\tlearn: 0.4071702\ttotal: 5.22s\tremaining: 10.3s\n",
            "337:\tlearn: 0.4070981\ttotal: 5.25s\tremaining: 10.3s\n",
            "338:\tlearn: 0.4070255\ttotal: 5.26s\tremaining: 10.3s\n",
            "339:\tlearn: 0.4069189\ttotal: 5.28s\tremaining: 10.2s\n",
            "340:\tlearn: 0.4068896\ttotal: 5.29s\tremaining: 10.2s\n",
            "341:\tlearn: 0.4067993\ttotal: 5.31s\tremaining: 10.2s\n",
            "342:\tlearn: 0.4066867\ttotal: 5.32s\tremaining: 10.2s\n",
            "343:\tlearn: 0.4065962\ttotal: 5.33s\tremaining: 10.2s\n",
            "344:\tlearn: 0.4065018\ttotal: 5.35s\tremaining: 10.2s\n",
            "345:\tlearn: 0.4063858\ttotal: 5.37s\tremaining: 10.1s\n",
            "346:\tlearn: 0.4062249\ttotal: 5.38s\tremaining: 10.1s\n",
            "347:\tlearn: 0.4061746\ttotal: 5.4s\tremaining: 10.1s\n",
            "348:\tlearn: 0.4061106\ttotal: 5.41s\tremaining: 10.1s\n",
            "349:\tlearn: 0.4060477\ttotal: 5.42s\tremaining: 10.1s\n",
            "350:\tlearn: 0.4059913\ttotal: 5.44s\tremaining: 10.1s\n",
            "351:\tlearn: 0.4058626\ttotal: 5.46s\tremaining: 10.1s\n",
            "352:\tlearn: 0.4057844\ttotal: 5.48s\tremaining: 10s\n",
            "353:\tlearn: 0.4057048\ttotal: 5.49s\tremaining: 10s\n",
            "354:\tlearn: 0.4054815\ttotal: 5.51s\tremaining: 10s\n",
            "355:\tlearn: 0.4053876\ttotal: 5.53s\tremaining: 10s\n",
            "356:\tlearn: 0.4053348\ttotal: 5.54s\tremaining: 9.98s\n",
            "357:\tlearn: 0.4052285\ttotal: 5.55s\tremaining: 9.96s\n",
            "358:\tlearn: 0.4051180\ttotal: 5.57s\tremaining: 9.95s\n",
            "359:\tlearn: 0.4050168\ttotal: 5.58s\tremaining: 9.93s\n",
            "360:\tlearn: 0.4049427\ttotal: 5.6s\tremaining: 9.91s\n",
            "361:\tlearn: 0.4048585\ttotal: 5.61s\tremaining: 9.89s\n",
            "362:\tlearn: 0.4047083\ttotal: 5.63s\tremaining: 9.87s\n",
            "363:\tlearn: 0.4046083\ttotal: 5.64s\tremaining: 9.86s\n",
            "364:\tlearn: 0.4045574\ttotal: 5.66s\tremaining: 9.85s\n",
            "365:\tlearn: 0.4043879\ttotal: 5.68s\tremaining: 9.83s\n",
            "366:\tlearn: 0.4042872\ttotal: 5.69s\tremaining: 9.82s\n",
            "367:\tlearn: 0.4042053\ttotal: 5.71s\tremaining: 9.8s\n",
            "368:\tlearn: 0.4040220\ttotal: 5.72s\tremaining: 9.78s\n",
            "369:\tlearn: 0.4039409\ttotal: 5.74s\tremaining: 9.77s\n",
            "370:\tlearn: 0.4038558\ttotal: 5.75s\tremaining: 9.74s\n",
            "371:\tlearn: 0.4036726\ttotal: 5.76s\tremaining: 9.73s\n",
            "372:\tlearn: 0.4036373\ttotal: 5.78s\tremaining: 9.71s\n",
            "373:\tlearn: 0.4034854\ttotal: 5.79s\tremaining: 9.69s\n",
            "374:\tlearn: 0.4034136\ttotal: 5.8s\tremaining: 9.68s\n",
            "375:\tlearn: 0.4034104\ttotal: 5.81s\tremaining: 9.65s\n",
            "376:\tlearn: 0.4033598\ttotal: 5.83s\tremaining: 9.63s\n",
            "377:\tlearn: 0.4033103\ttotal: 5.84s\tremaining: 9.62s\n",
            "378:\tlearn: 0.4032379\ttotal: 5.87s\tremaining: 9.63s\n",
            "379:\tlearn: 0.4031004\ttotal: 5.9s\tremaining: 9.63s\n",
            "380:\tlearn: 0.4030599\ttotal: 5.93s\tremaining: 9.63s\n",
            "381:\tlearn: 0.4030265\ttotal: 5.94s\tremaining: 9.61s\n",
            "382:\tlearn: 0.4029158\ttotal: 5.96s\tremaining: 9.6s\n",
            "383:\tlearn: 0.4028825\ttotal: 5.97s\tremaining: 9.58s\n",
            "384:\tlearn: 0.4028325\ttotal: 5.99s\tremaining: 9.56s\n",
            "385:\tlearn: 0.4027981\ttotal: 6s\tremaining: 9.55s\n",
            "386:\tlearn: 0.4027014\ttotal: 6.03s\tremaining: 9.54s\n",
            "387:\tlearn: 0.4025471\ttotal: 6.04s\tremaining: 9.53s\n",
            "388:\tlearn: 0.4025065\ttotal: 6.05s\tremaining: 9.5s\n",
            "389:\tlearn: 0.4023847\ttotal: 6.07s\tremaining: 9.49s\n",
            "390:\tlearn: 0.4023264\ttotal: 6.08s\tremaining: 9.47s\n",
            "391:\tlearn: 0.4022776\ttotal: 6.09s\tremaining: 9.45s\n",
            "392:\tlearn: 0.4022260\ttotal: 6.11s\tremaining: 9.44s\n",
            "393:\tlearn: 0.4021049\ttotal: 6.12s\tremaining: 9.42s\n",
            "394:\tlearn: 0.4019893\ttotal: 6.14s\tremaining: 9.4s\n",
            "395:\tlearn: 0.4019101\ttotal: 6.16s\tremaining: 9.39s\n",
            "396:\tlearn: 0.4017972\ttotal: 6.17s\tremaining: 9.37s\n",
            "397:\tlearn: 0.4017689\ttotal: 6.18s\tremaining: 9.35s\n",
            "398:\tlearn: 0.4015855\ttotal: 6.2s\tremaining: 9.34s\n",
            "399:\tlearn: 0.4015174\ttotal: 6.21s\tremaining: 9.32s\n",
            "400:\tlearn: 0.4013754\ttotal: 6.23s\tremaining: 9.3s\n",
            "401:\tlearn: 0.4012240\ttotal: 6.24s\tremaining: 9.29s\n",
            "402:\tlearn: 0.4011030\ttotal: 6.26s\tremaining: 9.27s\n",
            "403:\tlearn: 0.4010797\ttotal: 6.27s\tremaining: 9.26s\n",
            "404:\tlearn: 0.4010395\ttotal: 6.29s\tremaining: 9.24s\n",
            "405:\tlearn: 0.4009055\ttotal: 6.3s\tremaining: 9.22s\n",
            "406:\tlearn: 0.4006952\ttotal: 6.32s\tremaining: 9.21s\n",
            "407:\tlearn: 0.4006336\ttotal: 6.34s\tremaining: 9.2s\n",
            "408:\tlearn: 0.4005695\ttotal: 6.35s\tremaining: 9.18s\n",
            "409:\tlearn: 0.4004897\ttotal: 6.37s\tremaining: 9.16s\n",
            "410:\tlearn: 0.4003661\ttotal: 6.38s\tremaining: 9.14s\n",
            "411:\tlearn: 0.4003494\ttotal: 6.39s\tremaining: 9.13s\n",
            "412:\tlearn: 0.4002842\ttotal: 6.41s\tremaining: 9.11s\n",
            "413:\tlearn: 0.4001716\ttotal: 6.42s\tremaining: 9.09s\n",
            "414:\tlearn: 0.4000997\ttotal: 6.44s\tremaining: 9.08s\n",
            "415:\tlearn: 0.4000317\ttotal: 6.46s\tremaining: 9.07s\n",
            "416:\tlearn: 0.3999336\ttotal: 6.48s\tremaining: 9.06s\n",
            "417:\tlearn: 0.3998447\ttotal: 6.5s\tremaining: 9.06s\n",
            "418:\tlearn: 0.3997171\ttotal: 6.52s\tremaining: 9.04s\n",
            "419:\tlearn: 0.3996155\ttotal: 6.54s\tremaining: 9.03s\n",
            "420:\tlearn: 0.3995735\ttotal: 6.55s\tremaining: 9.01s\n",
            "421:\tlearn: 0.3994809\ttotal: 6.57s\tremaining: 8.99s\n",
            "422:\tlearn: 0.3993819\ttotal: 6.58s\tremaining: 8.98s\n",
            "423:\tlearn: 0.3993575\ttotal: 6.59s\tremaining: 8.96s\n",
            "424:\tlearn: 0.3992279\ttotal: 6.61s\tremaining: 8.94s\n",
            "425:\tlearn: 0.3991557\ttotal: 6.63s\tremaining: 8.93s\n",
            "426:\tlearn: 0.3990053\ttotal: 6.64s\tremaining: 8.91s\n",
            "427:\tlearn: 0.3989449\ttotal: 6.66s\tremaining: 8.89s\n",
            "428:\tlearn: 0.3988758\ttotal: 6.67s\tremaining: 8.88s\n",
            "429:\tlearn: 0.3988175\ttotal: 6.69s\tremaining: 8.86s\n",
            "430:\tlearn: 0.3987418\ttotal: 6.7s\tremaining: 8.85s\n",
            "431:\tlearn: 0.3986507\ttotal: 6.72s\tremaining: 8.84s\n",
            "432:\tlearn: 0.3985138\ttotal: 6.74s\tremaining: 8.82s\n",
            "433:\tlearn: 0.3985068\ttotal: 6.75s\tremaining: 8.8s\n",
            "434:\tlearn: 0.3985027\ttotal: 6.78s\tremaining: 8.8s\n",
            "435:\tlearn: 0.3984625\ttotal: 6.82s\tremaining: 8.82s\n",
            "436:\tlearn: 0.3984038\ttotal: 6.83s\tremaining: 8.8s\n",
            "437:\tlearn: 0.3983620\ttotal: 6.84s\tremaining: 8.78s\n",
            "438:\tlearn: 0.3982463\ttotal: 6.88s\tremaining: 8.79s\n",
            "439:\tlearn: 0.3982212\ttotal: 6.89s\tremaining: 8.77s\n",
            "440:\tlearn: 0.3980355\ttotal: 6.92s\tremaining: 8.77s\n",
            "441:\tlearn: 0.3979375\ttotal: 6.93s\tremaining: 8.75s\n",
            "442:\tlearn: 0.3979041\ttotal: 6.95s\tremaining: 8.74s\n",
            "443:\tlearn: 0.3977155\ttotal: 6.96s\tremaining: 8.72s\n",
            "444:\tlearn: 0.3976304\ttotal: 6.98s\tremaining: 8.71s\n",
            "445:\tlearn: 0.3975974\ttotal: 6.99s\tremaining: 8.69s\n",
            "446:\tlearn: 0.3974514\ttotal: 7.01s\tremaining: 8.68s\n",
            "447:\tlearn: 0.3974000\ttotal: 7.03s\tremaining: 8.66s\n",
            "448:\tlearn: 0.3972518\ttotal: 7.05s\tremaining: 8.65s\n",
            "449:\tlearn: 0.3971815\ttotal: 7.06s\tremaining: 8.63s\n",
            "450:\tlearn: 0.3971051\ttotal: 7.08s\tremaining: 8.61s\n",
            "451:\tlearn: 0.3970100\ttotal: 7.09s\tremaining: 8.6s\n",
            "452:\tlearn: 0.3968937\ttotal: 7.11s\tremaining: 8.58s\n",
            "453:\tlearn: 0.3968032\ttotal: 7.13s\tremaining: 8.57s\n",
            "454:\tlearn: 0.3967243\ttotal: 7.14s\tremaining: 8.56s\n",
            "455:\tlearn: 0.3966107\ttotal: 7.16s\tremaining: 8.54s\n",
            "456:\tlearn: 0.3965623\ttotal: 7.18s\tremaining: 8.53s\n",
            "457:\tlearn: 0.3964667\ttotal: 7.19s\tremaining: 8.51s\n",
            "458:\tlearn: 0.3963666\ttotal: 7.21s\tremaining: 8.5s\n",
            "459:\tlearn: 0.3961575\ttotal: 7.22s\tremaining: 8.48s\n",
            "460:\tlearn: 0.3960768\ttotal: 7.24s\tremaining: 8.46s\n",
            "461:\tlearn: 0.3959301\ttotal: 7.26s\tremaining: 8.45s\n",
            "462:\tlearn: 0.3958044\ttotal: 7.27s\tremaining: 8.43s\n",
            "463:\tlearn: 0.3957887\ttotal: 7.29s\tremaining: 8.42s\n",
            "464:\tlearn: 0.3956793\ttotal: 7.3s\tremaining: 8.4s\n",
            "465:\tlearn: 0.3955312\ttotal: 7.32s\tremaining: 8.39s\n",
            "466:\tlearn: 0.3955110\ttotal: 7.34s\tremaining: 8.37s\n",
            "467:\tlearn: 0.3954823\ttotal: 7.35s\tremaining: 8.35s\n",
            "468:\tlearn: 0.3954139\ttotal: 7.36s\tremaining: 8.34s\n",
            "469:\tlearn: 0.3952141\ttotal: 7.39s\tremaining: 8.33s\n",
            "470:\tlearn: 0.3951579\ttotal: 7.4s\tremaining: 8.31s\n",
            "471:\tlearn: 0.3951031\ttotal: 7.42s\tremaining: 8.3s\n",
            "472:\tlearn: 0.3950284\ttotal: 7.44s\tremaining: 8.29s\n",
            "473:\tlearn: 0.3949293\ttotal: 7.46s\tremaining: 8.28s\n",
            "474:\tlearn: 0.3948965\ttotal: 7.48s\tremaining: 8.26s\n",
            "475:\tlearn: 0.3948948\ttotal: 7.49s\tremaining: 8.24s\n",
            "476:\tlearn: 0.3948053\ttotal: 7.5s\tremaining: 8.23s\n",
            "477:\tlearn: 0.3947011\ttotal: 7.52s\tremaining: 8.21s\n",
            "478:\tlearn: 0.3946654\ttotal: 7.53s\tremaining: 8.2s\n",
            "479:\tlearn: 0.3945764\ttotal: 7.55s\tremaining: 8.18s\n",
            "480:\tlearn: 0.3944983\ttotal: 7.57s\tremaining: 8.16s\n",
            "481:\tlearn: 0.3944285\ttotal: 7.58s\tremaining: 8.15s\n",
            "482:\tlearn: 0.3943715\ttotal: 7.6s\tremaining: 8.13s\n",
            "483:\tlearn: 0.3942557\ttotal: 7.61s\tremaining: 8.11s\n",
            "484:\tlearn: 0.3941921\ttotal: 7.62s\tremaining: 8.1s\n",
            "485:\tlearn: 0.3941433\ttotal: 7.64s\tremaining: 8.08s\n",
            "486:\tlearn: 0.3940770\ttotal: 7.65s\tremaining: 8.06s\n",
            "487:\tlearn: 0.3940554\ttotal: 7.67s\tremaining: 8.04s\n",
            "488:\tlearn: 0.3940235\ttotal: 7.68s\tremaining: 8.03s\n",
            "489:\tlearn: 0.3939792\ttotal: 7.69s\tremaining: 8.01s\n",
            "490:\tlearn: 0.3938321\ttotal: 7.71s\tremaining: 7.99s\n",
            "491:\tlearn: 0.3937242\ttotal: 7.72s\tremaining: 7.97s\n",
            "492:\tlearn: 0.3936729\ttotal: 7.75s\tremaining: 7.97s\n",
            "493:\tlearn: 0.3935742\ttotal: 7.77s\tremaining: 7.96s\n",
            "494:\tlearn: 0.3934947\ttotal: 7.78s\tremaining: 7.94s\n",
            "495:\tlearn: 0.3933865\ttotal: 7.8s\tremaining: 7.92s\n",
            "496:\tlearn: 0.3933831\ttotal: 7.81s\tremaining: 7.9s\n",
            "497:\tlearn: 0.3931089\ttotal: 7.83s\tremaining: 7.89s\n",
            "498:\tlearn: 0.3929909\ttotal: 7.85s\tremaining: 7.88s\n",
            "499:\tlearn: 0.3929687\ttotal: 7.87s\tremaining: 7.87s\n",
            "500:\tlearn: 0.3929665\ttotal: 7.89s\tremaining: 7.86s\n",
            "501:\tlearn: 0.3928983\ttotal: 7.9s\tremaining: 7.84s\n",
            "502:\tlearn: 0.3928054\ttotal: 7.92s\tremaining: 7.82s\n",
            "503:\tlearn: 0.3926457\ttotal: 7.93s\tremaining: 7.81s\n",
            "504:\tlearn: 0.3925109\ttotal: 7.95s\tremaining: 7.8s\n",
            "505:\tlearn: 0.3924608\ttotal: 7.97s\tremaining: 7.78s\n",
            "506:\tlearn: 0.3923566\ttotal: 7.99s\tremaining: 7.77s\n",
            "507:\tlearn: 0.3922479\ttotal: 8.01s\tremaining: 7.76s\n",
            "508:\tlearn: 0.3920867\ttotal: 8.02s\tremaining: 7.74s\n",
            "509:\tlearn: 0.3919987\ttotal: 8.04s\tremaining: 7.72s\n",
            "510:\tlearn: 0.3919112\ttotal: 8.05s\tremaining: 7.71s\n",
            "511:\tlearn: 0.3918739\ttotal: 8.08s\tremaining: 7.7s\n",
            "512:\tlearn: 0.3917475\ttotal: 8.1s\tremaining: 7.69s\n",
            "513:\tlearn: 0.3917460\ttotal: 8.11s\tremaining: 7.67s\n",
            "514:\tlearn: 0.3916899\ttotal: 8.12s\tremaining: 7.65s\n",
            "515:\tlearn: 0.3915947\ttotal: 8.14s\tremaining: 7.63s\n",
            "516:\tlearn: 0.3914941\ttotal: 8.16s\tremaining: 7.62s\n",
            "517:\tlearn: 0.3914653\ttotal: 8.17s\tremaining: 7.6s\n",
            "518:\tlearn: 0.3913993\ttotal: 8.19s\tremaining: 7.59s\n",
            "519:\tlearn: 0.3913134\ttotal: 8.2s\tremaining: 7.57s\n",
            "520:\tlearn: 0.3912734\ttotal: 8.22s\tremaining: 7.55s\n",
            "521:\tlearn: 0.3911272\ttotal: 8.23s\tremaining: 7.54s\n",
            "522:\tlearn: 0.3910238\ttotal: 8.25s\tremaining: 7.52s\n",
            "523:\tlearn: 0.3909418\ttotal: 8.26s\tremaining: 7.5s\n",
            "524:\tlearn: 0.3909220\ttotal: 8.28s\tremaining: 7.49s\n",
            "525:\tlearn: 0.3908876\ttotal: 8.29s\tremaining: 7.47s\n",
            "526:\tlearn: 0.3908761\ttotal: 8.31s\tremaining: 7.46s\n",
            "527:\tlearn: 0.3907730\ttotal: 8.32s\tremaining: 7.44s\n",
            "528:\tlearn: 0.3907532\ttotal: 8.34s\tremaining: 7.42s\n",
            "529:\tlearn: 0.3907073\ttotal: 8.36s\tremaining: 7.41s\n",
            "530:\tlearn: 0.3906512\ttotal: 8.38s\tremaining: 7.4s\n",
            "531:\tlearn: 0.3905844\ttotal: 8.39s\tremaining: 7.38s\n",
            "532:\tlearn: 0.3905267\ttotal: 8.4s\tremaining: 7.36s\n",
            "533:\tlearn: 0.3904433\ttotal: 8.42s\tremaining: 7.35s\n",
            "534:\tlearn: 0.3904257\ttotal: 8.44s\tremaining: 7.34s\n",
            "535:\tlearn: 0.3903191\ttotal: 8.46s\tremaining: 7.33s\n",
            "536:\tlearn: 0.3901572\ttotal: 8.47s\tremaining: 7.31s\n",
            "537:\tlearn: 0.3901426\ttotal: 8.49s\tremaining: 7.29s\n",
            "538:\tlearn: 0.3900648\ttotal: 8.51s\tremaining: 7.27s\n",
            "539:\tlearn: 0.3899598\ttotal: 8.52s\tremaining: 7.26s\n",
            "540:\tlearn: 0.3898787\ttotal: 8.53s\tremaining: 7.24s\n",
            "541:\tlearn: 0.3897758\ttotal: 8.55s\tremaining: 7.22s\n",
            "542:\tlearn: 0.3896942\ttotal: 8.57s\tremaining: 7.21s\n",
            "543:\tlearn: 0.3896152\ttotal: 8.58s\tremaining: 7.2s\n",
            "544:\tlearn: 0.3895084\ttotal: 8.6s\tremaining: 7.18s\n",
            "545:\tlearn: 0.3893981\ttotal: 8.62s\tremaining: 7.16s\n",
            "546:\tlearn: 0.3893084\ttotal: 8.63s\tremaining: 7.15s\n",
            "547:\tlearn: 0.3892651\ttotal: 8.64s\tremaining: 7.13s\n",
            "548:\tlearn: 0.3892415\ttotal: 8.65s\tremaining: 7.11s\n",
            "549:\tlearn: 0.3891285\ttotal: 8.68s\tremaining: 7.1s\n",
            "550:\tlearn: 0.3890741\ttotal: 8.69s\tremaining: 7.08s\n",
            "551:\tlearn: 0.3890016\ttotal: 8.71s\tremaining: 7.07s\n",
            "552:\tlearn: 0.3889406\ttotal: 8.72s\tremaining: 7.05s\n",
            "553:\tlearn: 0.3888906\ttotal: 8.73s\tremaining: 7.03s\n",
            "554:\tlearn: 0.3888724\ttotal: 8.75s\tremaining: 7.01s\n",
            "555:\tlearn: 0.3888198\ttotal: 8.76s\tremaining: 7s\n",
            "556:\tlearn: 0.3887574\ttotal: 8.78s\tremaining: 6.98s\n",
            "557:\tlearn: 0.3887270\ttotal: 8.8s\tremaining: 6.97s\n",
            "558:\tlearn: 0.3887156\ttotal: 8.81s\tremaining: 6.95s\n",
            "559:\tlearn: 0.3886436\ttotal: 8.84s\tremaining: 6.95s\n",
            "560:\tlearn: 0.3886417\ttotal: 8.86s\tremaining: 6.93s\n",
            "561:\tlearn: 0.3886101\ttotal: 8.88s\tremaining: 6.92s\n",
            "562:\tlearn: 0.3884880\ttotal: 8.89s\tremaining: 6.9s\n",
            "563:\tlearn: 0.3884260\ttotal: 8.91s\tremaining: 6.88s\n",
            "564:\tlearn: 0.3883091\ttotal: 8.92s\tremaining: 6.87s\n",
            "565:\tlearn: 0.3882937\ttotal: 8.94s\tremaining: 6.85s\n",
            "566:\tlearn: 0.3882400\ttotal: 8.96s\tremaining: 6.84s\n",
            "567:\tlearn: 0.3882110\ttotal: 8.98s\tremaining: 6.83s\n",
            "568:\tlearn: 0.3881434\ttotal: 9s\tremaining: 6.82s\n",
            "569:\tlearn: 0.3880276\ttotal: 9.01s\tremaining: 6.8s\n",
            "570:\tlearn: 0.3879398\ttotal: 9.03s\tremaining: 6.78s\n",
            "571:\tlearn: 0.3879215\ttotal: 9.04s\tremaining: 6.77s\n",
            "572:\tlearn: 0.3878390\ttotal: 9.06s\tremaining: 6.75s\n",
            "573:\tlearn: 0.3877534\ttotal: 9.07s\tremaining: 6.73s\n",
            "574:\tlearn: 0.3876200\ttotal: 9.09s\tremaining: 6.71s\n",
            "575:\tlearn: 0.3875980\ttotal: 9.1s\tremaining: 6.7s\n",
            "576:\tlearn: 0.3874922\ttotal: 9.11s\tremaining: 6.68s\n",
            "577:\tlearn: 0.3874172\ttotal: 9.13s\tremaining: 6.67s\n",
            "578:\tlearn: 0.3873906\ttotal: 9.14s\tremaining: 6.65s\n",
            "579:\tlearn: 0.3873588\ttotal: 9.15s\tremaining: 6.63s\n",
            "580:\tlearn: 0.3873575\ttotal: 9.16s\tremaining: 6.61s\n",
            "581:\tlearn: 0.3873085\ttotal: 9.18s\tremaining: 6.59s\n",
            "582:\tlearn: 0.3872608\ttotal: 9.2s\tremaining: 6.58s\n",
            "583:\tlearn: 0.3870971\ttotal: 9.21s\tremaining: 6.56s\n",
            "584:\tlearn: 0.3870552\ttotal: 9.23s\tremaining: 6.55s\n",
            "585:\tlearn: 0.3870538\ttotal: 9.25s\tremaining: 6.53s\n",
            "586:\tlearn: 0.3870156\ttotal: 9.26s\tremaining: 6.52s\n",
            "587:\tlearn: 0.3869888\ttotal: 9.28s\tremaining: 6.5s\n",
            "588:\tlearn: 0.3869132\ttotal: 9.29s\tremaining: 6.48s\n",
            "589:\tlearn: 0.3868330\ttotal: 9.31s\tremaining: 6.47s\n",
            "590:\tlearn: 0.3867515\ttotal: 9.32s\tremaining: 6.45s\n",
            "591:\tlearn: 0.3866965\ttotal: 9.34s\tremaining: 6.44s\n",
            "592:\tlearn: 0.3866447\ttotal: 9.35s\tremaining: 6.42s\n",
            "593:\tlearn: 0.3865594\ttotal: 9.37s\tremaining: 6.41s\n",
            "594:\tlearn: 0.3864896\ttotal: 9.38s\tremaining: 6.39s\n",
            "595:\tlearn: 0.3864753\ttotal: 9.4s\tremaining: 6.37s\n",
            "596:\tlearn: 0.3863917\ttotal: 9.41s\tremaining: 6.35s\n",
            "597:\tlearn: 0.3863327\ttotal: 9.43s\tremaining: 6.34s\n",
            "598:\tlearn: 0.3862539\ttotal: 9.46s\tremaining: 6.33s\n",
            "599:\tlearn: 0.3861974\ttotal: 9.47s\tremaining: 6.31s\n",
            "600:\tlearn: 0.3861721\ttotal: 9.48s\tremaining: 6.3s\n",
            "601:\tlearn: 0.3860558\ttotal: 9.5s\tremaining: 6.28s\n",
            "602:\tlearn: 0.3859993\ttotal: 9.52s\tremaining: 6.27s\n",
            "603:\tlearn: 0.3859483\ttotal: 9.54s\tremaining: 6.25s\n",
            "604:\tlearn: 0.3859214\ttotal: 9.55s\tremaining: 6.23s\n",
            "605:\tlearn: 0.3858534\ttotal: 9.56s\tremaining: 6.22s\n",
            "606:\tlearn: 0.3858381\ttotal: 9.57s\tremaining: 6.2s\n",
            "607:\tlearn: 0.3857399\ttotal: 9.59s\tremaining: 6.18s\n",
            "608:\tlearn: 0.3856540\ttotal: 9.61s\tremaining: 6.17s\n",
            "609:\tlearn: 0.3856218\ttotal: 9.62s\tremaining: 6.15s\n",
            "610:\tlearn: 0.3856033\ttotal: 9.63s\tremaining: 6.13s\n",
            "611:\tlearn: 0.3854368\ttotal: 9.65s\tremaining: 6.12s\n",
            "612:\tlearn: 0.3854272\ttotal: 9.66s\tremaining: 6.1s\n",
            "613:\tlearn: 0.3853777\ttotal: 9.68s\tremaining: 6.08s\n",
            "614:\tlearn: 0.3852467\ttotal: 9.69s\tremaining: 6.07s\n",
            "615:\tlearn: 0.3851776\ttotal: 9.7s\tremaining: 6.05s\n",
            "616:\tlearn: 0.3850698\ttotal: 9.72s\tremaining: 6.03s\n",
            "617:\tlearn: 0.3850657\ttotal: 9.73s\tremaining: 6.01s\n",
            "618:\tlearn: 0.3849332\ttotal: 9.75s\tremaining: 6s\n",
            "619:\tlearn: 0.3848564\ttotal: 9.76s\tremaining: 5.98s\n",
            "620:\tlearn: 0.3848263\ttotal: 9.77s\tremaining: 5.96s\n",
            "621:\tlearn: 0.3847543\ttotal: 9.79s\tremaining: 5.95s\n",
            "622:\tlearn: 0.3847153\ttotal: 9.81s\tremaining: 5.94s\n",
            "623:\tlearn: 0.3846650\ttotal: 9.86s\tremaining: 5.94s\n",
            "624:\tlearn: 0.3846214\ttotal: 9.87s\tremaining: 5.92s\n",
            "625:\tlearn: 0.3845404\ttotal: 9.89s\tremaining: 5.91s\n",
            "626:\tlearn: 0.3844794\ttotal: 9.9s\tremaining: 5.89s\n",
            "627:\tlearn: 0.3844348\ttotal: 9.91s\tremaining: 5.87s\n",
            "628:\tlearn: 0.3843897\ttotal: 9.93s\tremaining: 5.86s\n",
            "629:\tlearn: 0.3843420\ttotal: 9.94s\tremaining: 5.84s\n",
            "630:\tlearn: 0.3842594\ttotal: 9.96s\tremaining: 5.83s\n",
            "631:\tlearn: 0.3841675\ttotal: 9.98s\tremaining: 5.81s\n",
            "632:\tlearn: 0.3841262\ttotal: 9.99s\tremaining: 5.79s\n",
            "633:\tlearn: 0.3840434\ttotal: 10s\tremaining: 5.78s\n",
            "634:\tlearn: 0.3839472\ttotal: 10s\tremaining: 5.76s\n",
            "635:\tlearn: 0.3839256\ttotal: 10s\tremaining: 5.75s\n",
            "636:\tlearn: 0.3838691\ttotal: 10.1s\tremaining: 5.73s\n",
            "637:\tlearn: 0.3837141\ttotal: 10.1s\tremaining: 5.71s\n",
            "638:\tlearn: 0.3835822\ttotal: 10.1s\tremaining: 5.7s\n",
            "639:\tlearn: 0.3834920\ttotal: 10.1s\tremaining: 5.68s\n",
            "640:\tlearn: 0.3833978\ttotal: 10.1s\tremaining: 5.66s\n",
            "641:\tlearn: 0.3833041\ttotal: 10.1s\tremaining: 5.65s\n",
            "642:\tlearn: 0.3832575\ttotal: 10.1s\tremaining: 5.63s\n",
            "643:\tlearn: 0.3831504\ttotal: 10.2s\tremaining: 5.62s\n",
            "644:\tlearn: 0.3831366\ttotal: 10.2s\tremaining: 5.6s\n",
            "645:\tlearn: 0.3830945\ttotal: 10.2s\tremaining: 5.58s\n",
            "646:\tlearn: 0.3830294\ttotal: 10.2s\tremaining: 5.57s\n",
            "647:\tlearn: 0.3829837\ttotal: 10.2s\tremaining: 5.56s\n",
            "648:\tlearn: 0.3829507\ttotal: 10.2s\tremaining: 5.54s\n",
            "649:\tlearn: 0.3828755\ttotal: 10.3s\tremaining: 5.53s\n",
            "650:\tlearn: 0.3828652\ttotal: 10.3s\tremaining: 5.51s\n",
            "651:\tlearn: 0.3828105\ttotal: 10.3s\tremaining: 5.49s\n",
            "652:\tlearn: 0.3827472\ttotal: 10.3s\tremaining: 5.48s\n",
            "653:\tlearn: 0.3827401\ttotal: 10.3s\tremaining: 5.46s\n",
            "654:\tlearn: 0.3826736\ttotal: 10.3s\tremaining: 5.45s\n",
            "655:\tlearn: 0.3825664\ttotal: 10.4s\tremaining: 5.43s\n",
            "656:\tlearn: 0.3825172\ttotal: 10.4s\tremaining: 5.41s\n",
            "657:\tlearn: 0.3824713\ttotal: 10.4s\tremaining: 5.39s\n",
            "658:\tlearn: 0.3824418\ttotal: 10.4s\tremaining: 5.38s\n",
            "659:\tlearn: 0.3823034\ttotal: 10.4s\tremaining: 5.36s\n",
            "660:\tlearn: 0.3822377\ttotal: 10.4s\tremaining: 5.35s\n",
            "661:\tlearn: 0.3822092\ttotal: 10.4s\tremaining: 5.33s\n",
            "662:\tlearn: 0.3821960\ttotal: 10.5s\tremaining: 5.32s\n",
            "663:\tlearn: 0.3821490\ttotal: 10.5s\tremaining: 5.3s\n",
            "664:\tlearn: 0.3821231\ttotal: 10.5s\tremaining: 5.29s\n",
            "665:\tlearn: 0.3821061\ttotal: 10.5s\tremaining: 5.27s\n",
            "666:\tlearn: 0.3820211\ttotal: 10.5s\tremaining: 5.26s\n",
            "667:\tlearn: 0.3819204\ttotal: 10.5s\tremaining: 5.24s\n",
            "668:\tlearn: 0.3818308\ttotal: 10.6s\tremaining: 5.22s\n",
            "669:\tlearn: 0.3817591\ttotal: 10.6s\tremaining: 5.21s\n",
            "670:\tlearn: 0.3816200\ttotal: 10.6s\tremaining: 5.19s\n",
            "671:\tlearn: 0.3815557\ttotal: 10.6s\tremaining: 5.18s\n",
            "672:\tlearn: 0.3815280\ttotal: 10.6s\tremaining: 5.16s\n",
            "673:\tlearn: 0.3814270\ttotal: 10.6s\tremaining: 5.14s\n",
            "674:\tlearn: 0.3813747\ttotal: 10.7s\tremaining: 5.13s\n",
            "675:\tlearn: 0.3812843\ttotal: 10.7s\tremaining: 5.12s\n",
            "676:\tlearn: 0.3812541\ttotal: 10.7s\tremaining: 5.1s\n",
            "677:\tlearn: 0.3812150\ttotal: 10.7s\tremaining: 5.08s\n",
            "678:\tlearn: 0.3811564\ttotal: 10.7s\tremaining: 5.07s\n",
            "679:\tlearn: 0.3811289\ttotal: 10.7s\tremaining: 5.05s\n",
            "680:\tlearn: 0.3810485\ttotal: 10.8s\tremaining: 5.04s\n",
            "681:\tlearn: 0.3810045\ttotal: 10.8s\tremaining: 5.02s\n",
            "682:\tlearn: 0.3809693\ttotal: 10.8s\tremaining: 5.01s\n",
            "683:\tlearn: 0.3809522\ttotal: 10.8s\tremaining: 4.99s\n",
            "684:\tlearn: 0.3808635\ttotal: 10.9s\tremaining: 5s\n",
            "685:\tlearn: 0.3808193\ttotal: 10.9s\tremaining: 4.98s\n",
            "686:\tlearn: 0.3807958\ttotal: 10.9s\tremaining: 4.96s\n",
            "687:\tlearn: 0.3807675\ttotal: 10.9s\tremaining: 4.95s\n",
            "688:\tlearn: 0.3806903\ttotal: 10.9s\tremaining: 4.93s\n",
            "689:\tlearn: 0.3806097\ttotal: 10.9s\tremaining: 4.92s\n",
            "690:\tlearn: 0.3804972\ttotal: 11s\tremaining: 4.9s\n",
            "691:\tlearn: 0.3804433\ttotal: 11s\tremaining: 4.89s\n",
            "692:\tlearn: 0.3804125\ttotal: 11s\tremaining: 4.87s\n",
            "693:\tlearn: 0.3803285\ttotal: 11s\tremaining: 4.86s\n",
            "694:\tlearn: 0.3802899\ttotal: 11s\tremaining: 4.84s\n",
            "695:\tlearn: 0.3802593\ttotal: 11s\tremaining: 4.82s\n",
            "696:\tlearn: 0.3802067\ttotal: 11.1s\tremaining: 4.81s\n",
            "697:\tlearn: 0.3800568\ttotal: 11.1s\tremaining: 4.8s\n",
            "698:\tlearn: 0.3799159\ttotal: 11.1s\tremaining: 4.78s\n",
            "699:\tlearn: 0.3798159\ttotal: 11.1s\tremaining: 4.77s\n",
            "700:\tlearn: 0.3797947\ttotal: 11.1s\tremaining: 4.75s\n",
            "701:\tlearn: 0.3797331\ttotal: 11.2s\tremaining: 4.73s\n",
            "702:\tlearn: 0.3796906\ttotal: 11.2s\tremaining: 4.72s\n",
            "703:\tlearn: 0.3796701\ttotal: 11.2s\tremaining: 4.7s\n",
            "704:\tlearn: 0.3796279\ttotal: 11.2s\tremaining: 4.69s\n",
            "705:\tlearn: 0.3795395\ttotal: 11.2s\tremaining: 4.67s\n",
            "706:\tlearn: 0.3795253\ttotal: 11.2s\tremaining: 4.66s\n",
            "707:\tlearn: 0.3794601\ttotal: 11.3s\tremaining: 4.64s\n",
            "708:\tlearn: 0.3794195\ttotal: 11.3s\tremaining: 4.63s\n",
            "709:\tlearn: 0.3793544\ttotal: 11.3s\tremaining: 4.61s\n",
            "710:\tlearn: 0.3792949\ttotal: 11.3s\tremaining: 4.59s\n",
            "711:\tlearn: 0.3792190\ttotal: 11.3s\tremaining: 4.58s\n",
            "712:\tlearn: 0.3790827\ttotal: 11.3s\tremaining: 4.56s\n",
            "713:\tlearn: 0.3789393\ttotal: 11.4s\tremaining: 4.55s\n",
            "714:\tlearn: 0.3788985\ttotal: 11.4s\tremaining: 4.53s\n",
            "715:\tlearn: 0.3788756\ttotal: 11.4s\tremaining: 4.51s\n",
            "716:\tlearn: 0.3787926\ttotal: 11.4s\tremaining: 4.5s\n",
            "717:\tlearn: 0.3787711\ttotal: 11.4s\tremaining: 4.49s\n",
            "718:\tlearn: 0.3786701\ttotal: 11.4s\tremaining: 4.47s\n",
            "719:\tlearn: 0.3785741\ttotal: 11.5s\tremaining: 4.46s\n",
            "720:\tlearn: 0.3784876\ttotal: 11.5s\tremaining: 4.45s\n",
            "721:\tlearn: 0.3783362\ttotal: 11.5s\tremaining: 4.43s\n",
            "722:\tlearn: 0.3782663\ttotal: 11.5s\tremaining: 4.41s\n",
            "723:\tlearn: 0.3782409\ttotal: 11.5s\tremaining: 4.4s\n",
            "724:\tlearn: 0.3781205\ttotal: 11.5s\tremaining: 4.38s\n",
            "725:\tlearn: 0.3780583\ttotal: 11.6s\tremaining: 4.36s\n",
            "726:\tlearn: 0.3780461\ttotal: 11.6s\tremaining: 4.35s\n",
            "727:\tlearn: 0.3779706\ttotal: 11.6s\tremaining: 4.33s\n",
            "728:\tlearn: 0.3778931\ttotal: 11.6s\tremaining: 4.31s\n",
            "729:\tlearn: 0.3778677\ttotal: 11.6s\tremaining: 4.3s\n",
            "730:\tlearn: 0.3777466\ttotal: 11.6s\tremaining: 4.28s\n",
            "731:\tlearn: 0.3777057\ttotal: 11.7s\tremaining: 4.26s\n",
            "732:\tlearn: 0.3776210\ttotal: 11.7s\tremaining: 4.25s\n",
            "733:\tlearn: 0.3775596\ttotal: 11.7s\tremaining: 4.24s\n",
            "734:\tlearn: 0.3774784\ttotal: 11.7s\tremaining: 4.22s\n",
            "735:\tlearn: 0.3774747\ttotal: 11.7s\tremaining: 4.21s\n",
            "736:\tlearn: 0.3774266\ttotal: 11.7s\tremaining: 4.19s\n",
            "737:\tlearn: 0.3773566\ttotal: 11.8s\tremaining: 4.17s\n",
            "738:\tlearn: 0.3773117\ttotal: 11.8s\tremaining: 4.16s\n",
            "739:\tlearn: 0.3771430\ttotal: 11.8s\tremaining: 4.14s\n",
            "740:\tlearn: 0.3769600\ttotal: 11.8s\tremaining: 4.13s\n",
            "741:\tlearn: 0.3768597\ttotal: 11.8s\tremaining: 4.12s\n",
            "742:\tlearn: 0.3768580\ttotal: 11.9s\tremaining: 4.1s\n",
            "743:\tlearn: 0.3767892\ttotal: 11.9s\tremaining: 4.09s\n",
            "744:\tlearn: 0.3767184\ttotal: 11.9s\tremaining: 4.07s\n",
            "745:\tlearn: 0.3765783\ttotal: 11.9s\tremaining: 4.06s\n",
            "746:\tlearn: 0.3764567\ttotal: 11.9s\tremaining: 4.04s\n",
            "747:\tlearn: 0.3763743\ttotal: 11.9s\tremaining: 4.03s\n",
            "748:\tlearn: 0.3762830\ttotal: 12s\tremaining: 4.01s\n",
            "749:\tlearn: 0.3762030\ttotal: 12s\tremaining: 3.99s\n",
            "750:\tlearn: 0.3761189\ttotal: 12s\tremaining: 3.98s\n",
            "751:\tlearn: 0.3760414\ttotal: 12s\tremaining: 3.96s\n",
            "752:\tlearn: 0.3759920\ttotal: 12s\tremaining: 3.95s\n",
            "753:\tlearn: 0.3759256\ttotal: 12s\tremaining: 3.93s\n",
            "754:\tlearn: 0.3758167\ttotal: 12.1s\tremaining: 3.91s\n",
            "755:\tlearn: 0.3757242\ttotal: 12.1s\tremaining: 3.9s\n",
            "756:\tlearn: 0.3756731\ttotal: 12.1s\tremaining: 3.88s\n",
            "757:\tlearn: 0.3755521\ttotal: 12.1s\tremaining: 3.87s\n",
            "758:\tlearn: 0.3755462\ttotal: 12.1s\tremaining: 3.85s\n",
            "759:\tlearn: 0.3754682\ttotal: 12.1s\tremaining: 3.83s\n",
            "760:\tlearn: 0.3754060\ttotal: 12.2s\tremaining: 3.82s\n",
            "761:\tlearn: 0.3752532\ttotal: 12.2s\tremaining: 3.8s\n",
            "762:\tlearn: 0.3752171\ttotal: 12.2s\tremaining: 3.79s\n",
            "763:\tlearn: 0.3751537\ttotal: 12.2s\tremaining: 3.77s\n",
            "764:\tlearn: 0.3750842\ttotal: 12.2s\tremaining: 3.75s\n",
            "765:\tlearn: 0.3750022\ttotal: 12.2s\tremaining: 3.74s\n",
            "766:\tlearn: 0.3749299\ttotal: 12.3s\tremaining: 3.72s\n",
            "767:\tlearn: 0.3748507\ttotal: 12.3s\tremaining: 3.71s\n",
            "768:\tlearn: 0.3748183\ttotal: 12.3s\tremaining: 3.69s\n",
            "769:\tlearn: 0.3747373\ttotal: 12.3s\tremaining: 3.67s\n",
            "770:\tlearn: 0.3746945\ttotal: 12.3s\tremaining: 3.66s\n",
            "771:\tlearn: 0.3746772\ttotal: 12.3s\tremaining: 3.64s\n",
            "772:\tlearn: 0.3745811\ttotal: 12.3s\tremaining: 3.63s\n",
            "773:\tlearn: 0.3745498\ttotal: 12.4s\tremaining: 3.61s\n",
            "774:\tlearn: 0.3744167\ttotal: 12.4s\tremaining: 3.6s\n",
            "775:\tlearn: 0.3743599\ttotal: 12.4s\tremaining: 3.58s\n",
            "776:\tlearn: 0.3743047\ttotal: 12.4s\tremaining: 3.56s\n",
            "777:\tlearn: 0.3742777\ttotal: 12.4s\tremaining: 3.55s\n",
            "778:\tlearn: 0.3742542\ttotal: 12.5s\tremaining: 3.53s\n",
            "779:\tlearn: 0.3742115\ttotal: 12.5s\tremaining: 3.52s\n",
            "780:\tlearn: 0.3741692\ttotal: 12.5s\tremaining: 3.5s\n",
            "781:\tlearn: 0.3740929\ttotal: 12.5s\tremaining: 3.48s\n",
            "782:\tlearn: 0.3740595\ttotal: 12.5s\tremaining: 3.47s\n",
            "783:\tlearn: 0.3739913\ttotal: 12.5s\tremaining: 3.45s\n",
            "784:\tlearn: 0.3739148\ttotal: 12.6s\tremaining: 3.44s\n",
            "785:\tlearn: 0.3738437\ttotal: 12.6s\tremaining: 3.42s\n",
            "786:\tlearn: 0.3738143\ttotal: 12.6s\tremaining: 3.41s\n",
            "787:\tlearn: 0.3737259\ttotal: 12.6s\tremaining: 3.39s\n",
            "788:\tlearn: 0.3736962\ttotal: 12.6s\tremaining: 3.37s\n",
            "789:\tlearn: 0.3736426\ttotal: 12.6s\tremaining: 3.36s\n",
            "790:\tlearn: 0.3735801\ttotal: 12.7s\tremaining: 3.34s\n",
            "791:\tlearn: 0.3735319\ttotal: 12.7s\tremaining: 3.33s\n",
            "792:\tlearn: 0.3735041\ttotal: 12.7s\tremaining: 3.31s\n",
            "793:\tlearn: 0.3734682\ttotal: 12.7s\tremaining: 3.29s\n",
            "794:\tlearn: 0.3733886\ttotal: 12.7s\tremaining: 3.28s\n",
            "795:\tlearn: 0.3733065\ttotal: 12.7s\tremaining: 3.26s\n",
            "796:\tlearn: 0.3732430\ttotal: 12.8s\tremaining: 3.25s\n",
            "797:\tlearn: 0.3731666\ttotal: 12.8s\tremaining: 3.23s\n",
            "798:\tlearn: 0.3731101\ttotal: 12.8s\tremaining: 3.21s\n",
            "799:\tlearn: 0.3730693\ttotal: 12.8s\tremaining: 3.2s\n",
            "800:\tlearn: 0.3729780\ttotal: 12.8s\tremaining: 3.19s\n",
            "801:\tlearn: 0.3729128\ttotal: 12.9s\tremaining: 3.18s\n",
            "802:\tlearn: 0.3729063\ttotal: 12.9s\tremaining: 3.16s\n",
            "803:\tlearn: 0.3728605\ttotal: 12.9s\tremaining: 3.15s\n",
            "804:\tlearn: 0.3727868\ttotal: 12.9s\tremaining: 3.13s\n",
            "805:\tlearn: 0.3726735\ttotal: 12.9s\tremaining: 3.12s\n",
            "806:\tlearn: 0.3726550\ttotal: 13s\tremaining: 3.1s\n",
            "807:\tlearn: 0.3726021\ttotal: 13s\tremaining: 3.08s\n",
            "808:\tlearn: 0.3725233\ttotal: 13s\tremaining: 3.07s\n",
            "809:\tlearn: 0.3724489\ttotal: 13s\tremaining: 3.05s\n",
            "810:\tlearn: 0.3724200\ttotal: 13s\tremaining: 3.04s\n",
            "811:\tlearn: 0.3723302\ttotal: 13s\tremaining: 3.02s\n",
            "812:\tlearn: 0.3723051\ttotal: 13.1s\tremaining: 3s\n",
            "813:\tlearn: 0.3722497\ttotal: 13.1s\tremaining: 2.99s\n",
            "814:\tlearn: 0.3721460\ttotal: 13.1s\tremaining: 2.97s\n",
            "815:\tlearn: 0.3720671\ttotal: 13.1s\tremaining: 2.95s\n",
            "816:\tlearn: 0.3719204\ttotal: 13.1s\tremaining: 2.94s\n",
            "817:\tlearn: 0.3718562\ttotal: 13.1s\tremaining: 2.92s\n",
            "818:\tlearn: 0.3717514\ttotal: 13.2s\tremaining: 2.91s\n",
            "819:\tlearn: 0.3717138\ttotal: 13.2s\tremaining: 2.89s\n",
            "820:\tlearn: 0.3716062\ttotal: 13.2s\tremaining: 2.88s\n",
            "821:\tlearn: 0.3715819\ttotal: 13.2s\tremaining: 2.86s\n",
            "822:\tlearn: 0.3715430\ttotal: 13.2s\tremaining: 2.84s\n",
            "823:\tlearn: 0.3714607\ttotal: 13.2s\tremaining: 2.83s\n",
            "824:\tlearn: 0.3713891\ttotal: 13.3s\tremaining: 2.81s\n",
            "825:\tlearn: 0.3713030\ttotal: 13.3s\tremaining: 2.8s\n",
            "826:\tlearn: 0.3712008\ttotal: 13.3s\tremaining: 2.78s\n",
            "827:\tlearn: 0.3711447\ttotal: 13.3s\tremaining: 2.77s\n",
            "828:\tlearn: 0.3710398\ttotal: 13.3s\tremaining: 2.75s\n",
            "829:\tlearn: 0.3709899\ttotal: 13.3s\tremaining: 2.73s\n",
            "830:\tlearn: 0.3708865\ttotal: 13.4s\tremaining: 2.72s\n",
            "831:\tlearn: 0.3707875\ttotal: 13.4s\tremaining: 2.7s\n",
            "832:\tlearn: 0.3706679\ttotal: 13.4s\tremaining: 2.69s\n",
            "833:\tlearn: 0.3706308\ttotal: 13.4s\tremaining: 2.67s\n",
            "834:\tlearn: 0.3706140\ttotal: 13.4s\tremaining: 2.66s\n",
            "835:\tlearn: 0.3705088\ttotal: 13.5s\tremaining: 2.64s\n",
            "836:\tlearn: 0.3704777\ttotal: 13.5s\tremaining: 2.62s\n",
            "837:\tlearn: 0.3704060\ttotal: 13.5s\tremaining: 2.61s\n",
            "838:\tlearn: 0.3703362\ttotal: 13.5s\tremaining: 2.59s\n",
            "839:\tlearn: 0.3702774\ttotal: 13.5s\tremaining: 2.58s\n",
            "840:\tlearn: 0.3702655\ttotal: 13.5s\tremaining: 2.56s\n",
            "841:\tlearn: 0.3702112\ttotal: 13.6s\tremaining: 2.55s\n",
            "842:\tlearn: 0.3701585\ttotal: 13.6s\tremaining: 2.53s\n",
            "843:\tlearn: 0.3701414\ttotal: 13.6s\tremaining: 2.51s\n",
            "844:\tlearn: 0.3701010\ttotal: 13.6s\tremaining: 2.5s\n",
            "845:\tlearn: 0.3700812\ttotal: 13.6s\tremaining: 2.48s\n",
            "846:\tlearn: 0.3700197\ttotal: 13.6s\tremaining: 2.46s\n",
            "847:\tlearn: 0.3699664\ttotal: 13.7s\tremaining: 2.45s\n",
            "848:\tlearn: 0.3698165\ttotal: 13.7s\tremaining: 2.43s\n",
            "849:\tlearn: 0.3697160\ttotal: 13.7s\tremaining: 2.42s\n",
            "850:\tlearn: 0.3696780\ttotal: 13.7s\tremaining: 2.4s\n",
            "851:\tlearn: 0.3696362\ttotal: 13.7s\tremaining: 2.38s\n",
            "852:\tlearn: 0.3695329\ttotal: 13.7s\tremaining: 2.37s\n",
            "853:\tlearn: 0.3694505\ttotal: 13.8s\tremaining: 2.35s\n",
            "854:\tlearn: 0.3694231\ttotal: 13.8s\tremaining: 2.34s\n",
            "855:\tlearn: 0.3693577\ttotal: 13.8s\tremaining: 2.33s\n",
            "856:\tlearn: 0.3693318\ttotal: 13.9s\tremaining: 2.31s\n",
            "857:\tlearn: 0.3692917\ttotal: 13.9s\tremaining: 2.3s\n",
            "858:\tlearn: 0.3692390\ttotal: 13.9s\tremaining: 2.28s\n",
            "859:\tlearn: 0.3691187\ttotal: 13.9s\tremaining: 2.27s\n",
            "860:\tlearn: 0.3690087\ttotal: 13.9s\tremaining: 2.25s\n",
            "861:\tlearn: 0.3689671\ttotal: 13.9s\tremaining: 2.23s\n",
            "862:\tlearn: 0.3688813\ttotal: 14s\tremaining: 2.22s\n",
            "863:\tlearn: 0.3688322\ttotal: 14s\tremaining: 2.2s\n",
            "864:\tlearn: 0.3687272\ttotal: 14s\tremaining: 2.18s\n",
            "865:\tlearn: 0.3686656\ttotal: 14s\tremaining: 2.17s\n",
            "866:\tlearn: 0.3686026\ttotal: 14s\tremaining: 2.15s\n",
            "867:\tlearn: 0.3685117\ttotal: 14s\tremaining: 2.13s\n",
            "868:\tlearn: 0.3683694\ttotal: 14.1s\tremaining: 2.12s\n",
            "869:\tlearn: 0.3683105\ttotal: 14.1s\tremaining: 2.1s\n",
            "870:\tlearn: 0.3682822\ttotal: 14.1s\tremaining: 2.09s\n",
            "871:\tlearn: 0.3682201\ttotal: 14.1s\tremaining: 2.07s\n",
            "872:\tlearn: 0.3682048\ttotal: 14.1s\tremaining: 2.06s\n",
            "873:\tlearn: 0.3681373\ttotal: 14.1s\tremaining: 2.04s\n",
            "874:\tlearn: 0.3680965\ttotal: 14.2s\tremaining: 2.02s\n",
            "875:\tlearn: 0.3680251\ttotal: 14.2s\tremaining: 2.01s\n",
            "876:\tlearn: 0.3679350\ttotal: 14.2s\tremaining: 1.99s\n",
            "877:\tlearn: 0.3678790\ttotal: 14.2s\tremaining: 1.97s\n",
            "878:\tlearn: 0.3678005\ttotal: 14.2s\tremaining: 1.96s\n",
            "879:\tlearn: 0.3677116\ttotal: 14.2s\tremaining: 1.94s\n",
            "880:\tlearn: 0.3676797\ttotal: 14.3s\tremaining: 1.93s\n",
            "881:\tlearn: 0.3675772\ttotal: 14.3s\tremaining: 1.91s\n",
            "882:\tlearn: 0.3675407\ttotal: 14.3s\tremaining: 1.89s\n",
            "883:\tlearn: 0.3675127\ttotal: 14.3s\tremaining: 1.88s\n",
            "884:\tlearn: 0.3674710\ttotal: 14.3s\tremaining: 1.86s\n",
            "885:\tlearn: 0.3674421\ttotal: 14.3s\tremaining: 1.84s\n",
            "886:\tlearn: 0.3673474\ttotal: 14.3s\tremaining: 1.83s\n",
            "887:\tlearn: 0.3672219\ttotal: 14.4s\tremaining: 1.81s\n",
            "888:\tlearn: 0.3671763\ttotal: 14.4s\tremaining: 1.79s\n",
            "889:\tlearn: 0.3671485\ttotal: 14.4s\tremaining: 1.78s\n",
            "890:\tlearn: 0.3671208\ttotal: 14.4s\tremaining: 1.76s\n",
            "891:\tlearn: 0.3670815\ttotal: 14.4s\tremaining: 1.75s\n",
            "892:\tlearn: 0.3670622\ttotal: 14.5s\tremaining: 1.73s\n",
            "893:\tlearn: 0.3669890\ttotal: 14.5s\tremaining: 1.72s\n",
            "894:\tlearn: 0.3669153\ttotal: 14.5s\tremaining: 1.7s\n",
            "895:\tlearn: 0.3668340\ttotal: 14.5s\tremaining: 1.68s\n",
            "896:\tlearn: 0.3668217\ttotal: 14.5s\tremaining: 1.67s\n",
            "897:\tlearn: 0.3667922\ttotal: 14.5s\tremaining: 1.65s\n",
            "898:\tlearn: 0.3667628\ttotal: 14.6s\tremaining: 1.63s\n",
            "899:\tlearn: 0.3666763\ttotal: 14.6s\tremaining: 1.62s\n",
            "900:\tlearn: 0.3666599\ttotal: 14.6s\tremaining: 1.6s\n",
            "901:\tlearn: 0.3665937\ttotal: 14.6s\tremaining: 1.59s\n",
            "902:\tlearn: 0.3665351\ttotal: 14.6s\tremaining: 1.57s\n",
            "903:\tlearn: 0.3665102\ttotal: 14.6s\tremaining: 1.55s\n",
            "904:\tlearn: 0.3664186\ttotal: 14.6s\tremaining: 1.54s\n",
            "905:\tlearn: 0.3663191\ttotal: 14.7s\tremaining: 1.52s\n",
            "906:\tlearn: 0.3662520\ttotal: 14.7s\tremaining: 1.5s\n",
            "907:\tlearn: 0.3662173\ttotal: 14.7s\tremaining: 1.49s\n",
            "908:\tlearn: 0.3661040\ttotal: 14.7s\tremaining: 1.47s\n",
            "909:\tlearn: 0.3660775\ttotal: 14.7s\tremaining: 1.46s\n",
            "910:\tlearn: 0.3660183\ttotal: 14.8s\tremaining: 1.44s\n",
            "911:\tlearn: 0.3660095\ttotal: 14.8s\tremaining: 1.42s\n",
            "912:\tlearn: 0.3659898\ttotal: 14.8s\tremaining: 1.41s\n",
            "913:\tlearn: 0.3659624\ttotal: 14.8s\tremaining: 1.4s\n",
            "914:\tlearn: 0.3658482\ttotal: 14.9s\tremaining: 1.38s\n",
            "915:\tlearn: 0.3657736\ttotal: 14.9s\tremaining: 1.37s\n",
            "916:\tlearn: 0.3657055\ttotal: 14.9s\tremaining: 1.35s\n",
            "917:\tlearn: 0.3656144\ttotal: 14.9s\tremaining: 1.33s\n",
            "918:\tlearn: 0.3655235\ttotal: 14.9s\tremaining: 1.32s\n",
            "919:\tlearn: 0.3654417\ttotal: 15s\tremaining: 1.3s\n",
            "920:\tlearn: 0.3653824\ttotal: 15s\tremaining: 1.28s\n",
            "921:\tlearn: 0.3653126\ttotal: 15s\tremaining: 1.27s\n",
            "922:\tlearn: 0.3652754\ttotal: 15s\tremaining: 1.25s\n",
            "923:\tlearn: 0.3652599\ttotal: 15s\tremaining: 1.24s\n",
            "924:\tlearn: 0.3652029\ttotal: 15s\tremaining: 1.22s\n",
            "925:\tlearn: 0.3651791\ttotal: 15.1s\tremaining: 1.21s\n",
            "926:\tlearn: 0.3650709\ttotal: 15.1s\tremaining: 1.19s\n",
            "927:\tlearn: 0.3650170\ttotal: 15.1s\tremaining: 1.17s\n",
            "928:\tlearn: 0.3649497\ttotal: 15.1s\tremaining: 1.16s\n",
            "929:\tlearn: 0.3649399\ttotal: 15.1s\tremaining: 1.14s\n",
            "930:\tlearn: 0.3649149\ttotal: 15.2s\tremaining: 1.12s\n",
            "931:\tlearn: 0.3648599\ttotal: 15.2s\tremaining: 1.11s\n",
            "932:\tlearn: 0.3648326\ttotal: 15.2s\tremaining: 1.09s\n",
            "933:\tlearn: 0.3647746\ttotal: 15.2s\tremaining: 1.07s\n",
            "934:\tlearn: 0.3646935\ttotal: 15.2s\tremaining: 1.06s\n",
            "935:\tlearn: 0.3646500\ttotal: 15.2s\tremaining: 1.04s\n",
            "936:\tlearn: 0.3645991\ttotal: 15.3s\tremaining: 1.02s\n",
            "937:\tlearn: 0.3645555\ttotal: 15.3s\tremaining: 1.01s\n",
            "938:\tlearn: 0.3644861\ttotal: 15.3s\tremaining: 993ms\n",
            "939:\tlearn: 0.3644259\ttotal: 15.3s\tremaining: 977ms\n",
            "940:\tlearn: 0.3643998\ttotal: 15.3s\tremaining: 961ms\n",
            "941:\tlearn: 0.3643881\ttotal: 15.3s\tremaining: 944ms\n",
            "942:\tlearn: 0.3642990\ttotal: 15.4s\tremaining: 928ms\n",
            "943:\tlearn: 0.3642154\ttotal: 15.4s\tremaining: 912ms\n",
            "944:\tlearn: 0.3641971\ttotal: 15.4s\tremaining: 896ms\n",
            "945:\tlearn: 0.3641004\ttotal: 15.4s\tremaining: 880ms\n",
            "946:\tlearn: 0.3640775\ttotal: 15.4s\tremaining: 864ms\n",
            "947:\tlearn: 0.3640102\ttotal: 15.5s\tremaining: 848ms\n",
            "948:\tlearn: 0.3638827\ttotal: 15.5s\tremaining: 832ms\n",
            "949:\tlearn: 0.3638559\ttotal: 15.5s\tremaining: 815ms\n",
            "950:\tlearn: 0.3637885\ttotal: 15.5s\tremaining: 799ms\n",
            "951:\tlearn: 0.3637071\ttotal: 15.5s\tremaining: 783ms\n",
            "952:\tlearn: 0.3636630\ttotal: 15.5s\tremaining: 766ms\n",
            "953:\tlearn: 0.3636080\ttotal: 15.6s\tremaining: 750ms\n",
            "954:\tlearn: 0.3634636\ttotal: 15.6s\tremaining: 734ms\n",
            "955:\tlearn: 0.3634056\ttotal: 15.6s\tremaining: 717ms\n",
            "956:\tlearn: 0.3633074\ttotal: 15.6s\tremaining: 701ms\n",
            "957:\tlearn: 0.3632711\ttotal: 15.6s\tremaining: 685ms\n",
            "958:\tlearn: 0.3632396\ttotal: 15.6s\tremaining: 668ms\n",
            "959:\tlearn: 0.3631745\ttotal: 15.7s\tremaining: 653ms\n",
            "960:\tlearn: 0.3631278\ttotal: 15.7s\tremaining: 636ms\n",
            "961:\tlearn: 0.3630592\ttotal: 15.7s\tremaining: 620ms\n",
            "962:\tlearn: 0.3629525\ttotal: 15.7s\tremaining: 604ms\n",
            "963:\tlearn: 0.3628691\ttotal: 15.7s\tremaining: 587ms\n",
            "964:\tlearn: 0.3628248\ttotal: 15.7s\tremaining: 571ms\n",
            "965:\tlearn: 0.3626609\ttotal: 15.8s\tremaining: 555ms\n",
            "966:\tlearn: 0.3625864\ttotal: 15.8s\tremaining: 539ms\n",
            "967:\tlearn: 0.3625522\ttotal: 15.8s\tremaining: 522ms\n",
            "968:\tlearn: 0.3624698\ttotal: 15.9s\tremaining: 508ms\n",
            "969:\tlearn: 0.3624137\ttotal: 15.9s\tremaining: 492ms\n",
            "970:\tlearn: 0.3623769\ttotal: 15.9s\tremaining: 475ms\n",
            "971:\tlearn: 0.3623445\ttotal: 15.9s\tremaining: 459ms\n",
            "972:\tlearn: 0.3622878\ttotal: 16s\tremaining: 443ms\n",
            "973:\tlearn: 0.3622097\ttotal: 16s\tremaining: 426ms\n",
            "974:\tlearn: 0.3621578\ttotal: 16s\tremaining: 410ms\n",
            "975:\tlearn: 0.3621446\ttotal: 16s\tremaining: 394ms\n",
            "976:\tlearn: 0.3621248\ttotal: 16s\tremaining: 377ms\n",
            "977:\tlearn: 0.3620702\ttotal: 16s\tremaining: 361ms\n",
            "978:\tlearn: 0.3620480\ttotal: 16.1s\tremaining: 344ms\n",
            "979:\tlearn: 0.3620002\ttotal: 16.1s\tremaining: 328ms\n",
            "980:\tlearn: 0.3619277\ttotal: 16.1s\tremaining: 312ms\n",
            "981:\tlearn: 0.3618215\ttotal: 16.1s\tremaining: 295ms\n",
            "982:\tlearn: 0.3617726\ttotal: 16.1s\tremaining: 279ms\n",
            "983:\tlearn: 0.3617249\ttotal: 16.2s\tremaining: 263ms\n",
            "984:\tlearn: 0.3616762\ttotal: 16.2s\tremaining: 246ms\n",
            "985:\tlearn: 0.3616125\ttotal: 16.2s\tremaining: 230ms\n",
            "986:\tlearn: 0.3615257\ttotal: 16.2s\tremaining: 213ms\n",
            "987:\tlearn: 0.3614612\ttotal: 16.2s\tremaining: 197ms\n",
            "988:\tlearn: 0.3613940\ttotal: 16.2s\tremaining: 181ms\n",
            "989:\tlearn: 0.3613481\ttotal: 16.3s\tremaining: 164ms\n",
            "990:\tlearn: 0.3612803\ttotal: 16.3s\tremaining: 148ms\n",
            "991:\tlearn: 0.3612467\ttotal: 16.3s\tremaining: 131ms\n",
            "992:\tlearn: 0.3612114\ttotal: 16.3s\tremaining: 115ms\n",
            "993:\tlearn: 0.3611952\ttotal: 16.3s\tremaining: 98.6ms\n",
            "994:\tlearn: 0.3611626\ttotal: 16.3s\tremaining: 82.2ms\n",
            "995:\tlearn: 0.3611221\ttotal: 16.4s\tremaining: 65.7ms\n",
            "996:\tlearn: 0.3610351\ttotal: 16.4s\tremaining: 49.3ms\n",
            "997:\tlearn: 0.3609731\ttotal: 16.4s\tremaining: 32.9ms\n",
            "998:\tlearn: 0.3609044\ttotal: 16.4s\tremaining: 16.4ms\n",
            "999:\tlearn: 0.3608564\ttotal: 16.4s\tremaining: 0us\n"
          ]
        },
        {
          "output_type": "execute_result",
          "data": {
            "text/plain": [
              "array(['True', 'False', 'True', ..., 'True', 'True', 'True'], dtype=object)"
            ]
          },
          "metadata": {},
          "execution_count": 209
        }
      ]
    },
    {
      "cell_type": "markdown",
      "source": [
        "##Предсказание"
      ],
      "metadata": {
        "id": "mwx9isp4EBEk"
      }
    },
    {
      "cell_type": "markdown",
      "source": [
        "Как и ранее, на основе полученного предсказания составим новую таблицу, которую в дальнейшем отправим на соревнование. Она будет состоять из столбца с Id пассажира и информацией, выжил ли он."
      ],
      "metadata": {
        "id": "MVgJOsMDj7Np"
      }
    },
    {
      "cell_type": "code",
      "source": [
        "prediction = my_model.predict(imputed_X_test)\n",
        "result = pd.DataFrame({\n",
        "    \"PassengerId\": X_test.index,\n",
        "    \"Transported\": prediction\n",
        "})\n",
        "result['PassengerId'] = result['PassengerId'].astype('str')\n",
        "result"
      ],
      "metadata": {
        "colab": {
          "base_uri": "https://localhost:8080/",
          "height": 424
        },
        "id": "uWry2t4AECa3",
        "outputId": "ab6d8360-48b1-4649-f363-870967446266"
      },
      "execution_count": null,
      "outputs": [
        {
          "output_type": "execute_result",
          "data": {
            "text/plain": [
              "     PassengerId Transported\n",
              "0        0013_01        True\n",
              "1        0018_01       False\n",
              "2        0019_01        True\n",
              "3        0021_01        True\n",
              "4        0023_01        True\n",
              "...          ...         ...\n",
              "4272     9266_02        True\n",
              "4273     9269_01       False\n",
              "4274     9271_01        True\n",
              "4275     9273_01        True\n",
              "4276     9277_01        True\n",
              "\n",
              "[4277 rows x 2 columns]"
            ],
            "text/html": [
              "\n",
              "  <div id=\"df-85f345cb-df9c-4cff-89cb-308579bf8328\">\n",
              "    <div class=\"colab-df-container\">\n",
              "      <div>\n",
              "<style scoped>\n",
              "    .dataframe tbody tr th:only-of-type {\n",
              "        vertical-align: middle;\n",
              "    }\n",
              "\n",
              "    .dataframe tbody tr th {\n",
              "        vertical-align: top;\n",
              "    }\n",
              "\n",
              "    .dataframe thead th {\n",
              "        text-align: right;\n",
              "    }\n",
              "</style>\n",
              "<table border=\"1\" class=\"dataframe\">\n",
              "  <thead>\n",
              "    <tr style=\"text-align: right;\">\n",
              "      <th></th>\n",
              "      <th>PassengerId</th>\n",
              "      <th>Transported</th>\n",
              "    </tr>\n",
              "  </thead>\n",
              "  <tbody>\n",
              "    <tr>\n",
              "      <th>0</th>\n",
              "      <td>0013_01</td>\n",
              "      <td>True</td>\n",
              "    </tr>\n",
              "    <tr>\n",
              "      <th>1</th>\n",
              "      <td>0018_01</td>\n",
              "      <td>False</td>\n",
              "    </tr>\n",
              "    <tr>\n",
              "      <th>2</th>\n",
              "      <td>0019_01</td>\n",
              "      <td>True</td>\n",
              "    </tr>\n",
              "    <tr>\n",
              "      <th>3</th>\n",
              "      <td>0021_01</td>\n",
              "      <td>True</td>\n",
              "    </tr>\n",
              "    <tr>\n",
              "      <th>4</th>\n",
              "      <td>0023_01</td>\n",
              "      <td>True</td>\n",
              "    </tr>\n",
              "    <tr>\n",
              "      <th>...</th>\n",
              "      <td>...</td>\n",
              "      <td>...</td>\n",
              "    </tr>\n",
              "    <tr>\n",
              "      <th>4272</th>\n",
              "      <td>9266_02</td>\n",
              "      <td>True</td>\n",
              "    </tr>\n",
              "    <tr>\n",
              "      <th>4273</th>\n",
              "      <td>9269_01</td>\n",
              "      <td>False</td>\n",
              "    </tr>\n",
              "    <tr>\n",
              "      <th>4274</th>\n",
              "      <td>9271_01</td>\n",
              "      <td>True</td>\n",
              "    </tr>\n",
              "    <tr>\n",
              "      <th>4275</th>\n",
              "      <td>9273_01</td>\n",
              "      <td>True</td>\n",
              "    </tr>\n",
              "    <tr>\n",
              "      <th>4276</th>\n",
              "      <td>9277_01</td>\n",
              "      <td>True</td>\n",
              "    </tr>\n",
              "  </tbody>\n",
              "</table>\n",
              "<p>4277 rows × 2 columns</p>\n",
              "</div>\n",
              "      <button class=\"colab-df-convert\" onclick=\"convertToInteractive('df-85f345cb-df9c-4cff-89cb-308579bf8328')\"\n",
              "              title=\"Convert this dataframe to an interactive table.\"\n",
              "              style=\"display:none;\">\n",
              "        \n",
              "  <svg xmlns=\"http://www.w3.org/2000/svg\" height=\"24px\"viewBox=\"0 0 24 24\"\n",
              "       width=\"24px\">\n",
              "    <path d=\"M0 0h24v24H0V0z\" fill=\"none\"/>\n",
              "    <path d=\"M18.56 5.44l.94 2.06.94-2.06 2.06-.94-2.06-.94-.94-2.06-.94 2.06-2.06.94zm-11 1L8.5 8.5l.94-2.06 2.06-.94-2.06-.94L8.5 2.5l-.94 2.06-2.06.94zm10 10l.94 2.06.94-2.06 2.06-.94-2.06-.94-.94-2.06-.94 2.06-2.06.94z\"/><path d=\"M17.41 7.96l-1.37-1.37c-.4-.4-.92-.59-1.43-.59-.52 0-1.04.2-1.43.59L10.3 9.45l-7.72 7.72c-.78.78-.78 2.05 0 2.83L4 21.41c.39.39.9.59 1.41.59.51 0 1.02-.2 1.41-.59l7.78-7.78 2.81-2.81c.8-.78.8-2.07 0-2.86zM5.41 20L4 18.59l7.72-7.72 1.47 1.35L5.41 20z\"/>\n",
              "  </svg>\n",
              "      </button>\n",
              "      \n",
              "  <style>\n",
              "    .colab-df-container {\n",
              "      display:flex;\n",
              "      flex-wrap:wrap;\n",
              "      gap: 12px;\n",
              "    }\n",
              "\n",
              "    .colab-df-convert {\n",
              "      background-color: #E8F0FE;\n",
              "      border: none;\n",
              "      border-radius: 50%;\n",
              "      cursor: pointer;\n",
              "      display: none;\n",
              "      fill: #1967D2;\n",
              "      height: 32px;\n",
              "      padding: 0 0 0 0;\n",
              "      width: 32px;\n",
              "    }\n",
              "\n",
              "    .colab-df-convert:hover {\n",
              "      background-color: #E2EBFA;\n",
              "      box-shadow: 0px 1px 2px rgba(60, 64, 67, 0.3), 0px 1px 3px 1px rgba(60, 64, 67, 0.15);\n",
              "      fill: #174EA6;\n",
              "    }\n",
              "\n",
              "    [theme=dark] .colab-df-convert {\n",
              "      background-color: #3B4455;\n",
              "      fill: #D2E3FC;\n",
              "    }\n",
              "\n",
              "    [theme=dark] .colab-df-convert:hover {\n",
              "      background-color: #434B5C;\n",
              "      box-shadow: 0px 1px 3px 1px rgba(0, 0, 0, 0.15);\n",
              "      filter: drop-shadow(0px 1px 2px rgba(0, 0, 0, 0.3));\n",
              "      fill: #FFFFFF;\n",
              "    }\n",
              "  </style>\n",
              "\n",
              "      <script>\n",
              "        const buttonEl =\n",
              "          document.querySelector('#df-85f345cb-df9c-4cff-89cb-308579bf8328 button.colab-df-convert');\n",
              "        buttonEl.style.display =\n",
              "          google.colab.kernel.accessAllowed ? 'block' : 'none';\n",
              "\n",
              "        async function convertToInteractive(key) {\n",
              "          const element = document.querySelector('#df-85f345cb-df9c-4cff-89cb-308579bf8328');\n",
              "          const dataTable =\n",
              "            await google.colab.kernel.invokeFunction('convertToInteractive',\n",
              "                                                     [key], {});\n",
              "          if (!dataTable) return;\n",
              "\n",
              "          const docLinkHtml = 'Like what you see? Visit the ' +\n",
              "            '<a target=\"_blank\" href=https://colab.research.google.com/notebooks/data_table.ipynb>data table notebook</a>'\n",
              "            + ' to learn more about interactive tables.';\n",
              "          element.innerHTML = '';\n",
              "          dataTable['output_type'] = 'display_data';\n",
              "          await google.colab.output.renderOutput(dataTable, element);\n",
              "          const docLink = document.createElement('div');\n",
              "          docLink.innerHTML = docLinkHtml;\n",
              "          element.appendChild(docLink);\n",
              "        }\n",
              "      </script>\n",
              "    </div>\n",
              "  </div>\n",
              "  "
            ]
          },
          "metadata": {},
          "execution_count": 210
        }
      ]
    },
    {
      "cell_type": "markdown",
      "source": [
        "##Экспорт в csv"
      ],
      "metadata": {
        "id": "bSz5zYn5Iq7F"
      }
    },
    {
      "cell_type": "markdown",
      "source": [
        "На этом этапе мы преобразуем полученную таблицу в файл формата csv и сохраняем."
      ],
      "metadata": {
        "id": "U0lqeWMtkFy_"
      }
    },
    {
      "cell_type": "code",
      "source": [
        "result.to_csv(\"/content/drive/MyDrive/Data Analysis/Project/result_cat.csv\", index=False)"
      ],
      "metadata": {
        "id": "zyW9-YXUEIrr"
      },
      "execution_count": null,
      "outputs": []
    },
    {
      "cell_type": "markdown",
      "source": [
        "##Результат"
      ],
      "metadata": {
        "id": "OvwS5yY_Is6x"
      }
    },
    {
      "cell_type": "markdown",
      "source": [
        "С помощью CatBoost точность решения оказалась на уровне 79,26%, очень близко к уровню XGBoost."
      ],
      "metadata": {
        "id": "jGH68f--kP-0"
      }
    },
    {
      "cell_type": "markdown",
      "source": [
        "![image.png](data:image/png;base64,iVBORw0KGgoAAAANSUhEUgAABKoAAABKCAYAAACb67yCAAAAAXNSR0IArs4c6QAAAARnQU1BAACxjwv8YQUAAAAJcEhZcwAADsMAAA7DAcdvqGQAAB+TSURBVHhe7d19WFRl3gfwb2lMGuDiStKCuAvWymiXg/bo5JNOllKEri6jluBDwrahrqKbjpnBqolmki1OrWIZVI+gJVAuEooooWaDrTFt7oxPC2xLYKgk64jmENpz3gaGNwVERf1+rmsuzrnP233O8R+/133/zm3n7bU/gYiIiIiIiIiI6Dq7XflLRERERERERER0XTGoIiIiIiIiIiKiLoFBFRERERERERERdQkMqoiIiIiIiIiIqEtgUEVERERERERERF0CgyoiIiIiIiIiIuoSGFQREREREREREVGXwKCKiIiIiIiIiIi6BAZVRERERERERETUJTCoIiIiIiIiIiKiLoFBFRERERERERERdQkMqoiIiIiIiIiIqEtgUEVERERERERERF0CgyoiIiIiIiIiIuoSGFQREREREREREVGXwKCKiIiIiIiIiIi6BAZVRERERERERETUJTCoIiIiIiIiIiKiLoFBFRERERERERERdQkMqugqs8OcMB4DB47HhiNKUxvZDycgZKAaIUazcBYiIiIiIiIiutkxqOribIfTsM5oxLrdFUrLDcaaghffLoVqmgFRg5W2JuzWbPkehV9umdIoUA2LxszHgZL1a5BeqjQSERERERER0U3rtvP22p+U5avLXgnLkSIUfVOIXafLUP6D8FM2+dwxAD6ug/CYz0PQDgmEfy9lA6EqcxYeWlIA/C4NRw0auW1nHJ7dZIH6mSTEP+4ptV1Lbb++HaZ4LWZsBsKTTYgbqVLandRZseE3eqxTgqioVAsWDZOXRfZ98RjybBpU05NxKFaLFs5ARERERERERDeJqz6iyl5ZhNT3Y/DIpumYZFqL5ZUHYHIKqUTlPxbDVL0dy78yIHjzWDySsgrp1hplKzVzrgqWI1acPKesX2ttvb5tPzI2i5P29Bg9rOWIyZJswLpSFVQ9lYYmVBotJgh/7ZvzYOL8PyIiIiIiIqKb2tULqn6sRO62mRiTYcDyKkujYOpyys/txZK9kzAyeSNM3yuN15g4aih0sh6xOytQnp+AGGn5pLyxzgZLthGGKL20z4znU1BQapO3OTTZJ3ROPFIPKseLqvIQK7ZPToFZaRI1XNdp33onkfsnPZ5dZ5LWTOtmSvsmO5/gUupOwrQlXroX8biY5WkwHVe2OdhKUfC2ATNa3Ked1y+1IFf8OyYQg1rKqUrT8NJrpcDoWMRNUdqacg/AiBHiQgbMVqmldc3eixFZ1qbvpfEzaLSP3YwN4WJ7PHKr5SZZBdLniO2zkMopiERERERERERXzdUJqioPYPm70zHnRDGqlCbAFRqPiVg1zIicJz/CV7Py8PUf5N9XMz5AziNLsLSPGv5OPar6YRsitkZh9ZfXYXSVMmqofHciomelILd+BNFJZC0MQuiCJOSWSHuieHcCop8Iw5rDjiE/dpj/HKbso4K/vzfsh9OwIioI0duVAOrCaZwUzmk50vCEJFdrtJQYwkwJwozlacitEPp5oQoFW+IxI1iPZEcAdNaMNU+NR3RCHooviA12KdSZERzVoYCmqtQqF0H380YfqcVJXQXSV8fDDB3il+oxoLvS3ow3fAaKf+2w/Lul8M6h4b1kmcVnKuy/PQmG3wYhdrcSRInXnCs/A9M5b+G9qIR3J+4ThnVmoaeqAAQGlArPPw27C50CrtICpOUJ76p6CAL9lDYiIiIiIiIi6nSdH1RV5mDBh8uQWj9NywXa3tF4T/8BPgibi8laNfz7uELldGXVXb3hH/AIwp80IidqM977ZSB8lG1AGZIPTMXywuszFdCUX4OwD004etSCjaGesB/ciNidNqgmJmDPngxkpmfgQNYK6HqWInlRCix14lFW5L4tJjuR2LgnDQmvGJGdl4yokWPh/58Sp/CuvTwR9FIG3pynlda085Kk60fJpasuqTxzDdZZ7VK/D+zfgcwPC7A/ORI+56xYsykPYixj+2cJ7H4BmPDKDhz4ULy3HchbOxY4Z0JKnphmte/6J6qKpb/a/s3rWFVlx2PFPkATa8Bkb6WxFXc6QiwpPGuZ471AE4PM/QVS3w/lxkIn3Fn66jRYxJ2+N2F3vvAPc8QKZH5sFN5LGg6kr0DQWOF+KkohPB1og8OkOlhZuw9Jz0RUXrhDOl4dGQS13EREREREREREV0HnBlXVB7D8w7XIuqis367G7GFJeGvaFGi9XJTGy1B5QRuSgJyQBQivny5Wi9S/xWC9tVZZv4amPI3wAHdlBSgqSIMdnoiaOAouZ2ywVQu/nqOhnyhsrDgEizJNTq65VIAd20woOW6DXaXFouQELHpa23x00VVXAdNOcX5eABZFh6CPEvy4jzQg+zMTDsWOgniH7ho94t7IQMJEb+CseG8VKP33j9K+5afrk8c2qz0tf6lQ1b3Ju6/OwyvLC2D3i8GfnuqcIUryewHCZ0dCfZfcBt8wGA8J95ceBn8xQOx2p9z+VQYysq0orxaO8NPD+EYs5oUEyIXah4xDuPjusk0okm75JEz54rPTQD+aw6mIiIiIiIiIrqbOC6ouViIrexVSnUKqxY+swnytb4e+1Kb6ZTCWPpmA+fUHlyHxk1dR0Kh20DXQXQk3JCdR/i/574YoLYY/6PjpELNFbDehtFL8q8HMt2Kg8ShF+vIohOi0GDJYi5A5STB1fDjVFTiJ0kLx791QOUIchcrDHe4eykMW6zetj0HIg2oMHCbe1zg8vUmuR9URPv466W9JlfNN21FgNCDrnB9mrYqEutUpf+3heC/C/dzV+F+byl28P3eoxOv0CUHcKyHoAzM2LNBj7IOBGDhUh6eWZ6DkrLw/umsw/hlxiFcG9olTOasPYd8+YVUzHjpfaQ8iIiIiIiIiuko6LaiyfZ6Ml087Rjz5InzoEkT92lVZ7yC3QMwevwATHL28uBcvfFIojZy5PlRwdxP/+mFeqgmHxNFITX7zhkg7QjVsJrbuL8KBj9OwcZUB4SOBkjwjZkQkKdMDW3a+7mrcnQpu0vQ64dyXuLblzTDMMOYBY2LxzscFOHSoCF++FaZsbT+XnvL7L//uRMM7O74DaVvEtSrkxodJBc3F34uZ8ub0OGH9T3lO0yNtOCGFf4BPn4aRbY053ovgEvcn8hGnPgr3lZeejISlkZjQ3wbzljjpmo6pfurRevgIPU7/1Apb4SdSQXjd1HFO01GJiIiIiIiI6GronKDqYjHSv9xbHy5o+i3E4hFeyloHXDwFs8kiBwdewVilnVg/Xa7qWAqyypSVa84d6gfEgkylKLBWSSN15J8K5Qd3o8haipNiHaXqUpjyM5CcXQo3Pw10oZGIezMRUeIpSr+ERfyS4c/6KMFHKYrlGXJSsW9TXttHMNnr2joV0g+BY8SRRiak5ztVRS9Nw1MD1Rj4dAbKcRIWs9gRHSLnhUHr5wl3d+G+vi6S923B5a7vfl+gXNNpnxVK3XmgWy94Dg6AerB3G0falcKaL/7VIeDXTkfYK2A54iiu7ngvQOrOgoZQ7GwBVgwV7m9gAkx14iFmmLLTkHzQBp/BWkyYZkDCG7EQK27Zs4uEKykG66D3Ftq2pGLFzmyhYSzGj2leZ4uIiIiIiIiIOlenBFW2zz/AarmUEXDHI/iDVt2h6X6Si6dg2r4QUw/H4PEtB6SwShUYjhccI2ZQjCWHr9+oKp/fLEKUH2COD8OMhAwUHMxG8oIwTFsQh2ijRRzcA/Q8gd3C+prnDTC8nQ3TwQKkJxiRKp5AMwravsJfVSBGhIg7FyB28njECPs+9age6bYAca9LcoxUMv05DiuMaTA7hgK1SgVtZCx0PZV+LzdinTEeM8LFr+6poAsdDR+4w8dX7k/KujThvkwo2BKHhUbHJwEbtPn6foEYJ47kqviyvnYX+oxFfLpchN75tzJU3jx5hbD+0tiGOl6lFhSIX0B0PDfJSaTPHYfQybr6ryg63ot9y3zhXSQI95cAw/T5SBWO9Z89DoHdhadwwYLEBfFYM38e1mQWCO9FeHcvp0CMBlXTR6HhyQcgKFJYO5eNrJ3C6uOPQechbyEiIiIiIiKiq6cTgqoaFJXuVZYBjfckaO9WVtpLCakijslDpqpOLcOcnGLY0RtBQxpGVeHYIRQ5grFr7S4NFr2XjHkjAdPbcYiOMmBNdin8Q2KR+XaYPEpKLJz+/gqEa6qQm2DAjKhZiH3XCrcxBmx9U9kH7gh6IRFRGndpBFbu9v24MyIFK6de/uG5j50P49QAqKpNSF2fgAKnQVKt8tbDKPRpcoAdpi1J2LA+DSZ7ACavyoBxojhaSAXtH9OwaKQ7SjLjhfuKQswHQNQfm0/9a/v1AzDhGXGkUwHS9zqGjbVPycEM6Yt7Qf8z3mnqnQqeXlL5d/hLfwX170UFS3aKcH8pyLIK9xSTjHdna6T8UCyu/sa7MdC5WZG8ZJbwXoR3l1cFzbQEZC/Wyvso/Efr4fiY4YTH5WLzRERERERERHR13XbeXvuTstwx9kKs3vQikqUVXyx+LBlRA6SV9mkSUok0dy/Da/qH4CPGaRctWL8xBolKsfb5D+dh9iB5+bqx22A7B6jclGLdLWnTPnZhB+eYpI3q7LBdUMH9PxmI1sWhQGluKirVgkXDlBWR+EW/WuE4RxH1psTt4nndL9Mnx/UvtZvdjHW/DcMGewwyd81sX/F04dg1T4QhWSUc+9fmx7b62NryzKVncJl9iIiIiIiIqGurs6Fk/w6kZWSgqBLwuV8P/f+Mh86v9eEGtsNpSPn0El86C9BjnjQ9SGArRUF2BnbsNqHE1gv+o0MQ/qQemvoZPw1spQXI+t8MZHxVAbj7QTtOj7BQLXya/r+1HX22WbORvrsEZ4TlgEkxCLoFPvJ15UFVcSom7UqRRr3gjin44OloaC6TbzRzuZBKUgtTxhOIUApr6wZtxlsPX0EdrJuJzYzUd/Y5FSBv7Hr/Y7aXmVFUfh53+gRCI00vbJv64/oLx3m39x8VERERERER3dTqKpA+dzxi85sWB1JBt2oHNoYqYVMTVZmz8NCS1oZ6CH6XhqMGDVCRjZjJBuRWK+31/BCenIa4kQ3BUvn2GIQ+3/CRrnoeY5GQbsQER1eEPmct1MOws+me7gh6RZzxpOx4thTprxiw4gNrfemjZoNQblJXHlR9tRH37dsmL7stwMGI4IYpem3RppBKVr53Jh6xFkvL/n5JyAnuyNAtIiIiIiIiIrrRlWwOQ0i8WVjyQ/haI2Y9AHz2VgwMm8X6NH6Y9+EOzGqhDLT4oa2if59X1hR1VqQ9myB99V2zdDe2TnNB+rM6xO4TGvzCsDEpBoFuZ1D0l2hEi+fvGQLjngQEifWMbXmIfTgG6eeEY3+XjFefUePOit1IXBSHdGFX1fRkHIqVy83Uh2Q9AzDZEIPx/YX72JGAFZlin3WIL9iAyX1PImuWDoZ84VgPd6DaJoVVt0pQdcU1qqqqnT7Bd4cbXJRFh/LDe2ERXlaL2hFSie7s/nNlSXiR/6lsnlQSERERERER0c2vzoyM18SQCvCJSUBciB/69PXDhMUJmCcNSipF0g55e1Mqbw20I7WNfuozRVJIhZ5hmC+OxKo6hN1iSAVvzFsTC52v+MV/b+gc5z+XjYx85Uv0/yySQiogDLNitPDxcEefwXrMnCF+Y16cLVQhTd0Tw7Btf5FHculikxA/TSdcW4fwl4wwzp6JWbMDgO/kpMMOuab0/nSD9KX6W8kVB1WXUl7wIqaaVmFS2kaYm4ZV7QypiIiIiIiIiIgkZRaYpJxBhQkjnYZNdQ/AgxPl0jH2QgtKpKXLqLMi9bU8aVFjiIRWPPyCY8RVP3g6fwW+u1jvWV4s+D/l7MMMOHrUIvxioXOqWmP/4bS84NZLHtRTVoTd0nfGtBg3wlOqaZVqNGLd+gLY/nsa5sXEYLL4wTVlGmB8aADcb8GaylccCfXxcCp+9OMZ1CqLdmsKfn+kUK6bZN+GqWmpsDi+1NfBkOp83ffKEqD+mRe/xEZERERERER0K6qukGtlQwvve6SFej4+yhikI8pIpsuw7dqAdWKA5BhNJfq5P/x7igsmpKSZYKuTWmErzEDaEXkZ/6potVY0yjKwZp1VWPBG1FTlS/L1fQ7AyZ16jHpiFlasF7/Kn4DY8CCEGs1KPSrx42bSwi3pyscu9XCFWlnEmTKUK4uqgEi8df+IhnpV9hRMelcMqzo6kqoW5dVyfSqRp3BdIiIiIiIiIqIOa2k0lai7BmGxOqmuVMnbURj1qB6hv9Vh1NNFcNPIu7TG/s80RE+KQ8E5wP93CZg3wmmYlSQF6zICYcw14dBnu/HObI1wHTss6w1IdoRgt7ArD6r6DXCaL7kfXzRkSfAZvRIfNA2r3pzasel+F4vxxQllGV4I9OytLBMRERERERHRLaWbSgqRgBOwn5UW6p2vU76T17NpQNRc1V+NzUdTKXxCE5G5NhK6virYj5fiRM9xiMtKwvwhyg73+jf7mJz9SBKefjJeCanSkGkQQ6jmwhcb6uteaWPisWiw2FqBQos0N/CWduVBlWoQHqzPjCqx6f/kgWwOzcIqJ+2pSWX/ag82X1RW7hiBob5Ny7YTERERERER0S3BT40gacGKQqvzp9ZssBSa5MUxavjJSy2zm5GsFDdvNJpKYa+2w3NkNIx7inD0aBEOpMZi8q8qUCQPwMKE+xuf3VaYgNDJRpjPqaCe3UJI5eVXP9BHdZfzFjeolFzFVquEbLewKw+q4IpAv0eUZaDqm49Q0GQSqBRWDW4cVrWvcPop5H65vX7up9pzONRuygoRERERERER3Vrch2P04/Ji7l82wqyMqrIf3oh12fJy0CPD5dpQdSdhzkxBaqHylT5FVfZGJLcymkr8amD677UY/qAWISvzUCXWqKqzwbLViCTpmBCMG9FQSKp8ZxymPZ2CEqigeS4NW2JaGEnlrcU4Zdpgbm5D3Sv8cwfSpS8MqhDo17Qft57bzttrf1KWO85uwfp3Y5CoFEvv08+Ig7+pr1xVT/oK4JFC+LQrpBJOX/Q6xhx0BFVqrJpgxGSnGu5EREREREREdIupyED0BLkWFDz8oPYGyo+UQhpfpYlF9uYw+HcHbDsNGD5fTK+0iN+TjMliFmQ3Y80TYVJQpVm6G1unNQ+I7IcTEBouhk9NqaBbtQMbHeHWcaEfOqEf8loLIrH1qAFiRmU3GxH6VJJ0TlXfAPh72uv7rBqzAtmv6+Hj/KU/p3NHpVqwaJjcfDPrhBFVApUaU51GTFV9uxDLC2uUtQY+upX4X+3KdoVUqMzBElPDaCrN3VPxMEMqIiIiIiIiolubtx7G91dgcoAKqC6FRQp8VOgTEovst+WQSuTeXw21+AU/Pw0GKMFF+fZLjaaSqYYZ8O67MVKNqnoeGoSvdQqp2kmlicGWD1cgXOMO+3Gr0md3aKYlNA+pblGdM6JKdLESWWlRWHC6VmnwxeKgZETdq6x2xJkirH/fgETHFE1VMN4avwA6L2WdiIiIiIiIiG55dpsN9gvCgos73O+S2xqx22EXC7B3NAg6a4Ptggru7s0m9HWcXTjnOUDl5t7xft2EOi+oElUfwPKty5DqKHoOX4Q/sApLR7Q/WbJ/k4PVeWuR6gipbh+A2SNfxfwhrkoDERERERERERHdTDo3qBJV5mDBh2uRVR9WAT5u0Xht4hRoeikNl2KvhClvLZZ8U4RypelKAi8iIiIiIiIiIroxdH5QJao8gOU7ljWMhpK4wL/nQ5geMBW6Qb7wcXNR2gH72VMoLzPD9PePsPmUBSVOIRduV2O2dgnmB16HkOpCDYrzNiF1qxnfwRX9x0RgZvhweHRTtl8DlpQZ+Md/vYMpg5WG1vxQg1oXV7h0at9qULZrE1LE+3ftj0cj5mHKfynfzCQiIiIiIiIi6mRXJ6gS/ViJ3I+WYdmJ4vpC6O3l4zYFSx+Nhq5jNcquzIXjyFn0LHL8/4iF+gfQ+85qlG1fj6V5AXg5JQIDrlFYZXkjGPtH5iB6qNLQirbu1x41eUsR87cxWDVvJHqfL0FO/Cs4FfEmIoc0hIxERERERERERJ2lW2xc3DJluXN1c4X/oPGY7ns/7j5ZgZJzJ+VPRF6WC/x7jYdhRBxeGvuwsKw0X2O1n/0Fi6vC8NYfR6G3qwtc7uwFzyFjMfREPLadfgKj/OSwpuabT5CT9jE+O1IJ1S9+DU+lhFbNlxkoPOuLHz/fiu25FtwmPAevCyXYs2UrCsyn4OY3AL3vFHY8bcb2Az/Cr86EzPdzcajkJ/wywBs9lK8injyUirJ+0/HAPcLKhRqUFWQgM2c/io/dgV/c6yXtV5m3HlvzvkbpMRsqq+7AvYO8hKfYet/aqrjgXfQaMx8jvLuhWw9P+Ll8hfe+uRfBg3u1/f5aUP31LuQK99pSv2qEbduFbRbx/vpWIvfTHzHQT/lHcNyMnG2ZOPBZMWo9fwWfnzEwIyIiIiIiIrqZKHHI1aPyCkT4k0bsfWYzPtIuwFKvh6Dt4QsfZbsUTKkGIKjPFCy9fyU+0n+EnOlzMfl+L6iueu9aV1z0CYIfHSkFPs4GRG/DC2PlZKX2i/VYuMYCr8f0CB5SixzDc8g5Jm3Cj998ipTETfiH5xgED61G8tw5WPjGp7hn7ASMwC7ErN6FGnHH89/i0NZXsHYHMEIvbOu2Cy/MzUCZ+LWCRmpg2TAHr1rvwaPCfoNOv49nF2WhWtji+qsHMMAT+Pl9DyDwvnukPjfuWzW2zX0Oe45LJ2ozdWTjKYdlXx9F/74e0nKb76+J6qznEJlYIvVrkrYW259biv3iTQjEEVzThW2+jwnn6Pt3JP9pE7Yd/V7eeCwLLxqyUDtkAiY9dg8sa+Zg4xctXYGIiIiIiIiIblTXLgpSeUE9LBjh+mV4LyoZe/+Qh6+l38fIeSYJbzwZjfDRI6D26hqjZP5d7A/fS045/BY5G80IfmE2Rvj3hddQPeZG98XG1IOoVfboPWYaJg7tBy+tHsG/qMGo8Aio+/WDOjICE78oQZmyH2waTJn3GHz7CtumPI+Zv3oP202Osyi+3YWkimlYNftheb+IF7Gw13v42Aq4+g/HIKGvXgHDoRnSFy5S377FlJWOvkXghVkeSMkSdm7qwikUm0pQ3SwYa0wMvl79+inhHTUMf2rz/TnxeGI1Pnhd7pdHgHDcsEOw/Evc8i32pJ5B9FJxWz/4aiMQPd4NldJRtTCnboJX9PPS9Tz8H0bkCxPwj427lO1EREREREREdDO4jmOWurbeXiUou2QK8j0qv9Hg3n7KqsBlgBqDKr7HWWVd1aiOVW+49FAWmxqqhm/9vi7of58/KquUYUYOJ4/DYn0PCyNnYKb0k0cU1fygbG9E7JsFqc859p2BmI1/Q+X5RtXtZcfyYVz6Z5guMdpKDKliEoGY5RPg5XRPbb4/Zz8cR9G2RLw8V+hXxAys3Ke0i30+NgD9+yqrAldPx8OtxncV/hgwwCnE7OePQd8cxylllYiIiIiIiIhufAyqWnFfQAD2f958BFLl9hfwep4jHqlFrfNIpAu1sHekyHplQ7glOlMjnP/2O5Q1J6PnISnlnfpf8keXKp4+BjGbGvZN2rodeXM0yjYn/fQw7noDwb9Q1ps6loXliWcQ+dpsqNtZ46q5Gux/bTEO9dFj7lqhT++9g+VjlU0CF5czOOMcvAnPs4Gw3ORZN5uXSUREREREREQ3NAZVrfAIisCj++Lxen7DUKOar7fg9RQXaIb1FtbUGDE2H9t2OLbXwJKZiVqtBnIVp3aw5sOk1LZCjRk5H7tguEa8hpMADSbuy0fhaWX9wnHsWbceZsflb3dBzWlHzSa5b/v3NdRwqsxKRMqlhk215NgnWLs4Hw+tfh4j+ihtV+Qsak55YIC6H1zFkOmCFUWfyVukPgf/HX/dVoIaMZA6XYLtmfnyJvRF4H/XYlumuX5aZeWOrcgZrcEAZZ2IiIiIiIiIbnwMqlrTQ4PIdfPQO/NZjJ0UjplTJ2L6mjI8tMaAUVIS5QLNrNXQ5M3BlIgZmPlUJIynf48loU5zAdvK3xeV6+UpelFRiaiJXIGJTU/TYySi4+/Btt9PkafzTZuDHI8xUCtT5dSPReC7deGYsvoT1Ch988qMlPsWMQVzc3tj1GCneXWXdQp71r6CnONWrI0MxtjHlN8bZmV7R/TFoxFqbJ8vPE/xHmbno+bXyiahz+ro1zHlh01Y+IywbWU++o8ao2wDvEJXIPJ0IsKfUu4nT4NXZzUvdk9EREREREREN67bzttrf1KWqTUXalFzwUUeBdSSH2pQ08219e2XcjwLL74MLEycAA/hPLUurnC5zPTB2poaoMfl95PUCn1DB/t2tYjPU7gF115NOuWY2ue4r88TMbbw4cZTFsX7uSDcT1vqYRERERERERHRDYUjqtqi2yVCKlGPTgqC2hg+ubi2MaQSuXSxkEokPs+mIRVqUZwyA1ErM1BotaI4PwNrXzcjfJRa2a4Q74chFREREREREdFNiSOqrrcfjsPyNTBgSF9OYxNUW3dhX34JTvXoh8AxY6D55RVXcCciIiIiIiKiGwSDKiIiIiIiIiIi6hI49Y+IiIiIiIiIiLoEBlVERERERERERNQlMKgiIiIiIiIiIqIugUEVERERERERERF1CQyqiIiIiIiIiIioS2BQRUREREREREREXQKDKiIiIiIiIiIi6hIYVBERERERERERUZfAoIqIiIiIiIiIiLoEBlVERERERERERNQlMKgiIiIiIiIiIqIugUEVERERERERERF1CQyqiIiIiIiIiIioCwD+H6IbaPIB5JA1AAAAAElFTkSuQmCC)"
      ],
      "metadata": {
        "id": "KxPVOb2FIuoR"
      }
    },
    {
      "cell_type": "markdown",
      "source": [
        "# Общий вывод"
      ],
      "metadata": {
        "id": "AcDO39dFEesq"
      }
    },
    {
      "cell_type": "markdown",
      "source": [
        "Итак, мы создали, настроили, обучили и проанализировали 5 моделей машинного обучения: Логистическая регрессия, KNN, Random Forest, XGBoost, CatBoost. В ходе исследования и сравнения полученных результатов, мы сделали вывод о следующем порядке качества, с которым модели отработали на данной задаче, от лучшего к худшему:\n",
        "1. XGBoost 0.79822\n",
        "2. CatBoost 0.79261\n",
        "3. RandomForest 0.787234\n",
        "4. Логистическая регрессия 0.782059\n",
        "5. KNN 0.769983\n",
        "\n",
        "Разница между лучшим и худшим результатом составила около 3%"
      ],
      "metadata": {
        "id": "f8gOrWKMEgzR"
      }
    }
  ]
}